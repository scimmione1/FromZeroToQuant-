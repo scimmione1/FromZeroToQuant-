{
 "cells": [
  {
   "cell_type": "code",
   "execution_count": 3,
   "id": "41816b10",
   "metadata": {},
   "outputs": [],
   "source": [
    "import pandas as pd\n",
    "import numpy as np\n",
    "\n",
    "# import yfinance as yf\n",
    "# from tvDatafeed import TvDatafeed, Interval\n",
    "# tv = TvDatafeed()\n",
    "\n",
    "import warnings\n",
    "warnings.filterwarnings(\"ignore\")"
   ]
  },
  {
   "cell_type": "code",
   "execution_count": 5,
   "id": "5f4947e7",
   "metadata": {},
   "outputs": [
    {
     "name": "stdout",
     "output_type": "stream",
     "text": [
      "Available sheets:\n",
      "- Foglio1\n",
      "\n",
      "First sheet 'Foglio1' preview:\n"
     ]
    },
    {
     "data": {
      "text/html": [
       "<div>\n",
       "<style scoped>\n",
       "    .dataframe tbody tr th:only-of-type {\n",
       "        vertical-align: middle;\n",
       "    }\n",
       "\n",
       "    .dataframe tbody tr th {\n",
       "        vertical-align: top;\n",
       "    }\n",
       "\n",
       "    .dataframe thead th {\n",
       "        text-align: right;\n",
       "    }\n",
       "</style>\n",
       "<table border=\"1\" class=\"dataframe\">\n",
       "  <thead>\n",
       "    <tr style=\"text-align: right;\">\n",
       "      <th></th>\n",
       "      <th>Ticker</th>\n",
       "      <th>Last Closing Price</th>\n",
       "      <th>Somma di Q.ty</th>\n",
       "    </tr>\n",
       "  </thead>\n",
       "  <tbody>\n",
       "    <tr>\n",
       "      <th>0</th>\n",
       "      <td>AAPL</td>\n",
       "      <td>232.560</td>\n",
       "      <td>18.00</td>\n",
       "    </tr>\n",
       "    <tr>\n",
       "      <th>1</th>\n",
       "      <td>AMD</td>\n",
       "      <td>168.580</td>\n",
       "      <td>18.00</td>\n",
       "    </tr>\n",
       "    <tr>\n",
       "      <th>2</th>\n",
       "      <td>ASML</td>\n",
       "      <td>654.300</td>\n",
       "      <td>6.00</td>\n",
       "    </tr>\n",
       "    <tr>\n",
       "      <th>3</th>\n",
       "      <td>BNB</td>\n",
       "      <td>857.400</td>\n",
       "      <td>13.09</td>\n",
       "    </tr>\n",
       "    <tr>\n",
       "      <th>4</th>\n",
       "      <td>BR50</td>\n",
       "      <td>21.855</td>\n",
       "      <td>213.00</td>\n",
       "    </tr>\n",
       "  </tbody>\n",
       "</table>\n",
       "</div>"
      ],
      "text/plain": [
       "  Ticker  Last Closing Price  Somma di Q.ty\n",
       "0   AAPL             232.560          18.00\n",
       "1    AMD             168.580          18.00\n",
       "2   ASML             654.300           6.00\n",
       "3    BNB             857.400          13.09\n",
       "4   BR50              21.855         213.00"
      ]
     },
     "execution_count": 5,
     "metadata": {},
     "output_type": "execute_result"
    }
   ],
   "source": [
    "# import the path\n",
    "import os\n",
    "path = os.path.abspath(os.path.join(\"..\", \"08_portfolio_management\", \"portfolio_example.xlsx\"))\n",
    "\n",
    "# read the Excel file\n",
    "df = pd.read_excel(path, sheet_name=None)\n",
    "\n",
    "# Check what sheets are available\n",
    "print(\"Available sheets:\")\n",
    "for sheet_name in df.keys():\n",
    "    print(f\"- {sheet_name}\")\n",
    "\n",
    "# Show the first sheet's data\n",
    "first_sheet_name = list(df.keys())[0]\n",
    "print(f\"\\nFirst sheet '{first_sheet_name}' preview:\")\n",
    "df[first_sheet_name].head()"
   ]
  },
  {
   "cell_type": "code",
   "execution_count": 6,
   "id": "6918f19f",
   "metadata": {},
   "outputs": [
    {
     "name": "stdout",
     "output_type": "stream",
     "text": [
      "Portfolio Overview:\n",
      "   Ticker   Last_Price    Quantity  Position_Value\n",
      "0    AAPL     232.5600     18.0000     4186.080000\n",
      "1     AMD     168.5800     18.0000     3034.440000\n",
      "2    ASML     654.3000      6.0000     3925.800000\n",
      "3     BNB     857.4000     13.0900    11223.366000\n",
      "4    BR50      21.8550    213.0000     4655.115000\n",
      "5     BTC  111968.6300      2.1571   241527.531773\n",
      "6    DOGE       0.2153  40270.0000     8670.131000\n",
      "7    EQQQ     304.6000      9.0000     2741.400000\n",
      "8     NaN     489.6000     33.0000    16156.800000\n",
      "9     ETH    4459.3400      4.3100    19219.755400\n",
      "10   EXXT     194.5000     10.1148     1967.328600\n",
      "11  GOOGL     211.6400     22.0000     4656.080000\n",
      "12   IEEM      42.7250      1.9418       82.963405\n",
      "13   IWDE     101.5700     96.0000     9750.720000\n",
      "14   LULU     205.0800     15.0000     3076.200000\n",
      "15     MA     590.4800      5.0000     2952.400000\n",
      "16     MC     513.1000     22.0000    11288.200000\n",
      "17   META     738.7000     60.0000    44322.000000\n",
      "18   MSTR     338.8400      6.0000     2033.040000\n",
      "19    NKE      77.9200     79.0000     6155.680000\n",
      "20   NVDA     180.1700     14.0000     2522.380000\n",
      "21   PYPL      70.0600     64.0000     4483.840000\n",
      "22   RACE     408.4000     13.0000     5309.200000\n",
      "23   TSLA     345.9800     23.0000     7957.540000\n",
      "24      V     349.8600     12.0000     4198.320000\n",
      "\n",
      "Total Portfolio Value: $426,096.31\n",
      "Number of positions: 25\n"
     ]
    }
   ],
   "source": [
    "# Extract the portfolio data from the first sheet\n",
    "portfolio_df = df['Foglio1'].copy()\n",
    "\n",
    "# Clean column names\n",
    "portfolio_df.columns = ['Ticker', 'Last_Price', 'Quantity']\n",
    "\n",
    "# Calculate portfolio value for each position\n",
    "portfolio_df['Position_Value'] = portfolio_df['Last_Price'] * portfolio_df['Quantity']\n",
    "\n",
    "# Display the portfolio\n",
    "print(\"Portfolio Overview:\")\n",
    "print(portfolio_df)\n",
    "\n",
    "print(f\"\\nTotal Portfolio Value: ${portfolio_df['Position_Value'].sum():,.2f}\")\n",
    "print(f\"Number of positions: {len(portfolio_df)}\")"
   ]
  },
  {
   "cell_type": "code",
   "execution_count": null,
   "id": "8faf742a",
   "metadata": {},
   "outputs": [],
   "source": []
  },
  {
   "cell_type": "code",
   "execution_count": null,
   "id": "66b5701d",
   "metadata": {},
   "outputs": [],
   "source": []
  },
  {
   "cell_type": "code",
   "execution_count": null,
   "id": "c42417f7",
   "metadata": {},
   "outputs": [],
   "source": []
  },
  {
   "cell_type": "code",
   "execution_count": null,
   "id": "79b8052f",
   "metadata": {},
   "outputs": [],
   "source": []
  },
  {
   "cell_type": "code",
   "execution_count": null,
   "id": "447f3654",
   "metadata": {},
   "outputs": [],
   "source": []
  }
 ],
 "metadata": {
  "kernelspec": {
   "display_name": "data",
   "language": "python",
   "name": "python3"
  },
  "language_info": {
   "codemirror_mode": {
    "name": "ipython",
    "version": 3
   },
   "file_extension": ".py",
   "mimetype": "text/x-python",
   "name": "python",
   "nbconvert_exporter": "python",
   "pygments_lexer": "ipython3",
   "version": "3.11.13"
  }
 },
 "nbformat": 4,
 "nbformat_minor": 5
}
