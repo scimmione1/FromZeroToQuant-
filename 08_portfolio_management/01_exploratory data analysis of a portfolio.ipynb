{
 "cells": [
  {
   "cell_type": "code",
   "execution_count": 1,
   "id": "41816b10",
   "metadata": {},
   "outputs": [],
   "source": [
    "import pandas as pd\n",
    "import numpy as np\n",
    "\n",
    "import warnings\n",
    "warnings.filterwarnings(\"ignore\")"
   ]
  },
  {
   "cell_type": "code",
   "execution_count": 2,
   "id": "5f4947e7",
   "metadata": {},
   "outputs": [],
   "source": [
    "# import the path\n",
    "import os\n",
    "path = os.path.abspath(os.path.join(\"..\", \"08_portfolio_management\", \"portfolio_example.xlsx\"))\n",
    "\n",
    "# read the Excel file\n",
    "df = pd.read_excel(path, sheet_name=None)\n",
    "\n",
    "# show the first sheet's data\n",
    "first_sheet_name = list(df.keys())[0]\n",
    "\n",
    "# dict to dataframe\n",
    "df = pd.DataFrame(df[first_sheet_name])\n",
    "\n",
    "# df"
   ]
  },
  {
   "cell_type": "code",
   "execution_count": 3,
   "id": "efc0cb34",
   "metadata": {},
   "outputs": [],
   "source": [
    "# add here Last Closing Price data download from yf or tv\n",
    "# for tv, need to set the correct exchange/market\n",
    "\n",
    "\"\"\"\n",
    "Looks like Yahoo change their API regularly.\n",
    "I have to use fast_info instead of info and then there's a key called 'lastPrice':\n",
    "\n",
    "CurrentPrice = Commod.fast_info['lastPrice']\n",
    "\"\"\";\n",
    "# import yfinance as yf\n",
    "# from tvDatafeed import TvDatafeed, Interval\n",
    "# tv = TvDatafeed()"
   ]
  },
  {
   "cell_type": "code",
   "execution_count": 4,
   "id": "6918f19f",
   "metadata": {},
   "outputs": [
    {
     "name": "stdout",
     "output_type": "stream",
     "text": [
      "Portfolio Overview:\n"
     ]
    }
   ],
   "source": [
    "# rename columns for clarity\n",
    "df.rename(columns={'Last Closing Price': 'Last_Price', 'Somma di Q.ty': 'Quantity'}, inplace=True)\n",
    "\n",
    "# calculate portfolio value for each position\n",
    "df['Position_Value'] = df['Last_Price'] * df['Quantity']\n",
    "\n",
    "# display the portfolio\n",
    "print(\"Portfolio Overview:\")\n",
    "# df.head()"
   ]
  },
  {
   "cell_type": "code",
   "execution_count": 5,
   "id": "8faf742a",
   "metadata": {},
   "outputs": [
    {
     "name": "stdout",
     "output_type": "stream",
     "text": [
      "Number of positions: 36\n"
     ]
    }
   ],
   "source": [
    "# print(f\"\\nTotal Portfolio Value: ${df['Position_Value'].sum():,.2f}\")\n",
    "print(f\"Number of positions: {len(df)}\")"
   ]
  },
  {
   "cell_type": "code",
   "execution_count": 6,
   "id": "66b5701d",
   "metadata": {},
   "outputs": [],
   "source": [
    "# portfolio pct composition\n",
    "df['Position_Weight'] = (df['Position_Value'] / df['Position_Value'].sum())*100\n",
    "# df.head()"
   ]
  },
  {
   "cell_type": "code",
   "execution_count": 7,
   "id": "50836e02",
   "metadata": {},
   "outputs": [],
   "source": [
    "# # download df as csv\n",
    "# df.to_csv(\"portfolio_data.csv\", index=False)"
   ]
  },
  {
   "cell_type": "code",
   "execution_count": 8,
   "id": "c42417f7",
   "metadata": {},
   "outputs": [],
   "source": [
    "# top 10 holdings\n",
    "top_10 = df.nlargest(10, 'Position_Value')\n",
    "# top_10"
   ]
  },
  {
   "cell_type": "code",
   "execution_count": 9,
   "id": "79b8052f",
   "metadata": {},
   "outputs": [
    {
     "name": "stdout",
     "output_type": "stream",
     "text": [
      "\n",
      "Top 10 Holdings Weight: 87.27%\n"
     ]
    }
   ],
   "source": [
    "# Position_Weight of top 10\n",
    "top_10_weight = top_10['Position_Weight'].sum()\n",
    "print(f\"\\nTop 10 Holdings Weight: {top_10_weight:.2f}%\")"
   ]
  },
  {
   "cell_type": "markdown",
   "id": "99b04fa7",
   "metadata": {},
   "source": [
    "### Portfolio Value Update"
   ]
  },
  {
   "cell_type": "code",
   "execution_count": 12,
   "id": "447f3654",
   "metadata": {},
   "outputs": [],
   "source": [
    "# # Last_Price data download from yfinance\n",
    "# import yfinance as yf\n",
    "# import datetime\n",
    "\n",
    "# def download_last_price_individual(tickers, start_date, end_date):\n",
    "#     \"\"\"\n",
    "#     Download last prices for each ticker individually to handle failures gracefully\n",
    "#     \"\"\"\n",
    "#     last_prices = {}\n",
    "    \n",
    "#     for ticker in tickers:\n",
    "#         try:\n",
    "#             print(f\"Downloading data for {ticker}...\")\n",
    "#             # Download data for individual ticker\n",
    "#             data = yf.download(ticker, start=start_date, end=end_date, progress=False)\n",
    "            \n",
    "#             if not data.empty and 'Close' in data.columns:\n",
    "#                 # Get the most recent price and ensure it's a scalar value\n",
    "#                 last_price = float(data['Close'].iloc[-1])\n",
    "#                 last_prices[ticker] = last_price\n",
    "#                 print(f\"✓ {ticker}: ${last_price:.2f}\")\n",
    "#             else:\n",
    "#                 print(f\"✗ {ticker}: No data available\")\n",
    "#                 last_prices[ticker] = None\n",
    "                \n",
    "#         except Exception as e:\n",
    "#             print(f\"✗ {ticker}: Error - {str(e)}\")\n",
    "#             last_prices[ticker] = None\n",
    "    \n",
    "#     return last_prices\n",
    "\n",
    "# tickers = df['Ticker'].tolist()\n",
    "\n",
    "# end_date = datetime.datetime.now()\n",
    "# start_date = end_date - datetime.timedelta(days=10)\n",
    "\n",
    "# print(f\"Downloading last prices for {len(tickers)} tickers...\")\n",
    "# print(f\"Date range: {start_date.strftime('%Y-%m-%d')} to {end_date.strftime('%Y-%m-%d')}\")\n",
    "# print(\"-\" * 50)\n",
    "\n",
    "# last_prices = download_last_price_individual(tickers, start_date, end_date)\n",
    "\n",
    "# # update Last_Price in df\n",
    "# print(\"\\n\" + \"-\" * 50)\n",
    "# print(\"Updating portfolio with new prices...\")\n",
    "\n",
    "# # Update prices, keeping original price if download failed\n",
    "# for ticker in df['Ticker']:\n",
    "#     if ticker in last_prices and last_prices[ticker] is not None:\n",
    "#         df.loc[df['Ticker'] == ticker, 'Last_Price'] = last_prices[ticker]\n",
    "#     else:\n",
    "#         print(f\"⚠️  Keeping original price for {ticker} (download failed)\")\n",
    "\n",
    "# # recalculate Position_Value and Position_Weight\n",
    "# df['Position_Value'] = df['Last_Price'] * df['Quantity']\n",
    "\n",
    "# df['Position_Weight'] = (df['Position_Value'] / df['Position_Value'].sum())*100\n",
    "\n",
    "# # display updated portfolio\n",
    "# print(\"\\nUpdated Portfolio Overview:\")\n",
    "# print(df[['Ticker', 'Last_Price', 'Position_Value', 'Position_Weight']])\n",
    "\n",
    "# # total portfolio value\n",
    "# total_value = df['Position_Value'].sum()\n",
    "# print(f\"\\nTotal Portfolio Value: ${total_value:,.2f}\")\n",
    "\n",
    "# # number of positions\n",
    "# num_positions = len(df)\n",
    "# print(f\"Number of positions: {num_positions}\")\n",
    "\n",
    "# # Show which tickers were successfully updated\n",
    "# successful_updates = [ticker for ticker, price in last_prices.items() if price is not None]\n",
    "# failed_updates = [ticker for ticker, price in last_prices.items() if price is None]\n",
    "\n",
    "# print(f\"\\nSuccessfully updated: {len(successful_updates)} tickers\")\n",
    "# if successful_updates:\n",
    "#     print(f\"✓ Updated: {', '.join(successful_updates)}\")\n",
    "\n",
    "# if failed_updates:\n",
    "#     print(f\"\\n⚠️  Failed to update: {len(failed_updates)} tickers\")\n",
    "#     print(f\"✗ Failed: {', '.join(failed_updates)}\")\n",
    "\n",
    "# # top 10 holdings\n",
    "# top_10 = df.nlargest(10, 'Position_Value')\n",
    "# print(\"\\nTop 10 Holdings:\")\n",
    "# print(top_10[['Ticker', 'Position_Value', 'Position_Weight']])\n",
    "\n",
    "# top_10_weight = top_10['Position_Weight'].sum()\n",
    "# print(f\"\\nTop 10 Holdings Weight: {top_10_weight:.2f}%\")\n",
    "\n",
    "# # save updated portfolio to csv\n",
    "# df.to_csv(\"portfolio_data.csv\", index=False)\n",
    "# print(f\"\\nPortfolio data saved to 'portfolio_data.csv'\")"
   ]
  }
 ],
 "metadata": {
  "kernelspec": {
   "display_name": "data",
   "language": "python",
   "name": "python3"
  },
  "language_info": {
   "codemirror_mode": {
    "name": "ipython",
    "version": 3
   },
   "file_extension": ".py",
   "mimetype": "text/x-python",
   "name": "python",
   "nbconvert_exporter": "python",
   "pygments_lexer": "ipython3",
   "version": "3.11.13"
  }
 },
 "nbformat": 4,
 "nbformat_minor": 5
}
