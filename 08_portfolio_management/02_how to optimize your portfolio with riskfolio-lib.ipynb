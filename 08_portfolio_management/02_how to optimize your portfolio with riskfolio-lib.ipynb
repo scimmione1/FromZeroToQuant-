{
 "cells": [
  {
   "cell_type": "code",
   "execution_count": 11,
   "id": "4dd05912",
   "metadata": {},
   "outputs": [
    {
     "data": {
      "text/html": [
       "<div>\n",
       "<style scoped>\n",
       "    .dataframe tbody tr th:only-of-type {\n",
       "        vertical-align: middle;\n",
       "    }\n",
       "\n",
       "    .dataframe tbody tr th {\n",
       "        vertical-align: top;\n",
       "    }\n",
       "\n",
       "    .dataframe thead th {\n",
       "        text-align: right;\n",
       "    }\n",
       "</style>\n",
       "<table border=\"1\" class=\"dataframe\">\n",
       "  <thead>\n",
       "    <tr style=\"text-align: right;\">\n",
       "      <th></th>\n",
       "      <th>Ticker</th>\n",
       "      <th>Last_Price</th>\n",
       "      <th>Quantity</th>\n",
       "      <th>Position_Value</th>\n",
       "    </tr>\n",
       "  </thead>\n",
       "  <tbody>\n",
       "    <tr>\n",
       "      <th>0</th>\n",
       "      <td>AAPL</td>\n",
       "      <td>232.560</td>\n",
       "      <td>18.00</td>\n",
       "      <td>4186.080</td>\n",
       "    </tr>\n",
       "    <tr>\n",
       "      <th>1</th>\n",
       "      <td>AMD</td>\n",
       "      <td>168.580</td>\n",
       "      <td>18.00</td>\n",
       "      <td>3034.440</td>\n",
       "    </tr>\n",
       "    <tr>\n",
       "      <th>2</th>\n",
       "      <td>ASML</td>\n",
       "      <td>654.300</td>\n",
       "      <td>6.00</td>\n",
       "      <td>3925.800</td>\n",
       "    </tr>\n",
       "    <tr>\n",
       "      <th>3</th>\n",
       "      <td>BNB</td>\n",
       "      <td>857.400</td>\n",
       "      <td>13.09</td>\n",
       "      <td>11223.366</td>\n",
       "    </tr>\n",
       "    <tr>\n",
       "      <th>4</th>\n",
       "      <td>BR50</td>\n",
       "      <td>21.855</td>\n",
       "      <td>213.00</td>\n",
       "      <td>4655.115</td>\n",
       "    </tr>\n",
       "  </tbody>\n",
       "</table>\n",
       "</div>"
      ],
      "text/plain": [
       "  Ticker  Last_Price  Quantity  Position_Value\n",
       "0   AAPL     232.560     18.00        4186.080\n",
       "1    AMD     168.580     18.00        3034.440\n",
       "2   ASML     654.300      6.00        3925.800\n",
       "3    BNB     857.400     13.09       11223.366\n",
       "4   BR50      21.855    213.00        4655.115"
      ]
     },
     "execution_count": 11,
     "metadata": {},
     "output_type": "execute_result"
    }
   ],
   "source": [
    "import pandas as pd\n",
    "import numpy as np\n",
    "\n",
    "import warnings\n",
    "warnings.filterwarnings(\"ignore\")\n",
    "\n",
    "# import the path\n",
    "import os\n",
    "path = os.path.abspath(os.path.join(\"..\", \"08_portfolio_management\", \"portfolio_data.csv\"))\n",
    "\n",
    "# read the CSV file\n",
    "df = pd.read_csv(path)\n",
    "\n",
    "# drop Position_Weight\n",
    "df = df.drop(columns=['Position_Weight'])\n",
    "\n",
    "# show the first few rows of the dataframe\n",
    "df.head()"
   ]
  },
  {
   "cell_type": "code",
   "execution_count": 12,
   "id": "361f123b",
   "metadata": {},
   "outputs": [
    {
     "data": {
      "text/html": [
       "<div>\n",
       "<style scoped>\n",
       "    .dataframe tbody tr th:only-of-type {\n",
       "        vertical-align: middle;\n",
       "    }\n",
       "\n",
       "    .dataframe tbody tr th {\n",
       "        vertical-align: top;\n",
       "    }\n",
       "\n",
       "    .dataframe thead th {\n",
       "        text-align: right;\n",
       "    }\n",
       "</style>\n",
       "<table border=\"1\" class=\"dataframe\">\n",
       "  <thead>\n",
       "    <tr style=\"text-align: right;\">\n",
       "      <th></th>\n",
       "      <th>Ticker</th>\n",
       "      <th>Last_Price</th>\n",
       "      <th>Quantity</th>\n",
       "      <th>Position_Value</th>\n",
       "    </tr>\n",
       "  </thead>\n",
       "  <tbody>\n",
       "    <tr>\n",
       "      <th>5</th>\n",
       "      <td>BTC</td>\n",
       "      <td>111968.6300</td>\n",
       "      <td>2.1571</td>\n",
       "      <td>241527.531773</td>\n",
       "    </tr>\n",
       "    <tr>\n",
       "      <th>16</th>\n",
       "      <td>META</td>\n",
       "      <td>738.7000</td>\n",
       "      <td>60.0000</td>\n",
       "      <td>44322.000000</td>\n",
       "    </tr>\n",
       "    <tr>\n",
       "      <th>8</th>\n",
       "      <td>ETH</td>\n",
       "      <td>4459.3400</td>\n",
       "      <td>4.3100</td>\n",
       "      <td>19219.755400</td>\n",
       "    </tr>\n",
       "    <tr>\n",
       "      <th>7</th>\n",
       "      <td>EQQQ</td>\n",
       "      <td>489.6000</td>\n",
       "      <td>39.0000</td>\n",
       "      <td>19094.400000</td>\n",
       "    </tr>\n",
       "    <tr>\n",
       "      <th>15</th>\n",
       "      <td>MC</td>\n",
       "      <td>513.1000</td>\n",
       "      <td>22.0000</td>\n",
       "      <td>11288.200000</td>\n",
       "    </tr>\n",
       "    <tr>\n",
       "      <th>3</th>\n",
       "      <td>BNB</td>\n",
       "      <td>857.4000</td>\n",
       "      <td>13.0900</td>\n",
       "      <td>11223.366000</td>\n",
       "    </tr>\n",
       "    <tr>\n",
       "      <th>12</th>\n",
       "      <td>IWDE</td>\n",
       "      <td>101.5700</td>\n",
       "      <td>96.0000</td>\n",
       "      <td>9750.720000</td>\n",
       "    </tr>\n",
       "    <tr>\n",
       "      <th>6</th>\n",
       "      <td>DOGE</td>\n",
       "      <td>0.2153</td>\n",
       "      <td>40270.0000</td>\n",
       "      <td>8670.131000</td>\n",
       "    </tr>\n",
       "    <tr>\n",
       "      <th>22</th>\n",
       "      <td>TSLA</td>\n",
       "      <td>345.9800</td>\n",
       "      <td>23.0000</td>\n",
       "      <td>7957.540000</td>\n",
       "    </tr>\n",
       "    <tr>\n",
       "      <th>18</th>\n",
       "      <td>NKE</td>\n",
       "      <td>77.9200</td>\n",
       "      <td>79.0000</td>\n",
       "      <td>6155.680000</td>\n",
       "    </tr>\n",
       "  </tbody>\n",
       "</table>\n",
       "</div>"
      ],
      "text/plain": [
       "   Ticker   Last_Price    Quantity  Position_Value\n",
       "5     BTC  111968.6300      2.1571   241527.531773\n",
       "16   META     738.7000     60.0000    44322.000000\n",
       "8     ETH    4459.3400      4.3100    19219.755400\n",
       "7    EQQQ     489.6000     39.0000    19094.400000\n",
       "15     MC     513.1000     22.0000    11288.200000\n",
       "3     BNB     857.4000     13.0900    11223.366000\n",
       "12   IWDE     101.5700     96.0000     9750.720000\n",
       "6    DOGE       0.2153  40270.0000     8670.131000\n",
       "22   TSLA     345.9800     23.0000     7957.540000\n",
       "18    NKE      77.9200     79.0000     6155.680000"
      ]
     },
     "execution_count": 12,
     "metadata": {},
     "output_type": "execute_result"
    }
   ],
   "source": [
    "# top 10 holdings\n",
    "top_10 = df.nlargest(10, 'Position_Value')\n",
    "top_10"
   ]
  },
  {
   "cell_type": "code",
   "execution_count": 13,
   "id": "b1b06ded",
   "metadata": {},
   "outputs": [],
   "source": [
    "# to simplify the calculations and data downloads, we will use only top 10 holdings\n",
    "port_list = top_10.Ticker.to_list()\n",
    "\n",
    "# some Ticker should be adjusted for the data source\n",
    "port_list = [ticker.replace(\"BNB\", \"BNB-USD\").replace(\"BTC\", \"BTC-USD\").replace(\"ETH\", \"ETH-USD\").replace(\"DOGE\", \"DOGE-USD\").replace(\"MC\", \"LVMUY\") for ticker in port_list]"
   ]
  },
  {
   "cell_type": "code",
   "execution_count": 14,
   "id": "5bb50ab9",
   "metadata": {},
   "outputs": [
    {
     "data": {
      "text/plain": [
       "['BTC-USD',\n",
       " 'META',\n",
       " 'ETH-USD',\n",
       " 'EQQQ',\n",
       " 'LVMUY',\n",
       " 'BNB-USD',\n",
       " 'IWDE',\n",
       " 'DOGE-USD',\n",
       " 'TSLA',\n",
       " 'NKE']"
      ]
     },
     "execution_count": 14,
     "metadata": {},
     "output_type": "execute_result"
    }
   ],
   "source": [
    "port_list"
   ]
  },
  {
   "cell_type": "markdown",
   "id": "8d0e1c3c",
   "metadata": {},
   "source": [
    "Risk Parity Portfolio Optimization"
   ]
  },
  {
   "cell_type": "code",
   "execution_count": null,
   "id": "cad342e3",
   "metadata": {},
   "outputs": [],
   "source": []
  },
  {
   "cell_type": "code",
   "execution_count": null,
   "id": "e43f82e4",
   "metadata": {},
   "outputs": [],
   "source": []
  },
  {
   "cell_type": "code",
   "execution_count": null,
   "id": "c2dd52c6",
   "metadata": {},
   "outputs": [],
   "source": []
  },
  {
   "cell_type": "code",
   "execution_count": null,
   "id": "fd8dead9",
   "metadata": {},
   "outputs": [],
   "source": []
  },
  {
   "cell_type": "code",
   "execution_count": null,
   "id": "b8666d04",
   "metadata": {},
   "outputs": [],
   "source": []
  }
 ],
 "metadata": {
  "kernelspec": {
   "display_name": "port",
   "language": "python",
   "name": "python3"
  },
  "language_info": {
   "codemirror_mode": {
    "name": "ipython",
    "version": 3
   },
   "file_extension": ".py",
   "mimetype": "text/x-python",
   "name": "python",
   "nbconvert_exporter": "python",
   "pygments_lexer": "ipython3",
   "version": "3.13.5"
  }
 },
 "nbformat": 4,
 "nbformat_minor": 5
}
