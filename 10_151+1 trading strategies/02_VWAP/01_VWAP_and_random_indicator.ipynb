{
 "cells": [
  {
   "cell_type": "markdown",
   "id": "813c2f5e",
   "metadata": {},
   "source": [
    "### Import libraries"
   ]
  },
  {
   "cell_type": "code",
   "execution_count": 17,
   "id": "690d4e32",
   "metadata": {},
   "outputs": [],
   "source": [
    "import pandas as pd\n",
    "import numpy as np\n",
    "\n",
    "import talib as ta\n",
    "\n",
    "import warnings\n",
    "warnings.filterwarnings(\"ignore\")\n",
    "\n",
    "from datetime import datetime\n",
    "import time"
   ]
  },
  {
   "cell_type": "markdown",
   "id": "69e686d7",
   "metadata": {},
   "source": [
    "### Download data"
   ]
  },
  {
   "cell_type": "code",
   "execution_count": null,
   "id": "3d4100c5",
   "metadata": {},
   "outputs": [
    {
     "name": "stderr",
     "output_type": "stream",
     "text": [
      "WARNING:tvDatafeed.main:you are using nologin method, data you access may be limited\n"
     ]
    }
   ],
   "source": [
    "# from tvDatafeed import TvDatafeed, Interval\n",
    "\n",
    "# tv = TvDatafeed()\n",
    "\n",
    "# # portfolio of stocks\n",
    "# stocks = ['META']\n",
    "\n",
    "# num_stocks = len(stocks)\n",
    "\n",
    "# # Set the dates\n",
    "# start_date = datetime(2020, 1, 1)\n",
    "# today = datetime.now()\n",
    "# days_difference = (today - start_date).days\n",
    "\n",
    "# # Request more bars to account for weekends/holidays\n",
    "# n_bars_ = min(days_difference + 100, 5000)  # max 5000 as per API limitations"
   ]
  },
  {
   "cell_type": "code",
   "execution_count": null,
   "id": "9969580b",
   "metadata": {},
   "outputs": [],
   "source": [
    "# # TV requires the exchange information\n",
    "# stock_exchanges = {'META': 'NASDAQ'}\n",
    "\n",
    "# # Function to download data with retry\n",
    "# def download_with_retry(symbol, exchange, retries=3, delay=2):\n",
    "#     for attempt in range(retries):\n",
    "#         try:\n",
    "#             print(f\"Downloading {symbol} from {exchange} (attempt {attempt+1})\")\n",
    "#             data = tv.get_hist(\n",
    "#                 symbol=symbol, \n",
    "#                 exchange=exchange, \n",
    "#                 interval=Interval.in_daily,\n",
    "#                 n_bars=n_bars_  # around 4 years of data\n",
    "#             )\n",
    "#             if data is not None and not data.empty:\n",
    "#                 print(f\"{symbol}: {len(data)} rows downloaded\")\n",
    "#                 return data\n",
    "#         except Exception as e:\n",
    "#             print(f\"Error downloading {symbol}: {e}\")\n",
    "        \n",
    "#         if attempt < retries - 1:\n",
    "#             time.sleep(delay)\n",
    "    \n",
    "#     print(f\"Failed to download {symbol} after {retries} attempts\")\n",
    "#     return None"
   ]
  },
  {
   "cell_type": "code",
   "execution_count": null,
   "id": "4903b948",
   "metadata": {},
   "outputs": [
    {
     "name": "stdout",
     "output_type": "stream",
     "text": [
      "Starting data download...\n",
      "Downloading META from NASDAQ (attempt 1)\n",
      "META: 2225 rows downloaded\n",
      "Combined DataFrame shape: (2225, 1)\n",
      "Date range: 2016-12-19 17:30:00 to 2025-10-24 16:30:00\n",
      "\n",
      "First 5 rows:\n",
      "                       META\n",
      "datetime                   \n",
      "2016-12-19 17:30:00  119.24\n",
      "2016-12-20 17:30:00  119.09\n",
      "2016-12-21 17:30:00  119.04\n",
      "2016-12-22 17:30:00  117.40\n",
      "2016-12-23 17:30:00  117.27\n"
     ]
    }
   ],
   "source": [
    "# # Download data\n",
    "# print(\"Starting data download...\")\n",
    "# data_dict = {}\n",
    "# failed_downloads = []\n",
    "\n",
    "# for stock, exchange in stock_exchanges.items():\n",
    "#     data = download_with_retry(stock, exchange)\n",
    "#     if data is not None:\n",
    "#         # Take only the Close column and rename it\n",
    "#         data_dict[stock] = data['close']\n",
    "#     else:\n",
    "#         failed_downloads.append(stock)\n",
    "\n",
    "# if failed_downloads:\n",
    "#     print(f\"Failed to download: {failed_downloads}\")\n",
    "\n",
    "# # Combine into a DataFrame\n",
    "# if data_dict:\n",
    "#     df = pd.DataFrame(data_dict)\n",
    "#     print(f\"Combined DataFrame shape: {df.shape}\")\n",
    "#     print(f\"Date range: {df.index.min()} to {df.index.max()}\")\n",
    "#     print(\"\\nFirst 5 rows:\")\n",
    "#     print(df.head())\n",
    "# else:\n",
    "#     print(\"No data downloaded successfully\")"
   ]
  },
  {
   "cell_type": "code",
   "execution_count": null,
   "id": "1bf38726",
   "metadata": {},
   "outputs": [],
   "source": [
    "# # download data to csv using ticker, exchange and date range as filename\n",
    "# df.to_csv(f\"data_{'_'.join(stocks)}_{start_date.strftime('%Y%m%d')}_{today.strftime('%Y%m%d')}.csv\")"
   ]
  },
  {
   "cell_type": "code",
   "execution_count": 21,
   "id": "7358f5ff",
   "metadata": {},
   "outputs": [],
   "source": [
    "# calculate VWAP"
   ]
  },
  {
   "cell_type": "code",
   "execution_count": 22,
   "id": "694ef2d3",
   "metadata": {},
   "outputs": [],
   "source": [
    "# calculate ATR for stop loss and take profit"
   ]
  },
  {
   "cell_type": "code",
   "execution_count": 23,
   "id": "af092748",
   "metadata": {},
   "outputs": [],
   "source": [
    "# list of indicators"
   ]
  },
  {
   "cell_type": "code",
   "execution_count": 24,
   "id": "9eb10ad8",
   "metadata": {},
   "outputs": [],
   "source": [
    "# list of candlestick patterns"
   ]
  },
  {
   "cell_type": "code",
   "execution_count": 25,
   "id": "7267cd4b",
   "metadata": {},
   "outputs": [],
   "source": [
    "# select random indicator or candlestick pattern"
   ]
  },
  {
   "cell_type": "code",
   "execution_count": 26,
   "id": "e21eafd8",
   "metadata": {},
   "outputs": [],
   "source": [
    "# backtest VWAP strategy with random indicator"
   ]
  },
  {
   "cell_type": "code",
   "execution_count": 27,
   "id": "e8b638f1",
   "metadata": {},
   "outputs": [],
   "source": [
    "# backtest out of sample data"
   ]
  },
  {
   "cell_type": "code",
   "execution_count": 28,
   "id": "a61a57b4",
   "metadata": {},
   "outputs": [],
   "source": [
    "# create performance report with the backtest results for all strategies after out of sample backtest"
   ]
  },
  {
   "cell_type": "code",
   "execution_count": 29,
   "id": "fcc65515",
   "metadata": {},
   "outputs": [],
   "source": [
    "# optimize the parameters of the 3 best strategies"
   ]
  },
  {
   "cell_type": "code",
   "execution_count": 30,
   "id": "cf96dcfa",
   "metadata": {},
   "outputs": [],
   "source": [
    "# 3 best strategies after optimization should be tested on 1 hour data"
   ]
  },
  {
   "cell_type": "code",
   "execution_count": 31,
   "id": "e8772b3a",
   "metadata": {},
   "outputs": [],
   "source": [
    "# Monte Carlo simulation or bootstrap to evaluate the robustness of the strategies"
   ]
  },
  {
   "cell_type": "code",
   "execution_count": 32,
   "id": "9a0263d1",
   "metadata": {},
   "outputs": [],
   "source": [
    "# Final performance report"
   ]
  }
 ],
 "metadata": {
  "kernelspec": {
   "display_name": "data",
   "language": "python",
   "name": "python3"
  },
  "language_info": {
   "codemirror_mode": {
    "name": "ipython",
    "version": 3
   },
   "file_extension": ".py",
   "mimetype": "text/x-python",
   "name": "python",
   "nbconvert_exporter": "python",
   "pygments_lexer": "ipython3",
   "version": "3.11.13"
  }
 },
 "nbformat": 4,
 "nbformat_minor": 5
}
