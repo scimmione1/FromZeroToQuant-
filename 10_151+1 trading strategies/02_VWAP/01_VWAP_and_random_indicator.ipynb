{
 "cells": [
  {
   "cell_type": "code",
   "execution_count": null,
   "id": "690d4e32",
   "metadata": {},
   "outputs": [],
   "source": [
    "# import libraries"
   ]
  },
  {
   "cell_type": "code",
   "execution_count": null,
   "id": "3d4100c5",
   "metadata": {},
   "outputs": [],
   "source": [
    "# donwload data"
   ]
  },
  {
   "cell_type": "code",
   "execution_count": null,
   "id": "7358f5ff",
   "metadata": {},
   "outputs": [],
   "source": [
    "# calculate VWAP"
   ]
  },
  {
   "cell_type": "code",
   "execution_count": null,
   "id": "694ef2d3",
   "metadata": {},
   "outputs": [],
   "source": [
    "# calculate ATR for stop loss and take profit"
   ]
  },
  {
   "cell_type": "code",
   "execution_count": null,
   "id": "af092748",
   "metadata": {},
   "outputs": [],
   "source": [
    "# list of indicators"
   ]
  },
  {
   "cell_type": "code",
   "execution_count": null,
   "id": "9eb10ad8",
   "metadata": {},
   "outputs": [],
   "source": [
    "# list of candlestick patterns"
   ]
  },
  {
   "cell_type": "code",
   "execution_count": null,
   "id": "7267cd4b",
   "metadata": {},
   "outputs": [],
   "source": [
    "# select random indicator or candlestick pattern"
   ]
  },
  {
   "cell_type": "code",
   "execution_count": null,
   "id": "e21eafd8",
   "metadata": {},
   "outputs": [],
   "source": [
    "# backtest VWAP strategy with random indicator"
   ]
  },
  {
   "cell_type": "code",
   "execution_count": null,
   "id": "a61a57b4",
   "metadata": {},
   "outputs": [],
   "source": [
    "# create performance report with the backtest results for all strategies"
   ]
  },
  {
   "cell_type": "code",
   "execution_count": null,
   "id": "fcc65515",
   "metadata": {},
   "outputs": [],
   "source": [
    "# optimize the parameters of the 3 best strategies"
   ]
  },
  {
   "cell_type": "code",
   "execution_count": null,
   "id": "cf96dcfa",
   "metadata": {},
   "outputs": [],
   "source": []
  },
  {
   "cell_type": "code",
   "execution_count": null,
   "id": "e8772b3a",
   "metadata": {},
   "outputs": [],
   "source": []
  },
  {
   "cell_type": "code",
   "execution_count": null,
   "id": "9a0263d1",
   "metadata": {},
   "outputs": [],
   "source": []
  }
 ],
 "metadata": {
  "language_info": {
   "name": "python"
  }
 },
 "nbformat": 4,
 "nbformat_minor": 5
}
