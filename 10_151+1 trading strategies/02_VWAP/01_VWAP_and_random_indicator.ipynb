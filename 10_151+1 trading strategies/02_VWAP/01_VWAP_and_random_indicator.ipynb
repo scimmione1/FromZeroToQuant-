{
 "cells": [
  {
   "cell_type": "markdown",
   "id": "813c2f5e",
   "metadata": {},
   "source": [
    "### Import libraries"
   ]
  },
  {
   "cell_type": "code",
   "execution_count": 51,
   "id": "690d4e32",
   "metadata": {},
   "outputs": [],
   "source": [
    "import pandas as pd\n",
    "import numpy as np\n",
    "\n",
    "import talib as ta\n",
    "\n",
    "import warnings\n",
    "warnings.filterwarnings(\"ignore\")\n",
    "\n",
    "from datetime import datetime\n",
    "import time"
   ]
  },
  {
   "cell_type": "markdown",
   "id": "69e686d7",
   "metadata": {},
   "source": [
    "### Download data"
   ]
  },
  {
   "cell_type": "code",
   "execution_count": null,
   "id": "8895ecd7",
   "metadata": {},
   "outputs": [
    {
     "name": "stderr",
     "output_type": "stream",
     "text": [
      "[*********************100%***********************]  7 of 7 completed\n"
     ]
    }
   ],
   "source": [
    "# import yfinance as yf\n",
    "\n",
    "# tickers = ['AAPL', 'MSFT', 'GOOGL', 'AMZN', 'TSLA', 'META', 'NVDA']\n",
    "\n",
    "# start_date = \"2020-01-01\"\n",
    "# end_date = datetime.now().strftime(\"%Y-%m-%d\")\n",
    "\n",
    "# # Download historical data from yf API\n",
    "# data = yf.download(tickers, start=start_date, end=end_date, group_by='ticker')\n",
    "\n",
    "# # download data to csv using ticker, exchange, date range and \"raw\" indicator in the filename\n",
    "# data.to_csv(f\"data_{'_'.join(tickers)}_{start_date}_{end_date}_raw.csv\")"
   ]
  },
  {
   "cell_type": "code",
   "execution_count": 53,
   "id": "4838a314",
   "metadata": {},
   "outputs": [
    {
     "data": {
      "text/html": [
       "<div>\n",
       "<style scoped>\n",
       "    .dataframe tbody tr th:only-of-type {\n",
       "        vertical-align: middle;\n",
       "    }\n",
       "\n",
       "    .dataframe tbody tr th {\n",
       "        vertical-align: top;\n",
       "    }\n",
       "\n",
       "    .dataframe thead tr th {\n",
       "        text-align: left;\n",
       "    }\n",
       "\n",
       "    .dataframe thead tr:last-of-type th {\n",
       "        text-align: right;\n",
       "    }\n",
       "</style>\n",
       "<table border=\"1\" class=\"dataframe\">\n",
       "  <thead>\n",
       "    <tr>\n",
       "      <th>Ticker</th>\n",
       "      <th colspan=\"5\" halign=\"left\">MSFT</th>\n",
       "      <th colspan=\"5\" halign=\"left\">AMZN</th>\n",
       "      <th>...</th>\n",
       "      <th colspan=\"5\" halign=\"left\">META</th>\n",
       "      <th colspan=\"5\" halign=\"left\">AAPL</th>\n",
       "    </tr>\n",
       "    <tr>\n",
       "      <th>Price</th>\n",
       "      <th>Open</th>\n",
       "      <th>High</th>\n",
       "      <th>Low</th>\n",
       "      <th>Close</th>\n",
       "      <th>Volume</th>\n",
       "      <th>Open</th>\n",
       "      <th>High</th>\n",
       "      <th>Low</th>\n",
       "      <th>Close</th>\n",
       "      <th>Volume</th>\n",
       "      <th>...</th>\n",
       "      <th>Open</th>\n",
       "      <th>High</th>\n",
       "      <th>Low</th>\n",
       "      <th>Close</th>\n",
       "      <th>Volume</th>\n",
       "      <th>Open</th>\n",
       "      <th>High</th>\n",
       "      <th>Low</th>\n",
       "      <th>Close</th>\n",
       "      <th>Volume</th>\n",
       "    </tr>\n",
       "    <tr>\n",
       "      <th>Date</th>\n",
       "      <th></th>\n",
       "      <th></th>\n",
       "      <th></th>\n",
       "      <th></th>\n",
       "      <th></th>\n",
       "      <th></th>\n",
       "      <th></th>\n",
       "      <th></th>\n",
       "      <th></th>\n",
       "      <th></th>\n",
       "      <th></th>\n",
       "      <th></th>\n",
       "      <th></th>\n",
       "      <th></th>\n",
       "      <th></th>\n",
       "      <th></th>\n",
       "      <th></th>\n",
       "      <th></th>\n",
       "      <th></th>\n",
       "      <th></th>\n",
       "      <th></th>\n",
       "    </tr>\n",
       "  </thead>\n",
       "  <tbody>\n",
       "    <tr>\n",
       "      <th>2020-01-02</th>\n",
       "      <td>151.040856</td>\n",
       "      <td>152.895807</td>\n",
       "      <td>150.612792</td>\n",
       "      <td>152.791168</td>\n",
       "      <td>22622100.0</td>\n",
       "      <td>93.750000</td>\n",
       "      <td>94.900497</td>\n",
       "      <td>93.207497</td>\n",
       "      <td>94.900497</td>\n",
       "      <td>80580000.0</td>\n",
       "      <td>...</td>\n",
       "      <td>205.483256</td>\n",
       "      <td>208.504623</td>\n",
       "      <td>205.006201</td>\n",
       "      <td>208.494690</td>\n",
       "      <td>12077100.0</td>\n",
       "      <td>71.545890</td>\n",
       "      <td>72.598892</td>\n",
       "      <td>71.292304</td>\n",
       "      <td>72.538513</td>\n",
       "      <td>135480400.0</td>\n",
       "    </tr>\n",
       "    <tr>\n",
       "      <th>2020-01-03</th>\n",
       "      <td>150.603275</td>\n",
       "      <td>152.153817</td>\n",
       "      <td>150.355939</td>\n",
       "      <td>150.888641</td>\n",
       "      <td>21116200.0</td>\n",
       "      <td>93.224998</td>\n",
       "      <td>94.309998</td>\n",
       "      <td>93.224998</td>\n",
       "      <td>93.748497</td>\n",
       "      <td>75288000.0</td>\n",
       "      <td>...</td>\n",
       "      <td>205.940433</td>\n",
       "      <td>209.110876</td>\n",
       "      <td>205.682017</td>\n",
       "      <td>207.391479</td>\n",
       "      <td>11188400.0</td>\n",
       "      <td>71.765667</td>\n",
       "      <td>72.594055</td>\n",
       "      <td>71.608685</td>\n",
       "      <td>71.833290</td>\n",
       "      <td>146322800.0</td>\n",
       "    </tr>\n",
       "    <tr>\n",
       "      <th>2020-01-06</th>\n",
       "      <td>149.423644</td>\n",
       "      <td>151.345190</td>\n",
       "      <td>148.881420</td>\n",
       "      <td>151.278595</td>\n",
       "      <td>20813700.0</td>\n",
       "      <td>93.000000</td>\n",
       "      <td>95.184502</td>\n",
       "      <td>93.000000</td>\n",
       "      <td>95.143997</td>\n",
       "      <td>81236000.0</td>\n",
       "      <td>...</td>\n",
       "      <td>205.433564</td>\n",
       "      <td>211.476314</td>\n",
       "      <td>205.254674</td>\n",
       "      <td>211.297424</td>\n",
       "      <td>17058900.0</td>\n",
       "      <td>70.954203</td>\n",
       "      <td>72.444336</td>\n",
       "      <td>70.703027</td>\n",
       "      <td>72.405693</td>\n",
       "      <td>118387200.0</td>\n",
       "    </tr>\n",
       "    <tr>\n",
       "      <th>2020-01-07</th>\n",
       "      <td>151.554487</td>\n",
       "      <td>151.887418</td>\n",
       "      <td>149.651970</td>\n",
       "      <td>149.899292</td>\n",
       "      <td>21634100.0</td>\n",
       "      <td>95.224998</td>\n",
       "      <td>95.694504</td>\n",
       "      <td>94.601997</td>\n",
       "      <td>95.343002</td>\n",
       "      <td>80898000.0</td>\n",
       "      <td>...</td>\n",
       "      <td>211.516088</td>\n",
       "      <td>213.265300</td>\n",
       "      <td>210.452637</td>\n",
       "      <td>211.754608</td>\n",
       "      <td>14912400.0</td>\n",
       "      <td>72.415337</td>\n",
       "      <td>72.671341</td>\n",
       "      <td>71.845369</td>\n",
       "      <td>72.065147</td>\n",
       "      <td>108872000.0</td>\n",
       "    </tr>\n",
       "    <tr>\n",
       "      <th>2020-01-08</th>\n",
       "      <td>151.183463</td>\n",
       "      <td>152.962326</td>\n",
       "      <td>150.251234</td>\n",
       "      <td>152.286926</td>\n",
       "      <td>27746500.0</td>\n",
       "      <td>94.902000</td>\n",
       "      <td>95.550003</td>\n",
       "      <td>94.321999</td>\n",
       "      <td>94.598503</td>\n",
       "      <td>70160000.0</td>\n",
       "      <td>...</td>\n",
       "      <td>211.694968</td>\n",
       "      <td>214.915122</td>\n",
       "      <td>211.307358</td>\n",
       "      <td>213.901367</td>\n",
       "      <td>13475000.0</td>\n",
       "      <td>71.768101</td>\n",
       "      <td>73.526318</td>\n",
       "      <td>71.768101</td>\n",
       "      <td>73.224426</td>\n",
       "      <td>132079200.0</td>\n",
       "    </tr>\n",
       "  </tbody>\n",
       "</table>\n",
       "<p>5 rows × 35 columns</p>\n",
       "</div>"
      ],
      "text/plain": [
       "Ticker            MSFT                                                  \\\n",
       "Price             Open        High         Low       Close      Volume   \n",
       "Date                                                                     \n",
       "2020-01-02  151.040856  152.895807  150.612792  152.791168  22622100.0   \n",
       "2020-01-03  150.603275  152.153817  150.355939  150.888641  21116200.0   \n",
       "2020-01-06  149.423644  151.345190  148.881420  151.278595  20813700.0   \n",
       "2020-01-07  151.554487  151.887418  149.651970  149.899292  21634100.0   \n",
       "2020-01-08  151.183463  152.962326  150.251234  152.286926  27746500.0   \n",
       "\n",
       "Ticker           AMZN                                               ...  \\\n",
       "Price            Open       High        Low      Close      Volume  ...   \n",
       "Date                                                                ...   \n",
       "2020-01-02  93.750000  94.900497  93.207497  94.900497  80580000.0  ...   \n",
       "2020-01-03  93.224998  94.309998  93.224998  93.748497  75288000.0  ...   \n",
       "2020-01-06  93.000000  95.184502  93.000000  95.143997  81236000.0  ...   \n",
       "2020-01-07  95.224998  95.694504  94.601997  95.343002  80898000.0  ...   \n",
       "2020-01-08  94.902000  95.550003  94.321999  94.598503  70160000.0  ...   \n",
       "\n",
       "Ticker            META                                                  \\\n",
       "Price             Open        High         Low       Close      Volume   \n",
       "Date                                                                     \n",
       "2020-01-02  205.483256  208.504623  205.006201  208.494690  12077100.0   \n",
       "2020-01-03  205.940433  209.110876  205.682017  207.391479  11188400.0   \n",
       "2020-01-06  205.433564  211.476314  205.254674  211.297424  17058900.0   \n",
       "2020-01-07  211.516088  213.265300  210.452637  211.754608  14912400.0   \n",
       "2020-01-08  211.694968  214.915122  211.307358  213.901367  13475000.0   \n",
       "\n",
       "Ticker           AAPL                                                \n",
       "Price            Open       High        Low      Close       Volume  \n",
       "Date                                                                 \n",
       "2020-01-02  71.545890  72.598892  71.292304  72.538513  135480400.0  \n",
       "2020-01-03  71.765667  72.594055  71.608685  71.833290  146322800.0  \n",
       "2020-01-06  70.954203  72.444336  70.703027  72.405693  118387200.0  \n",
       "2020-01-07  72.415337  72.671341  71.845369  72.065147  108872000.0  \n",
       "2020-01-08  71.768101  73.526318  71.768101  73.224426  132079200.0  \n",
       "\n",
       "[5 rows x 35 columns]"
      ]
     },
     "execution_count": 53,
     "metadata": {},
     "output_type": "execute_result"
    }
   ],
   "source": [
    "# Load the CSV with MultiIndex columns (Tickers, OHLCV)\n",
    "df = pd.read_csv(\"../00_data/data_AAPL_MSFT_GOOGL_AMZN_TSLA_META_NVDA_2020-01-01_2025-10-26_raw.csv\", header=[0,1], index_col=0)\n",
    "\n",
    "# Drop any rows that are completely NaN (e.g. 'Date' row)\n",
    "df = df.dropna(how='all')\n",
    "\n",
    "# Convert all values to float\n",
    "df = df.astype(float)\n",
    "\n",
    "# Show the result\n",
    "df.head()"
   ]
  },
  {
   "cell_type": "markdown",
   "id": "8ac4e93d",
   "metadata": {},
   "source": [
    "### Random ticker selection"
   ]
  },
  {
   "cell_type": "code",
   "execution_count": 68,
   "id": "f481d790",
   "metadata": {},
   "outputs": [
    {
     "name": "stdout",
     "output_type": "stream",
     "text": [
      "Randomly selected ticker for strategy and backtesting: META\n"
     ]
    }
   ],
   "source": [
    "# randomly shuffle the level 0 of the columns (the tickers), to select one random tickers for strategy and becktesting\n",
    "import random\n",
    "\n",
    "random_ticker = random.choice(df.columns.levels[0])\n",
    "\n",
    "print(f\"Randomly selected ticker for strategy and backtesting: {random_ticker}\")"
   ]
  },
  {
   "cell_type": "code",
   "execution_count": null,
   "id": "1bf38726",
   "metadata": {},
   "outputs": [],
   "source": []
  },
  {
   "cell_type": "code",
   "execution_count": null,
   "id": "ff0cfbe5",
   "metadata": {},
   "outputs": [],
   "source": []
  },
  {
   "cell_type": "code",
   "execution_count": 39,
   "id": "7358f5ff",
   "metadata": {},
   "outputs": [],
   "source": [
    "# calculate VWAP"
   ]
  },
  {
   "cell_type": "code",
   "execution_count": 40,
   "id": "694ef2d3",
   "metadata": {},
   "outputs": [],
   "source": [
    "# calculate ATR for stop loss and take profit"
   ]
  },
  {
   "cell_type": "code",
   "execution_count": 41,
   "id": "af092748",
   "metadata": {},
   "outputs": [],
   "source": [
    "# list of indicators"
   ]
  },
  {
   "cell_type": "code",
   "execution_count": 42,
   "id": "9eb10ad8",
   "metadata": {},
   "outputs": [],
   "source": [
    "# list of candlestick patterns"
   ]
  },
  {
   "cell_type": "code",
   "execution_count": 43,
   "id": "7267cd4b",
   "metadata": {},
   "outputs": [],
   "source": [
    "# select random indicator or candlestick pattern"
   ]
  },
  {
   "cell_type": "code",
   "execution_count": 44,
   "id": "e21eafd8",
   "metadata": {},
   "outputs": [],
   "source": [
    "# backtest VWAP strategy with random indicator"
   ]
  },
  {
   "cell_type": "code",
   "execution_count": 45,
   "id": "e8b638f1",
   "metadata": {},
   "outputs": [],
   "source": [
    "# backtest out of sample data"
   ]
  },
  {
   "cell_type": "code",
   "execution_count": 46,
   "id": "a61a57b4",
   "metadata": {},
   "outputs": [],
   "source": [
    "# create performance report with the backtest results for all strategies after out of sample backtest"
   ]
  },
  {
   "cell_type": "code",
   "execution_count": 47,
   "id": "fcc65515",
   "metadata": {},
   "outputs": [],
   "source": [
    "# optimize the parameters of the 3 best strategies"
   ]
  },
  {
   "cell_type": "code",
   "execution_count": 48,
   "id": "cf96dcfa",
   "metadata": {},
   "outputs": [],
   "source": [
    "# 3 best strategies after optimization should be tested on 1 hour data"
   ]
  },
  {
   "cell_type": "code",
   "execution_count": 49,
   "id": "e8772b3a",
   "metadata": {},
   "outputs": [],
   "source": [
    "# Monte Carlo simulation or bootstrap to evaluate the robustness of the strategies"
   ]
  },
  {
   "cell_type": "code",
   "execution_count": 50,
   "id": "9a0263d1",
   "metadata": {},
   "outputs": [],
   "source": [
    "# Final performance report"
   ]
  }
 ],
 "metadata": {
  "kernelspec": {
   "display_name": "data",
   "language": "python",
   "name": "python3"
  },
  "language_info": {
   "codemirror_mode": {
    "name": "ipython",
    "version": 3
   },
   "file_extension": ".py",
   "mimetype": "text/x-python",
   "name": "python",
   "nbconvert_exporter": "python",
   "pygments_lexer": "ipython3",
   "version": "3.11.13"
  }
 },
 "nbformat": 4,
 "nbformat_minor": 5
}
