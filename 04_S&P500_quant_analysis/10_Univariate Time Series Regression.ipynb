{
 "cells": [
  {
   "cell_type": "code",
   "execution_count": 1,
   "id": "78edd5f4",
   "metadata": {},
   "outputs": [],
   "source": [
    "%matplotlib inline\n",
    "\n",
    "# from pathlib import Path\n",
    "\n",
    "import numpy as np\n",
    "import pandas as pd\n",
    "import pandas_datareader.data as web\n",
    "from scipy.stats import spearmanr\n",
    "\n",
    "from sklearn.metrics import mean_squared_error\n",
    "from sklearn.preprocessing import MinMaxScaler\n",
    "\n",
    "import tensorflow as tf\n",
    "from tensorflow.keras.callbacks import ModelCheckpoint, EarlyStopping\n",
    "from tensorflow.keras.models import Sequential\n",
    "from tensorflow.keras.layers import Dense, LSTM\n",
    "from tensorflow import keras\n",
    "\n",
    "import matplotlib.pyplot as plt\n",
    "import seaborn as sns\n",
    "\n",
    "import warnings\n",
    "warnings.filterwarnings(\"ignore\")\n",
    "\n",
    "# Fix the path construction - use forward slashes or raw strings\n",
    "import os"
   ]
  },
  {
   "cell_type": "code",
   "execution_count": 2,
   "id": "ca77679d",
   "metadata": {},
   "outputs": [
    {
     "name": "stdout",
     "output_type": "stream",
     "text": [
      "Path exists: True\n"
     ]
    },
    {
     "data": {
      "text/html": [
       "<div>\n",
       "<style scoped>\n",
       "    .dataframe tbody tr th:only-of-type {\n",
       "        vertical-align: middle;\n",
       "    }\n",
       "\n",
       "    .dataframe tbody tr th {\n",
       "        vertical-align: top;\n",
       "    }\n",
       "\n",
       "    .dataframe thead th {\n",
       "        text-align: right;\n",
       "    }\n",
       "</style>\n",
       "<table border=\"1\" class=\"dataframe\">\n",
       "  <thead>\n",
       "    <tr style=\"text-align: right;\">\n",
       "      <th></th>\n",
       "      <th>open</th>\n",
       "      <th>high</th>\n",
       "      <th>low</th>\n",
       "      <th>close</th>\n",
       "      <th>volume</th>\n",
       "    </tr>\n",
       "    <tr>\n",
       "      <th>date</th>\n",
       "      <th></th>\n",
       "      <th></th>\n",
       "      <th></th>\n",
       "      <th></th>\n",
       "      <th></th>\n",
       "    </tr>\n",
       "  </thead>\n",
       "  <tbody>\n",
       "    <tr>\n",
       "      <th>1960-01-04</th>\n",
       "      <td>59.91</td>\n",
       "      <td>59.91</td>\n",
       "      <td>59.91</td>\n",
       "      <td>59.91</td>\n",
       "      <td>2216667.0</td>\n",
       "    </tr>\n",
       "    <tr>\n",
       "      <th>1960-01-05</th>\n",
       "      <td>60.39</td>\n",
       "      <td>60.39</td>\n",
       "      <td>60.39</td>\n",
       "      <td>60.39</td>\n",
       "      <td>2061111.0</td>\n",
       "    </tr>\n",
       "    <tr>\n",
       "      <th>1960-01-06</th>\n",
       "      <td>60.13</td>\n",
       "      <td>60.13</td>\n",
       "      <td>60.13</td>\n",
       "      <td>60.13</td>\n",
       "      <td>2072222.0</td>\n",
       "    </tr>\n",
       "    <tr>\n",
       "      <th>1960-01-07</th>\n",
       "      <td>59.69</td>\n",
       "      <td>59.69</td>\n",
       "      <td>59.69</td>\n",
       "      <td>59.69</td>\n",
       "      <td>1838889.0</td>\n",
       "    </tr>\n",
       "    <tr>\n",
       "      <th>1960-01-08</th>\n",
       "      <td>59.50</td>\n",
       "      <td>59.50</td>\n",
       "      <td>59.50</td>\n",
       "      <td>59.50</td>\n",
       "      <td>1827778.0</td>\n",
       "    </tr>\n",
       "  </tbody>\n",
       "</table>\n",
       "</div>"
      ],
      "text/plain": [
       "             open   high    low  close     volume\n",
       "date                                             \n",
       "1960-01-04  59.91  59.91  59.91  59.91  2216667.0\n",
       "1960-01-05  60.39  60.39  60.39  60.39  2061111.0\n",
       "1960-01-06  60.13  60.13  60.13  60.13  2072222.0\n",
       "1960-01-07  59.69  59.69  59.69  59.69  1838889.0\n",
       "1960-01-08  59.50  59.50  59.50  59.50  1827778.0"
      ]
     },
     "execution_count": 2,
     "metadata": {},
     "output_type": "execute_result"
    }
   ],
   "source": [
    "\n",
    "# Method 1: Use forward slashes (recommended)\n",
    "path = os.path.abspath(os.path.join(\"..\", \"04_S&P500_quant_analysis\", \"01_data\", \"S&P500_D_1789-05-01_2025-09-17.csv\"))\n",
    "\n",
    "# Alternative Method 2: Use raw string\n",
    "# path = os.path.abspath(os.path.join(\"..\", r\"04_S&P500_quant_analysis\\01_data\", \"S&P500_D_1789-05-01_2025-09-17.csv\"))\n",
    "\n",
    "# Alternative Method 3: Use pathlib (modern approach)\n",
    "# from pathlib import Path\n",
    "# path = Path(\"..\") / \"04_S&P500_quant_analysis\" / \"01_data\" / \"S&P500_D_1789-05-01_2025-09-17.csv\"\n",
    "\n",
    "print(f\"Path exists: {os.path.exists(path)}\")\n",
    "\n",
    "# Read the CSV file\n",
    "df = pd.read_csv(path)\n",
    "\n",
    "# lower case column names for easier access\n",
    "df.columns = [col.lower() for col in df.columns]\n",
    "\n",
    "# Set the 'date' column as the index and convert it to datetime\n",
    "df['date'] = pd.to_datetime(df['date'])\n",
    "df.set_index('date', inplace=True)\n",
    "\n",
    "# filter years from 1960\n",
    "df = df[df.index.year >= 1960]\n",
    "\n",
    "# Show the first few rows of the dataframe\n",
    "df.head()"
   ]
  },
  {
   "cell_type": "code",
   "execution_count": 3,
   "id": "d0d87778",
   "metadata": {},
   "outputs": [
    {
     "name": "stdout",
     "output_type": "stream",
     "text": [
      "Using CPU\n"
     ]
    }
   ],
   "source": [
    "gpu_devices = tf.config.experimental.list_physical_devices('GPU')\n",
    "if gpu_devices:\n",
    "    print('Using GPU')\n",
    "    tf.config.experimental.set_memory_growth(gpu_devices[0], True)\n",
    "else:\n",
    "    print('Using CPU')"
   ]
  },
  {
   "cell_type": "code",
   "execution_count": 4,
   "id": "c1f45724",
   "metadata": {},
   "outputs": [],
   "source": [
    "sns.set_style('whitegrid')\n",
    "np.random.seed(42)"
   ]
  },
  {
   "cell_type": "code",
   "execution_count": 5,
   "id": "84e1363c",
   "metadata": {},
   "outputs": [],
   "source": [
    "# results_path = Path('results', 'univariate_time_series')\n",
    "# if not results_path.exists():\n",
    "#     results_path.mkdir(parents=True)"
   ]
  },
  {
   "cell_type": "code",
   "execution_count": 6,
   "id": "49ef72c5",
   "metadata": {},
   "outputs": [
    {
     "data": {
      "image/png": "[encoded data removed]",
      "text/plain": [
       "<Figure size 1400x400 with 1 Axes>"
      ]
     },
     "metadata": {},
     "output_type": "display_data"
    }
   ],
   "source": [
    "sp500 = df.close.copy()\n",
    "ax = sp500.plot(title='S&P 500',\n",
    "           legend=False,\n",
    "           figsize=(14, 4),\n",
    "           rot=0)\n",
    "ax.set_xlabel('')\n",
    "sns.despine()"
   ]
  },
  {
   "cell_type": "code",
   "execution_count": 7,
   "id": "52dbe2de",
   "metadata": {},
   "outputs": [
    {
     "data": {
      "text/plain": [
       "'\\nsp500.values.reshape(-1, 1) converts the Series to a 2D numpy array \\nwith shape (n_samples, 1)\\n-1 means \"infer the dimension\" and 1 means \"1 feature column\"\\n.squeeze() converts the 2D result back to 1D for creating the Series\\n'"
      ]
     },
     "execution_count": 7,
     "metadata": {},
     "output_type": "execute_result"
    }
   ],
   "source": [
    "scaler = MinMaxScaler()\n",
    "sp500_scaled = pd.Series(scaler.fit_transform(sp500.values.reshape(-1, 1)).squeeze(), \n",
    "                         index=sp500.index)\n",
    "sp500_scaled.describe()\n",
    "\n",
    "\"\"\"\n",
    "sp500.values.reshape(-1, 1) converts the Series to a 2D numpy array \n",
    "with shape (n_samples, 1)\n",
    "-1 means \"infer the dimension\" and 1 means \"1 feature column\"\n",
    ".squeeze() converts the 2D result back to 1D for creating the Series\n",
    "\"\"\"\n",
    "\n",
    "# # Alternative approach\n",
    "# scaler = MinMaxScaler()\n",
    "# sp500_scaled = pd.Series(scaler.fit_transform(sp500.to_frame()).squeeze(), \n",
    "#                          index=sp500.index)\n",
    "# sp500_scaled.describe()"
   ]
  },
  {
   "cell_type": "code",
   "execution_count": 8,
   "id": "cbd364ab",
   "metadata": {},
   "outputs": [],
   "source": [
    "def create_univariate_rnn_data(data, window_size):\n",
    "    n = len(data)\n",
    "    y = data[window_size:]\n",
    "    data = data.values.reshape(-1, 1) # make 2D\n",
    "    X = np.hstack(tuple([data[i: n-j, :] for i, j in enumerate(range(window_size, 0, -1))]))\n",
    "    return pd.DataFrame(X, index=y.index), y"
   ]
  },
  {
   "cell_type": "code",
   "execution_count": 9,
   "id": "81ff2493",
   "metadata": {},
   "outputs": [],
   "source": [
    "\"\"\"\n",
    "X = np.hstack(tuple([data[i: n-j, :] for i, j in enumerate(range(window_size, 0, -1))]))\n",
    "This line of code creates a feature matrix X for time series analysis \n",
    "using a sliding window approach. \n",
    "\n",
    "The core operation uses np.hstack() to horizontally stack multiple arrays together, \n",
    "combining them column-wise into a single matrix. \n",
    "The arrays being stacked are generated by a list comprehension that creates \n",
    "time-lagged versions of the original data.\n",
    "\n",
    "The list comprehension [data[i: n-j, :] \n",
    "for i, j in enumerate(range(window_size, 0, -1))] \n",
    "is the heart of this operation. \n",
    "It uses enumerate() on a reversed range to create multiple slices of the data array. \n",
    "The range(window_size, 0, -1) generates numbers counting down from window_size to 1, \n",
    "which determines how many time steps back to look for each feature.\n",
    "\n",
    "For each iteration, i represents the current index (starting from 0), \n",
    "and j represents the countdown value from the range. \n",
    "The slicing data[i: n-j, :] extracts a portion of the data starting \n",
    "from row i and ending at row n-j, where n is likely the total number \n",
    "of time steps. This creates overlapping windows of historical data, \n",
    "with each subsequent slice shifted by one time step.\n",
    "\n",
    "The resulting slices are different lengths due to the varying start and end points, \n",
    "but they represent consecutive time windows of the data. \n",
    "When these slices are horizontally stacked using np.hstack(), \n",
    "they form a feature matrix where each row represents a time point, \n",
    "and the columns contain the current value plus lagged values \n",
    "from previous time steps. \n",
    "This is a common technique in time series regression where \n",
    "you want to use historical values as predictive features \n",
    "for forecasting future values.\n",
    "\n",
    "The tuple() wrapper around the list comprehension is required because \n",
    "np.hstack() expects a sequence of arrays, \n",
    "and converting the list to a tuple ensures compatibility \n",
    "with the function's expected input format.\n",
    "\"\"\";"
   ]
  },
  {
   "cell_type": "code",
   "execution_count": 10,
   "id": "f81660ae",
   "metadata": {},
   "outputs": [
    {
     "data": {
      "text/html": [
       "<div>\n",
       "<style scoped>\n",
       "    .dataframe tbody tr th:only-of-type {\n",
       "        vertical-align: middle;\n",
       "    }\n",
       "\n",
       "    .dataframe tbody tr th {\n",
       "        vertical-align: top;\n",
       "    }\n",
       "\n",
       "    .dataframe thead th {\n",
       "        text-align: right;\n",
       "    }\n",
       "</style>\n",
       "<table border=\"1\" class=\"dataframe\">\n",
       "  <thead>\n",
       "    <tr style=\"text-align: right;\">\n",
       "      <th></th>\n",
       "      <th>0</th>\n",
       "      <th>1</th>\n",
       "      <th>2</th>\n",
       "      <th>3</th>\n",
       "      <th>4</th>\n",
       "      <th>5</th>\n",
       "      <th>6</th>\n",
       "      <th>7</th>\n",
       "      <th>8</th>\n",
       "      <th>9</th>\n",
       "      <th>...</th>\n",
       "      <th>53</th>\n",
       "      <th>54</th>\n",
       "      <th>55</th>\n",
       "      <th>56</th>\n",
       "      <th>57</th>\n",
       "      <th>58</th>\n",
       "      <th>59</th>\n",
       "      <th>60</th>\n",
       "      <th>61</th>\n",
       "      <th>62</th>\n",
       "    </tr>\n",
       "    <tr>\n",
       "      <th>date</th>\n",
       "      <th></th>\n",
       "      <th></th>\n",
       "      <th></th>\n",
       "      <th></th>\n",
       "      <th></th>\n",
       "      <th></th>\n",
       "      <th></th>\n",
       "      <th></th>\n",
       "      <th></th>\n",
       "      <th></th>\n",
       "      <th></th>\n",
       "      <th></th>\n",
       "      <th></th>\n",
       "      <th></th>\n",
       "      <th></th>\n",
       "      <th></th>\n",
       "      <th></th>\n",
       "      <th></th>\n",
       "      <th></th>\n",
       "      <th></th>\n",
       "      <th></th>\n",
       "    </tr>\n",
       "  </thead>\n",
       "  <tbody>\n",
       "    <tr>\n",
       "      <th>1960-04-01</th>\n",
       "      <td>0.001175</td>\n",
       "      <td>0.001248</td>\n",
       "      <td>0.001208</td>\n",
       "      <td>0.001141</td>\n",
       "      <td>0.001112</td>\n",
       "      <td>0.001001</td>\n",
       "      <td>0.000946</td>\n",
       "      <td>0.000896</td>\n",
       "      <td>0.000945</td>\n",
       "      <td>0.000942</td>\n",
       "      <td>...</td>\n",
       "      <td>0.000428</td>\n",
       "      <td>0.000437</td>\n",
       "      <td>0.000471</td>\n",
       "      <td>0.000539</td>\n",
       "      <td>0.000576</td>\n",
       "      <td>0.000576</td>\n",
       "      <td>0.000558</td>\n",
       "      <td>0.000545</td>\n",
       "      <td>0.000527</td>\n",
       "      <td>0.000478</td>\n",
       "    </tr>\n",
       "    <tr>\n",
       "      <th>1960-04-04</th>\n",
       "      <td>0.001248</td>\n",
       "      <td>0.001208</td>\n",
       "      <td>0.001141</td>\n",
       "      <td>0.001112</td>\n",
       "      <td>0.001001</td>\n",
       "      <td>0.000946</td>\n",
       "      <td>0.000896</td>\n",
       "      <td>0.000945</td>\n",
       "      <td>0.000942</td>\n",
       "      <td>0.000867</td>\n",
       "      <td>...</td>\n",
       "      <td>0.000437</td>\n",
       "      <td>0.000471</td>\n",
       "      <td>0.000539</td>\n",
       "      <td>0.000576</td>\n",
       "      <td>0.000576</td>\n",
       "      <td>0.000558</td>\n",
       "      <td>0.000545</td>\n",
       "      <td>0.000527</td>\n",
       "      <td>0.000478</td>\n",
       "      <td>0.000492</td>\n",
       "    </tr>\n",
       "    <tr>\n",
       "      <th>1960-04-05</th>\n",
       "      <td>0.001208</td>\n",
       "      <td>0.001141</td>\n",
       "      <td>0.001112</td>\n",
       "      <td>0.001001</td>\n",
       "      <td>0.000946</td>\n",
       "      <td>0.000896</td>\n",
       "      <td>0.000945</td>\n",
       "      <td>0.000942</td>\n",
       "      <td>0.000867</td>\n",
       "      <td>0.000773</td>\n",
       "      <td>...</td>\n",
       "      <td>0.000471</td>\n",
       "      <td>0.000539</td>\n",
       "      <td>0.000576</td>\n",
       "      <td>0.000576</td>\n",
       "      <td>0.000558</td>\n",
       "      <td>0.000545</td>\n",
       "      <td>0.000527</td>\n",
       "      <td>0.000478</td>\n",
       "      <td>0.000492</td>\n",
       "      <td>0.000509</td>\n",
       "    </tr>\n",
       "    <tr>\n",
       "      <th>1960-04-06</th>\n",
       "      <td>0.001141</td>\n",
       "      <td>0.001112</td>\n",
       "      <td>0.001001</td>\n",
       "      <td>0.000946</td>\n",
       "      <td>0.000896</td>\n",
       "      <td>0.000945</td>\n",
       "      <td>0.000942</td>\n",
       "      <td>0.000867</td>\n",
       "      <td>0.000773</td>\n",
       "      <td>0.000742</td>\n",
       "      <td>...</td>\n",
       "      <td>0.000539</td>\n",
       "      <td>0.000576</td>\n",
       "      <td>0.000576</td>\n",
       "      <td>0.000558</td>\n",
       "      <td>0.000545</td>\n",
       "      <td>0.000527</td>\n",
       "      <td>0.000478</td>\n",
       "      <td>0.000492</td>\n",
       "      <td>0.000509</td>\n",
       "      <td>0.000483</td>\n",
       "    </tr>\n",
       "    <tr>\n",
       "      <th>1960-04-07</th>\n",
       "      <td>0.001112</td>\n",
       "      <td>0.001001</td>\n",
       "      <td>0.000946</td>\n",
       "      <td>0.000896</td>\n",
       "      <td>0.000945</td>\n",
       "      <td>0.000942</td>\n",
       "      <td>0.000867</td>\n",
       "      <td>0.000773</td>\n",
       "      <td>0.000742</td>\n",
       "      <td>0.000763</td>\n",
       "      <td>...</td>\n",
       "      <td>0.000576</td>\n",
       "      <td>0.000576</td>\n",
       "      <td>0.000558</td>\n",
       "      <td>0.000545</td>\n",
       "      <td>0.000527</td>\n",
       "      <td>0.000478</td>\n",
       "      <td>0.000492</td>\n",
       "      <td>0.000509</td>\n",
       "      <td>0.000483</td>\n",
       "      <td>0.000657</td>\n",
       "    </tr>\n",
       "  </tbody>\n",
       "</table>\n",
       "<p>5 rows × 63 columns</p>\n",
       "</div>"
      ],
      "text/plain": [
       "                  0         1         2         3         4         5   \\\n",
       "date                                                                     \n",
       "1960-04-01  0.001175  0.001248  0.001208  0.001141  0.001112  0.001001   \n",
       "1960-04-04  0.001248  0.001208  0.001141  0.001112  0.001001  0.000946   \n",
       "1960-04-05  0.001208  0.001141  0.001112  0.001001  0.000946  0.000896   \n",
       "1960-04-06  0.001141  0.001112  0.001001  0.000946  0.000896  0.000945   \n",
       "1960-04-07  0.001112  0.001001  0.000946  0.000896  0.000945  0.000942   \n",
       "\n",
       "                  6         7         8         9   ...        53        54  \\\n",
       "date                                                ...                       \n",
       "1960-04-01  0.000946  0.000896  0.000945  0.000942  ...  0.000428  0.000437   \n",
       "1960-04-04  0.000896  0.000945  0.000942  0.000867  ...  0.000437  0.000471   \n",
       "1960-04-05  0.000945  0.000942  0.000867  0.000773  ...  0.000471  0.000539   \n",
       "1960-04-06  0.000942  0.000867  0.000773  0.000742  ...  0.000539  0.000576   \n",
       "1960-04-07  0.000867  0.000773  0.000742  0.000763  ...  0.000576  0.000576   \n",
       "\n",
       "                  55        56        57        58        59        60  \\\n",
       "date                                                                     \n",
       "1960-04-01  0.000471  0.000539  0.000576  0.000576  0.000558  0.000545   \n",
       "1960-04-04  0.000539  0.000576  0.000576  0.000558  0.000545  0.000527   \n",
       "1960-04-05  0.000576  0.000576  0.000558  0.000545  0.000527  0.000478   \n",
       "1960-04-06  0.000576  0.000558  0.000545  0.000527  0.000478  0.000492   \n",
       "1960-04-07  0.000558  0.000545  0.000527  0.000478  0.000492  0.000509   \n",
       "\n",
       "                  61        62  \n",
       "date                            \n",
       "1960-04-01  0.000527  0.000478  \n",
       "1960-04-04  0.000478  0.000492  \n",
       "1960-04-05  0.000492  0.000509  \n",
       "1960-04-06  0.000509  0.000483  \n",
       "1960-04-07  0.000483  0.000657  \n",
       "\n",
       "[5 rows x 63 columns]"
      ]
     },
     "execution_count": 10,
     "metadata": {},
     "output_type": "execute_result"
    }
   ],
   "source": [
    "window_size = 63\n",
    "X, y = create_univariate_rnn_data(sp500_scaled, window_size=window_size)\n",
    "X.head()"
   ]
  },
  {
   "cell_type": "code",
   "execution_count": 11,
   "id": "92badf49",
   "metadata": {},
   "outputs": [
    {
     "data": {
      "text/plain": [
       "date\n",
       "1960-04-01    0.000492\n",
       "1960-04-04    0.000509\n",
       "1960-04-05    0.000483\n",
       "1960-04-06    0.000657\n",
       "1960-04-07    0.000658\n",
       "dtype: float64"
      ]
     },
     "execution_count": 11,
     "metadata": {},
     "output_type": "execute_result"
    }
   ],
   "source": [
    "y.head()"
   ]
  },
  {
   "cell_type": "code",
   "execution_count": 12,
   "id": "bbe0c926",
   "metadata": {},
   "outputs": [
    {
     "data": {
      "text/plain": [
       "(16474, 63)"
      ]
     },
     "execution_count": 12,
     "metadata": {},
     "output_type": "execute_result"
    }
   ],
   "source": [
    "X.shape"
   ]
  },
  {
   "cell_type": "code",
   "execution_count": 13,
   "id": "176de097",
   "metadata": {},
   "outputs": [
    {
     "data": {
      "text/plain": [
       "(16474,)"
      ]
     },
     "execution_count": 13,
     "metadata": {},
     "output_type": "execute_result"
    }
   ],
   "source": [
    "y.shape"
   ]
  },
  {
   "cell_type": "code",
   "execution_count": 14,
   "id": "3bc3ef59",
   "metadata": {},
   "outputs": [
    {
     "data": {
      "image/png": "[encoded data removed]",
      "text/plain": [
       "<Figure size 1400x400 with 1 Axes>"
      ]
     },
     "metadata": {},
     "output_type": "display_data"
    }
   ],
   "source": [
    "ax = sp500_scaled.plot(title='S&P 500',\n",
    "           legend=False, \n",
    "           lw=2, \n",
    "           figsize=(14, 4), \n",
    "           rot=0)\n",
    "ax.set_xlabel('')\n",
    "sns.despine()"
   ]
  },
  {
   "cell_type": "code",
   "execution_count": 15,
   "id": "9eb7867d",
   "metadata": {},
   "outputs": [
    {
     "data": {
      "text/plain": [
       "(15292,)"
      ]
     },
     "execution_count": 15,
     "metadata": {},
     "output_type": "execute_result"
    }
   ],
   "source": [
    "X_train = X[:'2020'].values.reshape(-1, window_size, 1)\n",
    "y_train = y[:'2020']\n",
    "\n",
    "# keep the last year for testing\n",
    "X_test = X['2021'].values.reshape(-1, window_size, 1)\n",
    "y_test = y['2021']\n",
    "\n",
    "n_obs, window_size, n_features = X_train.shape\n",
    "\n",
    "y_train.shape"
   ]
  },
  {
   "cell_type": "code",
   "execution_count": 16,
   "id": "ec345118",
   "metadata": {},
   "outputs": [
    {
     "data": {
      "text/html": [
       "<pre style=\"white-space:pre;overflow-x:auto;line-height:normal;font-family:Menlo,'DejaVu Sans Mono',consolas,'Courier New',monospace\"><span style=\"font-weight: bold\">Model: \"sequential\"</span>\n",
       "</pre>\n"
      ],
      "text/plain": [
       "\u001b[1mModel: \"sequential\"\u001b[0m\n"
      ]
     },
     "metadata": {},
     "output_type": "display_data"
    },
    {
     "data": {
      "text/html": [
       "<pre style=\"white-space:pre;overflow-x:auto;line-height:normal;font-family:Menlo,'DejaVu Sans Mono',consolas,'Courier New',monospace\">┏━━━━━━━━━━━━━━━━━━━━━━━━━━━━━━━━━┳━━━━━━━━━━━━━━━━━━━━━━━━┳━━━━━━━━━━━━━━━┓\n",
       "┃<span style=\"font-weight: bold\"> Layer (type)                    </span>┃<span style=\"font-weight: bold\"> Output Shape           </span>┃<span style=\"font-weight: bold\">       Param # </span>┃\n",
       "┡━━━━━━━━━━━━━━━━━━━━━━━━━━━━━━━━━╇━━━━━━━━━━━━━━━━━━━━━━━━╇━━━━━━━━━━━━━━━┩\n",
       "│ LSTM (<span style=\"color: #0087ff; text-decoration-color: #0087ff\">LSTM</span>)                     │ (<span style=\"color: #00d7ff; text-decoration-color: #00d7ff\">None</span>, <span style=\"color: #00af00; text-decoration-color: #00af00\">10</span>)             │           <span style=\"color: #00af00; text-decoration-color: #00af00\">480</span> │\n",
       "├─────────────────────────────────┼────────────────────────┼───────────────┤\n",
       "│ Output (<span style=\"color: #0087ff; text-decoration-color: #0087ff\">Dense</span>)                  │ (<span style=\"color: #00d7ff; text-decoration-color: #00d7ff\">None</span>, <span style=\"color: #00af00; text-decoration-color: #00af00\">1</span>)              │            <span style=\"color: #00af00; text-decoration-color: #00af00\">11</span> │\n",
       "└─────────────────────────────────┴────────────────────────┴───────────────┘\n",
       "</pre>\n"
      ],
      "text/plain": [
       "┏━━━━━━━━━━━━━━━━━━━━━━━━━━━━━━━━━┳━━━━━━━━━━━━━━━━━━━━━━━━┳━━━━━━━━━━━━━━━┓\n",
       "┃\u001b[1m \u001b[0m\u001b[1mLayer (type)                   \u001b[0m\u001b[1m \u001b[0m┃\u001b[1m \u001b[0m\u001b[1mOutput Shape          \u001b[0m\u001b[1m \u001b[0m┃\u001b[1m \u001b[0m\u001b[1m      Param #\u001b[0m\u001b[1m \u001b[0m┃\n",
       "┡━━━━━━━━━━━━━━━━━━━━━━━━━━━━━━━━━╇━━━━━━━━━━━━━━━━━━━━━━━━╇━━━━━━━━━━━━━━━┩\n",
       "│ LSTM (\u001b[38;5;33mLSTM\u001b[0m)                     │ (\u001b[38;5;45mNone\u001b[0m, \u001b[38;5;34m10\u001b[0m)             │           \u001b[38;5;34m480\u001b[0m │\n",
       "├─────────────────────────────────┼────────────────────────┼───────────────┤\n",
       "│ Output (\u001b[38;5;33mDense\u001b[0m)                  │ (\u001b[38;5;45mNone\u001b[0m, \u001b[38;5;34m1\u001b[0m)              │            \u001b[38;5;34m11\u001b[0m │\n",
       "└─────────────────────────────────┴────────────────────────┴───────────────┘\n"
      ]
     },
     "metadata": {},
     "output_type": "display_data"
    },
    {
     "data": {
      "text/html": [
       "<pre style=\"white-space:pre;overflow-x:auto;line-height:normal;font-family:Menlo,'DejaVu Sans Mono',consolas,'Courier New',monospace\"><span style=\"font-weight: bold\"> Total params: </span><span style=\"color: #00af00; text-decoration-color: #00af00\">491</span> (1.92 KB)\n",
       "</pre>\n"
      ],
      "text/plain": [
       "\u001b[1m Total params: \u001b[0m\u001b[38;5;34m491\u001b[0m (1.92 KB)\n"
      ]
     },
     "metadata": {},
     "output_type": "display_data"
    },
    {
     "data": {
      "text/html": [
       "<pre style=\"white-space:pre;overflow-x:auto;line-height:normal;font-family:Menlo,'DejaVu Sans Mono',consolas,'Courier New',monospace\"><span style=\"font-weight: bold\"> Trainable params: </span><span style=\"color: #00af00; text-decoration-color: #00af00\">491</span> (1.92 KB)\n",
       "</pre>\n"
      ],
      "text/plain": [
       "\u001b[1m Trainable params: \u001b[0m\u001b[38;5;34m491\u001b[0m (1.92 KB)\n"
      ]
     },
     "metadata": {},
     "output_type": "display_data"
    },
    {
     "data": {
      "text/html": [
       "<pre style=\"white-space:pre;overflow-x:auto;line-height:normal;font-family:Menlo,'DejaVu Sans Mono',consolas,'Courier New',monospace\"><span style=\"font-weight: bold\"> Non-trainable params: </span><span style=\"color: #00af00; text-decoration-color: #00af00\">0</span> (0.00 B)\n",
       "</pre>\n"
      ],
      "text/plain": [
       "\u001b[1m Non-trainable params: \u001b[0m\u001b[38;5;34m0\u001b[0m (0.00 B)\n"
      ]
     },
     "metadata": {},
     "output_type": "display_data"
    }
   ],
   "source": [
    "rnn = Sequential([\n",
    "    LSTM(units=10, \n",
    "         input_shape=(window_size, n_features), name='LSTM'),\n",
    "    Dense(1, name='Output')\n",
    "])\n",
    "\n",
    "\n",
    "rnn.summary()"
   ]
  },
  {
   "cell_type": "code",
   "execution_count": 17,
   "id": "2282c34f",
   "metadata": {},
   "outputs": [],
   "source": [
    "# complete ..."
   ]
  },
  {
   "cell_type": "code",
   "execution_count": null,
   "metadata": {},
   "outputs": [],
   "source": []
  },
  {
   "cell_type": "code",
   "execution_count": null,
   "metadata": {},
   "outputs": [],
   "source": []
  },
  {
   "cell_type": "code",
   "execution_count": null,
   "metadata": {},
   "outputs": [],
   "source": []
  },
  {
   "cell_type": "code",
   "execution_count": null,
   "id": "b8364df3",
   "metadata": {},
   "outputs": [],
   "source": []
  },
  {
   "cell_type": "code",
   "execution_count": null,
   "metadata": {},
   "outputs": [],
   "source": []
  },
  {
   "cell_type": "code",
   "execution_count": null,
   "id": "cc97bfd3",
   "metadata": {},
   "outputs": [],
   "source": []
  },
  {
   "cell_type": "code",
   "execution_count": null,
   "id": "cfd5d5f9",
   "metadata": {},
   "outputs": [],
   "source": []
  }
 ],
 "metadata": {
  "kernelspec": {
   "display_name": "ml",
   "language": "python",
   "name": "python3"
  },
  "language_info": {
   "codemirror_mode": {
    "name": "ipython",
    "version": 3
   },
   "file_extension": ".py",
   "mimetype": "text/x-python",
   "name": "python",
   "nbconvert_exporter": "python",
   "pygments_lexer": "ipython3",
   "version": "3.11.13"
  }
 },
 "nbformat": 4,
 "nbformat_minor": 5
}
