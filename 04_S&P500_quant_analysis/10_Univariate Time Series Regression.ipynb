{
 "cells": [
  {
   "cell_type": "code",
   "execution_count": 3,
   "id": "78edd5f4",
   "metadata": {},
   "outputs": [],
   "source": [
    "%matplotlib inline\n",
    "\n",
    "# from pathlib import Path\n",
    "\n",
    "import numpy as np\n",
    "import pandas as pd\n",
    "import pandas_datareader.data as web\n",
    "from scipy.stats import spearmanr\n",
    "\n",
    "from sklearn.metrics import mean_squared_error\n",
    "from sklearn.preprocessing import MinMaxScaler\n",
    "\n",
    "import tensorflow as tf\n",
    "from tensorflow.keras.callbacks import ModelCheckpoint, EarlyStopping\n",
    "from tensorflow.keras.models import Sequential\n",
    "from tensorflow.keras.layers import Dense, LSTM\n",
    "from tensorflow import keras\n",
    "\n",
    "import matplotlib.pyplot as plt\n",
    "import seaborn as sns\n",
    "\n",
    "import warnings\n",
    "warnings.filterwarnings(\"ignore\")\n",
    "\n",
    "# Fix the path construction - use forward slashes or raw strings\n",
    "import os"
   ]
  },
  {
   "cell_type": "code",
   "execution_count": 4,
   "id": "ca77679d",
   "metadata": {},
   "outputs": [
    {
     "name": "stdout",
     "output_type": "stream",
     "text": [
      "Path exists: True\n"
     ]
    },
    {
     "data": {
      "text/html": [
       "<div>\n",
       "<style scoped>\n",
       "    .dataframe tbody tr th:only-of-type {\n",
       "        vertical-align: middle;\n",
       "    }\n",
       "\n",
       "    .dataframe tbody tr th {\n",
       "        vertical-align: top;\n",
       "    }\n",
       "\n",
       "    .dataframe thead th {\n",
       "        text-align: right;\n",
       "    }\n",
       "</style>\n",
       "<table border=\"1\" class=\"dataframe\">\n",
       "  <thead>\n",
       "    <tr style=\"text-align: right;\">\n",
       "      <th></th>\n",
       "      <th>open</th>\n",
       "      <th>high</th>\n",
       "      <th>low</th>\n",
       "      <th>close</th>\n",
       "      <th>volume</th>\n",
       "    </tr>\n",
       "    <tr>\n",
       "      <th>date</th>\n",
       "      <th></th>\n",
       "      <th></th>\n",
       "      <th></th>\n",
       "      <th></th>\n",
       "      <th></th>\n",
       "    </tr>\n",
       "  </thead>\n",
       "  <tbody>\n",
       "    <tr>\n",
       "      <th>1960-01-04</th>\n",
       "      <td>59.91</td>\n",
       "      <td>59.91</td>\n",
       "      <td>59.91</td>\n",
       "      <td>59.91</td>\n",
       "      <td>2216667.0</td>\n",
       "    </tr>\n",
       "    <tr>\n",
       "      <th>1960-01-05</th>\n",
       "      <td>60.39</td>\n",
       "      <td>60.39</td>\n",
       "      <td>60.39</td>\n",
       "      <td>60.39</td>\n",
       "      <td>2061111.0</td>\n",
       "    </tr>\n",
       "    <tr>\n",
       "      <th>1960-01-06</th>\n",
       "      <td>60.13</td>\n",
       "      <td>60.13</td>\n",
       "      <td>60.13</td>\n",
       "      <td>60.13</td>\n",
       "      <td>2072222.0</td>\n",
       "    </tr>\n",
       "    <tr>\n",
       "      <th>1960-01-07</th>\n",
       "      <td>59.69</td>\n",
       "      <td>59.69</td>\n",
       "      <td>59.69</td>\n",
       "      <td>59.69</td>\n",
       "      <td>1838889.0</td>\n",
       "    </tr>\n",
       "    <tr>\n",
       "      <th>1960-01-08</th>\n",
       "      <td>59.50</td>\n",
       "      <td>59.50</td>\n",
       "      <td>59.50</td>\n",
       "      <td>59.50</td>\n",
       "      <td>1827778.0</td>\n",
       "    </tr>\n",
       "  </tbody>\n",
       "</table>\n",
       "</div>"
      ],
      "text/plain": [
       "             open   high    low  close     volume\n",
       "date                                             \n",
       "1960-01-04  59.91  59.91  59.91  59.91  2216667.0\n",
       "1960-01-05  60.39  60.39  60.39  60.39  2061111.0\n",
       "1960-01-06  60.13  60.13  60.13  60.13  2072222.0\n",
       "1960-01-07  59.69  59.69  59.69  59.69  1838889.0\n",
       "1960-01-08  59.50  59.50  59.50  59.50  1827778.0"
      ]
     },
     "execution_count": 4,
     "metadata": {},
     "output_type": "execute_result"
    }
   ],
   "source": [
    "\n",
    "# Method 1: Use forward slashes (recommended)\n",
    "path = os.path.abspath(os.path.join(\"..\", \"04_S&P500_quant_analysis\", \"01_data\", \"S&P500_D_1789-05-01_2025-09-17.csv\"))\n",
    "\n",
    "# Alternative Method 2: Use raw string\n",
    "# path = os.path.abspath(os.path.join(\"..\", r\"04_S&P500_quant_analysis\\01_data\", \"S&P500_D_1789-05-01_2025-09-17.csv\"))\n",
    "\n",
    "# Alternative Method 3: Use pathlib (modern approach)\n",
    "# from pathlib import Path\n",
    "# path = Path(\"..\") / \"04_S&P500_quant_analysis\" / \"01_data\" / \"S&P500_D_1789-05-01_2025-09-17.csv\"\n",
    "\n",
    "print(f\"Path exists: {os.path.exists(path)}\")\n",
    "\n",
    "# Read the CSV file\n",
    "df = pd.read_csv(path)\n",
    "\n",
    "# lower case column names for easier access\n",
    "df.columns = [col.lower() for col in df.columns]\n",
    "\n",
    "# Set the 'date' column as the index and convert it to datetime\n",
    "df['date'] = pd.to_datetime(df['date'])\n",
    "df.set_index('date', inplace=True)\n",
    "\n",
    "# filter years from 1960\n",
    "df = df[df.index.year >= 1960]\n",
    "\n",
    "# Show the first few rows of the dataframe\n",
    "df.head()"
   ]
  },
  {
   "cell_type": "code",
   "execution_count": 5,
   "id": "d0d87778",
   "metadata": {},
   "outputs": [
    {
     "name": "stdout",
     "output_type": "stream",
     "text": [
      "Using CPU\n"
     ]
    }
   ],
   "source": [
    "gpu_devices = tf.config.experimental.list_physical_devices('GPU')\n",
    "if gpu_devices:\n",
    "    print('Using GPU')\n",
    "    tf.config.experimental.set_memory_growth(gpu_devices[0], True)\n",
    "else:\n",
    "    print('Using CPU')"
   ]
  },
  {
   "cell_type": "code",
   "execution_count": null,
   "id": "c1f45724",
   "metadata": {},
   "outputs": [],
   "source": [
    "sns.set_style('whitegrid')\n",
    "np.random.seed(42)"
   ]
  },
  {
   "cell_type": "code",
   "execution_count": null,
   "id": "84e1363c",
   "metadata": {},
   "outputs": [],
   "source": [
    "# results_path = Path('results', 'univariate_time_series')\n",
    "# if not results_path.exists():\n",
    "#     results_path.mkdir(parents=True)"
   ]
  },
  {
   "cell_type": "code",
   "execution_count": null,
   "id": "49ef72c5",
   "metadata": {},
   "outputs": [],
   "source": [
    "sp500 = df.copy()"
   ]
  },
  {
   "cell_type": "code",
   "execution_count": null,
   "id": "52dbe2de",
   "metadata": {},
   "outputs": [],
   "source": []
  },
  {
   "cell_type": "code",
   "execution_count": null,
   "id": "cbd364ab",
   "metadata": {},
   "outputs": [],
   "source": []
  },
  {
   "cell_type": "code",
   "execution_count": null,
   "id": "cfd5d5f9",
   "metadata": {},
   "outputs": [],
   "source": []
  }
 ],
 "metadata": {
  "kernelspec": {
   "display_name": "ml",
   "language": "python",
   "name": "python3"
  },
  "language_info": {
   "codemirror_mode": {
    "name": "ipython",
    "version": 3
   },
   "file_extension": ".py",
   "mimetype": "text/x-python",
   "name": "python",
   "nbconvert_exporter": "python",
   "pygments_lexer": "ipython3",
   "version": "3.11.13"
  }
 },
 "nbformat": 4,
 "nbformat_minor": 5
}
