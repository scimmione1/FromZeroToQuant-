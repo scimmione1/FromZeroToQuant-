{
 "cells": [
  {
   "cell_type": "code",
   "execution_count": 1,
   "id": "78edd5f4",
   "metadata": {},
   "outputs": [],
   "source": [
    "%matplotlib inline\n",
    "\n",
    "# from pathlib import Path\n",
    "\n",
    "import numpy as np\n",
    "import pandas as pd\n",
    "import pandas_datareader.data as web\n",
    "from scipy.stats import spearmanr\n",
    "\n",
    "from sklearn.metrics import mean_squared_error\n",
    "from sklearn.preprocessing import MinMaxScaler\n",
    "\n",
    "import tensorflow as tf\n",
    "from tensorflow.keras.callbacks import ModelCheckpoint, EarlyStopping\n",
    "from tensorflow.keras.models import Sequential\n",
    "from tensorflow.keras.layers import Dense, LSTM\n",
    "from tensorflow import keras\n",
    "\n",
    "import matplotlib.pyplot as plt\n",
    "import seaborn as sns\n",
    "\n",
    "import warnings\n",
    "warnings.filterwarnings(\"ignore\")\n",
    "\n",
    "# Fix the path construction - use forward slashes or raw strings\n",
    "import os"
   ]
  },
  {
   "cell_type": "code",
   "execution_count": 2,
   "id": "ca77679d",
   "metadata": {},
   "outputs": [
    {
     "name": "stdout",
     "output_type": "stream",
     "text": [
      "Path exists: True\n"
     ]
    },
    {
     "data": {
      "text/html": [
       "<div>\n",
       "<style scoped>\n",
       "    .dataframe tbody tr th:only-of-type {\n",
       "        vertical-align: middle;\n",
       "    }\n",
       "\n",
       "    .dataframe tbody tr th {\n",
       "        vertical-align: top;\n",
       "    }\n",
       "\n",
       "    .dataframe thead th {\n",
       "        text-align: right;\n",
       "    }\n",
       "</style>\n",
       "<table border=\"1\" class=\"dataframe\">\n",
       "  <thead>\n",
       "    <tr style=\"text-align: right;\">\n",
       "      <th></th>\n",
       "      <th>open</th>\n",
       "      <th>high</th>\n",
       "      <th>low</th>\n",
       "      <th>close</th>\n",
       "      <th>volume</th>\n",
       "    </tr>\n",
       "    <tr>\n",
       "      <th>date</th>\n",
       "      <th></th>\n",
       "      <th></th>\n",
       "      <th></th>\n",
       "      <th></th>\n",
       "      <th></th>\n",
       "    </tr>\n",
       "  </thead>\n",
       "  <tbody>\n",
       "    <tr>\n",
       "      <th>1960-01-04</th>\n",
       "      <td>59.91</td>\n",
       "      <td>59.91</td>\n",
       "      <td>59.91</td>\n",
       "      <td>59.91</td>\n",
       "      <td>2216667.0</td>\n",
       "    </tr>\n",
       "    <tr>\n",
       "      <th>1960-01-05</th>\n",
       "      <td>60.39</td>\n",
       "      <td>60.39</td>\n",
       "      <td>60.39</td>\n",
       "      <td>60.39</td>\n",
       "      <td>2061111.0</td>\n",
       "    </tr>\n",
       "    <tr>\n",
       "      <th>1960-01-06</th>\n",
       "      <td>60.13</td>\n",
       "      <td>60.13</td>\n",
       "      <td>60.13</td>\n",
       "      <td>60.13</td>\n",
       "      <td>2072222.0</td>\n",
       "    </tr>\n",
       "    <tr>\n",
       "      <th>1960-01-07</th>\n",
       "      <td>59.69</td>\n",
       "      <td>59.69</td>\n",
       "      <td>59.69</td>\n",
       "      <td>59.69</td>\n",
       "      <td>1838889.0</td>\n",
       "    </tr>\n",
       "    <tr>\n",
       "      <th>1960-01-08</th>\n",
       "      <td>59.50</td>\n",
       "      <td>59.50</td>\n",
       "      <td>59.50</td>\n",
       "      <td>59.50</td>\n",
       "      <td>1827778.0</td>\n",
       "    </tr>\n",
       "  </tbody>\n",
       "</table>\n",
       "</div>"
      ],
      "text/plain": [
       "             open   high    low  close     volume\n",
       "date                                             \n",
       "1960-01-04  59.91  59.91  59.91  59.91  2216667.0\n",
       "1960-01-05  60.39  60.39  60.39  60.39  2061111.0\n",
       "1960-01-06  60.13  60.13  60.13  60.13  2072222.0\n",
       "1960-01-07  59.69  59.69  59.69  59.69  1838889.0\n",
       "1960-01-08  59.50  59.50  59.50  59.50  1827778.0"
      ]
     },
     "execution_count": 2,
     "metadata": {},
     "output_type": "execute_result"
    }
   ],
   "source": [
    "\n",
    "# Method 1: Use forward slashes (recommended)\n",
    "path = os.path.abspath(os.path.join(\"..\", \"04_S&P500_quant_analysis\", \"01_data\", \"S&P500_D_1789-05-01_2025-09-17.csv\"))\n",
    "\n",
    "# Alternative Method 2: Use raw string\n",
    "# path = os.path.abspath(os.path.join(\"..\", r\"04_S&P500_quant_analysis\\01_data\", \"S&P500_D_1789-05-01_2025-09-17.csv\"))\n",
    "\n",
    "# Alternative Method 3: Use pathlib (modern approach)\n",
    "# from pathlib import Path\n",
    "# path = Path(\"..\") / \"04_S&P500_quant_analysis\" / \"01_data\" / \"S&P500_D_1789-05-01_2025-09-17.csv\"\n",
    "\n",
    "print(f\"Path exists: {os.path.exists(path)}\")\n",
    "\n",
    "# Read the CSV file\n",
    "df = pd.read_csv(path)\n",
    "\n",
    "# lower case column names for easier access\n",
    "df.columns = [col.lower() for col in df.columns]\n",
    "\n",
    "# Set the 'date' column as the index and convert it to datetime\n",
    "df['date'] = pd.to_datetime(df['date'])\n",
    "df.set_index('date', inplace=True)\n",
    "\n",
    "# filter years from 1960\n",
    "df = df[df.index.year >= 1960]\n",
    "\n",
    "# Show the first few rows of the dataframe\n",
    "df.head()"
   ]
  },
  {
   "cell_type": "code",
   "execution_count": 3,
   "id": "d0d87778",
   "metadata": {},
   "outputs": [
    {
     "name": "stdout",
     "output_type": "stream",
     "text": [
      "Using CPU\n"
     ]
    }
   ],
   "source": [
    "gpu_devices = tf.config.experimental.list_physical_devices('GPU')\n",
    "if gpu_devices:\n",
    "    print('Using GPU')\n",
    "    tf.config.experimental.set_memory_growth(gpu_devices[0], True)\n",
    "else:\n",
    "    print('Using CPU')"
   ]
  },
  {
   "cell_type": "code",
   "execution_count": 4,
   "id": "c1f45724",
   "metadata": {},
   "outputs": [],
   "source": [
    "sns.set_style('whitegrid')\n",
    "np.random.seed(42)"
   ]
  },
  {
   "cell_type": "code",
   "execution_count": 5,
   "id": "84e1363c",
   "metadata": {},
   "outputs": [],
   "source": [
    "# results_path = Path('results', 'univariate_time_series')\n",
    "# if not results_path.exists():\n",
    "#     results_path.mkdir(parents=True)"
   ]
  },
  {
   "cell_type": "code",
   "execution_count": 6,
   "id": "49ef72c5",
   "metadata": {},
   "outputs": [
    {
     "data": {
      "image/png": "[encoded data removed]",
      "text/plain": [
       "<Figure size 1400x400 with 1 Axes>"
      ]
     },
     "metadata": {},
     "output_type": "display_data"
    }
   ],
   "source": [
    "sp500 = df.close.copy()\n",
    "ax = sp500.plot(title='S&P 500',\n",
    "           legend=False,\n",
    "           figsize=(14, 4),\n",
    "           rot=0)\n",
    "ax.set_xlabel('')\n",
    "sns.despine()"
   ]
  },
  {
   "cell_type": "code",
   "execution_count": 7,
   "id": "52dbe2de",
   "metadata": {},
   "outputs": [
    {
     "data": {
      "text/plain": [
       "'\\nsp500.values.reshape(-1, 1) converts the Series to a 2D numpy array \\nwith shape (n_samples, 1)\\n-1 means \"infer the dimension\" and 1 means \"1 feature column\"\\n.squeeze() converts the 2D result back to 1D for creating the Series\\n'"
      ]
     },
     "execution_count": 7,
     "metadata": {},
     "output_type": "execute_result"
    }
   ],
   "source": [
    "scaler = MinMaxScaler()\n",
    "sp500_scaled = pd.Series(scaler.fit_transform(sp500.values.reshape(-1, 1)).squeeze(), \n",
    "                         index=sp500.index)\n",
    "sp500_scaled.describe()\n",
    "\n",
    "\"\"\"\n",
    "sp500.values.reshape(-1, 1) converts the Series to a 2D numpy array \n",
    "with shape (n_samples, 1)\n",
    "-1 means \"infer the dimension\" and 1 means \"1 feature column\"\n",
    ".squeeze() converts the 2D result back to 1D for creating the Series\n",
    "\"\"\"\n",
    "\n",
    "# # Alternative approach\n",
    "# scaler = MinMaxScaler()\n",
    "# sp500_scaled = pd.Series(scaler.fit_transform(sp500.to_frame()).squeeze(), \n",
    "#                          index=sp500.index)\n",
    "# sp500_scaled.describe()"
   ]
  },
  {
   "cell_type": "code",
   "execution_count": 8,
   "id": "cbd364ab",
   "metadata": {},
   "outputs": [],
   "source": [
    "def create_univariate_rnn_data(data, window_size):\n",
    "    n = len(data)\n",
    "    y = data[window_size:]\n",
    "    data = data.values.reshape(-1, 1) # make 2D\n",
    "    X = np.hstack(tuple([data[i: n-j, :] for i, j in enumerate(range(window_size, 0, -1))]))\n",
    "    return pd.DataFrame(X, index=y.index), y"
   ]
  },
  {
   "cell_type": "code",
   "execution_count": 9,
   "id": "81ff2493",
   "metadata": {},
   "outputs": [],
   "source": [
    "\"\"\"\n",
    "X = np.hstack(tuple([data[i: n-j, :] for i, j in enumerate(range(window_size, 0, -1))]))\n",
    "This line of code creates a feature matrix X for time series analysis \n",
    "using a sliding window approach. \n",
    "\n",
    "The core operation uses np.hstack() to horizontally stack multiple arrays together, \n",
    "combining them column-wise into a single matrix. \n",
    "The arrays being stacked are generated by a list comprehension that creates \n",
    "time-lagged versions of the original data.\n",
    "\n",
    "The list comprehension [data[i: n-j, :] \n",
    "for i, j in enumerate(range(window_size, 0, -1))] \n",
    "is the heart of this operation. \n",
    "It uses enumerate() on a reversed range to create multiple slices of the data array. \n",
    "The range(window_size, 0, -1) generates numbers counting down from window_size to 1, \n",
    "which determines how many time steps back to look for each feature.\n",
    "\n",
    "For each iteration, i represents the current index (starting from 0), \n",
    "and j represents the countdown value from the range. \n",
    "The slicing data[i: n-j, :] extracts a portion of the data starting \n",
    "from row i and ending at row n-j, where n is likely the total number \n",
    "of time steps. This creates overlapping windows of historical data, \n",
    "with each subsequent slice shifted by one time step.\n",
    "\n",
    "The resulting slices are different lengths due to the varying start and end points, \n",
    "but they represent consecutive time windows of the data. \n",
    "When these slices are horizontally stacked using np.hstack(), \n",
    "they form a feature matrix where each row represents a time point, \n",
    "and the columns contain the current value plus lagged values \n",
    "from previous time steps. \n",
    "This is a common technique in time series regression where \n",
    "you want to use historical values as predictive features \n",
    "for forecasting future values.\n",
    "\n",
    "The tuple() wrapper around the list comprehension is required because \n",
    "np.hstack() expects a sequence of arrays, \n",
    "and converting the list to a tuple ensures compatibility \n",
    "with the function's expected input format.\n",
    "\"\"\";"
   ]
  },
  {
   "cell_type": "code",
   "execution_count": 10,
   "id": "f81660ae",
   "metadata": {},
   "outputs": [
    {
     "data": {
      "text/html": [
       "<div>\n",
       "<style scoped>\n",
       "    .dataframe tbody tr th:only-of-type {\n",
       "        vertical-align: middle;\n",
       "    }\n",
       "\n",
       "    .dataframe tbody tr th {\n",
       "        vertical-align: top;\n",
       "    }\n",
       "\n",
       "    .dataframe thead th {\n",
       "        text-align: right;\n",
       "    }\n",
       "</style>\n",
       "<table border=\"1\" class=\"dataframe\">\n",
       "  <thead>\n",
       "    <tr style=\"text-align: right;\">\n",
       "      <th></th>\n",
       "      <th>0</th>\n",
       "      <th>1</th>\n",
       "      <th>2</th>\n",
       "      <th>3</th>\n",
       "      <th>4</th>\n",
       "      <th>5</th>\n",
       "      <th>6</th>\n",
       "      <th>7</th>\n",
       "      <th>8</th>\n",
       "      <th>9</th>\n",
       "      <th>...</th>\n",
       "      <th>53</th>\n",
       "      <th>54</th>\n",
       "      <th>55</th>\n",
       "      <th>56</th>\n",
       "      <th>57</th>\n",
       "      <th>58</th>\n",
       "      <th>59</th>\n",
       "      <th>60</th>\n",
       "      <th>61</th>\n",
       "      <th>62</th>\n",
       "    </tr>\n",
       "    <tr>\n",
       "      <th>date</th>\n",
       "      <th></th>\n",
       "      <th></th>\n",
       "      <th></th>\n",
       "      <th></th>\n",
       "      <th></th>\n",
       "      <th></th>\n",
       "      <th></th>\n",
       "      <th></th>\n",
       "      <th></th>\n",
       "      <th></th>\n",
       "      <th></th>\n",
       "      <th></th>\n",
       "      <th></th>\n",
       "      <th></th>\n",
       "      <th></th>\n",
       "      <th></th>\n",
       "      <th></th>\n",
       "      <th></th>\n",
       "      <th></th>\n",
       "      <th></th>\n",
       "      <th></th>\n",
       "    </tr>\n",
       "  </thead>\n",
       "  <tbody>\n",
       "    <tr>\n",
       "      <th>1960-04-01</th>\n",
       "      <td>0.001175</td>\n",
       "      <td>0.001248</td>\n",
       "      <td>0.001208</td>\n",
       "      <td>0.001141</td>\n",
       "      <td>0.001112</td>\n",
       "      <td>0.001001</td>\n",
       "      <td>0.000946</td>\n",
       "      <td>0.000896</td>\n",
       "      <td>0.000945</td>\n",
       "      <td>0.000942</td>\n",
       "      <td>...</td>\n",
       "      <td>0.000428</td>\n",
       "      <td>0.000437</td>\n",
       "      <td>0.000471</td>\n",
       "      <td>0.000539</td>\n",
       "      <td>0.000576</td>\n",
       "      <td>0.000576</td>\n",
       "      <td>0.000558</td>\n",
       "      <td>0.000545</td>\n",
       "      <td>0.000527</td>\n",
       "      <td>0.000478</td>\n",
       "    </tr>\n",
       "    <tr>\n",
       "      <th>1960-04-04</th>\n",
       "      <td>0.001248</td>\n",
       "      <td>0.001208</td>\n",
       "      <td>0.001141</td>\n",
       "      <td>0.001112</td>\n",
       "      <td>0.001001</td>\n",
       "      <td>0.000946</td>\n",
       "      <td>0.000896</td>\n",
       "      <td>0.000945</td>\n",
       "      <td>0.000942</td>\n",
       "      <td>0.000867</td>\n",
       "      <td>...</td>\n",
       "      <td>0.000437</td>\n",
       "      <td>0.000471</td>\n",
       "      <td>0.000539</td>\n",
       "      <td>0.000576</td>\n",
       "      <td>0.000576</td>\n",
       "      <td>0.000558</td>\n",
       "      <td>0.000545</td>\n",
       "      <td>0.000527</td>\n",
       "      <td>0.000478</td>\n",
       "      <td>0.000492</td>\n",
       "    </tr>\n",
       "    <tr>\n",
       "      <th>1960-04-05</th>\n",
       "      <td>0.001208</td>\n",
       "      <td>0.001141</td>\n",
       "      <td>0.001112</td>\n",
       "      <td>0.001001</td>\n",
       "      <td>0.000946</td>\n",
       "      <td>0.000896</td>\n",
       "      <td>0.000945</td>\n",
       "      <td>0.000942</td>\n",
       "      <td>0.000867</td>\n",
       "      <td>0.000773</td>\n",
       "      <td>...</td>\n",
       "      <td>0.000471</td>\n",
       "      <td>0.000539</td>\n",
       "      <td>0.000576</td>\n",
       "      <td>0.000576</td>\n",
       "      <td>0.000558</td>\n",
       "      <td>0.000545</td>\n",
       "      <td>0.000527</td>\n",
       "      <td>0.000478</td>\n",
       "      <td>0.000492</td>\n",
       "      <td>0.000509</td>\n",
       "    </tr>\n",
       "    <tr>\n",
       "      <th>1960-04-06</th>\n",
       "      <td>0.001141</td>\n",
       "      <td>0.001112</td>\n",
       "      <td>0.001001</td>\n",
       "      <td>0.000946</td>\n",
       "      <td>0.000896</td>\n",
       "      <td>0.000945</td>\n",
       "      <td>0.000942</td>\n",
       "      <td>0.000867</td>\n",
       "      <td>0.000773</td>\n",
       "      <td>0.000742</td>\n",
       "      <td>...</td>\n",
       "      <td>0.000539</td>\n",
       "      <td>0.000576</td>\n",
       "      <td>0.000576</td>\n",
       "      <td>0.000558</td>\n",
       "      <td>0.000545</td>\n",
       "      <td>0.000527</td>\n",
       "      <td>0.000478</td>\n",
       "      <td>0.000492</td>\n",
       "      <td>0.000509</td>\n",
       "      <td>0.000483</td>\n",
       "    </tr>\n",
       "    <tr>\n",
       "      <th>1960-04-07</th>\n",
       "      <td>0.001112</td>\n",
       "      <td>0.001001</td>\n",
       "      <td>0.000946</td>\n",
       "      <td>0.000896</td>\n",
       "      <td>0.000945</td>\n",
       "      <td>0.000942</td>\n",
       "      <td>0.000867</td>\n",
       "      <td>0.000773</td>\n",
       "      <td>0.000742</td>\n",
       "      <td>0.000763</td>\n",
       "      <td>...</td>\n",
       "      <td>0.000576</td>\n",
       "      <td>0.000576</td>\n",
       "      <td>0.000558</td>\n",
       "      <td>0.000545</td>\n",
       "      <td>0.000527</td>\n",
       "      <td>0.000478</td>\n",
       "      <td>0.000492</td>\n",
       "      <td>0.000509</td>\n",
       "      <td>0.000483</td>\n",
       "      <td>0.000657</td>\n",
       "    </tr>\n",
       "  </tbody>\n",
       "</table>\n",
       "<p>5 rows × 63 columns</p>\n",
       "</div>"
      ],
      "text/plain": [
       "                  0         1         2         3         4         5   \\\n",
       "date                                                                     \n",
       "1960-04-01  0.001175  0.001248  0.001208  0.001141  0.001112  0.001001   \n",
       "1960-04-04  0.001248  0.001208  0.001141  0.001112  0.001001  0.000946   \n",
       "1960-04-05  0.001208  0.001141  0.001112  0.001001  0.000946  0.000896   \n",
       "1960-04-06  0.001141  0.001112  0.001001  0.000946  0.000896  0.000945   \n",
       "1960-04-07  0.001112  0.001001  0.000946  0.000896  0.000945  0.000942   \n",
       "\n",
       "                  6         7         8         9   ...        53        54  \\\n",
       "date                                                ...                       \n",
       "1960-04-01  0.000946  0.000896  0.000945  0.000942  ...  0.000428  0.000437   \n",
       "1960-04-04  0.000896  0.000945  0.000942  0.000867  ...  0.000437  0.000471   \n",
       "1960-04-05  0.000945  0.000942  0.000867  0.000773  ...  0.000471  0.000539   \n",
       "1960-04-06  0.000942  0.000867  0.000773  0.000742  ...  0.000539  0.000576   \n",
       "1960-04-07  0.000867  0.000773  0.000742  0.000763  ...  0.000576  0.000576   \n",
       "\n",
       "                  55        56        57        58        59        60  \\\n",
       "date                                                                     \n",
       "1960-04-01  0.000471  0.000539  0.000576  0.000576  0.000558  0.000545   \n",
       "1960-04-04  0.000539  0.000576  0.000576  0.000558  0.000545  0.000527   \n",
       "1960-04-05  0.000576  0.000576  0.000558  0.000545  0.000527  0.000478   \n",
       "1960-04-06  0.000576  0.000558  0.000545  0.000527  0.000478  0.000492   \n",
       "1960-04-07  0.000558  0.000545  0.000527  0.000478  0.000492  0.000509   \n",
       "\n",
       "                  61        62  \n",
       "date                            \n",
       "1960-04-01  0.000527  0.000478  \n",
       "1960-04-04  0.000478  0.000492  \n",
       "1960-04-05  0.000492  0.000509  \n",
       "1960-04-06  0.000509  0.000483  \n",
       "1960-04-07  0.000483  0.000657  \n",
       "\n",
       "[5 rows x 63 columns]"
      ]
     },
     "execution_count": 10,
     "metadata": {},
     "output_type": "execute_result"
    }
   ],
   "source": [
    "window_size = 63\n",
    "X, y = create_univariate_rnn_data(sp500_scaled, window_size=window_size)\n",
    "X.head()"
   ]
  },
  {
   "cell_type": "code",
   "execution_count": 11,
   "id": "92badf49",
   "metadata": {},
   "outputs": [
    {
     "data": {
      "text/plain": [
       "date\n",
       "1960-04-01    0.000492\n",
       "1960-04-04    0.000509\n",
       "1960-04-05    0.000483\n",
       "1960-04-06    0.000657\n",
       "1960-04-07    0.000658\n",
       "dtype: float64"
      ]
     },
     "execution_count": 11,
     "metadata": {},
     "output_type": "execute_result"
    }
   ],
   "source": [
    "y.head()"
   ]
  },
  {
   "cell_type": "code",
   "execution_count": 12,
   "id": "bbe0c926",
   "metadata": {},
   "outputs": [
    {
     "data": {
      "text/plain": [
       "(16474, 63)"
      ]
     },
     "execution_count": 12,
     "metadata": {},
     "output_type": "execute_result"
    }
   ],
   "source": [
    "X.shape"
   ]
  },
  {
   "cell_type": "code",
   "execution_count": 13,
   "id": "176de097",
   "metadata": {},
   "outputs": [
    {
     "data": {
      "text/plain": [
       "(16474,)"
      ]
     },
     "execution_count": 13,
     "metadata": {},
     "output_type": "execute_result"
    }
   ],
   "source": [
    "y.shape"
   ]
  },
  {
   "cell_type": "code",
   "execution_count": 14,
   "id": "3bc3ef59",
   "metadata": {},
   "outputs": [
    {
     "data": {
      "image/png": "[encoded data removed]",
      "text/plain": [
       "<Figure size 1400x400 with 1 Axes>"
      ]
     },
     "metadata": {},
     "output_type": "display_data"
    }
   ],
   "source": [
    "ax = sp500_scaled.plot(title='S&P 500',\n",
    "           legend=False, \n",
    "           lw=2, \n",
    "           figsize=(14, 4), \n",
    "           rot=0)\n",
    "ax.set_xlabel('')\n",
    "sns.despine()"
   ]
  },
  {
   "cell_type": "code",
   "execution_count": 15,
   "id": "9eb7867d",
   "metadata": {},
   "outputs": [
    {
     "data": {
      "text/plain": [
       "(15292,)"
      ]
     },
     "execution_count": 15,
     "metadata": {},
     "output_type": "execute_result"
    }
   ],
   "source": [
    "X_train = X[:'2020'].values.reshape(-1, window_size, 1)\n",
    "y_train = y[:'2020']\n",
    "\n",
    "# keep the last year for testing\n",
    "X_test = X['2021'].values.reshape(-1, window_size, 1)\n",
    "y_test = y['2021']\n",
    "\n",
    "n_obs, window_size, n_features = X_train.shape\n",
    "\n",
    "y_train.shape"
   ]
  },
  {
   "cell_type": "code",
   "execution_count": 16,
   "id": "ec345118",
   "metadata": {},
   "outputs": [
    {
     "data": {
      "text/html": [
       "<pre style=\"white-space:pre;overflow-x:auto;line-height:normal;font-family:Menlo,'DejaVu Sans Mono',consolas,'Courier New',monospace\"><span style=\"font-weight: bold\">Model: \"sequential\"</span>\n",
       "</pre>\n"
      ],
      "text/plain": [
       "\u001b[1mModel: \"sequential\"\u001b[0m\n"
      ]
     },
     "metadata": {},
     "output_type": "display_data"
    },
    {
     "data": {
      "text/html": [
       "<pre style=\"white-space:pre;overflow-x:auto;line-height:normal;font-family:Menlo,'DejaVu Sans Mono',consolas,'Courier New',monospace\">┏━━━━━━━━━━━━━━━━━━━━━━━━━━━━━━━━━┳━━━━━━━━━━━━━━━━━━━━━━━━┳━━━━━━━━━━━━━━━┓\n",
       "┃<span style=\"font-weight: bold\"> Layer (type)                    </span>┃<span style=\"font-weight: bold\"> Output Shape           </span>┃<span style=\"font-weight: bold\">       Param # </span>┃\n",
       "┡━━━━━━━━━━━━━━━━━━━━━━━━━━━━━━━━━╇━━━━━━━━━━━━━━━━━━━━━━━━╇━━━━━━━━━━━━━━━┩\n",
       "│ LSTM (<span style=\"color: #0087ff; text-decoration-color: #0087ff\">LSTM</span>)                     │ (<span style=\"color: #00d7ff; text-decoration-color: #00d7ff\">None</span>, <span style=\"color: #00af00; text-decoration-color: #00af00\">10</span>)             │           <span style=\"color: #00af00; text-decoration-color: #00af00\">480</span> │\n",
       "├─────────────────────────────────┼────────────────────────┼───────────────┤\n",
       "│ Output (<span style=\"color: #0087ff; text-decoration-color: #0087ff\">Dense</span>)                  │ (<span style=\"color: #00d7ff; text-decoration-color: #00d7ff\">None</span>, <span style=\"color: #00af00; text-decoration-color: #00af00\">1</span>)              │            <span style=\"color: #00af00; text-decoration-color: #00af00\">11</span> │\n",
       "└─────────────────────────────────┴────────────────────────┴───────────────┘\n",
       "</pre>\n"
      ],
      "text/plain": [
       "┏━━━━━━━━━━━━━━━━━━━━━━━━━━━━━━━━━┳━━━━━━━━━━━━━━━━━━━━━━━━┳━━━━━━━━━━━━━━━┓\n",
       "┃\u001b[1m \u001b[0m\u001b[1mLayer (type)                   \u001b[0m\u001b[1m \u001b[0m┃\u001b[1m \u001b[0m\u001b[1mOutput Shape          \u001b[0m\u001b[1m \u001b[0m┃\u001b[1m \u001b[0m\u001b[1m      Param #\u001b[0m\u001b[1m \u001b[0m┃\n",
       "┡━━━━━━━━━━━━━━━━━━━━━━━━━━━━━━━━━╇━━━━━━━━━━━━━━━━━━━━━━━━╇━━━━━━━━━━━━━━━┩\n",
       "│ LSTM (\u001b[38;5;33mLSTM\u001b[0m)                     │ (\u001b[38;5;45mNone\u001b[0m, \u001b[38;5;34m10\u001b[0m)             │           \u001b[38;5;34m480\u001b[0m │\n",
       "├─────────────────────────────────┼────────────────────────┼───────────────┤\n",
       "│ Output (\u001b[38;5;33mDense\u001b[0m)                  │ (\u001b[38;5;45mNone\u001b[0m, \u001b[38;5;34m1\u001b[0m)              │            \u001b[38;5;34m11\u001b[0m │\n",
       "└─────────────────────────────────┴────────────────────────┴───────────────┘\n"
      ]
     },
     "metadata": {},
     "output_type": "display_data"
    },
    {
     "data": {
      "text/html": [
       "<pre style=\"white-space:pre;overflow-x:auto;line-height:normal;font-family:Menlo,'DejaVu Sans Mono',consolas,'Courier New',monospace\"><span style=\"font-weight: bold\"> Total params: </span><span style=\"color: #00af00; text-decoration-color: #00af00\">491</span> (1.92 KB)\n",
       "</pre>\n"
      ],
      "text/plain": [
       "\u001b[1m Total params: \u001b[0m\u001b[38;5;34m491\u001b[0m (1.92 KB)\n"
      ]
     },
     "metadata": {},
     "output_type": "display_data"
    },
    {
     "data": {
      "text/html": [
       "<pre style=\"white-space:pre;overflow-x:auto;line-height:normal;font-family:Menlo,'DejaVu Sans Mono',consolas,'Courier New',monospace\"><span style=\"font-weight: bold\"> Trainable params: </span><span style=\"color: #00af00; text-decoration-color: #00af00\">491</span> (1.92 KB)\n",
       "</pre>\n"
      ],
      "text/plain": [
       "\u001b[1m Trainable params: \u001b[0m\u001b[38;5;34m491\u001b[0m (1.92 KB)\n"
      ]
     },
     "metadata": {},
     "output_type": "display_data"
    },
    {
     "data": {
      "text/html": [
       "<pre style=\"white-space:pre;overflow-x:auto;line-height:normal;font-family:Menlo,'DejaVu Sans Mono',consolas,'Courier New',monospace\"><span style=\"font-weight: bold\"> Non-trainable params: </span><span style=\"color: #00af00; text-decoration-color: #00af00\">0</span> (0.00 B)\n",
       "</pre>\n"
      ],
      "text/plain": [
       "\u001b[1m Non-trainable params: \u001b[0m\u001b[38;5;34m0\u001b[0m (0.00 B)\n"
      ]
     },
     "metadata": {},
     "output_type": "display_data"
    }
   ],
   "source": [
    "rnn = Sequential([\n",
    "    LSTM(units=10, \n",
    "         input_shape=(window_size, n_features), name='LSTM'),\n",
    "    Dense(1, name='Output')\n",
    "])\n",
    "\n",
    "\n",
    "rnn.summary()"
   ]
  },
  {
   "cell_type": "code",
   "execution_count": 19,
   "id": "2282c34f",
   "metadata": {},
   "outputs": [],
   "source": [
    "optimizer = keras.optimizers.RMSprop(learning_rate=0.001,\n",
    "                                     rho=0.9,\n",
    "                                     epsilon=1e-08)\n",
    "rnn.compile(loss='mean_squared_error', \n",
    "            optimizer=optimizer)"
   ]
  },
  {
   "cell_type": "code",
   "execution_count": 21,
   "metadata": {},
   "outputs": [],
   "source": [
    "from pathlib import Path\n",
    "\n",
    "results_path = Path('results', 'univariate_time_series')\n",
    "if not results_path.exists():\n",
    "    results_path.mkdir(parents=True)\n",
    "\n",
    "rnn_path = (results_path / 'rnn.h5').as_posix()\n",
    "checkpointer = ModelCheckpoint(filepath=rnn_path,\n",
    "                               verbose=1,\n",
    "                               monitor='val_loss',\n",
    "                               save_best_only=True)"
   ]
  },
  {
   "cell_type": "code",
   "execution_count": 22,
   "id": "91ef1527",
   "metadata": {},
   "outputs": [],
   "source": [
    "early_stopping = EarlyStopping(monitor='val_loss', \n",
    "                              patience=20,\n",
    "                              restore_best_weights=True)"
   ]
  },
  {
   "cell_type": "code",
   "execution_count": 23,
   "id": "129c8f66",
   "metadata": {},
   "outputs": [
    {
     "name": "stdout",
     "output_type": "stream",
     "text": [
      "Epoch 1/150\n",
      "\u001b[1m765/765\u001b[0m \u001b[32m━━━━━━━━━━━━━━━━━━━━\u001b[0m\u001b[37m\u001b[0m \u001b[1m0s\u001b[0m 7ms/step - loss: 0.0041\n",
      "Epoch 1: val_loss improved from None to 0.00042, saving model to results/univariate_time_series/rnn.h5\n"
     ]
    },
    {
     "name": "stderr",
     "output_type": "stream",
     "text": [
      "WARNING:absl:You are saving your model as an HDF5 file via `model.save()` or `keras.saving.save_model(model)`. This file format is considered legacy. We recommend using instead the native Keras format, e.g. `model.save('my_model.keras')` or `keras.saving.save_model(model, 'my_model.keras')`. \n"
     ]
    },
    {
     "name": "stdout",
     "output_type": "stream",
     "text": [
      "\u001b[1m765/765\u001b[0m \u001b[32m━━━━━━━━━━━━━━━━━━━━\u001b[0m\u001b[37m\u001b[0m \u001b[1m7s\u001b[0m 8ms/step - loss: 9.6977e-04 - val_loss: 4.1758e-04\n",
      "Epoch 2/150\n",
      "\u001b[1m764/765\u001b[0m \u001b[32m━━━━━━━━━━━━━━━━━━━\u001b[0m\u001b[37m━\u001b[0m \u001b[1m0s\u001b[0m 7ms/step - loss: 2.9204e-05\n",
      "Epoch 2: val_loss improved from 0.00042 to 0.00030, saving model to results/univariate_time_series/rnn.h5\n"
     ]
    },
    {
     "name": "stderr",
     "output_type": "stream",
     "text": [
      "WARNING:absl:You are saving your model as an HDF5 file via `model.save()` or `keras.saving.save_model(model)`. This file format is considered legacy. We recommend using instead the native Keras format, e.g. `model.save('my_model.keras')` or `keras.saving.save_model(model, 'my_model.keras')`. \n"
     ]
    },
    {
     "name": "stdout",
     "output_type": "stream",
     "text": [
      "\u001b[1m765/765\u001b[0m \u001b[32m━━━━━━━━━━━━━━━━━━━━\u001b[0m\u001b[37m\u001b[0m \u001b[1m5s\u001b[0m 7ms/step - loss: 2.7341e-05 - val_loss: 2.9689e-04\n",
      "Epoch 3/150\n",
      "\u001b[1m758/765\u001b[0m \u001b[32m━━━━━━━━━━━━━━━━━━━\u001b[0m\u001b[37m━\u001b[0m \u001b[1m0s\u001b[0m 7ms/step - loss: 2.5590e-05\n",
      "Epoch 3: val_loss improved from 0.00030 to 0.00013, saving model to results/univariate_time_series/rnn.h5\n"
     ]
    },
    {
     "name": "stderr",
     "output_type": "stream",
     "text": [
      "WARNING:absl:You are saving your model as an HDF5 file via `model.save()` or `keras.saving.save_model(model)`. This file format is considered legacy. We recommend using instead the native Keras format, e.g. `model.save('my_model.keras')` or `keras.saving.save_model(model, 'my_model.keras')`. \n"
     ]
    },
    {
     "name": "stdout",
     "output_type": "stream",
     "text": [
      "\u001b[1m765/765\u001b[0m \u001b[32m━━━━━━━━━━━━━━━━━━━━\u001b[0m\u001b[37m\u001b[0m \u001b[1m6s\u001b[0m 7ms/step - loss: 2.2222e-05 - val_loss: 1.2999e-04\n",
      "Epoch 4/150\n",
      "\u001b[1m762/765\u001b[0m \u001b[32m━━━━━━━━━━━━━━━━━━━\u001b[0m\u001b[37m━\u001b[0m \u001b[1m0s\u001b[0m 8ms/step - loss: 1.9105e-05\n",
      "Epoch 4: val_loss improved from 0.00013 to 0.00012, saving model to results/univariate_time_series/rnn.h5\n"
     ]
    },
    {
     "name": "stderr",
     "output_type": "stream",
     "text": [
      "WARNING:absl:You are saving your model as an HDF5 file via `model.save()` or `keras.saving.save_model(model)`. This file format is considered legacy. We recommend using instead the native Keras format, e.g. `model.save('my_model.keras')` or `keras.saving.save_model(model, 'my_model.keras')`. \n"
     ]
    },
    {
     "name": "stdout",
     "output_type": "stream",
     "text": [
      "\u001b[1m765/765\u001b[0m \u001b[32m━━━━━━━━━━━━━━━━━━━━\u001b[0m\u001b[37m\u001b[0m \u001b[1m7s\u001b[0m 8ms/step - loss: 1.8974e-05 - val_loss: 1.1645e-04\n",
      "Epoch 5/150\n",
      "\u001b[1m762/765\u001b[0m \u001b[32m━━━━━━━━━━━━━━━━━━━\u001b[0m\u001b[37m━\u001b[0m \u001b[1m0s\u001b[0m 7ms/step - loss: 1.6932e-05\n",
      "Epoch 5: val_loss did not improve from 0.00012\n",
      "\u001b[1m765/765\u001b[0m \u001b[32m━━━━━━━━━━━━━━━━━━━━\u001b[0m\u001b[37m\u001b[0m \u001b[1m6s\u001b[0m 7ms/step - loss: 1.7036e-05 - val_loss: 0.0011\n",
      "Epoch 6/150\n",
      "\u001b[1m765/765\u001b[0m \u001b[32m━━━━━━━━━━━━━━━━━━━━\u001b[0m\u001b[37m\u001b[0m \u001b[1m0s\u001b[0m 7ms/step - loss: 1.6346e-05\n",
      "Epoch 6: val_loss did not improve from 0.00012\n",
      "\u001b[1m765/765\u001b[0m \u001b[32m━━━━━━━━━━━━━━━━━━━━\u001b[0m\u001b[37m\u001b[0m \u001b[1m6s\u001b[0m 7ms/step - loss: 1.5841e-05 - val_loss: 1.3100e-04\n",
      "Epoch 7/150\n",
      "\u001b[1m758/765\u001b[0m \u001b[32m━━━━━━━━━━━━━━━━━━━\u001b[0m\u001b[37m━\u001b[0m \u001b[1m0s\u001b[0m 7ms/step - loss: 1.5234e-05\n",
      "Epoch 7: val_loss improved from 0.00012 to 0.00008, saving model to results/univariate_time_series/rnn.h5\n"
     ]
    },
    {
     "name": "stderr",
     "output_type": "stream",
     "text": [
      "WARNING:absl:You are saving your model as an HDF5 file via `model.save()` or `keras.saving.save_model(model)`. This file format is considered legacy. We recommend using instead the native Keras format, e.g. `model.save('my_model.keras')` or `keras.saving.save_model(model, 'my_model.keras')`. \n"
     ]
    },
    {
     "name": "stdout",
     "output_type": "stream",
     "text": [
      "\u001b[1m765/765\u001b[0m \u001b[32m━━━━━━━━━━━━━━━━━━━━\u001b[0m\u001b[37m\u001b[0m \u001b[1m10s\u001b[0m 7ms/step - loss: 1.3931e-05 - val_loss: 7.7640e-05\n",
      "Epoch 8/150\n",
      "\u001b[1m759/765\u001b[0m \u001b[32m━━━━━━━━━━━━━━━━━━━\u001b[0m\u001b[37m━\u001b[0m \u001b[1m0s\u001b[0m 8ms/step - loss: 1.4205e-05\n",
      "Epoch 8: val_loss did not improve from 0.00008\n",
      "\u001b[1m765/765\u001b[0m \u001b[32m━━━━━━━━━━━━━━━━━━━━\u001b[0m\u001b[37m\u001b[0m \u001b[1m6s\u001b[0m 8ms/step - loss: 1.3797e-05 - val_loss: 1.0478e-04\n",
      "Epoch 9/150\n",
      "\u001b[1m765/765\u001b[0m \u001b[32m━━━━━━━━━━━━━━━━━━━━\u001b[0m\u001b[37m\u001b[0m \u001b[1m0s\u001b[0m 7ms/step - loss: 1.3099e-05\n",
      "Epoch 9: val_loss did not improve from 0.00008\n",
      "\u001b[1m765/765\u001b[0m \u001b[32m━━━━━━━━━━━━━━━━━━━━\u001b[0m\u001b[37m\u001b[0m \u001b[1m6s\u001b[0m 7ms/step - loss: 1.2965e-05 - val_loss: 1.6181e-04\n",
      "Epoch 10/150\n",
      "\u001b[1m759/765\u001b[0m \u001b[32m━━━━━━━━━━━━━━━━━━━\u001b[0m\u001b[37m━\u001b[0m \u001b[1m0s\u001b[0m 7ms/step - loss: 1.2150e-05\n",
      "Epoch 10: val_loss improved from 0.00008 to 0.00006, saving model to results/univariate_time_series/rnn.h5\n"
     ]
    },
    {
     "name": "stderr",
     "output_type": "stream",
     "text": [
      "WARNING:absl:You are saving your model as an HDF5 file via `model.save()` or `keras.saving.save_model(model)`. This file format is considered legacy. We recommend using instead the native Keras format, e.g. `model.save('my_model.keras')` or `keras.saving.save_model(model, 'my_model.keras')`. \n"
     ]
    },
    {
     "name": "stdout",
     "output_type": "stream",
     "text": [
      "\u001b[1m765/765\u001b[0m \u001b[32m━━━━━━━━━━━━━━━━━━━━\u001b[0m\u001b[37m\u001b[0m \u001b[1m6s\u001b[0m 7ms/step - loss: 1.2215e-05 - val_loss: 6.1526e-05\n",
      "Epoch 11/150\n",
      "\u001b[1m765/765\u001b[0m \u001b[32m━━━━━━━━━━━━━━━━━━━━\u001b[0m\u001b[37m\u001b[0m \u001b[1m0s\u001b[0m 7ms/step - loss: 1.2561e-05\n",
      "Epoch 11: val_loss improved from 0.00006 to 0.00005, saving model to results/univariate_time_series/rnn.h5\n"
     ]
    },
    {
     "name": "stderr",
     "output_type": "stream",
     "text": [
      "WARNING:absl:You are saving your model as an HDF5 file via `model.save()` or `keras.saving.save_model(model)`. This file format is considered legacy. We recommend using instead the native Keras format, e.g. `model.save('my_model.keras')` or `keras.saving.save_model(model, 'my_model.keras')`. \n"
     ]
    },
    {
     "name": "stdout",
     "output_type": "stream",
     "text": [
      "\u001b[1m765/765\u001b[0m \u001b[32m━━━━━━━━━━━━━━━━━━━━\u001b[0m\u001b[37m\u001b[0m \u001b[1m6s\u001b[0m 8ms/step - loss: 1.1897e-05 - val_loss: 4.5232e-05\n",
      "Epoch 12/150\n",
      "\u001b[1m760/765\u001b[0m \u001b[32m━━━━━━━━━━━━━━━━━━━\u001b[0m\u001b[37m━\u001b[0m \u001b[1m0s\u001b[0m 8ms/step - loss: 1.0989e-05\n",
      "Epoch 12: val_loss did not improve from 0.00005\n",
      "\u001b[1m765/765\u001b[0m \u001b[32m━━━━━━━━━━━━━━━━━━━━\u001b[0m\u001b[37m\u001b[0m \u001b[1m6s\u001b[0m 8ms/step - loss: 1.1452e-05 - val_loss: 8.4174e-05\n",
      "Epoch 13/150\n",
      "\u001b[1m758/765\u001b[0m \u001b[32m━━━━━━━━━━━━━━━━━━━\u001b[0m\u001b[37m━\u001b[0m \u001b[1m0s\u001b[0m 7ms/step - loss: 1.1170e-05\n",
      "Epoch 13: val_loss did not improve from 0.00005\n",
      "\u001b[1m765/765\u001b[0m \u001b[32m━━━━━━━━━━━━━━━━━━━━\u001b[0m\u001b[37m\u001b[0m \u001b[1m6s\u001b[0m 7ms/step - loss: 1.1076e-05 - val_loss: 6.8223e-05\n",
      "Epoch 14/150\n",
      "\u001b[1m758/765\u001b[0m \u001b[32m━━━━━━━━━━━━━━━━━━━\u001b[0m\u001b[37m━\u001b[0m \u001b[1m0s\u001b[0m 9ms/step - loss: 1.1046e-05 \n",
      "Epoch 14: val_loss did not improve from 0.00005\n",
      "\u001b[1m765/765\u001b[0m \u001b[32m━━━━━━━━━━━━━━━━━━━━\u001b[0m\u001b[37m\u001b[0m \u001b[1m7s\u001b[0m 10ms/step - loss: 1.0930e-05 - val_loss: 5.7661e-05\n",
      "Epoch 15/150\n",
      "\u001b[1m765/765\u001b[0m \u001b[32m━━━━━━━━━━━━━━━━━━━━\u001b[0m\u001b[37m\u001b[0m \u001b[1m0s\u001b[0m 7ms/step - loss: 1.0615e-05\n",
      "Epoch 15: val_loss did not improve from 0.00005\n",
      "\u001b[1m765/765\u001b[0m \u001b[32m━━━━━━━━━━━━━━━━━━━━\u001b[0m\u001b[37m\u001b[0m \u001b[1m6s\u001b[0m 7ms/step - loss: 1.0320e-05 - val_loss: 5.1509e-05\n",
      "Epoch 16/150\n",
      "\u001b[1m761/765\u001b[0m \u001b[32m━━━━━━━━━━━━━━━━━━━\u001b[0m\u001b[37m━\u001b[0m \u001b[1m0s\u001b[0m 8ms/step - loss: 1.1106e-05\n",
      "Epoch 16: val_loss improved from 0.00005 to 0.00004, saving model to results/univariate_time_series/rnn.h5\n"
     ]
    },
    {
     "name": "stderr",
     "output_type": "stream",
     "text": [
      "WARNING:absl:You are saving your model as an HDF5 file via `model.save()` or `keras.saving.save_model(model)`. This file format is considered legacy. We recommend using instead the native Keras format, e.g. `model.save('my_model.keras')` or `keras.saving.save_model(model, 'my_model.keras')`. \n"
     ]
    },
    {
     "name": "stdout",
     "output_type": "stream",
     "text": [
      "\u001b[1m765/765\u001b[0m \u001b[32m━━━━━━━━━━━━━━━━━━━━\u001b[0m\u001b[37m\u001b[0m \u001b[1m6s\u001b[0m 8ms/step - loss: 1.0349e-05 - val_loss: 4.1386e-05\n",
      "Epoch 17/150\n",
      "\u001b[1m762/765\u001b[0m \u001b[32m━━━━━━━━━━━━━━━━━━━\u001b[0m\u001b[37m━\u001b[0m \u001b[1m0s\u001b[0m 8ms/step - loss: 9.2351e-06\n",
      "Epoch 17: val_loss did not improve from 0.00004\n",
      "\u001b[1m765/765\u001b[0m \u001b[32m━━━━━━━━━━━━━━━━━━━━\u001b[0m\u001b[37m\u001b[0m \u001b[1m6s\u001b[0m 8ms/step - loss: 9.9742e-06 - val_loss: 4.3646e-05\n",
      "Epoch 18/150\n",
      "\u001b[1m761/765\u001b[0m \u001b[32m━━━━━━━━━━━━━━━━━━━\u001b[0m\u001b[37m━\u001b[0m \u001b[1m0s\u001b[0m 8ms/step - loss: 9.7106e-06\n",
      "Epoch 18: val_loss did not improve from 0.00004\n",
      "\u001b[1m765/765\u001b[0m \u001b[32m━━━━━━━━━━━━━━━━━━━━\u001b[0m\u001b[37m\u001b[0m \u001b[1m6s\u001b[0m 8ms/step - loss: 9.6614e-06 - val_loss: 4.4637e-04\n",
      "Epoch 19/150\n",
      "\u001b[1m762/765\u001b[0m \u001b[32m━━━━━━━━━━━━━━━━━━━\u001b[0m\u001b[37m━\u001b[0m \u001b[1m0s\u001b[0m 8ms/step - loss: 9.9047e-06\n",
      "Epoch 19: val_loss improved from 0.00004 to 0.00004, saving model to results/univariate_time_series/rnn.h5\n"
     ]
    },
    {
     "name": "stderr",
     "output_type": "stream",
     "text": [
      "WARNING:absl:You are saving your model as an HDF5 file via `model.save()` or `keras.saving.save_model(model)`. This file format is considered legacy. We recommend using instead the native Keras format, e.g. `model.save('my_model.keras')` or `keras.saving.save_model(model, 'my_model.keras')`. \n"
     ]
    },
    {
     "name": "stdout",
     "output_type": "stream",
     "text": [
      "\u001b[1m765/765\u001b[0m \u001b[32m━━━━━━━━━━━━━━━━━━━━\u001b[0m\u001b[37m\u001b[0m \u001b[1m6s\u001b[0m 8ms/step - loss: 9.3822e-06 - val_loss: 4.0421e-05\n",
      "Epoch 20/150\n",
      "\u001b[1m760/765\u001b[0m \u001b[32m━━━━━━━━━━━━━━━━━━━\u001b[0m\u001b[37m━\u001b[0m \u001b[1m0s\u001b[0m 8ms/step - loss: 8.8270e-06\n",
      "Epoch 20: val_loss improved from 0.00004 to 0.00004, saving model to results/univariate_time_series/rnn.h5\n"
     ]
    },
    {
     "name": "stderr",
     "output_type": "stream",
     "text": [
      "WARNING:absl:You are saving your model as an HDF5 file via `model.save()` or `keras.saving.save_model(model)`. This file format is considered legacy. We recommend using instead the native Keras format, e.g. `model.save('my_model.keras')` or `keras.saving.save_model(model, 'my_model.keras')`. \n"
     ]
    },
    {
     "name": "stdout",
     "output_type": "stream",
     "text": [
      "\u001b[1m765/765\u001b[0m \u001b[32m━━━━━━━━━━━━━━━━━━━━\u001b[0m\u001b[37m\u001b[0m \u001b[1m6s\u001b[0m 8ms/step - loss: 9.3437e-06 - val_loss: 3.9682e-05\n",
      "Epoch 21/150\n",
      "\u001b[1m759/765\u001b[0m \u001b[32m━━━━━━━━━━━━━━━━━━━\u001b[0m\u001b[37m━\u001b[0m \u001b[1m0s\u001b[0m 8ms/step - loss: 9.6579e-06\n",
      "Epoch 21: val_loss did not improve from 0.00004\n",
      "\u001b[1m765/765\u001b[0m \u001b[32m━━━━━━━━━━━━━━━━━━━━\u001b[0m\u001b[37m\u001b[0m \u001b[1m6s\u001b[0m 8ms/step - loss: 9.1214e-06 - val_loss: 9.1566e-05\n",
      "Epoch 22/150\n",
      "\u001b[1m759/765\u001b[0m \u001b[32m━━━━━━━━━━━━━━━━━━━\u001b[0m\u001b[37m━\u001b[0m \u001b[1m0s\u001b[0m 8ms/step - loss: 8.8085e-06\n",
      "Epoch 22: val_loss did not improve from 0.00004\n",
      "\u001b[1m765/765\u001b[0m \u001b[32m━━━━━━━━━━━━━━━━━━━━\u001b[0m\u001b[37m\u001b[0m \u001b[1m6s\u001b[0m 8ms/step - loss: 9.1533e-06 - val_loss: 6.7899e-05\n",
      "Epoch 23/150\n",
      "\u001b[1m763/765\u001b[0m \u001b[32m━━━━━━━━━━━━━━━━━━━\u001b[0m\u001b[37m━\u001b[0m \u001b[1m0s\u001b[0m 8ms/step - loss: 9.3300e-06\n",
      "Epoch 23: val_loss did not improve from 0.00004\n",
      "\u001b[1m765/765\u001b[0m \u001b[32m━━━━━━━━━━━━━━━━━━━━\u001b[0m\u001b[37m\u001b[0m \u001b[1m6s\u001b[0m 8ms/step - loss: 9.0080e-06 - val_loss: 6.2911e-05\n",
      "Epoch 24/150\n",
      "\u001b[1m761/765\u001b[0m \u001b[32m━━━━━━━━━━━━━━━━━━━\u001b[0m\u001b[37m━\u001b[0m \u001b[1m0s\u001b[0m 10ms/step - loss: 9.0360e-06\n",
      "Epoch 24: val_loss did not improve from 0.00004\n",
      "\u001b[1m765/765\u001b[0m \u001b[32m━━━━━━━━━━━━━━━━━━━━\u001b[0m\u001b[37m\u001b[0m \u001b[1m7s\u001b[0m 10ms/step - loss: 8.7423e-06 - val_loss: 8.3420e-05\n",
      "Epoch 25/150\n",
      "\u001b[1m763/765\u001b[0m \u001b[32m━━━━━━━━━━━━━━━━━━━\u001b[0m\u001b[37m━\u001b[0m \u001b[1m0s\u001b[0m 8ms/step - loss: 8.4212e-06\n",
      "Epoch 25: val_loss did not improve from 0.00004\n",
      "\u001b[1m765/765\u001b[0m \u001b[32m━━━━━━━━━━━━━━━━━━━━\u001b[0m\u001b[37m\u001b[0m \u001b[1m6s\u001b[0m 8ms/step - loss: 8.6040e-06 - val_loss: 7.2454e-05\n",
      "Epoch 26/150\n",
      "\u001b[1m763/765\u001b[0m \u001b[32m━━━━━━━━━━━━━━━━━━━\u001b[0m\u001b[37m━\u001b[0m \u001b[1m0s\u001b[0m 7ms/step - loss: 8.8075e-06\n",
      "Epoch 26: val_loss did not improve from 0.00004\n",
      "\u001b[1m765/765\u001b[0m \u001b[32m━━━━━━━━━━━━━━━━━━━━\u001b[0m\u001b[37m\u001b[0m \u001b[1m6s\u001b[0m 8ms/step - loss: 8.5734e-06 - val_loss: 5.5217e-05\n",
      "Epoch 27/150\n",
      "\u001b[1m762/765\u001b[0m \u001b[32m━━━━━━━━━━━━━━━━━━━\u001b[0m\u001b[37m━\u001b[0m \u001b[1m0s\u001b[0m 8ms/step - loss: 8.4884e-06\n",
      "Epoch 27: val_loss improved from 0.00004 to 0.00004, saving model to results/univariate_time_series/rnn.h5\n"
     ]
    },
    {
     "name": "stderr",
     "output_type": "stream",
     "text": [
      "WARNING:absl:You are saving your model as an HDF5 file via `model.save()` or `keras.saving.save_model(model)`. This file format is considered legacy. We recommend using instead the native Keras format, e.g. `model.save('my_model.keras')` or `keras.saving.save_model(model, 'my_model.keras')`. \n"
     ]
    },
    {
     "name": "stdout",
     "output_type": "stream",
     "text": [
      "\u001b[1m765/765\u001b[0m \u001b[32m━━━━━━━━━━━━━━━━━━━━\u001b[0m\u001b[37m\u001b[0m \u001b[1m6s\u001b[0m 8ms/step - loss: 8.3191e-06 - val_loss: 3.6186e-05\n",
      "Epoch 28/150\n",
      "\u001b[1m763/765\u001b[0m \u001b[32m━━━━━━━━━━━━━━━━━━━\u001b[0m\u001b[37m━\u001b[0m \u001b[1m0s\u001b[0m 8ms/step - loss: 7.7495e-06\n",
      "Epoch 28: val_loss did not improve from 0.00004\n",
      "\u001b[1m765/765\u001b[0m \u001b[32m━━━━━━━━━━━━━━━━━━━━\u001b[0m\u001b[37m\u001b[0m \u001b[1m6s\u001b[0m 8ms/step - loss: 8.2870e-06 - val_loss: 4.0260e-05\n",
      "Epoch 29/150\n",
      "\u001b[1m760/765\u001b[0m \u001b[32m━━━━━━━━━━━━━━━━━━━\u001b[0m\u001b[37m━\u001b[0m \u001b[1m0s\u001b[0m 8ms/step - loss: 8.8807e-06\n",
      "Epoch 29: val_loss did not improve from 0.00004\n",
      "\u001b[1m765/765\u001b[0m \u001b[32m━━━━━━━━━━━━━━━━━━━━\u001b[0m\u001b[37m\u001b[0m \u001b[1m6s\u001b[0m 8ms/step - loss: 8.1265e-06 - val_loss: 5.5601e-05\n",
      "Epoch 30/150\n",
      "\u001b[1m763/765\u001b[0m \u001b[32m━━━━━━━━━━━━━━━━━━━\u001b[0m\u001b[37m━\u001b[0m \u001b[1m0s\u001b[0m 8ms/step - loss: 7.9707e-06\n",
      "Epoch 30: val_loss did not improve from 0.00004\n",
      "\u001b[1m765/765\u001b[0m \u001b[32m━━━━━━━━━━━━━━━━━━━━\u001b[0m\u001b[37m\u001b[0m \u001b[1m6s\u001b[0m 8ms/step - loss: 8.2098e-06 - val_loss: 3.6938e-05\n",
      "Epoch 31/150\n",
      "\u001b[1m761/765\u001b[0m \u001b[32m━━━━━━━━━━━━━━━━━━━\u001b[0m\u001b[37m━\u001b[0m \u001b[1m0s\u001b[0m 8ms/step - loss: 8.2742e-06\n",
      "Epoch 31: val_loss did not improve from 0.00004\n",
      "\u001b[1m765/765\u001b[0m \u001b[32m━━━━━━━━━━━━━━━━━━━━\u001b[0m\u001b[37m\u001b[0m \u001b[1m6s\u001b[0m 8ms/step - loss: 7.9872e-06 - val_loss: 4.0054e-05\n",
      "Epoch 32/150\n",
      "\u001b[1m762/765\u001b[0m \u001b[32m━━━━━━━━━━━━━━━━━━━\u001b[0m\u001b[37m━\u001b[0m \u001b[1m0s\u001b[0m 8ms/step - loss: 7.4456e-06\n",
      "Epoch 32: val_loss did not improve from 0.00004\n",
      "\u001b[1m765/765\u001b[0m \u001b[32m━━━━━━━━━━━━━━━━━━━━\u001b[0m\u001b[37m\u001b[0m \u001b[1m6s\u001b[0m 8ms/step - loss: 7.9275e-06 - val_loss: 5.5222e-05\n",
      "Epoch 33/150\n",
      "\u001b[1m765/765\u001b[0m \u001b[32m━━━━━━━━━━━━━━━━━━━━\u001b[0m\u001b[37m\u001b[0m \u001b[1m0s\u001b[0m 9ms/step - loss: 7.3778e-06\n",
      "Epoch 33: val_loss did not improve from 0.00004\n",
      "\u001b[1m765/765\u001b[0m \u001b[32m━━━━━━━━━━━━━━━━━━━━\u001b[0m\u001b[37m\u001b[0m \u001b[1m7s\u001b[0m 9ms/step - loss: 7.8748e-06 - val_loss: 5.2692e-05\n",
      "Epoch 34/150\n",
      "\u001b[1m759/765\u001b[0m \u001b[32m━━━━━━━━━━━━━━━━━━━\u001b[0m\u001b[37m━\u001b[0m \u001b[1m0s\u001b[0m 9ms/step - loss: 7.7055e-06\n",
      "Epoch 34: val_loss did not improve from 0.00004\n",
      "\u001b[1m765/765\u001b[0m \u001b[32m━━━━━━━━━━━━━━━━━━━━\u001b[0m\u001b[37m\u001b[0m \u001b[1m7s\u001b[0m 9ms/step - loss: 7.7723e-06 - val_loss: 6.3211e-05\n",
      "Epoch 35/150\n",
      "\u001b[1m763/765\u001b[0m \u001b[32m━━━━━━━━━━━━━━━━━━━\u001b[0m\u001b[37m━\u001b[0m \u001b[1m0s\u001b[0m 8ms/step - loss: 7.5508e-06\n",
      "Epoch 35: val_loss did not improve from 0.00004\n",
      "\u001b[1m765/765\u001b[0m \u001b[32m━━━━━━━━━━━━━━━━━━━━\u001b[0m\u001b[37m\u001b[0m \u001b[1m6s\u001b[0m 8ms/step - loss: 7.5906e-06 - val_loss: 4.4900e-05\n",
      "Epoch 36/150\n",
      "\u001b[1m765/765\u001b[0m \u001b[32m━━━━━━━━━━━━━━━━━━━━\u001b[0m\u001b[37m\u001b[0m \u001b[1m0s\u001b[0m 8ms/step - loss: 7.1589e-06\n",
      "Epoch 36: val_loss did not improve from 0.00004\n",
      "\u001b[1m765/765\u001b[0m \u001b[32m━━━━━━━━━━━━━━━━━━━━\u001b[0m\u001b[37m\u001b[0m \u001b[1m6s\u001b[0m 8ms/step - loss: 7.6217e-06 - val_loss: 6.8004e-05\n",
      "Epoch 37/150\n",
      "\u001b[1m759/765\u001b[0m \u001b[32m━━━━━━━━━━━━━━━━━━━\u001b[0m\u001b[37m━\u001b[0m \u001b[1m0s\u001b[0m 8ms/step - loss: 7.2134e-06\n",
      "Epoch 37: val_loss improved from 0.00004 to 0.00003, saving model to results/univariate_time_series/rnn.h5\n"
     ]
    },
    {
     "name": "stderr",
     "output_type": "stream",
     "text": [
      "WARNING:absl:You are saving your model as an HDF5 file via `model.save()` or `keras.saving.save_model(model)`. This file format is considered legacy. We recommend using instead the native Keras format, e.g. `model.save('my_model.keras')` or `keras.saving.save_model(model, 'my_model.keras')`. \n"
     ]
    },
    {
     "name": "stdout",
     "output_type": "stream",
     "text": [
      "\u001b[1m765/765\u001b[0m \u001b[32m━━━━━━━━━━━━━━━━━━━━\u001b[0m\u001b[37m\u001b[0m \u001b[1m6s\u001b[0m 8ms/step - loss: 7.6104e-06 - val_loss: 3.4352e-05\n",
      "Epoch 38/150\n",
      "\u001b[1m765/765\u001b[0m \u001b[32m━━━━━━━━━━━━━━━━━━━━\u001b[0m\u001b[37m\u001b[0m \u001b[1m0s\u001b[0m 8ms/step - loss: 7.6132e-06\n",
      "Epoch 38: val_loss did not improve from 0.00003\n",
      "\u001b[1m765/765\u001b[0m \u001b[32m━━━━━━━━━━━━━━━━━━━━\u001b[0m\u001b[37m\u001b[0m \u001b[1m6s\u001b[0m 8ms/step - loss: 7.5796e-06 - val_loss: 7.1681e-05\n",
      "Epoch 39/150\n",
      "\u001b[1m764/765\u001b[0m \u001b[32m━━━━━━━━━━━━━━━━━━━\u001b[0m\u001b[37m━\u001b[0m \u001b[1m0s\u001b[0m 8ms/step - loss: 7.1610e-06\n",
      "Epoch 39: val_loss did not improve from 0.00003\n",
      "\u001b[1m765/765\u001b[0m \u001b[32m━━━━━━━━━━━━━━━━━━━━\u001b[0m\u001b[37m\u001b[0m \u001b[1m6s\u001b[0m 8ms/step - loss: 7.3764e-06 - val_loss: 1.4184e-04\n",
      "Epoch 40/150\n",
      "\u001b[1m760/765\u001b[0m \u001b[32m━━━━━━━━━━━━━━━━━━━\u001b[0m\u001b[37m━\u001b[0m \u001b[1m0s\u001b[0m 8ms/step - loss: 7.4045e-06\n",
      "Epoch 40: val_loss did not improve from 0.00003\n",
      "\u001b[1m765/765\u001b[0m \u001b[32m━━━━━━━━━━━━━━━━━━━━\u001b[0m\u001b[37m\u001b[0m \u001b[1m6s\u001b[0m 8ms/step - loss: 7.4301e-06 - val_loss: 5.9251e-05\n",
      "Epoch 41/150\n",
      "\u001b[1m761/765\u001b[0m \u001b[32m━━━━━━━━━━━━━━━━━━━\u001b[0m\u001b[37m━\u001b[0m \u001b[1m0s\u001b[0m 8ms/step - loss: 7.3103e-06\n",
      "Epoch 41: val_loss did not improve from 0.00003\n",
      "\u001b[1m765/765\u001b[0m \u001b[32m━━━━━━━━━━━━━━━━━━━━\u001b[0m\u001b[37m\u001b[0m \u001b[1m6s\u001b[0m 8ms/step - loss: 7.3388e-06 - val_loss: 4.6465e-05\n",
      "Epoch 42/150\n",
      "\u001b[1m762/765\u001b[0m \u001b[32m━━━━━━━━━━━━━━━━━━━\u001b[0m\u001b[37m━\u001b[0m \u001b[1m0s\u001b[0m 8ms/step - loss: 7.1257e-06\n",
      "Epoch 42: val_loss did not improve from 0.00003\n",
      "\u001b[1m765/765\u001b[0m \u001b[32m━━━━━━━━━━━━━━━━━━━━\u001b[0m\u001b[37m\u001b[0m \u001b[1m6s\u001b[0m 8ms/step - loss: 7.3658e-06 - val_loss: 6.9984e-05\n",
      "Epoch 43/150\n",
      "\u001b[1m763/765\u001b[0m \u001b[32m━━━━━━━━━━━━━━━━━━━\u001b[0m\u001b[37m━\u001b[0m \u001b[1m0s\u001b[0m 9ms/step - loss: 7.6607e-06\n",
      "Epoch 43: val_loss did not improve from 0.00003\n",
      "\u001b[1m765/765\u001b[0m \u001b[32m━━━━━━━━━━━━━━━━━━━━\u001b[0m\u001b[37m\u001b[0m \u001b[1m7s\u001b[0m 9ms/step - loss: 7.2885e-06 - val_loss: 3.4614e-05\n",
      "Epoch 44/150\n",
      "\u001b[1m761/765\u001b[0m \u001b[32m━━━━━━━━━━━━━━━━━━━\u001b[0m\u001b[37m━\u001b[0m \u001b[1m0s\u001b[0m 8ms/step - loss: 7.3212e-06\n",
      "Epoch 44: val_loss did not improve from 0.00003\n",
      "\u001b[1m765/765\u001b[0m \u001b[32m━━━━━━━━━━━━━━━━━━━━\u001b[0m\u001b[37m\u001b[0m \u001b[1m6s\u001b[0m 8ms/step - loss: 7.2689e-06 - val_loss: 6.4218e-05\n",
      "Epoch 45/150\n",
      "\u001b[1m760/765\u001b[0m \u001b[32m━━━━━━━━━━━━━━━━━━━\u001b[0m\u001b[37m━\u001b[0m \u001b[1m0s\u001b[0m 8ms/step - loss: 6.5660e-06\n",
      "Epoch 45: val_loss did not improve from 0.00003\n",
      "\u001b[1m765/765\u001b[0m \u001b[32m━━━━━━━━━━━━━━━━━━━━\u001b[0m\u001b[37m\u001b[0m \u001b[1m6s\u001b[0m 8ms/step - loss: 7.2475e-06 - val_loss: 1.0145e-04\n",
      "Epoch 46/150\n",
      "\u001b[1m762/765\u001b[0m \u001b[32m━━━━━━━━━━━━━━━━━━━\u001b[0m\u001b[37m━\u001b[0m \u001b[1m0s\u001b[0m 8ms/step - loss: 6.9865e-06\n",
      "Epoch 46: val_loss did not improve from 0.00003\n",
      "\u001b[1m765/765\u001b[0m \u001b[32m━━━━━━━━━━━━━━━━━━━━\u001b[0m\u001b[37m\u001b[0m \u001b[1m6s\u001b[0m 8ms/step - loss: 6.9767e-06 - val_loss: 4.5896e-05\n",
      "Epoch 47/150\n",
      "\u001b[1m760/765\u001b[0m \u001b[32m━━━━━━━━━━━━━━━━━━━\u001b[0m\u001b[37m━\u001b[0m \u001b[1m0s\u001b[0m 8ms/step - loss: 6.6858e-06\n",
      "Epoch 47: val_loss did not improve from 0.00003\n",
      "\u001b[1m765/765\u001b[0m \u001b[32m━━━━━━━━━━━━━━━━━━━━\u001b[0m\u001b[37m\u001b[0m \u001b[1m6s\u001b[0m 8ms/step - loss: 7.0316e-06 - val_loss: 3.8117e-05\n",
      "Epoch 48/150\n",
      "\u001b[1m763/765\u001b[0m \u001b[32m━━━━━━━━━━━━━━━━━━━\u001b[0m\u001b[37m━\u001b[0m \u001b[1m0s\u001b[0m 8ms/step - loss: 7.0945e-06\n",
      "Epoch 48: val_loss did not improve from 0.00003\n",
      "\u001b[1m765/765\u001b[0m \u001b[32m━━━━━━━━━━━━━━━━━━━━\u001b[0m\u001b[37m\u001b[0m \u001b[1m6s\u001b[0m 8ms/step - loss: 6.9481e-06 - val_loss: 5.9916e-05\n",
      "Epoch 49/150\n",
      "\u001b[1m758/765\u001b[0m \u001b[32m━━━━━━━━━━━━━━━━━━━\u001b[0m\u001b[37m━\u001b[0m \u001b[1m0s\u001b[0m 8ms/step - loss: 7.1776e-06\n",
      "Epoch 49: val_loss did not improve from 0.00003\n",
      "\u001b[1m765/765\u001b[0m \u001b[32m━━━━━━━━━━━━━━━━━━━━\u001b[0m\u001b[37m\u001b[0m \u001b[1m6s\u001b[0m 8ms/step - loss: 7.0352e-06 - val_loss: 4.0342e-05\n",
      "Epoch 50/150\n",
      "\u001b[1m765/765\u001b[0m \u001b[32m━━━━━━━━━━━━━━━━━━━━\u001b[0m\u001b[37m\u001b[0m \u001b[1m0s\u001b[0m 8ms/step - loss: 6.6558e-06\n",
      "Epoch 50: val_loss did not improve from 0.00003\n",
      "\u001b[1m765/765\u001b[0m \u001b[32m━━━━━━━━━━━━━━━━━━━━\u001b[0m\u001b[37m\u001b[0m \u001b[1m6s\u001b[0m 8ms/step - loss: 6.8717e-06 - val_loss: 6.3460e-05\n",
      "Epoch 51/150\n",
      "\u001b[1m760/765\u001b[0m \u001b[32m━━━━━━━━━━━━━━━━━━━\u001b[0m\u001b[37m━\u001b[0m \u001b[1m0s\u001b[0m 8ms/step - loss: 7.0251e-06\n",
      "Epoch 51: val_loss did not improve from 0.00003\n",
      "\u001b[1m765/765\u001b[0m \u001b[32m━━━━━━━━━━━━━━━━━━━━\u001b[0m\u001b[37m\u001b[0m \u001b[1m6s\u001b[0m 8ms/step - loss: 6.8749e-06 - val_loss: 8.4086e-05\n",
      "Epoch 52/150\n",
      "\u001b[1m764/765\u001b[0m \u001b[32m━━━━━━━━━━━━━━━━━━━\u001b[0m\u001b[37m━\u001b[0m \u001b[1m0s\u001b[0m 7ms/step - loss: 7.0856e-06\n",
      "Epoch 52: val_loss did not improve from 0.00003\n",
      "\u001b[1m765/765\u001b[0m \u001b[32m━━━━━━━━━━━━━━━━━━━━\u001b[0m\u001b[37m\u001b[0m \u001b[1m6s\u001b[0m 8ms/step - loss: 6.7908e-06 - val_loss: 7.8512e-05\n",
      "Epoch 53/150\n",
      "\u001b[1m762/765\u001b[0m \u001b[32m━━━━━━━━━━━━━━━━━━━\u001b[0m\u001b[37m━\u001b[0m \u001b[1m0s\u001b[0m 10ms/step - loss: 6.8378e-06\n",
      "Epoch 53: val_loss did not improve from 0.00003\n",
      "\u001b[1m765/765\u001b[0m \u001b[32m━━━━━━━━━━━━━━━━━━━━\u001b[0m\u001b[37m\u001b[0m \u001b[1m7s\u001b[0m 10ms/step - loss: 6.7411e-06 - val_loss: 3.5778e-05\n",
      "Epoch 54/150\n",
      "\u001b[1m762/765\u001b[0m \u001b[32m━━━━━━━━━━━━━━━━━━━\u001b[0m\u001b[37m━\u001b[0m \u001b[1m0s\u001b[0m 8ms/step - loss: 6.5976e-06\n",
      "Epoch 54: val_loss improved from 0.00003 to 0.00003, saving model to results/univariate_time_series/rnn.h5\n"
     ]
    },
    {
     "name": "stderr",
     "output_type": "stream",
     "text": [
      "WARNING:absl:You are saving your model as an HDF5 file via `model.save()` or `keras.saving.save_model(model)`. This file format is considered legacy. We recommend using instead the native Keras format, e.g. `model.save('my_model.keras')` or `keras.saving.save_model(model, 'my_model.keras')`. \n"
     ]
    },
    {
     "name": "stdout",
     "output_type": "stream",
     "text": [
      "\u001b[1m765/765\u001b[0m \u001b[32m━━━━━━━━━━━━━━━━━━━━\u001b[0m\u001b[37m\u001b[0m \u001b[1m7s\u001b[0m 9ms/step - loss: 6.7685e-06 - val_loss: 3.4219e-05\n",
      "Epoch 55/150\n",
      "\u001b[1m763/765\u001b[0m \u001b[32m━━━━━━━━━━━━━━━━━━━\u001b[0m\u001b[37m━\u001b[0m \u001b[1m0s\u001b[0m 8ms/step - loss: 6.6120e-06\n",
      "Epoch 55: val_loss improved from 0.00003 to 0.00003, saving model to results/univariate_time_series/rnn.h5\n"
     ]
    },
    {
     "name": "stderr",
     "output_type": "stream",
     "text": [
      "WARNING:absl:You are saving your model as an HDF5 file via `model.save()` or `keras.saving.save_model(model)`. This file format is considered legacy. We recommend using instead the native Keras format, e.g. `model.save('my_model.keras')` or `keras.saving.save_model(model, 'my_model.keras')`. \n"
     ]
    },
    {
     "name": "stdout",
     "output_type": "stream",
     "text": [
      "\u001b[1m765/765\u001b[0m \u001b[32m━━━━━━━━━━━━━━━━━━━━\u001b[0m\u001b[37m\u001b[0m \u001b[1m6s\u001b[0m 8ms/step - loss: 6.7006e-06 - val_loss: 3.3654e-05\n",
      "Epoch 56/150\n",
      "\u001b[1m764/765\u001b[0m \u001b[32m━━━━━━━━━━━━━━━━━━━\u001b[0m\u001b[37m━\u001b[0m \u001b[1m0s\u001b[0m 8ms/step - loss: 6.3292e-06\n",
      "Epoch 56: val_loss did not improve from 0.00003\n",
      "\u001b[1m765/765\u001b[0m \u001b[32m━━━━━━━━━━━━━━━━━━━━\u001b[0m\u001b[37m\u001b[0m \u001b[1m6s\u001b[0m 8ms/step - loss: 6.6639e-06 - val_loss: 6.5727e-05\n",
      "Epoch 57/150\n",
      "\u001b[1m765/765\u001b[0m \u001b[32m━━━━━━━━━━━━━━━━━━━━\u001b[0m\u001b[37m\u001b[0m \u001b[1m0s\u001b[0m 8ms/step - loss: 6.0119e-06\n",
      "Epoch 57: val_loss did not improve from 0.00003\n",
      "\u001b[1m765/765\u001b[0m \u001b[32m━━━━━━━━━━━━━━━━━━━━\u001b[0m\u001b[37m\u001b[0m \u001b[1m6s\u001b[0m 8ms/step - loss: 6.6791e-06 - val_loss: 5.5298e-05\n",
      "Epoch 58/150\n",
      "\u001b[1m761/765\u001b[0m \u001b[32m━━━━━━━━━━━━━━━━━━━\u001b[0m\u001b[37m━\u001b[0m \u001b[1m0s\u001b[0m 8ms/step - loss: 6.4116e-06\n",
      "Epoch 58: val_loss improved from 0.00003 to 0.00003, saving model to results/univariate_time_series/rnn.h5\n"
     ]
    },
    {
     "name": "stderr",
     "output_type": "stream",
     "text": [
      "WARNING:absl:You are saving your model as an HDF5 file via `model.save()` or `keras.saving.save_model(model)`. This file format is considered legacy. We recommend using instead the native Keras format, e.g. `model.save('my_model.keras')` or `keras.saving.save_model(model, 'my_model.keras')`. \n"
     ]
    },
    {
     "name": "stdout",
     "output_type": "stream",
     "text": [
      "\u001b[1m765/765\u001b[0m \u001b[32m━━━━━━━━━━━━━━━━━━━━\u001b[0m\u001b[37m\u001b[0m \u001b[1m6s\u001b[0m 8ms/step - loss: 6.6020e-06 - val_loss: 3.2603e-05\n",
      "Epoch 59/150\n",
      "\u001b[1m761/765\u001b[0m \u001b[32m━━━━━━━━━━━━━━━━━━━\u001b[0m\u001b[37m━\u001b[0m \u001b[1m0s\u001b[0m 9ms/step - loss: 6.4337e-06\n",
      "Epoch 59: val_loss did not improve from 0.00003\n",
      "\u001b[1m765/765\u001b[0m \u001b[32m━━━━━━━━━━━━━━━━━━━━\u001b[0m\u001b[37m\u001b[0m \u001b[1m7s\u001b[0m 9ms/step - loss: 6.6576e-06 - val_loss: 8.9656e-05\n",
      "Epoch 60/150\n",
      "\u001b[1m764/765\u001b[0m \u001b[32m━━━━━━━━━━━━━━━━━━━\u001b[0m\u001b[37m━\u001b[0m \u001b[1m0s\u001b[0m 9ms/step - loss: 6.7208e-06\n",
      "Epoch 60: val_loss did not improve from 0.00003\n",
      "\u001b[1m765/765\u001b[0m \u001b[32m━━━━━━━━━━━━━━━━━━━━\u001b[0m\u001b[37m\u001b[0m \u001b[1m7s\u001b[0m 9ms/step - loss: 6.5937e-06 - val_loss: 9.8309e-05\n",
      "Epoch 61/150\n",
      "\u001b[1m764/765\u001b[0m \u001b[32m━━━━━━━━━━━━━━━━━━━\u001b[0m\u001b[37m━\u001b[0m \u001b[1m0s\u001b[0m 9ms/step - loss: 6.0759e-06\n",
      "Epoch 61: val_loss did not improve from 0.00003\n",
      "\u001b[1m765/765\u001b[0m \u001b[32m━━━━━━━━━━━━━━━━━━━━\u001b[0m\u001b[37m\u001b[0m \u001b[1m7s\u001b[0m 9ms/step - loss: 6.4561e-06 - val_loss: 3.3874e-05\n",
      "Epoch 62/150\n",
      "\u001b[1m761/765\u001b[0m \u001b[32m━━━━━━━━━━━━━━━━━━━\u001b[0m\u001b[37m━\u001b[0m \u001b[1m0s\u001b[0m 13ms/step - loss: 6.3810e-06\n",
      "Epoch 62: val_loss did not improve from 0.00003\n",
      "\u001b[1m765/765\u001b[0m \u001b[32m━━━━━━━━━━━━━━━━━━━━\u001b[0m\u001b[37m\u001b[0m \u001b[1m10s\u001b[0m 13ms/step - loss: 6.5507e-06 - val_loss: 3.6599e-05\n",
      "Epoch 63/150\n",
      "\u001b[1m761/765\u001b[0m \u001b[32m━━━━━━━━━━━━━━━━━━━\u001b[0m\u001b[37m━\u001b[0m \u001b[1m0s\u001b[0m 10ms/step - loss: 6.8143e-06\n",
      "Epoch 63: val_loss did not improve from 0.00003\n",
      "\u001b[1m765/765\u001b[0m \u001b[32m━━━━━━━━━━━━━━━━━━━━\u001b[0m\u001b[37m\u001b[0m \u001b[1m8s\u001b[0m 10ms/step - loss: 6.4453e-06 - val_loss: 3.4429e-05\n",
      "Epoch 64/150\n",
      "\u001b[1m761/765\u001b[0m \u001b[32m━━━━━━━━━━━━━━━━━━━\u001b[0m\u001b[37m━\u001b[0m \u001b[1m0s\u001b[0m 9ms/step - loss: 6.3358e-06\n",
      "Epoch 64: val_loss improved from 0.00003 to 0.00003, saving model to results/univariate_time_series/rnn.h5\n"
     ]
    },
    {
     "name": "stderr",
     "output_type": "stream",
     "text": [
      "WARNING:absl:You are saving your model as an HDF5 file via `model.save()` or `keras.saving.save_model(model)`. This file format is considered legacy. We recommend using instead the native Keras format, e.g. `model.save('my_model.keras')` or `keras.saving.save_model(model, 'my_model.keras')`. \n"
     ]
    },
    {
     "name": "stdout",
     "output_type": "stream",
     "text": [
      "\u001b[1m765/765\u001b[0m \u001b[32m━━━━━━━━━━━━━━━━━━━━\u001b[0m\u001b[37m\u001b[0m \u001b[1m7s\u001b[0m 9ms/step - loss: 6.5732e-06 - val_loss: 3.2260e-05\n",
      "Epoch 65/150\n",
      "\u001b[1m764/765\u001b[0m \u001b[32m━━━━━━━━━━━━━━━━━━━\u001b[0m\u001b[37m━\u001b[0m \u001b[1m0s\u001b[0m 11ms/step - loss: 7.0417e-06\n",
      "Epoch 65: val_loss did not improve from 0.00003\n",
      "\u001b[1m765/765\u001b[0m \u001b[32m━━━━━━━━━━━━━━━━━━━━\u001b[0m\u001b[37m\u001b[0m \u001b[1m9s\u001b[0m 11ms/step - loss: 6.3625e-06 - val_loss: 3.8495e-05\n",
      "Epoch 66/150\n",
      "\u001b[1m758/765\u001b[0m \u001b[32m━━━━━━━━━━━━━━━━━━━\u001b[0m\u001b[37m━\u001b[0m \u001b[1m0s\u001b[0m 11ms/step - loss: 6.8644e-06\n",
      "Epoch 66: val_loss did not improve from 0.00003\n",
      "\u001b[1m765/765\u001b[0m \u001b[32m━━━━━━━━━━━━━━━━━━━━\u001b[0m\u001b[37m\u001b[0m \u001b[1m9s\u001b[0m 11ms/step - loss: 6.3901e-06 - val_loss: 4.0047e-05\n",
      "Epoch 67/150\n",
      "\u001b[1m765/765\u001b[0m \u001b[32m━━━━━━━━━━━━━━━━━━━━\u001b[0m\u001b[37m\u001b[0m \u001b[1m0s\u001b[0m 8ms/step - loss: 6.3811e-06\n",
      "Epoch 67: val_loss did not improve from 0.00003\n",
      "\u001b[1m765/765\u001b[0m \u001b[32m━━━━━━━━━━━━━━━━━━━━\u001b[0m\u001b[37m\u001b[0m \u001b[1m6s\u001b[0m 8ms/step - loss: 6.4631e-06 - val_loss: 3.8581e-05\n",
      "Epoch 68/150\n",
      "\u001b[1m761/765\u001b[0m \u001b[32m━━━━━━━━━━━━━━━━━━━\u001b[0m\u001b[37m━\u001b[0m \u001b[1m0s\u001b[0m 9ms/step - loss: 6.6004e-06\n",
      "Epoch 68: val_loss did not improve from 0.00003\n",
      "\u001b[1m765/765\u001b[0m \u001b[32m━━━━━━━━━━━━━━━━━━━━\u001b[0m\u001b[37m\u001b[0m \u001b[1m7s\u001b[0m 9ms/step - loss: 6.3528e-06 - val_loss: 3.2340e-05\n",
      "Epoch 69/150\n",
      "\u001b[1m763/765\u001b[0m \u001b[32m━━━━━━━━━━━━━━━━━━━\u001b[0m\u001b[37m━\u001b[0m \u001b[1m0s\u001b[0m 8ms/step - loss: 6.3472e-06\n",
      "Epoch 69: val_loss did not improve from 0.00003\n",
      "\u001b[1m765/765\u001b[0m \u001b[32m━━━━━━━━━━━━━━━━━━━━\u001b[0m\u001b[37m\u001b[0m \u001b[1m7s\u001b[0m 9ms/step - loss: 6.4241e-06 - val_loss: 3.2900e-05\n",
      "Epoch 70/150\n",
      "\u001b[1m764/765\u001b[0m \u001b[32m━━━━━━━━━━━━━━━━━━━\u001b[0m\u001b[37m━\u001b[0m \u001b[1m0s\u001b[0m 10ms/step - loss: 6.0042e-06\n",
      "Epoch 70: val_loss did not improve from 0.00003\n",
      "\u001b[1m765/765\u001b[0m \u001b[32m━━━━━━━━━━━━━━━━━━━━\u001b[0m\u001b[37m\u001b[0m \u001b[1m8s\u001b[0m 10ms/step - loss: 6.3170e-06 - val_loss: 4.6469e-05\n",
      "Epoch 71/150\n",
      "\u001b[1m761/765\u001b[0m \u001b[32m━━━━━━━━━━━━━━━━━━━\u001b[0m\u001b[37m━\u001b[0m \u001b[1m0s\u001b[0m 8ms/step - loss: 6.4977e-06\n",
      "Epoch 71: val_loss did not improve from 0.00003\n",
      "\u001b[1m765/765\u001b[0m \u001b[32m━━━━━━━━━━━━━━━━━━━━\u001b[0m\u001b[37m\u001b[0m \u001b[1m7s\u001b[0m 8ms/step - loss: 6.2361e-06 - val_loss: 3.6003e-05\n",
      "Epoch 72/150\n",
      "\u001b[1m763/765\u001b[0m \u001b[32m━━━━━━━━━━━━━━━━━━━\u001b[0m\u001b[37m━\u001b[0m \u001b[1m0s\u001b[0m 8ms/step - loss: 6.1031e-06\n",
      "Epoch 72: val_loss did not improve from 0.00003\n",
      "\u001b[1m765/765\u001b[0m \u001b[32m━━━━━━━━━━━━━━━━━━━━\u001b[0m\u001b[37m\u001b[0m \u001b[1m7s\u001b[0m 9ms/step - loss: 6.2434e-06 - val_loss: 4.5290e-05\n",
      "Epoch 73/150\n",
      "\u001b[1m762/765\u001b[0m \u001b[32m━━━━━━━━━━━━━━━━━━━\u001b[0m\u001b[37m━\u001b[0m \u001b[1m0s\u001b[0m 8ms/step - loss: 6.1028e-06\n",
      "Epoch 73: val_loss did not improve from 0.00003\n",
      "\u001b[1m765/765\u001b[0m \u001b[32m━━━━━━━━━━━━━━━━━━━━\u001b[0m\u001b[37m\u001b[0m \u001b[1m6s\u001b[0m 8ms/step - loss: 6.3480e-06 - val_loss: 4.7061e-05\n",
      "Epoch 74/150\n",
      "\u001b[1m765/765\u001b[0m \u001b[32m━━━━━━━━━━━━━━━━━━━━\u001b[0m\u001b[37m\u001b[0m \u001b[1m0s\u001b[0m 10ms/step - loss: 6.0610e-06\n",
      "Epoch 74: val_loss improved from 0.00003 to 0.00003, saving model to results/univariate_time_series/rnn.h5\n"
     ]
    },
    {
     "name": "stderr",
     "output_type": "stream",
     "text": [
      "WARNING:absl:You are saving your model as an HDF5 file via `model.save()` or `keras.saving.save_model(model)`. This file format is considered legacy. We recommend using instead the native Keras format, e.g. `model.save('my_model.keras')` or `keras.saving.save_model(model, 'my_model.keras')`. \n"
     ]
    },
    {
     "name": "stdout",
     "output_type": "stream",
     "text": [
      "\u001b[1m765/765\u001b[0m \u001b[32m━━━━━━━━━━━━━━━━━━━━\u001b[0m\u001b[37m\u001b[0m \u001b[1m8s\u001b[0m 10ms/step - loss: 6.2781e-06 - val_loss: 3.1994e-05\n",
      "Epoch 75/150\n",
      "\u001b[1m764/765\u001b[0m \u001b[32m━━━━━━━━━━━━━━━━━━━\u001b[0m\u001b[37m━\u001b[0m \u001b[1m0s\u001b[0m 11ms/step - loss: 6.3546e-06\n",
      "Epoch 75: val_loss did not improve from 0.00003\n",
      "\u001b[1m765/765\u001b[0m \u001b[32m━━━━━━━━━━━━━━━━━━━━\u001b[0m\u001b[37m\u001b[0m \u001b[1m8s\u001b[0m 11ms/step - loss: 6.2494e-06 - val_loss: 3.2743e-05\n",
      "Epoch 76/150\n",
      "\u001b[1m765/765\u001b[0m \u001b[32m━━━━━━━━━━━━━━━━━━━━\u001b[0m\u001b[37m\u001b[0m \u001b[1m0s\u001b[0m 8ms/step - loss: 6.3949e-06\n",
      "Epoch 76: val_loss did not improve from 0.00003\n",
      "\u001b[1m765/765\u001b[0m \u001b[32m━━━━━━━━━━━━━━━━━━━━\u001b[0m\u001b[37m\u001b[0m \u001b[1m6s\u001b[0m 8ms/step - loss: 6.2062e-06 - val_loss: 3.2561e-05\n",
      "Epoch 77/150\n",
      "\u001b[1m761/765\u001b[0m \u001b[32m━━━━━━━━━━━━━━━━━━━\u001b[0m\u001b[37m━\u001b[0m \u001b[1m0s\u001b[0m 8ms/step - loss: 6.2121e-06\n",
      "Epoch 77: val_loss did not improve from 0.00003\n",
      "\u001b[1m765/765\u001b[0m \u001b[32m━━━━━━━━━━━━━━━━━━━━\u001b[0m\u001b[37m\u001b[0m \u001b[1m7s\u001b[0m 9ms/step - loss: 6.1538e-06 - val_loss: 3.8046e-05\n",
      "Epoch 78/150\n",
      "\u001b[1m761/765\u001b[0m \u001b[32m━━━━━━━━━━━━━━━━━━━\u001b[0m\u001b[37m━\u001b[0m \u001b[1m0s\u001b[0m 9ms/step - loss: 6.4968e-06\n",
      "Epoch 78: val_loss did not improve from 0.00003\n",
      "\u001b[1m765/765\u001b[0m \u001b[32m━━━━━━━━━━━━━━━━━━━━\u001b[0m\u001b[37m\u001b[0m \u001b[1m7s\u001b[0m 9ms/step - loss: 6.2137e-06 - val_loss: 3.8351e-05\n",
      "Epoch 79/150\n",
      "\u001b[1m763/765\u001b[0m \u001b[32m━━━━━━━━━━━━━━━━━━━\u001b[0m\u001b[37m━\u001b[0m \u001b[1m0s\u001b[0m 10ms/step - loss: 6.0395e-06\n",
      "Epoch 79: val_loss did not improve from 0.00003\n",
      "\u001b[1m765/765\u001b[0m \u001b[32m━━━━━━━━━━━━━━━━━━━━\u001b[0m\u001b[37m\u001b[0m \u001b[1m8s\u001b[0m 10ms/step - loss: 6.0974e-06 - val_loss: 3.4572e-05\n",
      "Epoch 80/150\n",
      "\u001b[1m761/765\u001b[0m \u001b[32m━━━━━━━━━━━━━━━━━━━\u001b[0m\u001b[37m━\u001b[0m \u001b[1m0s\u001b[0m 8ms/step - loss: 6.2000e-06\n",
      "Epoch 80: val_loss did not improve from 0.00003\n",
      "\u001b[1m765/765\u001b[0m \u001b[32m━━━━━━━━━━━━━━━━━━━━\u001b[0m\u001b[37m\u001b[0m \u001b[1m6s\u001b[0m 8ms/step - loss: 6.2317e-06 - val_loss: 3.3277e-05\n",
      "Epoch 81/150\n",
      "\u001b[1m760/765\u001b[0m \u001b[32m━━━━━━━━━━━━━━━━━━━\u001b[0m\u001b[37m━\u001b[0m \u001b[1m0s\u001b[0m 8ms/step - loss: 5.7223e-06\n",
      "Epoch 81: val_loss did not improve from 0.00003\n",
      "\u001b[1m765/765\u001b[0m \u001b[32m━━━━━━━━━━━━━━━━━━━━\u001b[0m\u001b[37m\u001b[0m \u001b[1m7s\u001b[0m 8ms/step - loss: 5.9810e-06 - val_loss: 3.6246e-05\n",
      "Epoch 82/150\n",
      "\u001b[1m760/765\u001b[0m \u001b[32m━━━━━━━━━━━━━━━━━━━\u001b[0m\u001b[37m━\u001b[0m \u001b[1m0s\u001b[0m 8ms/step - loss: 6.0126e-06\n",
      "Epoch 82: val_loss did not improve from 0.00003\n",
      "\u001b[1m765/765\u001b[0m \u001b[32m━━━━━━━━━━━━━━━━━━━━\u001b[0m\u001b[37m\u001b[0m \u001b[1m6s\u001b[0m 8ms/step - loss: 6.0575e-06 - val_loss: 3.2178e-05\n",
      "Epoch 83/150\n",
      "\u001b[1m761/765\u001b[0m \u001b[32m━━━━━━━━━━━━━━━━━━━\u001b[0m\u001b[37m━\u001b[0m \u001b[1m0s\u001b[0m 8ms/step - loss: 5.8948e-06\n",
      "Epoch 83: val_loss did not improve from 0.00003\n",
      "\u001b[1m765/765\u001b[0m \u001b[32m━━━━━━━━━━━━━━━━━━━━\u001b[0m\u001b[37m\u001b[0m \u001b[1m6s\u001b[0m 8ms/step - loss: 6.0670e-06 - val_loss: 3.3145e-05\n",
      "Epoch 84/150\n",
      "\u001b[1m764/765\u001b[0m \u001b[32m━━━━━━━━━━━━━━━━━━━\u001b[0m\u001b[37m━\u001b[0m \u001b[1m0s\u001b[0m 8ms/step - loss: 5.9177e-06\n",
      "Epoch 84: val_loss did not improve from 0.00003\n",
      "\u001b[1m765/765\u001b[0m \u001b[32m━━━━━━━━━━━━━━━━━━━━\u001b[0m\u001b[37m\u001b[0m \u001b[1m6s\u001b[0m 8ms/step - loss: 5.9872e-06 - val_loss: 3.2109e-05\n",
      "Epoch 85/150\n",
      "\u001b[1m764/765\u001b[0m \u001b[32m━━━━━━━━━━━━━━━━━━━\u001b[0m\u001b[37m━\u001b[0m \u001b[1m0s\u001b[0m 9ms/step - loss: 6.4170e-06\n",
      "Epoch 85: val_loss did not improve from 0.00003\n",
      "\u001b[1m765/765\u001b[0m \u001b[32m━━━━━━━━━━━━━━━━━━━━\u001b[0m\u001b[37m\u001b[0m \u001b[1m7s\u001b[0m 9ms/step - loss: 6.0504e-06 - val_loss: 3.6195e-05\n",
      "Epoch 86/150\n",
      "\u001b[1m762/765\u001b[0m \u001b[32m━━━━━━━━━━━━━━━━━━━\u001b[0m\u001b[37m━\u001b[0m \u001b[1m0s\u001b[0m 8ms/step - loss: 5.8749e-06\n",
      "Epoch 86: val_loss did not improve from 0.00003\n",
      "\u001b[1m765/765\u001b[0m \u001b[32m━━━━━━━━━━━━━━━━━━━━\u001b[0m\u001b[37m\u001b[0m \u001b[1m6s\u001b[0m 8ms/step - loss: 5.9114e-06 - val_loss: 3.8873e-05\n",
      "Epoch 87/150\n",
      "\u001b[1m762/765\u001b[0m \u001b[32m━━━━━━━━━━━━━━━━━━━\u001b[0m\u001b[37m━\u001b[0m \u001b[1m0s\u001b[0m 8ms/step - loss: 5.8880e-06\n",
      "Epoch 87: val_loss did not improve from 0.00003\n",
      "\u001b[1m765/765\u001b[0m \u001b[32m━━━━━━━━━━━━━━━━━━━━\u001b[0m\u001b[37m\u001b[0m \u001b[1m7s\u001b[0m 9ms/step - loss: 5.9714e-06 - val_loss: 4.8106e-05\n",
      "Epoch 88/150\n",
      "\u001b[1m764/765\u001b[0m \u001b[32m━━━━━━━━━━━━━━━━━━━\u001b[0m\u001b[37m━\u001b[0m \u001b[1m0s\u001b[0m 10ms/step - loss: 6.7429e-06\n",
      "Epoch 88: val_loss did not improve from 0.00003\n",
      "\u001b[1m765/765\u001b[0m \u001b[32m━━━━━━━━━━━━━━━━━━━━\u001b[0m\u001b[37m\u001b[0m \u001b[1m8s\u001b[0m 10ms/step - loss: 6.0113e-06 - val_loss: 5.9798e-05\n",
      "Epoch 89/150\n",
      "\u001b[1m762/765\u001b[0m \u001b[32m━━━━━━━━━━━━━━━━━━━\u001b[0m\u001b[37m━\u001b[0m \u001b[1m0s\u001b[0m 8ms/step - loss: 6.1405e-06\n",
      "Epoch 89: val_loss did not improve from 0.00003\n",
      "\u001b[1m765/765\u001b[0m \u001b[32m━━━━━━━━━━━━━━━━━━━━\u001b[0m\u001b[37m\u001b[0m \u001b[1m6s\u001b[0m 8ms/step - loss: 5.9731e-06 - val_loss: 3.3322e-05\n",
      "Epoch 90/150\n",
      "\u001b[1m759/765\u001b[0m \u001b[32m━━━━━━━━━━━━━━━━━━━\u001b[0m\u001b[37m━\u001b[0m \u001b[1m0s\u001b[0m 8ms/step - loss: 7.0572e-06\n",
      "Epoch 90: val_loss did not improve from 0.00003\n",
      "\u001b[1m765/765\u001b[0m \u001b[32m━━━━━━━━━━━━━━━━━━━━\u001b[0m\u001b[37m\u001b[0m \u001b[1m6s\u001b[0m 8ms/step - loss: 5.9665e-06 - val_loss: 3.8400e-05\n",
      "Epoch 91/150\n",
      "\u001b[1m764/765\u001b[0m \u001b[32m━━━━━━━━━━━━━━━━━━━\u001b[0m\u001b[37m━\u001b[0m \u001b[1m0s\u001b[0m 8ms/step - loss: 6.0439e-06\n",
      "Epoch 91: val_loss did not improve from 0.00003\n",
      "\u001b[1m765/765\u001b[0m \u001b[32m━━━━━━━━━━━━━━━━━━━━\u001b[0m\u001b[37m\u001b[0m \u001b[1m6s\u001b[0m 8ms/step - loss: 5.9818e-06 - val_loss: 4.4246e-05\n",
      "Epoch 92/150\n",
      "\u001b[1m760/765\u001b[0m \u001b[32m━━━━━━━━━━━━━━━━━━━\u001b[0m\u001b[37m━\u001b[0m \u001b[1m0s\u001b[0m 9ms/step - loss: 6.0534e-06\n",
      "Epoch 92: val_loss did not improve from 0.00003\n",
      "\u001b[1m765/765\u001b[0m \u001b[32m━━━━━━━━━━━━━━━━━━━━\u001b[0m\u001b[37m\u001b[0m \u001b[1m7s\u001b[0m 9ms/step - loss: 5.9537e-06 - val_loss: 7.0093e-05\n",
      "Epoch 93/150\n",
      "\u001b[1m765/765\u001b[0m \u001b[32m━━━━━━━━━━━━━━━━━━━━\u001b[0m\u001b[37m\u001b[0m \u001b[1m0s\u001b[0m 11ms/step - loss: 5.8908e-06\n",
      "Epoch 93: val_loss did not improve from 0.00003\n",
      "\u001b[1m765/765\u001b[0m \u001b[32m━━━━━━━━━━━━━━━━━━━━\u001b[0m\u001b[37m\u001b[0m \u001b[1m9s\u001b[0m 11ms/step - loss: 5.9520e-06 - val_loss: 4.1901e-05\n",
      "Epoch 94/150\n",
      "\u001b[1m760/765\u001b[0m \u001b[32m━━━━━━━━━━━━━━━━━━━\u001b[0m\u001b[37m━\u001b[0m \u001b[1m0s\u001b[0m 10ms/step - loss: 6.6179e-06\n",
      "Epoch 94: val_loss did not improve from 0.00003\n",
      "\u001b[1m765/765\u001b[0m \u001b[32m━━━━━━━━━━━━━━━━━━━━\u001b[0m\u001b[37m\u001b[0m \u001b[1m8s\u001b[0m 10ms/step - loss: 5.8859e-06 - val_loss: 3.4696e-05\n"
     ]
    }
   ],
   "source": [
    "lstm_training = rnn.fit(X_train,\n",
    "                        y_train,\n",
    "                        epochs=150,\n",
    "                        batch_size=20,\n",
    "                        shuffle=True,\n",
    "                        validation_data=(X_test, y_test),\n",
    "                        callbacks=[early_stopping, checkpointer],\n",
    "                        verbose=1)"
   ]
  },
  {
   "cell_type": "code",
   "execution_count": 24,
   "metadata": {},
   "outputs": [
    {
     "data": {
      "image/png": "[encoded data removed]",
      "text/plain": [
       "<Figure size 1200x400 with 1 Axes>"
      ]
     },
     "metadata": {},
     "output_type": "display_data"
    }
   ],
   "source": [
    "# Evaluate model performance\n",
    "fig, ax = plt.subplots(figsize=(12, 4))\n",
    "\n",
    "loss_history = pd.DataFrame(lstm_training.history).pow(.5)\n",
    "loss_history.index += 1\n",
    "best_rmse = loss_history.val_loss.min()\n",
    "\n",
    "best_epoch = loss_history.val_loss.idxmin()\n",
    "\n",
    "title = f'5-Epoch Rolling RMSE (Best Validation RMSE: {best_rmse:.4%})'\n",
    "loss_history.columns=['Training RMSE', 'Validation RMSE']\n",
    "loss_history.rolling(5).mean().plot(logy=True, lw=2, title=title, ax=ax)\n",
    "\n",
    "ax.axvline(best_epoch, ls='--', lw=1, c='k')\n",
    "\n",
    "sns.despine()\n",
    "fig.tight_layout()\n",
    "fig.savefig(results_path / 'rnn_sp500_error', dpi=300);"
   ]
  },
  {
   "cell_type": "code",
   "execution_count": 25,
   "metadata": {},
   "outputs": [
    {
     "name": "stdout",
     "output_type": "stream",
     "text": [
      "Train RMSE: 0.0023 | Test RMSE: 0.0057\n",
      "\u001b[1m478/478\u001b[0m \u001b[32m━━━━━━━━━━━━━━━━━━━━\u001b[0m\u001b[37m\u001b[0m \u001b[1m1s\u001b[0m 2ms/step\n",
      "\u001b[1m8/8\u001b[0m \u001b[32m━━━━━━━━━━━━━━━━━━━━\u001b[0m\u001b[37m\u001b[0m \u001b[1m0s\u001b[0m 4ms/step \n",
      "Train IC: 0.9999 | Test IC: 0.9885\n"
     ]
    }
   ],
   "source": [
    "train_rmse_scaled = np.sqrt(rnn.evaluate(X_train, y_train, verbose=0))\n",
    "test_rmse_scaled = np.sqrt(rnn.evaluate(X_test, y_test, verbose=0))\n",
    "print(f'Train RMSE: {train_rmse_scaled:.4f} | Test RMSE: {test_rmse_scaled:.4f}')\n",
    "\n",
    "train_predict_scaled = rnn.predict(X_train)\n",
    "test_predict_scaled = rnn.predict(X_test)\n",
    "train_ic = spearmanr(y_train, train_predict_scaled)[0]\n",
    "test_ic = spearmanr(y_test, test_predict_scaled)[0]\n",
    "print(f'Train IC: {train_ic:.4f} | Test IC: {test_ic:.4f}')"
   ]
  },
  {
   "cell_type": "code",
   "execution_count": 28,
   "id": "b8364df3",
   "metadata": {},
   "outputs": [],
   "source": [
    "# # Rescale predictions\n",
    "# train_predict = pd.Series(scaler.inverse_transform(train_predict_scaled).squeeze(), index=y_train.index)\n",
    "# test_predict = (pd.Series(scaler.inverse_transform(test_predict_scaled)\n",
    "#                           .squeeze(), \n",
    "#                           index=y_test.index))\n",
    "# y_train_rescaled = scaler.inverse_transform(y_train.to_frame()).squeeze()\n",
    "# y_test_rescaled = scaler.inverse_transform(y_test.to_frame()).squeeze()\n",
    "# train_rmse = np.sqrt(mean_squared_error(train_predict, y_train_rescaled))\n",
    "# test_rmse = np.sqrt(mean_squared_error(test_predict, y_test_rescaled))\n",
    "# f'Train RMSE: {train_rmse:.2f} | Test RMSE: {test_rmse:.2f}'\n",
    "\n",
    "# sp500['Train Predictions'] = train_predict\n",
    "# sp500['Test Predictions'] = test_predict\n",
    "# sp500 = sp500.join(train_predict.to_frame('predictions').assign(data='Train')\n",
    "#                         .append(test_predict.to_frame('predictions').assign(data='Test')))"
   ]
  },
  {
   "cell_type": "code",
   "execution_count": 29,
   "metadata": {},
   "outputs": [
    {
     "name": "stdout",
     "output_type": "stream",
     "text": [
      "Train RMSE: 15.30 | Test RMSE: 37.12\n"
     ]
    }
   ],
   "source": [
    "# Rescale predictions\n",
    "train_predict = pd.Series(scaler.inverse_transform(train_predict_scaled).squeeze(), index=y_train.index)\n",
    "test_predict = (pd.Series(scaler.inverse_transform(test_predict_scaled)\n",
    "                          .squeeze(), \n",
    "                          index=y_test.index))\n",
    "y_train_rescaled = scaler.inverse_transform(y_train.to_frame()).squeeze()\n",
    "y_test_rescaled = scaler.inverse_transform(y_test.to_frame()).squeeze()\n",
    "train_rmse = np.sqrt(mean_squared_error(train_predict, y_train_rescaled))\n",
    "test_rmse = np.sqrt(mean_squared_error(test_predict, y_test_rescaled))\n",
    "print(f'Train RMSE: {train_rmse:.2f} | Test RMSE: {test_rmse:.2f}')\n",
    "\n",
    "# Convert to DataFrame and add predictions\n",
    "sp500_df = sp500.to_frame('actual')\n",
    "sp500_df['Train Predictions'] = train_predict\n",
    "sp500_df['Test Predictions'] = test_predict\n",
    "\n",
    "# Create combined predictions DataFrame using concat instead of append\n",
    "train_pred_df = train_predict.to_frame('predictions').assign(data='Train')\n",
    "test_pred_df = test_predict.to_frame('predictions').assign(data='Test')\n",
    "combined_predictions = pd.concat([train_pred_df, test_pred_df])\n",
    "\n",
    "sp500_df = sp500_df.join(combined_predictions)"
   ]
  },
  {
   "cell_type": "code",
   "execution_count": 31,
   "id": "cc97bfd3",
   "metadata": {},
   "outputs": [],
   "source": [
    "# # Plot Results\n",
    "# fig=plt.figure(figsize=(14,7))\n",
    "# ax1 = plt.subplot(221)\n",
    "\n",
    "# sp500.loc['2015':, 'SP500'].plot(lw=4, ax=ax1, c='k')\n",
    "# sp500.loc['2015':, ['Test Predictions', 'Train Predictions']].plot(lw=1, ax=ax1, ls='--')\n",
    "# ax1.set_title('In- and Out-of-sample Predictions')\n",
    "\n",
    "\n",
    "# with sns.axes_style(\"white\"):\n",
    "#     ax3 = plt.subplot(223)\n",
    "#     sns.scatterplot(x='SP500', y='predictions', data=sp500, hue='data', ax=ax3)\n",
    "#     ax3.text(x=.02, y=.95, s=f'Test IC ={test_ic:.2%}', transform=ax3.transAxes)\n",
    "#     ax3.text(x=.02, y=.87, s=f'Train IC={train_ic:.2%}', transform=ax3.transAxes)\n",
    "#     ax3.set_title('Correlation')\n",
    "#     ax3.legend(loc='lower right')\n",
    "    \n",
    "#     ax2 = plt.subplot(222)\n",
    "#     ax4 = plt.subplot(224, sharex = ax2, sharey=ax2)\n",
    "#     sns.distplot(train_predict.squeeze()- y_train_rescaled, ax=ax2)\n",
    "#     ax2.set_title('Train Error')\n",
    "#     ax2.text(x=.03, y=.92, s=f'Train RMSE ={train_rmse:.4f}', transform=ax2.transAxes)\n",
    "#     sns.distplot(test_predict.squeeze()-y_test_rescaled, ax=ax4)\n",
    "#     ax4.set_title('Test Error')\n",
    "#     ax4.text(x=.03, y=.92, s=f'Test RMSE ={test_rmse:.4f}', transform=ax4.transAxes)\n",
    "\n",
    "# sns.despine()\n",
    "# fig.tight_layout()\n",
    "# fig.savefig(results_path / 'rnn_sp500_regression', dpi=300);"
   ]
  },
  {
   "cell_type": "code",
   "execution_count": null,
   "id": "61bf2a64",
   "metadata": {},
   "outputs": [],
   "source": []
  },
  {
   "cell_type": "code",
   "execution_count": 37,
   "id": "05675e9b",
   "metadata": {},
   "outputs": [
    {
     "ename": "TypeError",
     "evalue": "'<=' not supported between instances of 'Timestamp' and 'str'",
     "output_type": "error",
     "traceback": [
      "\u001b[31m---------------------------------------------------------------------------\u001b[39m",
      "\u001b[31mTypeError\u001b[39m                                 Traceback (most recent call last)",
      "\u001b[36mCell\u001b[39m\u001b[36m \u001b[39m\u001b[32mIn[37]\u001b[39m\u001b[32m, line 27\u001b[39m\n\u001b[32m     19\u001b[39m test_scatter = pd.DataFrame({\n\u001b[32m     20\u001b[39m     \u001b[33m'\u001b[39m\u001b[33mactual\u001b[39m\u001b[33m'\u001b[39m: sp500.loc[test_predict.index],\n\u001b[32m     21\u001b[39m     \u001b[33m'\u001b[39m\u001b[33mpredictions\u001b[39m\u001b[33m'\u001b[39m: test_predict.values,\n\u001b[32m     22\u001b[39m     \u001b[33m'\u001b[39m\u001b[33mdata\u001b[39m\u001b[33m'\u001b[39m: \u001b[33m'\u001b[39m\u001b[33mTest\u001b[39m\u001b[33m'\u001b[39m\n\u001b[32m     23\u001b[39m })\n\u001b[32m     25\u001b[39m scatter_data = pd.concat([train_scatter, test_scatter], ignore_index=\u001b[38;5;28;01mTrue\u001b[39;00m)\n\u001b[32m---> \u001b[39m\u001b[32m27\u001b[39m \u001b[38;5;28mprint\u001b[39m(\u001b[33m\"\u001b[39m\u001b[33mData range:\u001b[39m\u001b[33m\"\u001b[39m, \u001b[43msp500_clean\u001b[49m\u001b[43m.\u001b[49m\u001b[43mindex\u001b[49m\u001b[43m.\u001b[49m\u001b[43mmin\u001b[49m\u001b[43m(\u001b[49m\u001b[43m)\u001b[49m, \u001b[33m\"\u001b[39m\u001b[33mto\u001b[39m\u001b[33m\"\u001b[39m, sp500_clean.index.max())\n\u001b[32m     28\u001b[39m \u001b[38;5;28mprint\u001b[39m(\u001b[33m\"\u001b[39m\u001b[33mAvailable years:\u001b[39m\u001b[33m\"\u001b[39m, \u001b[38;5;28msorted\u001b[39m(sp500_clean.index.year.unique()))\n\u001b[32m     30\u001b[39m \u001b[38;5;66;03m# Plot Results\u001b[39;00m\n",
      "\u001b[36mFile \u001b[39m\u001b[32mc:\\Users\\calli\\miniconda3\\envs\\ml\\Lib\\site-packages\\pandas\\core\\indexes\\base.py:7184\u001b[39m, in \u001b[36mIndex.min\u001b[39m\u001b[34m(self, axis, skipna, *args, **kwargs)\u001b[39m\n\u001b[32m   7180\u001b[39m \u001b[38;5;28;01mif\u001b[39;00m \u001b[38;5;129;01mnot\u001b[39;00m \u001b[38;5;28mself\u001b[39m._is_multi \u001b[38;5;129;01mand\u001b[39;00m \u001b[38;5;129;01mnot\u001b[39;00m \u001b[38;5;28misinstance\u001b[39m(\u001b[38;5;28mself\u001b[39m._values, np.ndarray):\n\u001b[32m   7181\u001b[39m     \u001b[38;5;66;03m# \"ExtensionArray\" has no attribute \"min\"\u001b[39;00m\n\u001b[32m   7182\u001b[39m     \u001b[38;5;28;01mreturn\u001b[39;00m \u001b[38;5;28mself\u001b[39m._values.min(skipna=skipna)  \u001b[38;5;66;03m# type: ignore[attr-defined]\u001b[39;00m\n\u001b[32m-> \u001b[39m\u001b[32m7184\u001b[39m \u001b[38;5;28;01mreturn\u001b[39;00m \u001b[38;5;28;43msuper\u001b[39;49m\u001b[43m(\u001b[49m\u001b[43m)\u001b[49m\u001b[43m.\u001b[49m\u001b[43mmin\u001b[49m\u001b[43m(\u001b[49m\u001b[43mskipna\u001b[49m\u001b[43m=\u001b[49m\u001b[43mskipna\u001b[49m\u001b[43m)\u001b[49m\n",
      "\u001b[36mFile \u001b[39m\u001b[32mc:\\Users\\calli\\miniconda3\\envs\\ml\\Lib\\site-packages\\pandas\\core\\base.py:701\u001b[39m, in \u001b[36mIndexOpsMixin.min\u001b[39m\u001b[34m(self, axis, skipna, *args, **kwargs)\u001b[39m\n\u001b[32m    699\u001b[39m nv.validate_minmax_axis(axis)\n\u001b[32m    700\u001b[39m nv.validate_min(args, kwargs)\n\u001b[32m--> \u001b[39m\u001b[32m701\u001b[39m \u001b[38;5;28;01mreturn\u001b[39;00m \u001b[43mnanops\u001b[49m\u001b[43m.\u001b[49m\u001b[43mnanmin\u001b[49m\u001b[43m(\u001b[49m\u001b[38;5;28;43mself\u001b[39;49m\u001b[43m.\u001b[49m\u001b[43m_values\u001b[49m\u001b[43m,\u001b[49m\u001b[43m \u001b[49m\u001b[43mskipna\u001b[49m\u001b[43m=\u001b[49m\u001b[43mskipna\u001b[49m\u001b[43m)\u001b[49m\n",
      "\u001b[36mFile \u001b[39m\u001b[32mc:\\Users\\calli\\miniconda3\\envs\\ml\\Lib\\site-packages\\pandas\\core\\nanops.py:155\u001b[39m, in \u001b[36mbottleneck_switch.__call__.<locals>.f\u001b[39m\u001b[34m(values, axis, skipna, **kwds)\u001b[39m\n\u001b[32m    153\u001b[39m         result = alt(values, axis=axis, skipna=skipna, **kwds)\n\u001b[32m    154\u001b[39m \u001b[38;5;28;01melse\u001b[39;00m:\n\u001b[32m--> \u001b[39m\u001b[32m155\u001b[39m     result = \u001b[43malt\u001b[49m\u001b[43m(\u001b[49m\u001b[43mvalues\u001b[49m\u001b[43m,\u001b[49m\u001b[43m \u001b[49m\u001b[43maxis\u001b[49m\u001b[43m=\u001b[49m\u001b[43maxis\u001b[49m\u001b[43m,\u001b[49m\u001b[43m \u001b[49m\u001b[43mskipna\u001b[49m\u001b[43m=\u001b[49m\u001b[43mskipna\u001b[49m\u001b[43m,\u001b[49m\u001b[43m \u001b[49m\u001b[43m*\u001b[49m\u001b[43m*\u001b[49m\u001b[43mkwds\u001b[49m\u001b[43m)\u001b[49m\n\u001b[32m    157\u001b[39m \u001b[38;5;28;01mreturn\u001b[39;00m result\n",
      "\u001b[36mFile \u001b[39m\u001b[32mc:\\Users\\calli\\miniconda3\\envs\\ml\\Lib\\site-packages\\pandas\\core\\nanops.py:418\u001b[39m, in \u001b[36m_datetimelike_compat.<locals>.new_func\u001b[39m\u001b[34m(values, axis, skipna, mask, **kwargs)\u001b[39m\n\u001b[32m    415\u001b[39m \u001b[38;5;28;01mif\u001b[39;00m datetimelike \u001b[38;5;129;01mand\u001b[39;00m mask \u001b[38;5;129;01mis\u001b[39;00m \u001b[38;5;28;01mNone\u001b[39;00m:\n\u001b[32m    416\u001b[39m     mask = isna(values)\n\u001b[32m--> \u001b[39m\u001b[32m418\u001b[39m result = \u001b[43mfunc\u001b[49m\u001b[43m(\u001b[49m\u001b[43mvalues\u001b[49m\u001b[43m,\u001b[49m\u001b[43m \u001b[49m\u001b[43maxis\u001b[49m\u001b[43m=\u001b[49m\u001b[43maxis\u001b[49m\u001b[43m,\u001b[49m\u001b[43m \u001b[49m\u001b[43mskipna\u001b[49m\u001b[43m=\u001b[49m\u001b[43mskipna\u001b[49m\u001b[43m,\u001b[49m\u001b[43m \u001b[49m\u001b[43mmask\u001b[49m\u001b[43m=\u001b[49m\u001b[43mmask\u001b[49m\u001b[43m,\u001b[49m\u001b[43m \u001b[49m\u001b[43m*\u001b[49m\u001b[43m*\u001b[49m\u001b[43mkwargs\u001b[49m\u001b[43m)\u001b[49m\n\u001b[32m    420\u001b[39m \u001b[38;5;28;01mif\u001b[39;00m datetimelike:\n\u001b[32m    421\u001b[39m     result = _wrap_results(result, orig_values.dtype, fill_value=iNaT)\n",
      "\u001b[36mFile \u001b[39m\u001b[32mc:\\Users\\calli\\miniconda3\\envs\\ml\\Lib\\site-packages\\pandas\\core\\nanops.py:1051\u001b[39m, in \u001b[36m_nanminmax.<locals>.reduction\u001b[39m\u001b[34m(values, axis, skipna, mask)\u001b[39m\n\u001b[32m   1049\u001b[39m         result = np.nan\n\u001b[32m   1050\u001b[39m \u001b[38;5;28;01melse\u001b[39;00m:\n\u001b[32m-> \u001b[39m\u001b[32m1051\u001b[39m     result = \u001b[38;5;28;43mgetattr\u001b[39;49m\u001b[43m(\u001b[49m\u001b[43mvalues\u001b[49m\u001b[43m,\u001b[49m\u001b[43m \u001b[49m\u001b[43mmeth\u001b[49m\u001b[43m)\u001b[49m\u001b[43m(\u001b[49m\u001b[43maxis\u001b[49m\u001b[43m)\u001b[49m\n\u001b[32m   1053\u001b[39m result = _maybe_null_out(result, axis, mask, values.shape)\n\u001b[32m   1054\u001b[39m \u001b[38;5;28;01mreturn\u001b[39;00m result\n",
      "\u001b[36mFile \u001b[39m\u001b[32mc:\\Users\\calli\\miniconda3\\envs\\ml\\Lib\\site-packages\\numpy\\core\\_methods.py:45\u001b[39m, in \u001b[36m_amin\u001b[39m\u001b[34m(a, axis, out, keepdims, initial, where)\u001b[39m\n\u001b[32m     43\u001b[39m \u001b[38;5;28;01mdef\u001b[39;00m\u001b[38;5;250m \u001b[39m\u001b[34m_amin\u001b[39m(a, axis=\u001b[38;5;28;01mNone\u001b[39;00m, out=\u001b[38;5;28;01mNone\u001b[39;00m, keepdims=\u001b[38;5;28;01mFalse\u001b[39;00m,\n\u001b[32m     44\u001b[39m           initial=_NoValue, where=\u001b[38;5;28;01mTrue\u001b[39;00m):\n\u001b[32m---> \u001b[39m\u001b[32m45\u001b[39m     \u001b[38;5;28;01mreturn\u001b[39;00m umr_minimum(a, axis, \u001b[38;5;28;01mNone\u001b[39;00m, out, keepdims, initial, where)\n",
      "\u001b[31mTypeError\u001b[39m: '<=' not supported between instances of 'Timestamp' and 'str'"
     ]
    }
   ],
   "source": [
    "# Create a completely clean DataFrame structure\n",
    "sp500_clean = pd.DataFrame({\n",
    "    'actual': sp500,\n",
    "    'Train_Predictions': pd.Series(dtype='float64', index=sp500.index),\n",
    "    'Test_Predictions': pd.Series(dtype='float64', index=sp500.index)\n",
    "})\n",
    "\n",
    "# Add predictions to the appropriate rows\n",
    "sp500_clean.loc[train_predict.index, 'Train_Predictions'] = train_predict\n",
    "sp500_clean.loc[test_predict.index, 'Test_Predictions'] = test_predict\n",
    "\n",
    "# Create separate scatter plot data\n",
    "train_scatter = pd.DataFrame({\n",
    "    'actual': sp500.loc[train_predict.index],\n",
    "    'predictions': train_predict.values,\n",
    "    'data': 'Train'\n",
    "})\n",
    "\n",
    "test_scatter = pd.DataFrame({\n",
    "    'actual': sp500.loc[test_predict.index],\n",
    "    'predictions': test_predict.values,\n",
    "    'data': 'Test'\n",
    "})\n",
    "\n",
    "scatter_data = pd.concat([train_scatter, test_scatter], ignore_index=True)\n",
    "\n",
    "print(\"Data range:\", sp500_clean.index.min(), \"to\", sp500_clean.index.max())\n",
    "print(\"Available years:\", sorted(sp500_clean.index.year.unique()))\n",
    "\n",
    "# Plot Results\n",
    "fig = plt.figure(figsize=(14, 7))\n",
    "ax1 = plt.subplot(221)\n",
    "\n",
    "# Use year-based filtering\n",
    "recent_data = sp500_clean[sp500_clean.index.year >= 2010]\n",
    "recent_data['actual'].plot(lw=4, ax=ax1, c='k', label='Actual')\n",
    "recent_data[['Test_Predictions', 'Train_Predictions']].plot(lw=1, ax=ax1, ls='--')\n",
    "ax1.set_title('In- and Out-of-sample Predictions')\n",
    "ax1.legend()\n",
    "\n",
    "with sns.axes_style(\"white\"):\n",
    "    ax3 = plt.subplot(223)\n",
    "    sns.scatterplot(x='actual', y='predictions', data=scatter_data, hue='data', ax=ax3)\n",
    "    ax3.text(x=.02, y=.95, s=f'Test IC ={test_ic:.2%}', transform=ax3.transAxes)\n",
    "    ax3.text(x=.02, y=.87, s=f'Train IC={train_ic:.2%}', transform=ax3.transAxes)\n",
    "    ax3.set_title('Correlation')\n",
    "    ax3.legend(loc='lower right')\n",
    "    \n",
    "    ax2 = plt.subplot(222)\n",
    "    ax4 = plt.subplot(224, sharex=ax2, sharey=ax2)\n",
    "    sns.histplot(train_predict.squeeze() - y_train_rescaled, ax=ax2, kde=True)  \n",
    "    ax2.set_title('Train Error')\n",
    "    ax2.text(x=.03, y=.92, s=f'Train RMSE ={train_rmse:.4f}', transform=ax2.transAxes)\n",
    "    sns.histplot(test_predict.squeeze() - y_test_rescaled, ax=ax4, kde=True)  \n",
    "    ax4.set_title('Test Error')\n",
    "    ax4.text(x=.03, y=.92, s=f'Test RMSE ={test_rmse:.4f}', transform=ax4.transAxes)\n",
    "\n",
    "sns.despine()\n",
    "fig.tight_layout()\n",
    "fig.savefig(results_path / 'rnn_sp500_regression', dpi=300)\n",
    "plt.show()"
   ]
  },
  {
   "cell_type": "code",
   "execution_count": null,
   "id": "e85c42b6",
   "metadata": {},
   "outputs": [],
   "source": []
  },
  {
   "cell_type": "code",
   "execution_count": null,
   "id": "02cf5726",
   "metadata": {},
   "outputs": [],
   "source": []
  }
 ],
 "metadata": {
  "kernelspec": {
   "display_name": "ml",
   "language": "python",
   "name": "python3"
  },
  "language_info": {
   "codemirror_mode": {
    "name": "ipython",
    "version": 3
   },
   "file_extension": ".py",
   "mimetype": "text/x-python",
   "name": "python",
   "nbconvert_exporter": "python",
   "pygments_lexer": "ipython3",
   "version": "3.11.13"
  }
 },
 "nbformat": 4,
 "nbformat_minor": 5
}
