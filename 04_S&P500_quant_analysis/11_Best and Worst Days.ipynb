{
 "cells": [
  {
   "cell_type": "markdown",
   "id": "fd4ce46e",
   "metadata": {},
   "source": [
    "# S&P 500 Best and Worst Days Analysis\n",
    "\n",
    "**Data Source:** [S&P 500 Historical Data - Stooq](https://stooq.com/q/d/?s=%5Espx)\n",
    "\n",
    "**Note:** Historical data prior to 1957 (when the S&P 500 Index was officially founded) are \"rebuilt\" using retroactive calculations based on constituent companies that would have been included.\n",
    "\n",
    "**Disclaimer:** This analysis is for educational purposes only and should not be considered as financial advice.\n",
    "\n",
    "This notebook performs exploratory data analysis and visualization of S&P 500 historical price data."
   ]
  },
  {
   "cell_type": "code",
   "execution_count": 14,
   "id": "78edd5f4",
   "metadata": {},
   "outputs": [
    {
     "name": "stdout",
     "output_type": "stream",
     "text": [
      "Path exists: True\n"
     ]
    },
    {
     "data": {
      "text/html": [
       "<div>\n",
       "<style scoped>\n",
       "    .dataframe tbody tr th:only-of-type {\n",
       "        vertical-align: middle;\n",
       "    }\n",
       "\n",
       "    .dataframe tbody tr th {\n",
       "        vertical-align: top;\n",
       "    }\n",
       "\n",
       "    .dataframe thead th {\n",
       "        text-align: right;\n",
       "    }\n",
       "</style>\n",
       "<table border=\"1\" class=\"dataframe\">\n",
       "  <thead>\n",
       "    <tr style=\"text-align: right;\">\n",
       "      <th></th>\n",
       "      <th>open</th>\n",
       "      <th>high</th>\n",
       "      <th>low</th>\n",
       "      <th>close</th>\n",
       "      <th>volume</th>\n",
       "    </tr>\n",
       "    <tr>\n",
       "      <th>date</th>\n",
       "      <th></th>\n",
       "      <th></th>\n",
       "      <th></th>\n",
       "      <th></th>\n",
       "      <th></th>\n",
       "    </tr>\n",
       "  </thead>\n",
       "  <tbody>\n",
       "    <tr>\n",
       "      <th>1789-05-01</th>\n",
       "      <td>0.51</td>\n",
       "      <td>0.51</td>\n",
       "      <td>0.51</td>\n",
       "      <td>0.51</td>\n",
       "      <td>0.0</td>\n",
       "    </tr>\n",
       "    <tr>\n",
       "      <th>1789-06-01</th>\n",
       "      <td>0.51</td>\n",
       "      <td>0.51</td>\n",
       "      <td>0.51</td>\n",
       "      <td>0.51</td>\n",
       "      <td>0.0</td>\n",
       "    </tr>\n",
       "    <tr>\n",
       "      <th>1789-07-01</th>\n",
       "      <td>0.50</td>\n",
       "      <td>0.50</td>\n",
       "      <td>0.50</td>\n",
       "      <td>0.50</td>\n",
       "      <td>0.0</td>\n",
       "    </tr>\n",
       "    <tr>\n",
       "      <th>1789-08-01</th>\n",
       "      <td>0.50</td>\n",
       "      <td>0.51</td>\n",
       "      <td>0.50</td>\n",
       "      <td>0.51</td>\n",
       "      <td>0.0</td>\n",
       "    </tr>\n",
       "    <tr>\n",
       "      <th>1789-09-01</th>\n",
       "      <td>0.51</td>\n",
       "      <td>0.51</td>\n",
       "      <td>0.50</td>\n",
       "      <td>0.51</td>\n",
       "      <td>0.0</td>\n",
       "    </tr>\n",
       "  </tbody>\n",
       "</table>\n",
       "</div>"
      ],
      "text/plain": [
       "            open  high   low  close  volume\n",
       "date                                       \n",
       "1789-05-01  0.51  0.51  0.51   0.51     0.0\n",
       "1789-06-01  0.51  0.51  0.51   0.51     0.0\n",
       "1789-07-01  0.50  0.50  0.50   0.50     0.0\n",
       "1789-08-01  0.50  0.51  0.50   0.51     0.0\n",
       "1789-09-01  0.51  0.51  0.50   0.51     0.0"
      ]
     },
     "execution_count": 14,
     "metadata": {},
     "output_type": "execute_result"
    }
   ],
   "source": [
    "import pandas as pd\n",
    "import numpy as np\n",
    "import matplotlib.pyplot as plt\n",
    "\n",
    "import warnings\n",
    "warnings.filterwarnings(\"ignore\")\n",
    "\n",
    "# Fix the path construction - use forward slashes or raw strings\n",
    "import os\n",
    "\n",
    "# Method 1: Use forward slashes (recommended)\n",
    "path = os.path.abspath(os.path.join(\"..\", \"04_S&P500_quant_analysis\", \"01_data\", \"S&P500_D_1789-05-01_2025-10-10.csv\"))\n",
    "\n",
    "# Alternative Method 2: Use raw string\n",
    "# path = os.path.abspath(os.path.join(\"..\", r\"04_S&P500_quant_analysis\\01_data\", \"S&P500_D_1789-05-01_2025-09-17.csv\"))\n",
    "\n",
    "# Alternative Method 3: Use pathlib (modern approach)\n",
    "# from pathlib import Path\n",
    "# path = Path(\"..\") / \"04_S&P500_quant_analysis\" / \"01_data\" / \"S&P500_D_1789-05-01_2025-09-17.csv\"\n",
    "\n",
    "print(f\"Path exists: {os.path.exists(path)}\")\n",
    "\n",
    "# Read the CSV file\n",
    "df = pd.read_csv(path)\n",
    "\n",
    "# lower case column names for easier access\n",
    "df.columns = [col.lower() for col in df.columns]\n",
    "\n",
    "# Set the 'date' column as the index and convert it to datetime\n",
    "df['date'] = pd.to_datetime(df['date'])\n",
    "df.set_index('date', inplace=True)\n",
    "\n",
    "# Show the first few rows of the dataframe\n",
    "df.head()"
   ]
  },
  {
   "cell_type": "code",
   "execution_count": 15,
   "id": "7f38b4ba",
   "metadata": {},
   "outputs": [
    {
     "name": "stdout",
     "output_type": "stream",
     "text": [
      "<class 'pandas.core.frame.DataFrame'>\n",
      "DatetimeIndex: 17311 entries, 1957-01-02 to 2025-10-10\n",
      "Data columns (total 5 columns):\n",
      " #   Column  Non-Null Count  Dtype  \n",
      "---  ------  --------------  -----  \n",
      " 0   open    17311 non-null  float64\n",
      " 1   high    17311 non-null  float64\n",
      " 2   low     17311 non-null  float64\n",
      " 3   close   17311 non-null  float64\n",
      " 4   volume  17311 non-null  float64\n",
      "dtypes: float64(5)\n",
      "memory usage: 811.5 KB\n"
     ]
    }
   ],
   "source": [
    "# filter DatetimeIndex higher than year 1957\n",
    "df = df[df.index > '1957-01-01']\n",
    "\n",
    "df.info()"
   ]
  },
  {
   "cell_type": "code",
   "execution_count": 16,
   "id": "74375216",
   "metadata": {},
   "outputs": [
    {
     "data": {
      "text/plain": [
       "(17311, 5)"
      ]
     },
     "execution_count": 16,
     "metadata": {},
     "output_type": "execute_result"
    }
   ],
   "source": [
    "df.shape"
   ]
  },
  {
   "cell_type": "code",
   "execution_count": 17,
   "id": "58bd5beb",
   "metadata": {},
   "outputs": [],
   "source": [
    "# # plot close prices over time\n",
    "# plt.figure(figsize=(14, 7))\n",
    "# plt.plot(df.index, df['close'], label='Close Price')\n",
    "# plt.title('S&P 500 Close Prices Over Time')\n",
    "# plt.xlabel('Date')\n",
    "# plt.ylabel('Close Price')\n",
    "# plt.legend()\n",
    "# plt.grid()\n",
    "# plt.show()"
   ]
  },
  {
   "cell_type": "code",
   "execution_count": 18,
   "id": "852ba7f4",
   "metadata": {},
   "outputs": [],
   "source": [
    "# Calculate simple returns with pct_change()\n",
    "simple_returns = df['close'].pct_change().fillna(0)\n",
    "\n",
    "# Calculate log returns\n",
    "log_returns = (1 + simple_returns).apply(np.log)\n",
    "\n",
    "# Cumulative sum of simple returns (not correct for compounding)\n",
    "cumsum_simple = simple_returns.cumsum()"
   ]
  },
  {
   "cell_type": "code",
   "execution_count": 19,
   "id": "932cf3a9",
   "metadata": {},
   "outputs": [
    {
     "data": {
      "text/plain": [
       "date\n",
       "2025-10-06    0.003647\n",
       "2025-10-07   -0.003811\n",
       "2025-10-08    0.005828\n",
       "2025-10-09   -0.002756\n",
       "2025-10-10   -0.027112\n",
       "Name: close, dtype: float64"
      ]
     },
     "execution_count": 19,
     "metadata": {},
     "output_type": "execute_result"
    }
   ],
   "source": [
    "simple_returns.tail()"
   ]
  },
  {
   "cell_type": "code",
   "execution_count": 20,
   "id": "1d3cf92e",
   "metadata": {},
   "outputs": [
    {
     "name": "stdout",
     "output_type": "stream",
     "text": [
      "Top 100 Worst Days:\n",
      "date\n",
      "1987-10-19   -0.204669\n",
      "2020-03-16   -0.119841\n",
      "2020-03-12   -0.095113\n",
      "2008-10-15   -0.090350\n",
      "2008-12-01   -0.089295\n",
      "                ...   \n",
      "2018-10-10   -0.032864\n",
      "2022-06-16   -0.032512\n",
      "2018-12-04   -0.032365\n",
      "2010-05-06   -0.032354\n",
      "2002-09-27   -0.032259\n",
      "Name: close, Length: 100, dtype: float64\n",
      "\n",
      "Top 100 Best Days:\n",
      "date\n",
      "2008-10-13    0.115800\n",
      "2008-10-28    0.107890\n",
      "2025-04-09    0.095154\n",
      "2020-03-24    0.093828\n",
      "2020-03-13    0.092871\n",
      "                ...   \n",
      "2000-10-13    0.033381\n",
      "2000-04-25    0.033276\n",
      "2003-01-02    0.033200\n",
      "2000-04-17    0.033084\n",
      "2010-05-27    0.032876\n",
      "Name: close, Length: 100, dtype: float64\n"
     ]
    }
   ],
   "source": [
    "# top 100 worst days\n",
    "worst_days = simple_returns.nsmallest(100)\n",
    "\n",
    "# top 100 best days\n",
    "best_days = simple_returns.nlargest(100)\n",
    "\n",
    "# print results\n",
    "print(\"Top 100 Worst Days:\")\n",
    "print(worst_days)\n",
    "\n",
    "print(\"\\nTop 100 Best Days:\")\n",
    "print(best_days)"
   ]
  }
 ],
 "metadata": {
  "kernelspec": {
   "display_name": "data",
   "language": "python",
   "name": "python3"
  },
  "language_info": {
   "codemirror_mode": {
    "name": "ipython",
    "version": 3
   },
   "file_extension": ".py",
   "mimetype": "text/x-python",
   "name": "python",
   "nbconvert_exporter": "python",
   "pygments_lexer": "ipython3",
   "version": "3.11.13"
  }
 },
 "nbformat": 4,
 "nbformat_minor": 5
}
