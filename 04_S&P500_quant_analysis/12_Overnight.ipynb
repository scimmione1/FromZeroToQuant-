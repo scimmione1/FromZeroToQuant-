{
 "cells": [
  {
   "cell_type": "code",
   "execution_count": 1,
   "id": "78edd5f4",
   "metadata": {},
   "outputs": [
    {
     "name": "stdout",
     "output_type": "stream",
     "text": [
      "Path exists: True\n"
     ]
    },
    {
     "data": {
      "text/html": [
       "<div>\n",
       "<style scoped>\n",
       "    .dataframe tbody tr th:only-of-type {\n",
       "        vertical-align: middle;\n",
       "    }\n",
       "\n",
       "    .dataframe tbody tr th {\n",
       "        vertical-align: top;\n",
       "    }\n",
       "\n",
       "    .dataframe thead th {\n",
       "        text-align: right;\n",
       "    }\n",
       "</style>\n",
       "<table border=\"1\" class=\"dataframe\">\n",
       "  <thead>\n",
       "    <tr style=\"text-align: right;\">\n",
       "      <th></th>\n",
       "      <th>open</th>\n",
       "      <th>high</th>\n",
       "      <th>low</th>\n",
       "      <th>close</th>\n",
       "      <th>volume</th>\n",
       "    </tr>\n",
       "    <tr>\n",
       "      <th>date</th>\n",
       "      <th></th>\n",
       "      <th></th>\n",
       "      <th></th>\n",
       "      <th></th>\n",
       "      <th></th>\n",
       "    </tr>\n",
       "  </thead>\n",
       "  <tbody>\n",
       "    <tr>\n",
       "      <th>1789-05-01</th>\n",
       "      <td>0.51</td>\n",
       "      <td>0.51</td>\n",
       "      <td>0.51</td>\n",
       "      <td>0.51</td>\n",
       "      <td>0.0</td>\n",
       "    </tr>\n",
       "    <tr>\n",
       "      <th>1789-06-01</th>\n",
       "      <td>0.51</td>\n",
       "      <td>0.51</td>\n",
       "      <td>0.51</td>\n",
       "      <td>0.51</td>\n",
       "      <td>0.0</td>\n",
       "    </tr>\n",
       "    <tr>\n",
       "      <th>1789-07-01</th>\n",
       "      <td>0.50</td>\n",
       "      <td>0.50</td>\n",
       "      <td>0.50</td>\n",
       "      <td>0.50</td>\n",
       "      <td>0.0</td>\n",
       "    </tr>\n",
       "    <tr>\n",
       "      <th>1789-08-01</th>\n",
       "      <td>0.50</td>\n",
       "      <td>0.51</td>\n",
       "      <td>0.50</td>\n",
       "      <td>0.51</td>\n",
       "      <td>0.0</td>\n",
       "    </tr>\n",
       "    <tr>\n",
       "      <th>1789-09-01</th>\n",
       "      <td>0.51</td>\n",
       "      <td>0.51</td>\n",
       "      <td>0.50</td>\n",
       "      <td>0.51</td>\n",
       "      <td>0.0</td>\n",
       "    </tr>\n",
       "  </tbody>\n",
       "</table>\n",
       "</div>"
      ],
      "text/plain": [
       "            open  high   low  close  volume\n",
       "date                                       \n",
       "1789-05-01  0.51  0.51  0.51   0.51     0.0\n",
       "1789-06-01  0.51  0.51  0.51   0.51     0.0\n",
       "1789-07-01  0.50  0.50  0.50   0.50     0.0\n",
       "1789-08-01  0.50  0.51  0.50   0.51     0.0\n",
       "1789-09-01  0.51  0.51  0.50   0.51     0.0"
      ]
     },
     "execution_count": 1,
     "metadata": {},
     "output_type": "execute_result"
    }
   ],
   "source": [
    "import pandas as pd\n",
    "import numpy as np\n",
    "import matplotlib.pyplot as plt\n",
    "\n",
    "import warnings\n",
    "warnings.filterwarnings(\"ignore\")\n",
    "\n",
    "# Fix the path construction - use forward slashes or raw strings\n",
    "import os\n",
    "\n",
    "# Method 1: Use forward slashes (recommended)\n",
    "path = os.path.abspath(os.path.join(\"..\", \"04_S&P500_quant_analysis\", \"01_data\", \"S&P500_D_1789-05-01_2025-10-10.csv\"))\n",
    "\n",
    "# Alternative Method 2: Use raw string\n",
    "# path = os.path.abspath(os.path.join(\"..\", r\"04_S&P500_quant_analysis\\01_data\", \"S&P500_D_1789-05-01_2025-10-10.csv\"))\n",
    "\n",
    "# Alternative Method 3: Use pathlib (modern approach)\n",
    "# from pathlib import Path\n",
    "# path = Path(\"..\") / \"04_S&P500_quant_analysis\" / \"01_data\" / \"S&P500_D_1789-05-01_2025-10-10.csv\"\n",
    "\n",
    "print(f\"Path exists: {os.path.exists(path)}\")\n",
    "\n",
    "# Read the CSV file\n",
    "df = pd.read_csv(path)\n",
    "\n",
    "# lower case column names for easier access\n",
    "df.columns = [col.lower() for col in df.columns]\n",
    "\n",
    "# Set the 'date' column as the index and convert it to datetime\n",
    "df['date'] = pd.to_datetime(df['date'])\n",
    "df.set_index('date', inplace=True)\n",
    "\n",
    "# Show the first few rows of the dataframe\n",
    "df.head()"
   ]
  },
  {
   "cell_type": "code",
   "execution_count": 2,
   "id": "7f38b4ba",
   "metadata": {},
   "outputs": [
    {
     "name": "stdout",
     "output_type": "stream",
     "text": [
      "<class 'pandas.core.frame.DataFrame'>\n",
      "DatetimeIndex: 17311 entries, 1957-01-02 to 2025-10-10\n",
      "Data columns (total 5 columns):\n",
      " #   Column  Non-Null Count  Dtype  \n",
      "---  ------  --------------  -----  \n",
      " 0   open    17311 non-null  float64\n",
      " 1   high    17311 non-null  float64\n",
      " 2   low     17311 non-null  float64\n",
      " 3   close   17311 non-null  float64\n",
      " 4   volume  17311 non-null  float64\n",
      "dtypes: float64(5)\n",
      "memory usage: 811.5 KB\n"
     ]
    }
   ],
   "source": [
    "# filter DatetimeIndex higher than year 1957\n",
    "df = df[df.index > '1957-01-01']\n",
    "\n",
    "df.info()"
   ]
  },
  {
   "cell_type": "code",
   "execution_count": 3,
   "id": "74375216",
   "metadata": {},
   "outputs": [
    {
     "data": {
      "text/plain": [
       "(17311, 5)"
      ]
     },
     "execution_count": 3,
     "metadata": {},
     "output_type": "execute_result"
    }
   ],
   "source": [
    "df.shape"
   ]
  },
  {
   "cell_type": "code",
   "execution_count": 4,
   "id": "58bd5beb",
   "metadata": {},
   "outputs": [],
   "source": [
    "# # plot close prices over time\n",
    "# plt.figure(figsize=(14, 7))\n",
    "# plt.plot(df.index, df['close'], label='Close Price')\n",
    "# plt.title('S&P 500 Close Prices Over Time')\n",
    "# plt.xlabel('Date')\n",
    "# plt.ylabel('Close Price')\n",
    "# plt.legend()\n",
    "# plt.grid()\n",
    "# plt.show()"
   ]
  },
  {
   "cell_type": "code",
   "execution_count": 5,
   "id": "852ba7f4",
   "metadata": {},
   "outputs": [],
   "source": [
    "# Calculate simple returns with pct_change()\n",
    "simple_returns = df['close'].pct_change().fillna(0)\n",
    "\n",
    "# Calculate log returns\n",
    "log_returns = (1 + simple_returns).apply(np.log)\n",
    "\n",
    "# Cumulative sum of simple returns (not correct for compounding)\n",
    "cumsum_simple = simple_returns.cumsum()"
   ]
  },
  {
   "cell_type": "code",
   "execution_count": 6,
   "id": "932cf3a9",
   "metadata": {},
   "outputs": [
    {
     "data": {
      "text/plain": [
       "date\n",
       "2025-10-06    0.003647\n",
       "2025-10-07   -0.003811\n",
       "2025-10-08    0.005828\n",
       "2025-10-09   -0.002756\n",
       "2025-10-10   -0.027112\n",
       "Name: close, dtype: float64"
      ]
     },
     "execution_count": 6,
     "metadata": {},
     "output_type": "execute_result"
    }
   ],
   "source": [
    "simple_returns.tail()"
   ]
  }
 ],
 "metadata": {
  "kernelspec": {
   "display_name": "data",
   "language": "python",
   "name": "python3"
  },
  "language_info": {
   "codemirror_mode": {
    "name": "ipython",
    "version": 3
   },
   "file_extension": ".py",
   "mimetype": "text/x-python",
   "name": "python",
   "nbconvert_exporter": "python",
   "pygments_lexer": "ipython3",
   "version": "3.11.13"
  }
 },
 "nbformat": 4,
 "nbformat_minor": 5
}
