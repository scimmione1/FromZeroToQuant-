{
 "cells": [
  {
   "cell_type": "code",
   "execution_count": null,
   "id": "9bd41513",
   "metadata": {},
   "outputs": [],
   "source": [
    "import pandas as pd\n",
    "from datetime import datetime\n",
    "\n",
    "import yfinance as yf\n",
    "\n",
    "import warnings\n",
    "warnings.filterwarnings(\"ignore\")\n",
    "\n",
    "import datetime as dt\n",
    "import time"
   ]
  },
  {
   "cell_type": "code",
   "execution_count": null,
   "id": "cc2991c2",
   "metadata": {},
   "outputs": [],
   "source": [
    "# portfolio of stocks\n",
    "stocks = ['AAPL', 'MSFT', 'GOOGL', 'AMZN', 'TSLA', 'META', 'NVDA']"
   ]
  },
  {
   "cell_type": "code",
   "execution_count": null,
   "metadata": {},
   "outputs": [],
   "source": [
    "start_date = \"2020-01-01\"\n",
    "end_date = datetime.now().strftime(\"%Y-%m-%d\")\n",
    "\n",
    "# Download historical data from yf API\n",
    "data = yf.download(stocks, start=start_date, end=end_date, group_by='ticker')\n",
    "\n",
    "# download data to csv\n",
    "data.to_csv(\"stocks_data.csv\")"
   ]
  },
  {
   "cell_type": "code",
   "execution_count": null,
   "metadata": {},
   "outputs": [],
   "source": [
    "# Load the CSV with MultiIndex columns (Tickers, OHLCV)\n",
    "df = pd.read_csv(\"stocks_data.csv\", header=[0,1], index_col=0)\n",
    "\n",
    "# Drop any rows that are completely NaN (e.g. 'Date' row)\n",
    "df = df.dropna(how='all')\n",
    "\n",
    "# Convert all values to float\n",
    "df = df.astype(float)\n",
    "\n",
    "# Show the result\n",
    "df.head()"
   ]
  }
 ],
 "metadata": {
  "kernelspec": {
   "display_name": "env_prova",
   "language": "python",
   "name": "python3"
  },
  "language_info": {
   "name": "python",
   "version": "3.9.21"
  }
 },
 "nbformat": 4,
 "nbformat_minor": 5
}
