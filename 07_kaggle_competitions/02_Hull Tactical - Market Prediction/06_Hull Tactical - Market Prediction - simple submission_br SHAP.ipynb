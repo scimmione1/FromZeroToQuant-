{
 "cells": [
  {
   "cell_type": "code",
   "execution_count": 671,
   "id": "39d70b5d",
   "metadata": {},
   "outputs": [],
   "source": [
    "## Imports\n",
    "import os\n",
    "from pathlib import Path\n",
    "import numpy as np\n",
    "import pandas as pd\n",
    "from typing import Tuple, Dict\n",
    "\n",
    "import polars as pl\n",
    "\n",
    "import warnings\n",
    "warnings.filterwarnings('ignore')"
   ]
  },
  {
   "cell_type": "code",
   "execution_count": 672,
   "id": "18d795b9",
   "metadata": {},
   "outputs": [
    {
     "data": {
      "text/plain": [
       "((8990, 98), (10, 99))"
      ]
     },
     "execution_count": 672,
     "metadata": {},
     "output_type": "execute_result"
    }
   ],
   "source": [
    "## Configuration and Data Loading (kaggle_evaluation only)\n",
    "# import kaggle_evaluation.default_inference_server as kdeval\n",
    "# DATA_DIR = Path('/kaggle/input/hull-tactical-market-prediction')\n",
    "\n",
    "## Configuration and Data Loading (local version only)\n",
    "DATA_DIR = Path(\"01_data\")\n",
    "\n",
    "# Read CSV files from data_path\n",
    "TRAIN_PATH = DATA_DIR / 'train.csv'\n",
    "TEST_PATH  = DATA_DIR / 'test.csv'\n",
    "\n",
    "VALIDATION_SIZE = 2700          # days, approx. 30% of data\n",
    "# RANDOM_SEED = 42\n",
    "\n",
    "import random\n",
    "RANDOM_SEED = random.randint(1, 10000)\n",
    "\n",
    "VOL_MULTIPLIER_LIMIT = 1.2\n",
    "VOL_WINDOW = 20\n",
    "\n",
    "def time_split_train_val(df: pd.DataFrame, val_size: int = 2700):\n",
    "    df = df.sort_values('date_id').reset_index(drop=True)\n",
    "    train_df = df.iloc[:-val_size].copy()\n",
    "    val_df   = df.iloc[-val_size:].copy()\n",
    "    return train_df, val_df\n",
    "\n",
    "train_raw = pd.read_csv(TRAIN_PATH)\n",
    "test_raw  = pd.read_csv(TEST_PATH)\n",
    "\n",
    "# lower column names\n",
    "train_raw.columns = [c.lower() for c in train_raw.columns]\n",
    "test_raw.columns  = [c.lower() for c in test_raw.columns]\n",
    "train_raw.shape, test_raw.shape"
   ]
  },
  {
   "cell_type": "code",
   "execution_count": 673,
   "id": "c51e9d7f",
   "metadata": {},
   "outputs": [],
   "source": [
    "# main_features = ['m4', 'm11', 'v13', 's2', 'p6', 'm12', 's1', 'v9', 'e17', 'p7'] # from EDA\n",
    "\n",
    "# # keep only main features in train_raw\n",
    "# train_p = train_raw[['date_id', 'forward_returns', 'risk_free_rate', 'market_forward_excess_returns'] + main_features].copy()\n",
    "# test_p  = test_raw[['date_id'] + main_features].copy()"
   ]
  },
  {
   "cell_type": "code",
   "execution_count": 674,
   "id": "2e5c69fd",
   "metadata": {},
   "outputs": [],
   "source": [
    "# train_p.shape"
   ]
  },
  {
   "cell_type": "code",
   "execution_count": 675,
   "id": "bd7d0f95",
   "metadata": {},
   "outputs": [],
   "source": [
    "# train_p.head()"
   ]
  },
  {
   "cell_type": "code",
   "execution_count": 676,
   "id": "64580af6",
   "metadata": {},
   "outputs": [],
   "source": [
    "# # check for nan in train_p\n",
    "# train_p.isna().sum()"
   ]
  },
  {
   "cell_type": "code",
   "execution_count": 677,
   "id": "941f378b",
   "metadata": {},
   "outputs": [],
   "source": [
    "## Feature Preparation\n",
    "excluded = {'date_id', 'forward_returns', 'risk_free_rate', 'market_forward_excess_returns'}\n",
    "\n",
    "feature_cols = [c for c in train_raw.columns if c not in excluded]\n",
    "# feature_cols = [c for c in train_p.columns if c not in excluded]\n",
    "\n",
    "feature_cols = [c for c in feature_cols if c in test_raw.columns]"
   ]
  },
  {
   "cell_type": "code",
   "execution_count": 678,
   "id": "a4c1191f",
   "metadata": {},
   "outputs": [
    {
     "data": {
      "text/plain": [
       "['d1',\n",
       " 'd2',\n",
       " 'd3',\n",
       " 'd4',\n",
       " 'd5',\n",
       " 'd6',\n",
       " 'd7',\n",
       " 'd8',\n",
       " 'd9',\n",
       " 'e1',\n",
       " 'e10',\n",
       " 'e11',\n",
       " 'e12',\n",
       " 'e13',\n",
       " 'e14',\n",
       " 'e15',\n",
       " 'e16',\n",
       " 'e17',\n",
       " 'e18',\n",
       " 'e19',\n",
       " 'e2',\n",
       " 'e20',\n",
       " 'e3',\n",
       " 'e4',\n",
       " 'e5',\n",
       " 'e6',\n",
       " 'e7',\n",
       " 'e8',\n",
       " 'e9',\n",
       " 'i1',\n",
       " 'i2',\n",
       " 'i3',\n",
       " 'i4',\n",
       " 'i5',\n",
       " 'i6',\n",
       " 'i7',\n",
       " 'i8',\n",
       " 'i9',\n",
       " 'm1',\n",
       " 'm10',\n",
       " 'm11',\n",
       " 'm12',\n",
       " 'm13',\n",
       " 'm14',\n",
       " 'm15',\n",
       " 'm16',\n",
       " 'm17',\n",
       " 'm18',\n",
       " 'm2',\n",
       " 'm3',\n",
       " 'm4',\n",
       " 'm5',\n",
       " 'm6',\n",
       " 'm7',\n",
       " 'm8',\n",
       " 'm9',\n",
       " 'p1',\n",
       " 'p10',\n",
       " 'p11',\n",
       " 'p12',\n",
       " 'p13',\n",
       " 'p2',\n",
       " 'p3',\n",
       " 'p4',\n",
       " 'p5',\n",
       " 'p6',\n",
       " 'p7',\n",
       " 'p8',\n",
       " 'p9',\n",
       " 's1',\n",
       " 's10',\n",
       " 's11',\n",
       " 's12',\n",
       " 's2',\n",
       " 's3',\n",
       " 's4',\n",
       " 's5',\n",
       " 's6',\n",
       " 's7',\n",
       " 's8',\n",
       " 's9',\n",
       " 'v1',\n",
       " 'v10',\n",
       " 'v11',\n",
       " 'v12',\n",
       " 'v13',\n",
       " 'v2',\n",
       " 'v3',\n",
       " 'v4',\n",
       " 'v5',\n",
       " 'v6',\n",
       " 'v7',\n",
       " 'v8',\n",
       " 'v9']"
      ]
     },
     "execution_count": 678,
     "metadata": {},
     "output_type": "execute_result"
    }
   ],
   "source": [
    "feature_cols"
   ]
  },
  {
   "cell_type": "code",
   "execution_count": 679,
   "id": "a9fc3e45",
   "metadata": {},
   "outputs": [],
   "source": [
    "def prepare_df(df: pd.DataFrame, median_map: Dict[str, float], feature_cols: list) -> pd.DataFrame:\n",
    "    \"\"\"\n",
    "    Clean and prepare DataFrame by handling missing values intelligently.\n",
    "    \n",
    "    Strategy:\n",
    "    - Use median imputation for numeric columns with some missing values\n",
    "    - Use zero-fill for columns with very few missing values  \n",
    "    - Only process existing columns (no synthetic data creation)\n",
    "\n",
    "    Median is much less sensitive to extreme values (outliers)\n",
    "    Mean can be heavily skewed by a few very large or very small values\n",
    "    \"\"\"\n",
    "    df = df.copy()\n",
    "    \n",
    "    # Only work with columns that actually exist in the DataFrame\n",
    "    existing_cols = [col for col in feature_cols if col in df.columns]\n",
    "    \n",
    "    if not existing_cols:\n",
    "        return df\n",
    "    \n",
    "    # Calculate missing percentages for existing columns\n",
    "    missing_pct = (df[existing_cols].isnull().sum() / len(df)) * 100\n",
    "    \n",
    "    # Categorize columns by missing percentage\n",
    "    cols_fill_median = missing_pct[(missing_pct > 5) & (missing_pct <= 50)].index.tolist()\n",
    "    cols_fill_zero = missing_pct[missing_pct <= 5].index.tolist()\n",
    "    \n",
    "    # Apply median imputation for moderately missing columns\n",
    "    if cols_fill_median:\n",
    "        for col in cols_fill_median:\n",
    "            median_val = median_map.get(col, df[col].median())\n",
    "            df[col] = df[col].fillna(median_val)\n",
    "    \n",
    "    # Apply zero-fill for low missing columns\n",
    "    if cols_fill_zero:\n",
    "        df[cols_fill_zero] = df[cols_fill_zero].fillna(0)\n",
    "    \n",
    "    # Ensure all columns are numeric\n",
    "    for col in existing_cols:\n",
    "        if df[col].dtype == 'object':\n",
    "            df[col] = pd.to_numeric(df[col], errors='coerce').fillna(0)\n",
    "    \n",
    "    return df"
   ]
  },
  {
   "cell_type": "code",
   "execution_count": 680,
   "id": "cdc29fd0",
   "metadata": {},
   "outputs": [
    {
     "name": "stdout",
     "output_type": "stream",
     "text": [
      "Number of features: 94\n"
     ]
    }
   ],
   "source": [
    "## Train / Validation Split and Median Imputation\n",
    "train_df, val_df = time_split_train_val(train_raw, val_size=VALIDATION_SIZE)\n",
    "\n",
    "median_map = {c: float(train_df[c].median(skipna=True)) if train_df[c].dtype.kind in 'fiu' else 0.0 \n",
    "              for c in feature_cols}\n",
    "\n",
    "train_p = prepare_df(train_df, median_map, feature_cols)\n",
    "val_p   = prepare_df(val_df, median_map, feature_cols)\n",
    "test_p  = prepare_df(test_raw, median_map, feature_cols)\n",
    "\n",
    "# Use only the actual feature columns (no synthetic _was_na columns)\n",
    "final_features = [c for c in feature_cols if c in train_p.columns]\n",
    "print(\"Number of features:\", len(final_features))"
   ]
  },
  {
   "cell_type": "code",
   "execution_count": 681,
   "id": "b58e62ad",
   "metadata": {},
   "outputs": [],
   "source": [
    "# train_p.head()"
   ]
  },
  {
   "cell_type": "code",
   "execution_count": 682,
   "id": "54eb7391",
   "metadata": {},
   "outputs": [
    {
     "name": "stdout",
     "output_type": "stream",
     "text": [
      "Index(['date_id', 'd1', 'd2', 'd3', 'd4', 'd5', 'd6', 'd7', 'd8', 'd9', 'e1',\n",
      "       'e10', 'e11', 'e12', 'e13', 'e14', 'e15', 'e16', 'e17', 'e18', 'e19',\n",
      "       'e2', 'e20', 'e3', 'e4', 'e5', 'e6', 'e7', 'e8', 'e9', 'i1', 'i2', 'i3',\n",
      "       'i4', 'i5', 'i6', 'i7', 'i8', 'i9', 'm1', 'm10', 'm11', 'm12', 'm13',\n",
      "       'm14', 'm15', 'm16', 'm17', 'm18', 'm2', 'm3', 'm4', 'm5', 'm6', 'm7',\n",
      "       'm8', 'm9', 'p1', 'p10', 'p11', 'p12', 'p13', 'p2', 'p3', 'p4', 'p5',\n",
      "       'p6', 'p7', 'p8', 'p9', 's1', 's10', 's11', 's12', 's2', 's3', 's4',\n",
      "       's5', 's6', 's7', 's8', 's9', 'v1', 'v10', 'v11', 'v12', 'v13', 'v2',\n",
      "       'v3', 'v4', 'v5', 'v6', 'v7', 'v8', 'v9', 'forward_returns',\n",
      "       'risk_free_rate', 'market_forward_excess_returns'],\n",
      "      dtype='object')\n"
     ]
    }
   ],
   "source": [
    "print(train_p.columns)"
   ]
  },
  {
   "cell_type": "code",
   "execution_count": 683,
   "id": "cc84dbbf",
   "metadata": {},
   "outputs": [
    {
     "data": {
      "text/plain": [
       "['d1',\n",
       " 'd2',\n",
       " 'd3',\n",
       " 'd4',\n",
       " 'd5',\n",
       " 'd6',\n",
       " 'd7',\n",
       " 'd8',\n",
       " 'd9',\n",
       " 'e1',\n",
       " 'e10',\n",
       " 'e11',\n",
       " 'e12',\n",
       " 'e13',\n",
       " 'e14',\n",
       " 'e15',\n",
       " 'e16',\n",
       " 'e17',\n",
       " 'e18',\n",
       " 'e19',\n",
       " 'e2',\n",
       " 'e20',\n",
       " 'e3',\n",
       " 'e4',\n",
       " 'e5',\n",
       " 'e6',\n",
       " 'e7',\n",
       " 'e8',\n",
       " 'e9',\n",
       " 'i1',\n",
       " 'i2',\n",
       " 'i3',\n",
       " 'i4',\n",
       " 'i5',\n",
       " 'i6',\n",
       " 'i7',\n",
       " 'i8',\n",
       " 'i9',\n",
       " 'm1',\n",
       " 'm10',\n",
       " 'm11',\n",
       " 'm12',\n",
       " 'm13',\n",
       " 'm14',\n",
       " 'm15',\n",
       " 'm16',\n",
       " 'm17',\n",
       " 'm18',\n",
       " 'm2',\n",
       " 'm3',\n",
       " 'm4',\n",
       " 'm5',\n",
       " 'm6',\n",
       " 'm7',\n",
       " 'm8',\n",
       " 'm9',\n",
       " 'p1',\n",
       " 'p10',\n",
       " 'p11',\n",
       " 'p12',\n",
       " 'p13',\n",
       " 'p2',\n",
       " 'p3',\n",
       " 'p4',\n",
       " 'p5',\n",
       " 'p6',\n",
       " 'p7',\n",
       " 'p8',\n",
       " 'p9',\n",
       " 's1',\n",
       " 's10',\n",
       " 's11',\n",
       " 's12',\n",
       " 's2',\n",
       " 's3',\n",
       " 's4',\n",
       " 's5',\n",
       " 's6',\n",
       " 's7',\n",
       " 's8',\n",
       " 's9',\n",
       " 'v1',\n",
       " 'v10',\n",
       " 'v11',\n",
       " 'v12',\n",
       " 'v13',\n",
       " 'v2',\n",
       " 'v3',\n",
       " 'v4',\n",
       " 'v5',\n",
       " 'v6',\n",
       " 'v7',\n",
       " 'v8',\n",
       " 'v9']"
      ]
     },
     "execution_count": 683,
     "metadata": {},
     "output_type": "execute_result"
    }
   ],
   "source": [
    "final_features"
   ]
  },
  {
   "cell_type": "code",
   "execution_count": 684,
   "id": "dc67f9a8",
   "metadata": {},
   "outputs": [],
   "source": [
    "# # print head(10) for columns 'v13' and 'v13_was_na' to check values\n",
    "# print(train_p[['v13', 'v13_was_na']].head(10))"
   ]
  },
  {
   "cell_type": "code",
   "execution_count": 685,
   "id": "2c9d2dc8",
   "metadata": {},
   "outputs": [
    {
     "name": "stdout",
     "output_type": "stream",
     "text": [
      "NaN values in X_train: 54318\n",
      "NaN values in y_train: 0\n",
      "After filling NaN values:\n",
      "NaN values in X_train: 0\n",
      "NaN values in y_train: 0\n",
      "NaN values in X_val: 0\n",
      "NaN values in y_val: 0\n"
     ]
    }
   ],
   "source": [
    "# === Bayesian Ridge Training ===\n",
    "from sklearn.linear_model import BayesianRidge\n",
    "from sklearn.metrics import mean_squared_error\n",
    "\n",
    "# Prepara i dati (usando gli stessi DataFrame)\n",
    "X_train = train_p[final_features]\n",
    "y_train = train_p['forward_returns']\n",
    "X_val   = val_p[final_features]\n",
    "y_val   = val_p['forward_returns']\n",
    "\n",
    "# Check for NaN values and handle them\n",
    "print(f\"NaN values in X_train: {X_train.isnull().sum().sum()}\")\n",
    "print(f\"NaN values in y_train: {y_train.isnull().sum()}\")\n",
    "\n",
    "# Fill any remaining NaN values\n",
    "X_train = X_train.fillna(0)\n",
    "y_train = y_train.fillna(0)\n",
    "X_val = X_val.fillna(0)\n",
    "y_val = y_val.fillna(0)\n",
    "\n",
    "# count nan in X_train, y_train, X_val, y_val\n",
    "print(f\"After filling NaN values:\")\n",
    "print(f\"NaN values in X_train: {X_train.isnull().sum().sum()}\")\n",
    "print(f\"NaN values in y_train: {y_train.isnull().sum()}\")\n",
    "print(f\"NaN values in X_val: {X_val.isnull().sum().sum()}\")\n",
    "print(f\"NaN values in y_val: {y_val.isnull().sum()}\")"
   ]
  },
  {
   "cell_type": "code",
   "execution_count": 686,
   "id": "0c814528",
   "metadata": {},
   "outputs": [
    {
     "name": "stdout",
     "output_type": "stream",
     "text": [
      "Validation RMSE: 0.010282\n"
     ]
    }
   ],
   "source": [
    "# Crea e allena il modello\n",
    "model = BayesianRidge()\n",
    "model.fit(X_train, y_train)\n",
    "\n",
    "# Valutazione sul validation set\n",
    "val_pred = model.predict(X_val)\n",
    "rmse_val = np.sqrt(mean_squared_error(y_val, val_pred))\n",
    "print(f\"Validation RMSE: {rmse_val:.6f}\")"
   ]
  },
  {
   "cell_type": "code",
   "execution_count": 687,
   "id": "5e627045",
   "metadata": {},
   "outputs": [
    {
     "name": "stdout",
     "output_type": "stream",
     "text": [
      "Market annualized volatility: 0.1698\n",
      "Chosen scaling factor k=5.000 | Validation Sharpe=0.64\n"
     ]
    }
   ],
   "source": [
    "# === Volatility Scaling Calibration (BayesianRidge version) ===\n",
    "def strategy_stats(returns, exposures):\n",
    "    \"\"\"Compute Sharpe and volatility for a given exposure series.\"\"\"\n",
    "    strat = exposures * returns\n",
    "    mean = np.nanmean(strat)\n",
    "    std  = np.nanstd(strat)\n",
    "    sharpe = (mean / (std + 1e-9)) * np.sqrt(252)\n",
    "    vol = std * np.sqrt(252)\n",
    "    return {'sharpe': sharpe, 'vol': vol}\n",
    "\n",
    "# Ensure validation data has no NaN values\n",
    "val_features_clean = val_p[final_features].fillna(0)\n",
    "\n",
    "# Predict mean and std (Bayesian posterior uncertainty)\n",
    "val_pred_mean, val_pred_std = model.predict(val_features_clean, return_std=True)\n",
    "\n",
    "# Define market volatility for scaling reference\n",
    "market_vol = np.nanstd(train_p['forward_returns']) * np.sqrt(252)\n",
    "print(f\"Market annualized volatility: {market_vol:.4f}\")\n",
    "\n",
    "# We'll use a dynamic confidence weight: confidence = 1 / (1 + std)\n",
    "confidence = 1 / (1 + val_pred_std)\n",
    "val_conf_adj = val_pred_mean * confidence  # lower exposure when uncertainty is high\n",
    "\n",
    "# Grid search for best scaling factor k (Sharpe ratio under vol constraint)\n",
    "best_k, best_sharpe = 0.1, -1e9\n",
    "for k in np.linspace(0.01, 5.0, 100):\n",
    "    exposures = np.clip((k * val_conf_adj), 0, 2)\n",
    "    stats = strategy_stats(val_p['forward_returns'], exposures)\n",
    "    if stats['vol'] <= VOL_MULTIPLIER_LIMIT * market_vol and stats['sharpe'] > best_sharpe:\n",
    "        best_k = k\n",
    "        best_sharpe = stats['sharpe']\n",
    "\n",
    "print(f\"Chosen scaling factor k={best_k:.3f} | Validation Sharpe={best_sharpe:.2f}\")"
   ]
  },
  {
   "cell_type": "code",
   "execution_count": 688,
   "id": "65262718",
   "metadata": {},
   "outputs": [
    {
     "name": "stdout",
     "output_type": "stream",
     "text": [
      "Saved submission_br.csv\n"
     ]
    }
   ],
   "source": [
    "## Test Predictions + Smoothing\n",
    "test_features_clean = test_p[final_features].fillna(0)\n",
    "test_pred = model.predict(test_features_clean)\n",
    "\n",
    "alpha = 0.8\n",
    "smoothed_allocation = []\n",
    "prev = 0.0\n",
    "for x in np.clip(best_k * test_pred, 0, 2):\n",
    "    s = alpha * x + (1 - alpha) * prev\n",
    "    smoothed_allocation.append(s)\n",
    "    prev = s\n",
    "smoothed_allocation = np.array(smoothed_allocation)\n",
    "\n",
    "# replace in final submission\n",
    "submission_df = pd.DataFrame({\n",
    "    'date_id': test_p['date_id'],\n",
    "    'prediction': smoothed_allocation  \n",
    "})\n",
    "# submission_df.to_csv(\"submission_br.csv\", index=False)\n",
    "print(\"Saved submission_br.csv\")"
   ]
  },
  {
   "cell_type": "code",
   "execution_count": 689,
   "id": "40188a38",
   "metadata": {},
   "outputs": [
    {
     "name": "stdout",
     "output_type": "stream",
     "text": [
      "Creating SHAP explainer for Bayesian Ridge model...\n",
      "\n",
      "Top 20 Most Important Features (SHAP values):\n",
      "   feature  importance\n",
      "50      m4    0.000546\n",
      "85     v13    0.000514\n",
      "40     m11    0.000488\n",
      "73      s2    0.000410\n",
      "27      e8    0.000401\n",
      "55      m9    0.000347\n",
      "20      e2    0.000253\n",
      "66      p7    0.000244\n",
      "3       d4    0.000237\n",
      "22      e3    0.000200\n",
      "41     m12    0.000192\n",
      "65      p6    0.000191\n",
      "58     p11    0.000191\n",
      "48      m2    0.000180\n",
      "69      s1    0.000176\n",
      "67      p8    0.000158\n",
      "30      i2    0.000148\n",
      "59     p12    0.000140\n",
      "61      p2    0.000136\n",
      "49      m3    0.000131\n"
     ]
    }
   ],
   "source": [
    "# Install shap if not already installed: pip install shap\n",
    "import shap\n",
    "\n",
    "print(\"Creating SHAP explainer for Bayesian Ridge model...\")\n",
    "\n",
    "# For linear models like BayesianRidge, we can use the Linear explainer\n",
    "explainer = shap.LinearExplainer(model, X_train)\n",
    "shap_values = explainer.shap_values(X_train)\n",
    "\n",
    "# # Alternative: Use the general Explainer (slower but works for any model)\n",
    "# explainer = shap.Explainer(model, X_train)\n",
    "# shap_values = explainer(X_train)\n",
    "\n",
    "# Get feature importance as mean absolute SHAP values\n",
    "feature_importance_shap = pd.DataFrame({\n",
    "'feature': X_train.columns,\n",
    "'importance': np.abs(shap_values).mean(axis=0)\n",
    "}).sort_values('importance', ascending=False)\n",
    "\n",
    "print(\"\\nTop 20 Most Important Features (SHAP values):\")\n",
    "print(feature_importance_shap.head(20))\n",
    "\n",
    "# Plot SHAP summary\n",
    "# shap.summary_plot(shap_values, X_train, show=False)"
   ]
  },
  {
   "cell_type": "code",
   "execution_count": 690,
   "id": "0917938b",
   "metadata": {},
   "outputs": [
    {
     "data": {
      "image/png": "[encoded data removed]",
      "text/plain": [
       "<Figure size 640x480 with 1 Axes>"
      ]
     },
     "metadata": {},
     "output_type": "display_data"
    }
   ],
   "source": [
    "# Show feature importance plot\n",
    "import matplotlib.pyplot as plt\n",
    "plt.barh(feature_importance_shap['feature'][:20], feature_importance_shap['importance'][:20])\n",
    "plt.title(\"Feature Importance (SHAP Values)\")\n",
    "plt.tight_layout()\n",
    "plt.show()"
   ]
  },
  {
   "cell_type": "code",
   "execution_count": 691,
   "id": "5d7f28db",
   "metadata": {},
   "outputs": [
    {
     "name": "stdout",
     "output_type": "stream",
     "text": [
      "\n",
      "Generating detailed SHAP summary plot...\n"
     ]
    },
    {
     "data": {
      "image/png": "[encoded data removed]",
      "text/plain": [
       "<Figure size 800x750 with 2 Axes>"
      ]
     },
     "metadata": {},
     "output_type": "display_data"
    }
   ],
   "source": [
    "# Optional: Create a more detailed summary plot\n",
    "print(\"\\nGenerating detailed SHAP summary plot...\")\n",
    "shap.summary_plot(shap_values, X_train, max_display=15, show=False)\n",
    "plt.title(\"SHAP Summary Plot - Feature Impact on Model Output\")\n",
    "plt.tight_layout()\n",
    "plt.show()"
   ]
  },
  {
   "cell_type": "code",
   "execution_count": 692,
   "id": "bf63d327",
   "metadata": {},
   "outputs": [
    {
     "name": "stdout",
     "output_type": "stream",
     "text": [
      "\n",
      "Model Coefficients (for comparison):\n",
      "   feature  coefficient  abs_coefficient\n",
      "50      m4    -0.000809         0.000809\n",
      "85     v13     0.000639         0.000639\n",
      "40     m11     0.000606         0.000606\n",
      "73      s2    -0.000549         0.000549\n",
      "3       d4     0.000499         0.000499\n",
      "0       d1     0.000494         0.000494\n",
      "1       d2     0.000494         0.000494\n",
      "27      e8    -0.000468         0.000468\n",
      "65      p6    -0.000411         0.000411\n",
      "48      m2     0.000394         0.000394\n",
      "7       d8     0.000375         0.000375\n",
      "55      m9     0.000358         0.000358\n",
      "67      p8    -0.000343         0.000343\n",
      "66      p7     0.000342         0.000342\n",
      "72     s12     0.000339         0.000339\n",
      "60     p13    -0.000308         0.000308\n",
      "93      v9    -0.000291         0.000291\n",
      "4       d5     0.000285         0.000285\n",
      "56      p1    -0.000263         0.000263\n",
      "79      s8     0.000251         0.000251\n"
     ]
    }
   ],
   "source": [
    "# Print model coefficients for comparison\n",
    "print(\"\\nModel Coefficients (for comparison):\")\n",
    "coef_importance = pd.DataFrame({\n",
    "'feature': X_train.columns,\n",
    "'coefficient': model.coef_,\n",
    "'abs_coefficient': np.abs(model.coef_)\n",
    "}).sort_values('abs_coefficient', ascending=False)\n",
    "\n",
    "print(coef_importance.head(20))"
   ]
  },
  {
   "cell_type": "code",
   "execution_count": 693,
   "id": "cb838fd3",
   "metadata": {},
   "outputs": [],
   "source": [
    "\"\"\"\n",
    "Kaggle Evaluation Metric:\n",
    "\n",
    "strategy_returns = risk_free_rate * (1 - position) + position * forward_returns\n",
    "\n",
    "if position = 0 → invest in risk-free asset,\n",
    "\n",
    "if position = 1 → invest like the market,\n",
    "\n",
    "if position = 2 → you are leveraged ×2 on the market.\n",
    "\n",
    "\n",
    "def score():\n",
    "\n",
    "strategy_returns = rf * (1 - pos) + pos * fwd_returns\n",
    "\n",
    "In the code, the calibration seeks the best Sharpe of the portfolio exposed to pos by calculating:\n",
    "\n",
    "strat = exposures * returns\n",
    "\"\"\";"
   ]
  },
  {
   "cell_type": "code",
   "execution_count": 694,
   "id": "f6b6992d",
   "metadata": {},
   "outputs": [],
   "source": [
    "# # === Kaggle Inference Server Wrapper (BayesianRidge version) ===\n",
    "\n",
    "# _model = model                     # BayesianRidge fitted model\n",
    "# _best_k = best_k                   # scaling factor from validation calibration\n",
    "# _history_returns = list(train_p['forward_returns'].iloc[-VOL_WINDOW:].tolist())\n",
    "\n",
    "# def predict(pl_df: pl.DataFrame) -> float:\n",
    "#     \"\"\"Predict allocation for one timestep (Kaggle competition API).\"\"\"\n",
    "#     global _history_returns\n",
    "#     # Convert Polars → Pandas\n",
    "#     pdf = pl_df.to_pandas()\n",
    "    \n",
    "#     # Apply same preprocessing\n",
    "#     pdf_p = prepare_df(pdf, median_map, feature_cols)\n",
    "#     for f in final_features:\n",
    "#         if f not in pdf_p.columns:\n",
    "#             pdf_p[f] = 0.0\n",
    "    \n",
    "#     # Convert to NumPy and predict\n",
    "#     x = pdf_p[final_features].to_numpy()\n",
    "\n",
    "#     \"\"\"\n",
    "#     added standard deviation based confidence adjustment\n",
    "#     to reduce allocation when uncertainty is high\n",
    "#     \"\"\"\n",
    "\n",
    "#     pred, std = model.predict(x, return_std=True)\n",
    "    \n",
    "#     # Compute rolling volatility estimate\n",
    "#     vol_est = np.std(_history_returns) or 1e-3\n",
    "#     confidence = 1 / (1 + std)\n",
    "#     alloc = float(np.clip(_best_k * pred * confidence / (vol_est + 1e-9), 0, 2))\n",
    "    \n",
    "#     # Update history (for volatility tracking)\n",
    "#     if 'lagged_forward_returns' in pl_df.columns:\n",
    "#         try:\n",
    "#             _history_returns.append(float(pl_df['lagged_forward_returns'][0]))\n",
    "#         except:\n",
    "#             _history_returns.append(0.0)\n",
    "#     else:\n",
    "#         _history_returns.append(0.0)\n",
    "    \n",
    "#     # Keep only the last VOL_WINDOW entries\n",
    "#     _history_returns = _history_returns[-VOL_WINDOW:]\n",
    "#     return alloc\n",
    "\n",
    "# # Instantiate the Kaggle inference server\n",
    "# server = kdeval.DefaultInferenceServer(predict)\n",
    "\n",
    "# if os.getenv('KAGGLE_IS_COMPETITION_RERUN'):\n",
    "#     server.serve()\n",
    "# else:\n",
    "#     server.run_local_gateway((str(DATA_DIR),))\n"
   ]
  },
  {
   "cell_type": "code",
   "execution_count": null,
   "id": "153d9153",
   "metadata": {},
   "outputs": [],
   "source": []
  },
  {
   "cell_type": "code",
   "execution_count": null,
   "id": "3bbcbe9a",
   "metadata": {},
   "outputs": [],
   "source": []
  },
  {
   "cell_type": "code",
   "execution_count": null,
   "id": "b115cdd9",
   "metadata": {},
   "outputs": [],
   "source": []
  },
  {
   "cell_type": "code",
   "execution_count": null,
   "id": "58021807",
   "metadata": {},
   "outputs": [],
   "source": []
  },
  {
   "cell_type": "code",
   "execution_count": null,
   "id": "e138d4ab",
   "metadata": {},
   "outputs": [],
   "source": []
  }
 ],
 "metadata": {
  "kernelspec": {
   "display_name": "ml",
   "language": "python",
   "name": "python3"
  },
  "language_info": {
   "codemirror_mode": {
    "name": "ipython",
    "version": 3
   },
   "file_extension": ".py",
   "mimetype": "text/x-python",
   "name": "python",
   "nbconvert_exporter": "python",
   "pygments_lexer": "ipython3",
   "version": "3.11.13"
  }
 },
 "nbformat": 4,
 "nbformat_minor": 5
}
