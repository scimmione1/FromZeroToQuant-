{
 "cells": [
  {
   "cell_type": "code",
   "execution_count": 40,
   "id": "b3b13100",
   "metadata": {},
   "outputs": [],
   "source": [
    "# import libraries\n",
    "import numpy as np\n",
    "import pandas as pd\n",
    "\n",
    "from warnings import filterwarnings\n",
    "filterwarnings(\"ignore\")\n",
    "\n",
    "from pathlib import Path"
   ]
  },
  {
   "cell_type": "code",
   "execution_count": 41,
   "id": "e78e25f7",
   "metadata": {},
   "outputs": [
    {
     "name": "stdout",
     "output_type": "stream",
     "text": [
      "- train.csv: (8990, 98)\n",
      "- test.csv: (10, 99)\n"
     ]
    }
   ],
   "source": [
    "# Set relative path to the dataset folder\n",
    "data_path = Path(\"01_data\")\n",
    "\n",
    "# Read CSV files from data_path\n",
    "train = pd.read_csv(data_path/'train.csv')\n",
    "test = pd.read_csv(data_path/'test.csv')\n",
    "\n",
    "print(f\"- train.csv: {train.shape}\")\n",
    "print(f\"- test.csv: {test.shape}\")\n",
    "\n",
    "# Clean column names for all DataFrames: apply lower() and strip()\n",
    "# Store original columns for reference\n",
    "original_train_cols = train.columns.tolist()\n",
    "original_test_cols = test.columns.tolist()\n",
    "\n",
    "# Clean column names\n",
    "train.columns = train.columns.str.lower().str.strip()\n",
    "test.columns = test.columns.str.lower().str.strip()"
   ]
  },
  {
   "cell_type": "code",
   "execution_count": 42,
   "id": "a1477d9f",
   "metadata": {},
   "outputs": [
    {
     "data": {
      "text/html": [
       "<div>\n",
       "<style scoped>\n",
       "    .dataframe tbody tr th:only-of-type {\n",
       "        vertical-align: middle;\n",
       "    }\n",
       "\n",
       "    .dataframe tbody tr th {\n",
       "        vertical-align: top;\n",
       "    }\n",
       "\n",
       "    .dataframe thead th {\n",
       "        text-align: right;\n",
       "    }\n",
       "</style>\n",
       "<table border=\"1\" class=\"dataframe\">\n",
       "  <thead>\n",
       "    <tr style=\"text-align: right;\">\n",
       "      <th></th>\n",
       "      <th>date_id</th>\n",
       "      <th>d1</th>\n",
       "      <th>d2</th>\n",
       "      <th>d3</th>\n",
       "      <th>d4</th>\n",
       "      <th>d5</th>\n",
       "      <th>d6</th>\n",
       "      <th>d7</th>\n",
       "      <th>d8</th>\n",
       "      <th>d9</th>\n",
       "      <th>...</th>\n",
       "      <th>v3</th>\n",
       "      <th>v4</th>\n",
       "      <th>v5</th>\n",
       "      <th>v6</th>\n",
       "      <th>v7</th>\n",
       "      <th>v8</th>\n",
       "      <th>v9</th>\n",
       "      <th>forward_returns</th>\n",
       "      <th>risk_free_rate</th>\n",
       "      <th>market_forward_excess_returns</th>\n",
       "    </tr>\n",
       "  </thead>\n",
       "  <tbody>\n",
       "    <tr>\n",
       "      <th>0</th>\n",
       "      <td>0</td>\n",
       "      <td>0</td>\n",
       "      <td>0</td>\n",
       "      <td>0</td>\n",
       "      <td>1</td>\n",
       "      <td>1</td>\n",
       "      <td>0</td>\n",
       "      <td>0</td>\n",
       "      <td>0</td>\n",
       "      <td>1</td>\n",
       "      <td>...</td>\n",
       "      <td>NaN</td>\n",
       "      <td>NaN</td>\n",
       "      <td>NaN</td>\n",
       "      <td>NaN</td>\n",
       "      <td>NaN</td>\n",
       "      <td>NaN</td>\n",
       "      <td>NaN</td>\n",
       "      <td>-0.002421</td>\n",
       "      <td>0.000301</td>\n",
       "      <td>-0.003038</td>\n",
       "    </tr>\n",
       "    <tr>\n",
       "      <th>1</th>\n",
       "      <td>1</td>\n",
       "      <td>0</td>\n",
       "      <td>0</td>\n",
       "      <td>0</td>\n",
       "      <td>1</td>\n",
       "      <td>1</td>\n",
       "      <td>0</td>\n",
       "      <td>0</td>\n",
       "      <td>0</td>\n",
       "      <td>1</td>\n",
       "      <td>...</td>\n",
       "      <td>NaN</td>\n",
       "      <td>NaN</td>\n",
       "      <td>NaN</td>\n",
       "      <td>NaN</td>\n",
       "      <td>NaN</td>\n",
       "      <td>NaN</td>\n",
       "      <td>NaN</td>\n",
       "      <td>-0.008495</td>\n",
       "      <td>0.000303</td>\n",
       "      <td>-0.009114</td>\n",
       "    </tr>\n",
       "    <tr>\n",
       "      <th>2</th>\n",
       "      <td>2</td>\n",
       "      <td>0</td>\n",
       "      <td>0</td>\n",
       "      <td>0</td>\n",
       "      <td>1</td>\n",
       "      <td>0</td>\n",
       "      <td>0</td>\n",
       "      <td>0</td>\n",
       "      <td>0</td>\n",
       "      <td>1</td>\n",
       "      <td>...</td>\n",
       "      <td>NaN</td>\n",
       "      <td>NaN</td>\n",
       "      <td>NaN</td>\n",
       "      <td>NaN</td>\n",
       "      <td>NaN</td>\n",
       "      <td>NaN</td>\n",
       "      <td>NaN</td>\n",
       "      <td>-0.009624</td>\n",
       "      <td>0.000301</td>\n",
       "      <td>-0.010243</td>\n",
       "    </tr>\n",
       "    <tr>\n",
       "      <th>3</th>\n",
       "      <td>3</td>\n",
       "      <td>0</td>\n",
       "      <td>0</td>\n",
       "      <td>0</td>\n",
       "      <td>1</td>\n",
       "      <td>0</td>\n",
       "      <td>0</td>\n",
       "      <td>0</td>\n",
       "      <td>0</td>\n",
       "      <td>0</td>\n",
       "      <td>...</td>\n",
       "      <td>NaN</td>\n",
       "      <td>NaN</td>\n",
       "      <td>NaN</td>\n",
       "      <td>NaN</td>\n",
       "      <td>NaN</td>\n",
       "      <td>NaN</td>\n",
       "      <td>NaN</td>\n",
       "      <td>0.004662</td>\n",
       "      <td>0.000299</td>\n",
       "      <td>0.004046</td>\n",
       "    </tr>\n",
       "    <tr>\n",
       "      <th>4</th>\n",
       "      <td>4</td>\n",
       "      <td>0</td>\n",
       "      <td>0</td>\n",
       "      <td>0</td>\n",
       "      <td>1</td>\n",
       "      <td>0</td>\n",
       "      <td>0</td>\n",
       "      <td>0</td>\n",
       "      <td>0</td>\n",
       "      <td>0</td>\n",
       "      <td>...</td>\n",
       "      <td>NaN</td>\n",
       "      <td>NaN</td>\n",
       "      <td>NaN</td>\n",
       "      <td>NaN</td>\n",
       "      <td>NaN</td>\n",
       "      <td>NaN</td>\n",
       "      <td>NaN</td>\n",
       "      <td>-0.011686</td>\n",
       "      <td>0.000299</td>\n",
       "      <td>-0.012301</td>\n",
       "    </tr>\n",
       "  </tbody>\n",
       "</table>\n",
       "<p>5 rows × 98 columns</p>\n",
       "</div>"
      ],
      "text/plain": [
       "   date_id  d1  d2  d3  d4  d5  d6  d7  d8  d9  ...  v3  v4  v5  v6  v7  v8  \\\n",
       "0        0   0   0   0   1   1   0   0   0   1  ... NaN NaN NaN NaN NaN NaN   \n",
       "1        1   0   0   0   1   1   0   0   0   1  ... NaN NaN NaN NaN NaN NaN   \n",
       "2        2   0   0   0   1   0   0   0   0   1  ... NaN NaN NaN NaN NaN NaN   \n",
       "3        3   0   0   0   1   0   0   0   0   0  ... NaN NaN NaN NaN NaN NaN   \n",
       "4        4   0   0   0   1   0   0   0   0   0  ... NaN NaN NaN NaN NaN NaN   \n",
       "\n",
       "   v9  forward_returns  risk_free_rate  market_forward_excess_returns  \n",
       "0 NaN        -0.002421        0.000301                      -0.003038  \n",
       "1 NaN        -0.008495        0.000303                      -0.009114  \n",
       "2 NaN        -0.009624        0.000301                      -0.010243  \n",
       "3 NaN         0.004662        0.000299                       0.004046  \n",
       "4 NaN        -0.011686        0.000299                      -0.012301  \n",
       "\n",
       "[5 rows x 98 columns]"
      ]
     },
     "execution_count": 42,
     "metadata": {},
     "output_type": "execute_result"
    }
   ],
   "source": [
    "train.head()"
   ]
  },
  {
   "cell_type": "code",
   "execution_count": 43,
   "id": "1989e3e6",
   "metadata": {},
   "outputs": [
    {
     "data": {
      "text/plain": [
       "Index(['date_id', 'd1', 'd2', 'd3', 'd4', 'd5', 'd6', 'd7', 'd8', 'd9', 'e1',\n",
       "       'e10', 'e11', 'e12', 'e13', 'e14', 'e15', 'e16', 'e17', 'e18', 'e19',\n",
       "       'e2', 'e20', 'e3', 'e4', 'e5', 'e6', 'e7', 'e8', 'e9', 'i1', 'i2', 'i3',\n",
       "       'i4', 'i5', 'i6', 'i7', 'i8', 'i9', 'm1', 'm10', 'm11', 'm12', 'm13',\n",
       "       'm14', 'm15', 'm16', 'm17', 'm18', 'm2', 'm3', 'm4', 'm5', 'm6', 'm7',\n",
       "       'm8', 'm9', 'p1', 'p10', 'p11', 'p12', 'p13', 'p2', 'p3', 'p4', 'p5',\n",
       "       'p6', 'p7', 'p8', 'p9', 's1', 's10', 's11', 's12', 's2', 's3', 's4',\n",
       "       's5', 's6', 's7', 's8', 's9', 'v1', 'v10', 'v11', 'v12', 'v13', 'v2',\n",
       "       'v3', 'v4', 'v5', 'v6', 'v7', 'v8', 'v9', 'forward_returns',\n",
       "       'risk_free_rate', 'market_forward_excess_returns'],\n",
       "      dtype='object')"
      ]
     },
     "execution_count": 43,
     "metadata": {},
     "output_type": "execute_result"
    }
   ],
   "source": [
    "train.columns"
   ]
  },
  {
   "cell_type": "code",
   "execution_count": 44,
   "id": "d82dc596",
   "metadata": {},
   "outputs": [],
   "source": [
    "# print(train.forward_returns.sample(3))\n",
    "# print(train.forward_returns.sample(3))\n",
    "# print(train.market_forward_excess_returns.sample(3))"
   ]
  },
  {
   "cell_type": "code",
   "execution_count": 45,
   "id": "20b4b09c",
   "metadata": {},
   "outputs": [],
   "source": [
    "\"\"\"\n",
    "train.csv Historic market data. \n",
    "The coverage stretches back decades; expect to see extensive missing values early on.\n",
    "\n",
    "date_id - An identifier for a single trading day.\n",
    "M* - Market Dynamics/Technical features.\n",
    "E* - Macro Economic features.\n",
    "I* - Interest Rate features.\n",
    "P* - Price/Valuation features.\n",
    "V* - Volatility features.\n",
    "S* - Sentiment features.\n",
    "MOM* - Momentum features.\n",
    "D* - Dummy/Binary features.\n",
    "\n",
    "forward_returns - The returns from buying the S&P 500 and selling it a day later. Train set only.\n",
    "\n",
    "risk_free_rate - The federal funds rate. Train set only.\n",
    "\n",
    "market_forward_excess_returns - Forward returns relative to expectations. \n",
    "Computed by subtracting the rolling five-year mean forward returns and winsorizing \n",
    "the result using a median absolute deviation (MAD) with a criterion of 4. Train set only.\n",
    "\"\"\";"
   ]
  },
  {
   "cell_type": "code",
   "execution_count": 46,
   "id": "c941fa01",
   "metadata": {},
   "outputs": [
    {
     "data": {
      "text/html": [
       "<div>\n",
       "<style scoped>\n",
       "    .dataframe tbody tr th:only-of-type {\n",
       "        vertical-align: middle;\n",
       "    }\n",
       "\n",
       "    .dataframe tbody tr th {\n",
       "        vertical-align: top;\n",
       "    }\n",
       "\n",
       "    .dataframe thead th {\n",
       "        text-align: right;\n",
       "    }\n",
       "</style>\n",
       "<table border=\"1\" class=\"dataframe\">\n",
       "  <thead>\n",
       "    <tr style=\"text-align: right;\">\n",
       "      <th></th>\n",
       "      <th>date_id</th>\n",
       "      <th>d1</th>\n",
       "      <th>d2</th>\n",
       "      <th>d3</th>\n",
       "      <th>d4</th>\n",
       "      <th>d5</th>\n",
       "      <th>d6</th>\n",
       "      <th>d7</th>\n",
       "      <th>d8</th>\n",
       "      <th>d9</th>\n",
       "      <th>...</th>\n",
       "      <th>v4</th>\n",
       "      <th>v5</th>\n",
       "      <th>v6</th>\n",
       "      <th>v7</th>\n",
       "      <th>v8</th>\n",
       "      <th>v9</th>\n",
       "      <th>is_scored</th>\n",
       "      <th>lagged_forward_returns</th>\n",
       "      <th>lagged_risk_free_rate</th>\n",
       "      <th>lagged_market_forward_excess_returns</th>\n",
       "    </tr>\n",
       "  </thead>\n",
       "  <tbody>\n",
       "    <tr>\n",
       "      <th>0</th>\n",
       "      <td>8980</td>\n",
       "      <td>0</td>\n",
       "      <td>0</td>\n",
       "      <td>0</td>\n",
       "      <td>0</td>\n",
       "      <td>1</td>\n",
       "      <td>0</td>\n",
       "      <td>0</td>\n",
       "      <td>1</td>\n",
       "      <td>0</td>\n",
       "      <td>...</td>\n",
       "      <td>0.828042</td>\n",
       "      <td>0.999172</td>\n",
       "      <td>0.759921</td>\n",
       "      <td>-0.803127</td>\n",
       "      <td>0.170966</td>\n",
       "      <td>-0.751909</td>\n",
       "      <td>True</td>\n",
       "      <td>0.003541</td>\n",
       "      <td>0.000161</td>\n",
       "      <td>0.003068</td>\n",
       "    </tr>\n",
       "    <tr>\n",
       "      <th>1</th>\n",
       "      <td>8981</td>\n",
       "      <td>0</td>\n",
       "      <td>0</td>\n",
       "      <td>0</td>\n",
       "      <td>0</td>\n",
       "      <td>1</td>\n",
       "      <td>0</td>\n",
       "      <td>0</td>\n",
       "      <td>1</td>\n",
       "      <td>0</td>\n",
       "      <td>...</td>\n",
       "      <td>0.831349</td>\n",
       "      <td>1.120336</td>\n",
       "      <td>0.556217</td>\n",
       "      <td>-0.686192</td>\n",
       "      <td>0.141865</td>\n",
       "      <td>-0.660326</td>\n",
       "      <td>True</td>\n",
       "      <td>-0.005964</td>\n",
       "      <td>0.000162</td>\n",
       "      <td>-0.006437</td>\n",
       "    </tr>\n",
       "    <tr>\n",
       "      <th>2</th>\n",
       "      <td>8982</td>\n",
       "      <td>0</td>\n",
       "      <td>0</td>\n",
       "      <td>0</td>\n",
       "      <td>0</td>\n",
       "      <td>1</td>\n",
       "      <td>0</td>\n",
       "      <td>0</td>\n",
       "      <td>0</td>\n",
       "      <td>1</td>\n",
       "      <td>...</td>\n",
       "      <td>0.832672</td>\n",
       "      <td>1.088992</td>\n",
       "      <td>0.665344</td>\n",
       "      <td>-0.459367</td>\n",
       "      <td>0.199405</td>\n",
       "      <td>-0.510979</td>\n",
       "      <td>True</td>\n",
       "      <td>-0.007410</td>\n",
       "      <td>0.000160</td>\n",
       "      <td>-0.007882</td>\n",
       "    </tr>\n",
       "    <tr>\n",
       "      <th>3</th>\n",
       "      <td>8983</td>\n",
       "      <td>0</td>\n",
       "      <td>0</td>\n",
       "      <td>0</td>\n",
       "      <td>0</td>\n",
       "      <td>1</td>\n",
       "      <td>0</td>\n",
       "      <td>0</td>\n",
       "      <td>0</td>\n",
       "      <td>1</td>\n",
       "      <td>...</td>\n",
       "      <td>0.835979</td>\n",
       "      <td>1.040988</td>\n",
       "      <td>0.594577</td>\n",
       "      <td>-0.561643</td>\n",
       "      <td>0.161706</td>\n",
       "      <td>-0.575997</td>\n",
       "      <td>True</td>\n",
       "      <td>0.005420</td>\n",
       "      <td>0.000160</td>\n",
       "      <td>0.004949</td>\n",
       "    </tr>\n",
       "    <tr>\n",
       "      <th>4</th>\n",
       "      <td>8984</td>\n",
       "      <td>0</td>\n",
       "      <td>0</td>\n",
       "      <td>0</td>\n",
       "      <td>0</td>\n",
       "      <td>0</td>\n",
       "      <td>0</td>\n",
       "      <td>1</td>\n",
       "      <td>0</td>\n",
       "      <td>1</td>\n",
       "      <td>...</td>\n",
       "      <td>0.839947</td>\n",
       "      <td>0.944593</td>\n",
       "      <td>0.715608</td>\n",
       "      <td>-0.692649</td>\n",
       "      <td>0.124669</td>\n",
       "      <td>-0.654045</td>\n",
       "      <td>True</td>\n",
       "      <td>0.008357</td>\n",
       "      <td>0.000159</td>\n",
       "      <td>0.007887</td>\n",
       "    </tr>\n",
       "  </tbody>\n",
       "</table>\n",
       "<p>5 rows × 99 columns</p>\n",
       "</div>"
      ],
      "text/plain": [
       "   date_id  d1  d2  d3  d4  d5  d6  d7  d8  d9  ...        v4        v5  \\\n",
       "0     8980   0   0   0   0   1   0   0   1   0  ...  0.828042  0.999172   \n",
       "1     8981   0   0   0   0   1   0   0   1   0  ...  0.831349  1.120336   \n",
       "2     8982   0   0   0   0   1   0   0   0   1  ...  0.832672  1.088992   \n",
       "3     8983   0   0   0   0   1   0   0   0   1  ...  0.835979  1.040988   \n",
       "4     8984   0   0   0   0   0   0   1   0   1  ...  0.839947  0.944593   \n",
       "\n",
       "         v6        v7        v8        v9  is_scored  lagged_forward_returns  \\\n",
       "0  0.759921 -0.803127  0.170966 -0.751909       True                0.003541   \n",
       "1  0.556217 -0.686192  0.141865 -0.660326       True               -0.005964   \n",
       "2  0.665344 -0.459367  0.199405 -0.510979       True               -0.007410   \n",
       "3  0.594577 -0.561643  0.161706 -0.575997       True                0.005420   \n",
       "4  0.715608 -0.692649  0.124669 -0.654045       True                0.008357   \n",
       "\n",
       "   lagged_risk_free_rate  lagged_market_forward_excess_returns  \n",
       "0               0.000161                              0.003068  \n",
       "1               0.000162                             -0.006437  \n",
       "2               0.000160                             -0.007882  \n",
       "3               0.000160                              0.004949  \n",
       "4               0.000159                              0.007887  \n",
       "\n",
       "[5 rows x 99 columns]"
      ]
     },
     "execution_count": 46,
     "metadata": {},
     "output_type": "execute_result"
    }
   ],
   "source": [
    "test.head()"
   ]
  },
  {
   "cell_type": "code",
   "execution_count": 47,
   "id": "353d812a",
   "metadata": {},
   "outputs": [
    {
     "data": {
      "text/plain": [
       "Index(['date_id', 'd1', 'd2', 'd3', 'd4', 'd5', 'd6', 'd7', 'd8', 'd9', 'e1',\n",
       "       'e10', 'e11', 'e12', 'e13', 'e14', 'e15', 'e16', 'e17', 'e18', 'e19',\n",
       "       'e2', 'e20', 'e3', 'e4', 'e5', 'e6', 'e7', 'e8', 'e9', 'i1', 'i2', 'i3',\n",
       "       'i4', 'i5', 'i6', 'i7', 'i8', 'i9', 'm1', 'm10', 'm11', 'm12', 'm13',\n",
       "       'm14', 'm15', 'm16', 'm17', 'm18', 'm2', 'm3', 'm4', 'm5', 'm6', 'm7',\n",
       "       'm8', 'm9', 'p1', 'p10', 'p11', 'p12', 'p13', 'p2', 'p3', 'p4', 'p5',\n",
       "       'p6', 'p7', 'p8', 'p9', 's1', 's10', 's11', 's12', 's2', 's3', 's4',\n",
       "       's5', 's6', 's7', 's8', 's9', 'v1', 'v10', 'v11', 'v12', 'v13', 'v2',\n",
       "       'v3', 'v4', 'v5', 'v6', 'v7', 'v8', 'v9', 'is_scored',\n",
       "       'lagged_forward_returns', 'lagged_risk_free_rate',\n",
       "       'lagged_market_forward_excess_returns'],\n",
       "      dtype='object')"
      ]
     },
     "execution_count": 47,
     "metadata": {},
     "output_type": "execute_result"
    }
   ],
   "source": [
    "test.columns"
   ]
  },
  {
   "cell_type": "code",
   "execution_count": 48,
   "id": "8cc627e9",
   "metadata": {},
   "outputs": [],
   "source": [
    "\"\"\"\n",
    "test.csv \n",
    "A mock test set representing the structure of the unseen test set. \n",
    "The test set used for the public leaderboard set is a copy of the last 180 date IDs in the train set. \n",
    "As a result, the public leaderboard scores are not meaningful. \n",
    "The unseen copy of this file served by the evaluation API may be updated during the model training phase.\n",
    "\n",
    "date_id\n",
    "[feature_name] - The feature columns are the same as in train.csv.\n",
    "is_scored - Whether this row is included in the evaluation metric calculation. \n",
    "During the model training phase this will be true for the first 180 rows only. Test set only.\n",
    "\n",
    "lagged_forward_returns - The returns from buying the S&P 500 and selling it a day later, provided with a lag of one day.\n",
    "\n",
    "lagged_risk_free_rate - The federal funds rate, provided with a lag of one day.\n",
    "\n",
    "lagged_market_forward_excess_returns - Forward returns relative to expectations. \n",
    "Computed by subtracting the rolling five-year mean forward returns and winsorizing the result \n",
    "using a median absolute deviation (MAD) with a criterion of 4, provided with a lag of one day.\n",
    "\n",
    "\"\"\";"
   ]
  },
  {
   "cell_type": "code",
   "execution_count": 49,
   "id": "dc2e12d3",
   "metadata": {},
   "outputs": [
    {
     "name": "stdout",
     "output_type": "stream",
     "text": [
      "\n",
      " COMMON COLUMNS BETWEEN TRAIN AND TEST: 95\n",
      "{'P2', 'M18', 'M16', 'E1', 'M17', 'S2', 'V13', 'S10', 'M6', 'E17', 'M11', 'E20', 'P1', 'P13', 'S11', 'V12', 'D8', 'D1', 'V10', 'E12', 'E16', 'S12', 'P5', 'E2', 'E3', 'M4', 'V3', 'P6', 'E13', 'E15', 'S4', 'I3', 'M14', 'S3', 'V8', 'V2', 'E11', 'M1', 'I6', 'P8', 'V6', 'M3', 'I5', 'M12', 'S9', 'V1', 'D6', 'V5', 'D4', 'P4', 'E9', 'E8', 'E18', 'I7', 'D7', 'D9', 'M10', 'E6', 'V7', 'V9', 'E10', 'V11', 'date_id', 'I9', 'I4', 'I1', 'P9', 'I2', 'S8', 'D5', 'M5', 'P3', 'D3', 'S6', 'I8', 'P11', 'M13', 'E19', 'E7', 'V4', 'M15', 'S7', 'S1', 'D2', 'M8', 'P10', 'E4', 'M7', 'E14', 'E5', 'M2', 'M9', 'S5', 'P7', 'P12'}\n",
      "\n",
      " COLUMNS IN TRAIN NOT IN TEST: 3\n",
      "{'market_forward_excess_returns', 'forward_returns', 'risk_free_rate'}\n",
      "\n",
      " COLUMNS IN TEST NOT IN TRAIN: 4\n",
      "{'lagged_market_forward_excess_returns', 'is_scored', 'lagged_forward_returns', 'lagged_risk_free_rate'}\n"
     ]
    }
   ],
   "source": [
    "# check columns in common\n",
    "common_cols = set(original_train_cols).intersection(set(original_test_cols))\n",
    "print(f\"\\n COMMON COLUMNS BETWEEN TRAIN AND TEST: {len(common_cols)}\")\n",
    "print(common_cols)\n",
    "\n",
    "# check columns in train not in test\n",
    "train_not_in_test = set(original_train_cols) - set(original_test_cols)\n",
    "print(f\"\\n COLUMNS IN TRAIN NOT IN TEST: {len(train_not_in_test)}\")\n",
    "print(train_not_in_test)\n",
    "\n",
    "# check columns in test not in train\n",
    "test_not_in_train = set(original_test_cols) - set(original_train_cols)\n",
    "print(f\"\\n COLUMNS IN TEST NOT IN TRAIN: {len(test_not_in_train)}\")\n",
    "print(test_not_in_train)"
   ]
  },
  {
   "cell_type": "code",
   "execution_count": 50,
   "id": "b22637bf",
   "metadata": {},
   "outputs": [
    {
     "name": "stdout",
     "output_type": "stream",
     "text": [
      "Dropping 7 columns with more than 51% missing values:\n",
      "['e7', 'v10', 's3', 'm1', 'm13', 'm14', 'm6']\n",
      "\n",
      "After filling missing values:\n",
      "train.shape: (8990, 91)\n",
      "Filled 6 columns with mean\n",
      "Filled 85 columns with 0\n"
     ]
    }
   ],
   "source": [
    "miss_train = 100 * train.isna().mean().sort_values(ascending=False)\n",
    "\n",
    "# drop columns with more than 51% missing values\n",
    "cols_to_drop = miss_train[miss_train > 51].index.tolist()\n",
    "print(f\"Dropping {len(cols_to_drop)} columns with more than 51% missing values:\")\n",
    "print(cols_to_drop)\n",
    "\n",
    "# drop cols_to_drop from train dataset\n",
    "train.drop(columns=cols_to_drop, inplace=True)\n",
    "\n",
    "# fill missing values based on percentage\n",
    "cols_fill_mean = miss_train[(miss_train > 21) & (miss_train <= 51)].index.tolist()\n",
    "cols_fill_zero = miss_train[miss_train <= 21].index.tolist()\n",
    "\n",
    "# remove dropped columns from fill lists\n",
    "cols_fill_mean = [col for col in cols_fill_mean if col in train.columns]\n",
    "cols_fill_zero = [col for col in cols_fill_zero if col in train.columns]\n",
    "\n",
    "# apply filling\n",
    "train[cols_fill_mean] = train[cols_fill_mean].fillna(train[cols_fill_mean].mean())\n",
    "train[cols_fill_zero] = train[cols_fill_zero].fillna(0)\n",
    "\n",
    "print(\"\\nAfter filling missing values:\")\n",
    "print(f\"train.shape: {train.shape}\")\n",
    "print(f\"Filled {len(cols_fill_mean)} columns with mean\")\n",
    "print(f\"Filled {len(cols_fill_zero)} columns with 0\")"
   ]
  },
  {
   "cell_type": "code",
   "execution_count": 51,
   "id": "c54c2ee2",
   "metadata": {},
   "outputs": [
    {
     "name": "stdout",
     "output_type": "stream",
     "text": [
      "Number of candidate features: 87\n",
      "Candidate features:\n",
      "['d1', 'd2', 'd3', 'd4', 'd5', 'd6', 'd7', 'd8', 'd9', 'e1', 'e10', 'e11', 'e12', 'e13', 'e14', 'e15', 'e16', 'e17', 'e18', 'e19', 'e2', 'e20', 'e3', 'e4', 'e5', 'e6', 'e8', 'e9', 'i1', 'i2', 'i3', 'i4', 'i5', 'i6', 'i7', 'i8', 'i9', 'm10', 'm11', 'm12', 'm15', 'm16', 'm17', 'm18', 'm2', 'm3', 'm4', 'm5', 'm7', 'm8', 'm9', 'p1', 'p10', 'p11', 'p12', 'p13', 'p2', 'p3', 'p4', 'p5', 'p6', 'p7', 'p8', 'p9', 's1', 's10', 's11', 's12', 's2', 's4', 's5', 's6', 's7', 's8', 's9', 'v1', 'v11', 'v12', 'v13', 'v2', 'v3', 'v4', 'v5', 'v6', 'v7', 'v8', 'v9']\n",
      "Number of candidate Targets: 4\n",
      "Targets:\n",
      "['forward_returns', 'risk_free_rate', 'market_forward_excess_returns']\n"
     ]
    }
   ],
   "source": [
    "# Features and Targets\n",
    "exclude = {'date_id','forward_returns','risk_free_rate','market_forward_excess_returns'}\n",
    "features = [c for c in train.columns if c not in exclude]\n",
    "print(f\"Number of candidate features: {len(features)}\")\n",
    "print(f\"Candidate features:\")\n",
    "print(features)\n",
    "print(f\"Number of candidate Targets: {len(exclude)}\")\n",
    "print('Targets:')\n",
    "print(['forward_returns','risk_free_rate','market_forward_excess_returns'])"
   ]
  },
  {
   "cell_type": "code",
   "execution_count": 52,
   "id": "0335f3a1",
   "metadata": {},
   "outputs": [],
   "source": [
    "# PyCaret is trying to use classification on a continuous target variable \n",
    "# (market_forward_excess_returns). The target needs to be converted to categories first, \n",
    "# or you should use regression instead. Here are two solutions:"
   ]
  },
  {
   "cell_type": "markdown",
   "id": "b8377920",
   "metadata": {},
   "source": [
    "## Classification vs Regression in PyCaret\n",
    "\n",
    "### **Classification**\n",
    "Used when predicting **categorical/discrete outcomes**:\n",
    "\n",
    "**When to use:**\n",
    "- Binary outcomes: Yes/No, Buy/Sell, Positive/Negative returns\n",
    "- Multi-class: Low/Medium/High risk categories\n",
    "- Discrete labels: Market phases (Bull/Bear/Sideways)\n",
    "\n",
    "**Metrics:**\n",
    "- Accuracy, Precision, Recall, F1-Score\n",
    "- ROC-AUC, Confusion Matrix\n",
    "- Log Loss\n",
    "\n",
    "**Models available:**\n",
    "- Logistic Regression, Random Forest, XGBoost\n",
    "- SVM, Naive Bayes, Neural Networks\n",
    "\n",
    "**For your case:**\n"
   ]
  },
  {
   "cell_type": "code",
   "execution_count": 53,
   "id": "ccaed3ae",
   "metadata": {},
   "outputs": [],
   "source": [
    "# # Converts continuous returns to binary Up/Down prediction\n",
    "# model_data['target_class'] = (model_data['market_forward_excess_returns'] > 0).astype(int)"
   ]
  },
  {
   "cell_type": "markdown",
   "id": "94f6350a",
   "metadata": {},
   "source": [
    "### **Regression**\n",
    "Used when predicting **continuous numerical values**:\n",
    "\n",
    "**When to use:**\n",
    "- Exact return values: -0.05, +0.03, +0.12\n",
    "- Price predictions: $150.25, $149.80\n",
    "- Continuous scores: Risk scores, volatility measures\n",
    "\n",
    "**Metrics:**\n",
    "- MAE (Mean Absolute Error), MSE, RMSE\n",
    "- R², Adjusted R²\n",
    "- MAPE (Mean Absolute Percentage Error)\n",
    "\n",
    "**Models available:**\n",
    "- Linear Regression, Ridge, Lasso\n",
    "- Random Forest Regressor, XGBoost Regressor\n",
    "- Support Vector Regression\n",
    "\n",
    "**For your case:**\n"
   ]
  },
  {
   "cell_type": "code",
   "execution_count": 54,
   "id": "eccbf2f5",
   "metadata": {},
   "outputs": [],
   "source": [
    "# # Predicts exact excess return values\n",
    "# target='market_forward_excess_returns'  # e.g., -0.023, +0.041"
   ]
  },
  {
   "cell_type": "markdown",
   "id": "6be2fe66",
   "metadata": {},
   "source": [
    "### **Which to Choose for Market Prediction?**\n",
    "\n",
    "**Classification** - Better for:\n",
    "- Trading signals (Buy/Sell decisions)\n",
    "- Market direction (Up/Down)\n",
    "- Risk categories (High/Low risk)\n",
    "- Simpler interpretation\n",
    "\n",
    "**Regression** - Better for:\n",
    "- Portfolio optimization (exact return forecasts)\n",
    "- Risk management (precise loss estimates)\n",
    "- Position sizing (specific return expectations)\n",
    "\n",
    "For most trading strategies, **Classification** is preferred because you typically care more about direction than exact magnitude."
   ]
  },
  {
   "cell_type": "code",
   "execution_count": 55,
   "id": "fecbf99d",
   "metadata": {},
   "outputs": [],
   "source": [
    "# # Option 1: Convert to Classification - CORRECTED\n",
    "# # Create DataFrame with features only (exclude target variable)\n",
    "# model_data = train[features].copy()\n",
    "\n",
    "# # Add the binary target based on market_forward_excess_returns\n",
    "# model_data['target_class'] = (train['market_forward_excess_returns'] > 0).astype(int)\n",
    "\n",
    "# from pycaret.classification import *\n",
    "# classification = setup(model_data, target='target_class', session_id=111)\n",
    "\n",
    "# best_classification = classification.compare_models()"
   ]
  },
  {
   "cell_type": "code",
   "execution_count": 56,
   "id": "18ef212b",
   "metadata": {},
   "outputs": [],
   "source": [
    "# classification.evaluate_model(best_classification)"
   ]
  },
  {
   "cell_type": "code",
   "execution_count": 57,
   "id": "00598603",
   "metadata": {},
   "outputs": [
    {
     "data": {
      "text/html": [
       "<style type=\"text/css\">\n",
       "#T_f7384_row8_col1 {\n",
       "  background-color: lightgreen;\n",
       "}\n",
       "</style>\n",
       "<table id=\"T_f7384\">\n",
       "  <thead>\n",
       "    <tr>\n",
       "      <th class=\"blank level0\" >&nbsp;</th>\n",
       "      <th id=\"T_f7384_level0_col0\" class=\"col_heading level0 col0\" >Description</th>\n",
       "      <th id=\"T_f7384_level0_col1\" class=\"col_heading level0 col1\" >Value</th>\n",
       "    </tr>\n",
       "  </thead>\n",
       "  <tbody>\n",
       "    <tr>\n",
       "      <th id=\"T_f7384_level0_row0\" class=\"row_heading level0 row0\" >0</th>\n",
       "      <td id=\"T_f7384_row0_col0\" class=\"data row0 col0\" >Session id</td>\n",
       "      <td id=\"T_f7384_row0_col1\" class=\"data row0 col1\" >456</td>\n",
       "    </tr>\n",
       "    <tr>\n",
       "      <th id=\"T_f7384_level0_row1\" class=\"row_heading level0 row1\" >1</th>\n",
       "      <td id=\"T_f7384_row1_col0\" class=\"data row1 col0\" >Target</td>\n",
       "      <td id=\"T_f7384_row1_col1\" class=\"data row1 col1\" >market_forward_excess_returns</td>\n",
       "    </tr>\n",
       "    <tr>\n",
       "      <th id=\"T_f7384_level0_row2\" class=\"row_heading level0 row2\" >2</th>\n",
       "      <td id=\"T_f7384_row2_col0\" class=\"data row2 col0\" >Target type</td>\n",
       "      <td id=\"T_f7384_row2_col1\" class=\"data row2 col1\" >Regression</td>\n",
       "    </tr>\n",
       "    <tr>\n",
       "      <th id=\"T_f7384_level0_row3\" class=\"row_heading level0 row3\" >3</th>\n",
       "      <td id=\"T_f7384_row3_col0\" class=\"data row3 col0\" >Original data shape</td>\n",
       "      <td id=\"T_f7384_row3_col1\" class=\"data row3 col1\" >(8990, 88)</td>\n",
       "    </tr>\n",
       "    <tr>\n",
       "      <th id=\"T_f7384_level0_row4\" class=\"row_heading level0 row4\" >4</th>\n",
       "      <td id=\"T_f7384_row4_col0\" class=\"data row4 col0\" >Transformed data shape</td>\n",
       "      <td id=\"T_f7384_row4_col1\" class=\"data row4 col1\" >(8990, 88)</td>\n",
       "    </tr>\n",
       "    <tr>\n",
       "      <th id=\"T_f7384_level0_row5\" class=\"row_heading level0 row5\" >5</th>\n",
       "      <td id=\"T_f7384_row5_col0\" class=\"data row5 col0\" >Transformed train set shape</td>\n",
       "      <td id=\"T_f7384_row5_col1\" class=\"data row5 col1\" >(6293, 88)</td>\n",
       "    </tr>\n",
       "    <tr>\n",
       "      <th id=\"T_f7384_level0_row6\" class=\"row_heading level0 row6\" >6</th>\n",
       "      <td id=\"T_f7384_row6_col0\" class=\"data row6 col0\" >Transformed test set shape</td>\n",
       "      <td id=\"T_f7384_row6_col1\" class=\"data row6 col1\" >(2697, 88)</td>\n",
       "    </tr>\n",
       "    <tr>\n",
       "      <th id=\"T_f7384_level0_row7\" class=\"row_heading level0 row7\" >7</th>\n",
       "      <td id=\"T_f7384_row7_col0\" class=\"data row7 col0\" >Numeric features</td>\n",
       "      <td id=\"T_f7384_row7_col1\" class=\"data row7 col1\" >87</td>\n",
       "    </tr>\n",
       "    <tr>\n",
       "      <th id=\"T_f7384_level0_row8\" class=\"row_heading level0 row8\" >8</th>\n",
       "      <td id=\"T_f7384_row8_col0\" class=\"data row8 col0\" >Preprocess</td>\n",
       "      <td id=\"T_f7384_row8_col1\" class=\"data row8 col1\" >True</td>\n",
       "    </tr>\n",
       "    <tr>\n",
       "      <th id=\"T_f7384_level0_row9\" class=\"row_heading level0 row9\" >9</th>\n",
       "      <td id=\"T_f7384_row9_col0\" class=\"data row9 col0\" >Imputation type</td>\n",
       "      <td id=\"T_f7384_row9_col1\" class=\"data row9 col1\" >simple</td>\n",
       "    </tr>\n",
       "    <tr>\n",
       "      <th id=\"T_f7384_level0_row10\" class=\"row_heading level0 row10\" >10</th>\n",
       "      <td id=\"T_f7384_row10_col0\" class=\"data row10 col0\" >Numeric imputation</td>\n",
       "      <td id=\"T_f7384_row10_col1\" class=\"data row10 col1\" >mean</td>\n",
       "    </tr>\n",
       "    <tr>\n",
       "      <th id=\"T_f7384_level0_row11\" class=\"row_heading level0 row11\" >11</th>\n",
       "      <td id=\"T_f7384_row11_col0\" class=\"data row11 col0\" >Categorical imputation</td>\n",
       "      <td id=\"T_f7384_row11_col1\" class=\"data row11 col1\" >mode</td>\n",
       "    </tr>\n",
       "    <tr>\n",
       "      <th id=\"T_f7384_level0_row12\" class=\"row_heading level0 row12\" >12</th>\n",
       "      <td id=\"T_f7384_row12_col0\" class=\"data row12 col0\" >Fold Generator</td>\n",
       "      <td id=\"T_f7384_row12_col1\" class=\"data row12 col1\" >KFold</td>\n",
       "    </tr>\n",
       "    <tr>\n",
       "      <th id=\"T_f7384_level0_row13\" class=\"row_heading level0 row13\" >13</th>\n",
       "      <td id=\"T_f7384_row13_col0\" class=\"data row13 col0\" >Fold Number</td>\n",
       "      <td id=\"T_f7384_row13_col1\" class=\"data row13 col1\" >10</td>\n",
       "    </tr>\n",
       "    <tr>\n",
       "      <th id=\"T_f7384_level0_row14\" class=\"row_heading level0 row14\" >14</th>\n",
       "      <td id=\"T_f7384_row14_col0\" class=\"data row14 col0\" >CPU Jobs</td>\n",
       "      <td id=\"T_f7384_row14_col1\" class=\"data row14 col1\" >-1</td>\n",
       "    </tr>\n",
       "    <tr>\n",
       "      <th id=\"T_f7384_level0_row15\" class=\"row_heading level0 row15\" >15</th>\n",
       "      <td id=\"T_f7384_row15_col0\" class=\"data row15 col0\" >Use GPU</td>\n",
       "      <td id=\"T_f7384_row15_col1\" class=\"data row15 col1\" >False</td>\n",
       "    </tr>\n",
       "    <tr>\n",
       "      <th id=\"T_f7384_level0_row16\" class=\"row_heading level0 row16\" >16</th>\n",
       "      <td id=\"T_f7384_row16_col0\" class=\"data row16 col0\" >Log Experiment</td>\n",
       "      <td id=\"T_f7384_row16_col1\" class=\"data row16 col1\" >False</td>\n",
       "    </tr>\n",
       "    <tr>\n",
       "      <th id=\"T_f7384_level0_row17\" class=\"row_heading level0 row17\" >17</th>\n",
       "      <td id=\"T_f7384_row17_col0\" class=\"data row17 col0\" >Experiment Name</td>\n",
       "      <td id=\"T_f7384_row17_col1\" class=\"data row17 col1\" >reg-default-name</td>\n",
       "    </tr>\n",
       "    <tr>\n",
       "      <th id=\"T_f7384_level0_row18\" class=\"row_heading level0 row18\" >18</th>\n",
       "      <td id=\"T_f7384_row18_col0\" class=\"data row18 col0\" >USI</td>\n",
       "      <td id=\"T_f7384_row18_col1\" class=\"data row18 col1\" >b199</td>\n",
       "    </tr>\n",
       "  </tbody>\n",
       "</table>\n"
      ],
      "text/plain": [
       "<pandas.io.formats.style.Styler at 0x1db4745b110>"
      ]
     },
     "metadata": {},
     "output_type": "display_data"
    },
    {
     "data": {
      "text/html": [],
      "text/plain": [
       "<IPython.core.display.HTML object>"
      ]
     },
     "metadata": {},
     "output_type": "display_data"
    },
    {
     "data": {
      "text/html": [
       "<style type=\"text/css\">\n",
       "#T_9238a th {\n",
       "  text-align: left;\n",
       "}\n",
       "#T_9238a_row0_col0, #T_9238a_row0_col5, #T_9238a_row0_col6, #T_9238a_row1_col0, #T_9238a_row1_col4, #T_9238a_row1_col5, #T_9238a_row1_col6, #T_9238a_row2_col0, #T_9238a_row2_col3, #T_9238a_row2_col4, #T_9238a_row2_col5, #T_9238a_row3_col0, #T_9238a_row3_col3, #T_9238a_row3_col4, #T_9238a_row3_col5, #T_9238a_row3_col6, #T_9238a_row4_col0, #T_9238a_row4_col3, #T_9238a_row4_col4, #T_9238a_row4_col5, #T_9238a_row4_col6, #T_9238a_row5_col0, #T_9238a_row5_col3, #T_9238a_row5_col4, #T_9238a_row5_col5, #T_9238a_row5_col6, #T_9238a_row6_col0, #T_9238a_row6_col3, #T_9238a_row6_col4, #T_9238a_row6_col5, #T_9238a_row6_col6, #T_9238a_row7_col0, #T_9238a_row7_col1, #T_9238a_row7_col3, #T_9238a_row7_col4, #T_9238a_row7_col5, #T_9238a_row7_col6, #T_9238a_row8_col0, #T_9238a_row8_col1, #T_9238a_row8_col3, #T_9238a_row8_col4, #T_9238a_row8_col5, #T_9238a_row8_col6, #T_9238a_row9_col0, #T_9238a_row9_col3, #T_9238a_row9_col4, #T_9238a_row9_col5, #T_9238a_row9_col6, #T_9238a_row10_col0, #T_9238a_row10_col1, #T_9238a_row10_col3, #T_9238a_row10_col4, #T_9238a_row10_col5, #T_9238a_row10_col6, #T_9238a_row11_col0, #T_9238a_row11_col1, #T_9238a_row11_col3, #T_9238a_row11_col4, #T_9238a_row11_col5, #T_9238a_row11_col6, #T_9238a_row12_col0, #T_9238a_row12_col1, #T_9238a_row12_col3, #T_9238a_row12_col4, #T_9238a_row12_col5, #T_9238a_row12_col6, #T_9238a_row13_col0, #T_9238a_row13_col1, #T_9238a_row13_col3, #T_9238a_row13_col4, #T_9238a_row13_col5, #T_9238a_row13_col6, #T_9238a_row14_col0, #T_9238a_row14_col1, #T_9238a_row14_col3, #T_9238a_row14_col4, #T_9238a_row14_col5, #T_9238a_row14_col6, #T_9238a_row15_col0, #T_9238a_row15_col1, #T_9238a_row15_col3, #T_9238a_row15_col4, #T_9238a_row15_col6, #T_9238a_row16_col0, #T_9238a_row16_col1, #T_9238a_row16_col2, #T_9238a_row16_col3, #T_9238a_row16_col4, #T_9238a_row16_col5, #T_9238a_row16_col6, #T_9238a_row17_col0, #T_9238a_row17_col1, #T_9238a_row17_col2, #T_9238a_row17_col3, #T_9238a_row17_col4, #T_9238a_row17_col5, #T_9238a_row17_col6 {\n",
       "  text-align: left;\n",
       "}\n",
       "#T_9238a_row0_col1, #T_9238a_row0_col2, #T_9238a_row0_col3, #T_9238a_row0_col4, #T_9238a_row1_col1, #T_9238a_row1_col2, #T_9238a_row1_col3, #T_9238a_row2_col1, #T_9238a_row2_col2, #T_9238a_row2_col6, #T_9238a_row3_col1, #T_9238a_row3_col2, #T_9238a_row4_col1, #T_9238a_row4_col2, #T_9238a_row5_col1, #T_9238a_row5_col2, #T_9238a_row6_col1, #T_9238a_row6_col2, #T_9238a_row7_col2, #T_9238a_row8_col2, #T_9238a_row9_col1, #T_9238a_row9_col2, #T_9238a_row10_col2, #T_9238a_row11_col2, #T_9238a_row12_col2, #T_9238a_row13_col2, #T_9238a_row14_col2, #T_9238a_row15_col2, #T_9238a_row15_col5 {\n",
       "  text-align: left;\n",
       "  background-color: yellow;\n",
       "}\n",
       "#T_9238a_row0_col7, #T_9238a_row1_col7, #T_9238a_row4_col7, #T_9238a_row6_col7, #T_9238a_row7_col7, #T_9238a_row8_col7, #T_9238a_row9_col7, #T_9238a_row10_col7, #T_9238a_row11_col7, #T_9238a_row12_col7, #T_9238a_row13_col7, #T_9238a_row14_col7, #T_9238a_row15_col7, #T_9238a_row16_col7, #T_9238a_row17_col7 {\n",
       "  text-align: left;\n",
       "  background-color: lightgrey;\n",
       "}\n",
       "#T_9238a_row2_col7, #T_9238a_row3_col7, #T_9238a_row5_col7 {\n",
       "  text-align: left;\n",
       "  background-color: yellow;\n",
       "  background-color: lightgrey;\n",
       "}\n",
       "</style>\n",
       "<table id=\"T_9238a\">\n",
       "  <thead>\n",
       "    <tr>\n",
       "      <th class=\"blank level0\" >&nbsp;</th>\n",
       "      <th id=\"T_9238a_level0_col0\" class=\"col_heading level0 col0\" >Model</th>\n",
       "      <th id=\"T_9238a_level0_col1\" class=\"col_heading level0 col1\" >MAE</th>\n",
       "      <th id=\"T_9238a_level0_col2\" class=\"col_heading level0 col2\" >MSE</th>\n",
       "      <th id=\"T_9238a_level0_col3\" class=\"col_heading level0 col3\" >RMSE</th>\n",
       "      <th id=\"T_9238a_level0_col4\" class=\"col_heading level0 col4\" >R2</th>\n",
       "      <th id=\"T_9238a_level0_col5\" class=\"col_heading level0 col5\" >RMSLE</th>\n",
       "      <th id=\"T_9238a_level0_col6\" class=\"col_heading level0 col6\" >MAPE</th>\n",
       "      <th id=\"T_9238a_level0_col7\" class=\"col_heading level0 col7\" >TT (Sec)</th>\n",
       "    </tr>\n",
       "  </thead>\n",
       "  <tbody>\n",
       "    <tr>\n",
       "      <th id=\"T_9238a_level0_row0\" class=\"row_heading level0 row0\" >br</th>\n",
       "      <td id=\"T_9238a_row0_col0\" class=\"data row0 col0\" >Bayesian Ridge</td>\n",
       "      <td id=\"T_9238a_row0_col1\" class=\"data row0 col1\" >0.0075</td>\n",
       "      <td id=\"T_9238a_row0_col2\" class=\"data row0 col2\" >0.0001</td>\n",
       "      <td id=\"T_9238a_row0_col3\" class=\"data row0 col3\" >0.0105</td>\n",
       "      <td id=\"T_9238a_row0_col4\" class=\"data row0 col4\" >0.0055</td>\n",
       "      <td id=\"T_9238a_row0_col5\" class=\"data row0 col5\" >0.0096</td>\n",
       "      <td id=\"T_9238a_row0_col6\" class=\"data row0 col6\" >1.4195</td>\n",
       "      <td id=\"T_9238a_row0_col7\" class=\"data row0 col7\" >0.0230</td>\n",
       "    </tr>\n",
       "    <tr>\n",
       "      <th id=\"T_9238a_level0_row1\" class=\"row_heading level0 row1\" >omp</th>\n",
       "      <td id=\"T_9238a_row1_col0\" class=\"data row1 col0\" >Orthogonal Matching Pursuit</td>\n",
       "      <td id=\"T_9238a_row1_col1\" class=\"data row1 col1\" >0.0075</td>\n",
       "      <td id=\"T_9238a_row1_col2\" class=\"data row1 col2\" >0.0001</td>\n",
       "      <td id=\"T_9238a_row1_col3\" class=\"data row1 col3\" >0.0105</td>\n",
       "      <td id=\"T_9238a_row1_col4\" class=\"data row1 col4\" >0.0041</td>\n",
       "      <td id=\"T_9238a_row1_col5\" class=\"data row1 col5\" >0.0097</td>\n",
       "      <td id=\"T_9238a_row1_col6\" class=\"data row1 col6\" >1.4260</td>\n",
       "      <td id=\"T_9238a_row1_col7\" class=\"data row1 col7\" >0.0210</td>\n",
       "    </tr>\n",
       "    <tr>\n",
       "      <th id=\"T_9238a_level0_row2\" class=\"row_heading level0 row2\" >par</th>\n",
       "      <td id=\"T_9238a_row2_col0\" class=\"data row2 col0\" >Passive Aggressive Regressor</td>\n",
       "      <td id=\"T_9238a_row2_col1\" class=\"data row2 col1\" >0.0075</td>\n",
       "      <td id=\"T_9238a_row2_col2\" class=\"data row2 col2\" >0.0001</td>\n",
       "      <td id=\"T_9238a_row2_col3\" class=\"data row2 col3\" >0.0106</td>\n",
       "      <td id=\"T_9238a_row2_col4\" class=\"data row2 col4\" >-0.0020</td>\n",
       "      <td id=\"T_9238a_row2_col5\" class=\"data row2 col5\" >0.0105</td>\n",
       "      <td id=\"T_9238a_row2_col6\" class=\"data row2 col6\" >1.0000</td>\n",
       "      <td id=\"T_9238a_row2_col7\" class=\"data row2 col7\" >0.0200</td>\n",
       "    </tr>\n",
       "    <tr>\n",
       "      <th id=\"T_9238a_level0_row3\" class=\"row_heading level0 row3\" >llar</th>\n",
       "      <td id=\"T_9238a_row3_col0\" class=\"data row3 col0\" >Lasso Least Angle Regression</td>\n",
       "      <td id=\"T_9238a_row3_col1\" class=\"data row3 col1\" >0.0075</td>\n",
       "      <td id=\"T_9238a_row3_col2\" class=\"data row3 col2\" >0.0001</td>\n",
       "      <td id=\"T_9238a_row3_col3\" class=\"data row3 col3\" >0.0106</td>\n",
       "      <td id=\"T_9238a_row3_col4\" class=\"data row3 col4\" >-0.0025</td>\n",
       "      <td id=\"T_9238a_row3_col5\" class=\"data row3 col5\" >0.0104</td>\n",
       "      <td id=\"T_9238a_row3_col6\" class=\"data row3 col6\" >1.0061</td>\n",
       "      <td id=\"T_9238a_row3_col7\" class=\"data row3 col7\" >0.0200</td>\n",
       "    </tr>\n",
       "    <tr>\n",
       "      <th id=\"T_9238a_level0_row4\" class=\"row_heading level0 row4\" >dummy</th>\n",
       "      <td id=\"T_9238a_row4_col0\" class=\"data row4 col0\" >Dummy Regressor</td>\n",
       "      <td id=\"T_9238a_row4_col1\" class=\"data row4 col1\" >0.0075</td>\n",
       "      <td id=\"T_9238a_row4_col2\" class=\"data row4 col2\" >0.0001</td>\n",
       "      <td id=\"T_9238a_row4_col3\" class=\"data row4 col3\" >0.0106</td>\n",
       "      <td id=\"T_9238a_row4_col4\" class=\"data row4 col4\" >-0.0025</td>\n",
       "      <td id=\"T_9238a_row4_col5\" class=\"data row4 col5\" >0.0104</td>\n",
       "      <td id=\"T_9238a_row4_col6\" class=\"data row4 col6\" >1.0061</td>\n",
       "      <td id=\"T_9238a_row4_col7\" class=\"data row4 col7\" >0.0220</td>\n",
       "    </tr>\n",
       "    <tr>\n",
       "      <th id=\"T_9238a_level0_row5\" class=\"row_heading level0 row5\" >en</th>\n",
       "      <td id=\"T_9238a_row5_col0\" class=\"data row5 col0\" >Elastic Net</td>\n",
       "      <td id=\"T_9238a_row5_col1\" class=\"data row5 col1\" >0.0075</td>\n",
       "      <td id=\"T_9238a_row5_col2\" class=\"data row5 col2\" >0.0001</td>\n",
       "      <td id=\"T_9238a_row5_col3\" class=\"data row5 col3\" >0.0106</td>\n",
       "      <td id=\"T_9238a_row5_col4\" class=\"data row5 col4\" >-0.0025</td>\n",
       "      <td id=\"T_9238a_row5_col5\" class=\"data row5 col5\" >0.0104</td>\n",
       "      <td id=\"T_9238a_row5_col6\" class=\"data row5 col6\" >1.0061</td>\n",
       "      <td id=\"T_9238a_row5_col7\" class=\"data row5 col7\" >0.0200</td>\n",
       "    </tr>\n",
       "    <tr>\n",
       "      <th id=\"T_9238a_level0_row6\" class=\"row_heading level0 row6\" >lasso</th>\n",
       "      <td id=\"T_9238a_row6_col0\" class=\"data row6 col0\" >Lasso Regression</td>\n",
       "      <td id=\"T_9238a_row6_col1\" class=\"data row6 col1\" >0.0075</td>\n",
       "      <td id=\"T_9238a_row6_col2\" class=\"data row6 col2\" >0.0001</td>\n",
       "      <td id=\"T_9238a_row6_col3\" class=\"data row6 col3\" >0.0106</td>\n",
       "      <td id=\"T_9238a_row6_col4\" class=\"data row6 col4\" >-0.0025</td>\n",
       "      <td id=\"T_9238a_row6_col5\" class=\"data row6 col5\" >0.0104</td>\n",
       "      <td id=\"T_9238a_row6_col6\" class=\"data row6 col6\" >1.0061</td>\n",
       "      <td id=\"T_9238a_row6_col7\" class=\"data row6 col7\" >0.2360</td>\n",
       "    </tr>\n",
       "    <tr>\n",
       "      <th id=\"T_9238a_level0_row7\" class=\"row_heading level0 row7\" >ridge</th>\n",
       "      <td id=\"T_9238a_row7_col0\" class=\"data row7 col0\" >Ridge Regression</td>\n",
       "      <td id=\"T_9238a_row7_col1\" class=\"data row7 col1\" >0.0076</td>\n",
       "      <td id=\"T_9238a_row7_col2\" class=\"data row7 col2\" >0.0001</td>\n",
       "      <td id=\"T_9238a_row7_col3\" class=\"data row7 col3\" >0.0106</td>\n",
       "      <td id=\"T_9238a_row7_col4\" class=\"data row7 col4\" >-0.0055</td>\n",
       "      <td id=\"T_9238a_row7_col5\" class=\"data row7 col5\" >0.0094</td>\n",
       "      <td id=\"T_9238a_row7_col6\" class=\"data row7 col6\" >1.7134</td>\n",
       "      <td id=\"T_9238a_row7_col7\" class=\"data row7 col7\" >0.0210</td>\n",
       "    </tr>\n",
       "    <tr>\n",
       "      <th id=\"T_9238a_level0_row8\" class=\"row_heading level0 row8\" >lr</th>\n",
       "      <td id=\"T_9238a_row8_col0\" class=\"data row8 col0\" >Linear Regression</td>\n",
       "      <td id=\"T_9238a_row8_col1\" class=\"data row8 col1\" >0.0076</td>\n",
       "      <td id=\"T_9238a_row8_col2\" class=\"data row8 col2\" >0.0001</td>\n",
       "      <td id=\"T_9238a_row8_col3\" class=\"data row8 col3\" >0.0106</td>\n",
       "      <td id=\"T_9238a_row8_col4\" class=\"data row8 col4\" >-0.0065</td>\n",
       "      <td id=\"T_9238a_row8_col5\" class=\"data row8 col5\" >0.0094</td>\n",
       "      <td id=\"T_9238a_row8_col6\" class=\"data row8 col6\" >1.7338</td>\n",
       "      <td id=\"T_9238a_row8_col7\" class=\"data row8 col7\" >0.4060</td>\n",
       "    </tr>\n",
       "    <tr>\n",
       "      <th id=\"T_9238a_level0_row9\" class=\"row_heading level0 row9\" >huber</th>\n",
       "      <td id=\"T_9238a_row9_col0\" class=\"data row9 col0\" >Huber Regressor</td>\n",
       "      <td id=\"T_9238a_row9_col1\" class=\"data row9 col1\" >0.0075</td>\n",
       "      <td id=\"T_9238a_row9_col2\" class=\"data row9 col2\" >0.0001</td>\n",
       "      <td id=\"T_9238a_row9_col3\" class=\"data row9 col3\" >0.0106</td>\n",
       "      <td id=\"T_9238a_row9_col4\" class=\"data row9 col4\" >-0.0085</td>\n",
       "      <td id=\"T_9238a_row9_col5\" class=\"data row9 col5\" >0.0093</td>\n",
       "      <td id=\"T_9238a_row9_col6\" class=\"data row9 col6\" >1.6594</td>\n",
       "      <td id=\"T_9238a_row9_col7\" class=\"data row9 col7\" >0.1420</td>\n",
       "    </tr>\n",
       "    <tr>\n",
       "      <th id=\"T_9238a_level0_row10\" class=\"row_heading level0 row10\" >ada</th>\n",
       "      <td id=\"T_9238a_row10_col0\" class=\"data row10 col0\" >AdaBoost Regressor</td>\n",
       "      <td id=\"T_9238a_row10_col1\" class=\"data row10 col1\" >0.0076</td>\n",
       "      <td id=\"T_9238a_row10_col2\" class=\"data row10 col2\" >0.0001</td>\n",
       "      <td id=\"T_9238a_row10_col3\" class=\"data row10 col3\" >0.0106</td>\n",
       "      <td id=\"T_9238a_row10_col4\" class=\"data row10 col4\" >-0.0150</td>\n",
       "      <td id=\"T_9238a_row10_col5\" class=\"data row10 col5\" >0.0097</td>\n",
       "      <td id=\"T_9238a_row10_col6\" class=\"data row10 col6\" >1.7132</td>\n",
       "      <td id=\"T_9238a_row10_col7\" class=\"data row10 col7\" >0.4200</td>\n",
       "    </tr>\n",
       "    <tr>\n",
       "      <th id=\"T_9238a_level0_row11\" class=\"row_heading level0 row11\" >gbr</th>\n",
       "      <td id=\"T_9238a_row11_col0\" class=\"data row11 col0\" >Gradient Boosting Regressor</td>\n",
       "      <td id=\"T_9238a_row11_col1\" class=\"data row11 col1\" >0.0076</td>\n",
       "      <td id=\"T_9238a_row11_col2\" class=\"data row11 col2\" >0.0001</td>\n",
       "      <td id=\"T_9238a_row11_col3\" class=\"data row11 col3\" >0.0108</td>\n",
       "      <td id=\"T_9238a_row11_col4\" class=\"data row11 col4\" >-0.0538</td>\n",
       "      <td id=\"T_9238a_row11_col5\" class=\"data row11 col5\" >0.0095</td>\n",
       "      <td id=\"T_9238a_row11_col6\" class=\"data row11 col6\" >1.3429</td>\n",
       "      <td id=\"T_9238a_row11_col7\" class=\"data row11 col7\" >2.2500</td>\n",
       "    </tr>\n",
       "    <tr>\n",
       "      <th id=\"T_9238a_level0_row12\" class=\"row_heading level0 row12\" >rf</th>\n",
       "      <td id=\"T_9238a_row12_col0\" class=\"data row12 col0\" >Random Forest Regressor</td>\n",
       "      <td id=\"T_9238a_row12_col1\" class=\"data row12 col1\" >0.0077</td>\n",
       "      <td id=\"T_9238a_row12_col2\" class=\"data row12 col2\" >0.0001</td>\n",
       "      <td id=\"T_9238a_row12_col3\" class=\"data row12 col3\" >0.0109</td>\n",
       "      <td id=\"T_9238a_row12_col4\" class=\"data row12 col4\" >-0.0573</td>\n",
       "      <td id=\"T_9238a_row12_col5\" class=\"data row12 col5\" >0.0091</td>\n",
       "      <td id=\"T_9238a_row12_col6\" class=\"data row12 col6\" >2.0355</td>\n",
       "      <td id=\"T_9238a_row12_col7\" class=\"data row12 col7\" >13.5890</td>\n",
       "    </tr>\n",
       "    <tr>\n",
       "      <th id=\"T_9238a_level0_row13\" class=\"row_heading level0 row13\" >lightgbm</th>\n",
       "      <td id=\"T_9238a_row13_col0\" class=\"data row13 col0\" >Light Gradient Boosting Machine</td>\n",
       "      <td id=\"T_9238a_row13_col1\" class=\"data row13 col1\" >0.0078</td>\n",
       "      <td id=\"T_9238a_row13_col2\" class=\"data row13 col2\" >0.0001</td>\n",
       "      <td id=\"T_9238a_row13_col3\" class=\"data row13 col3\" >0.0110</td>\n",
       "      <td id=\"T_9238a_row13_col4\" class=\"data row13 col4\" >-0.0812</td>\n",
       "      <td id=\"T_9238a_row13_col5\" class=\"data row13 col5\" >0.0089</td>\n",
       "      <td id=\"T_9238a_row13_col6\" class=\"data row13 col6\" >2.1639</td>\n",
       "      <td id=\"T_9238a_row13_col7\" class=\"data row13 col7\" >0.3420</td>\n",
       "    </tr>\n",
       "    <tr>\n",
       "      <th id=\"T_9238a_level0_row14\" class=\"row_heading level0 row14\" >et</th>\n",
       "      <td id=\"T_9238a_row14_col0\" class=\"data row14 col0\" >Extra Trees Regressor</td>\n",
       "      <td id=\"T_9238a_row14_col1\" class=\"data row14 col1\" >0.0078</td>\n",
       "      <td id=\"T_9238a_row14_col2\" class=\"data row14 col2\" >0.0001</td>\n",
       "      <td id=\"T_9238a_row14_col3\" class=\"data row14 col3\" >0.0110</td>\n",
       "      <td id=\"T_9238a_row14_col4\" class=\"data row14 col4\" >-0.0911</td>\n",
       "      <td id=\"T_9238a_row14_col5\" class=\"data row14 col5\" >0.0089</td>\n",
       "      <td id=\"T_9238a_row14_col6\" class=\"data row14 col6\" >2.1676</td>\n",
       "      <td id=\"T_9238a_row14_col7\" class=\"data row14 col7\" >2.8880</td>\n",
       "    </tr>\n",
       "    <tr>\n",
       "      <th id=\"T_9238a_level0_row15\" class=\"row_heading level0 row15\" >knn</th>\n",
       "      <td id=\"T_9238a_row15_col0\" class=\"data row15 col0\" >K Neighbors Regressor</td>\n",
       "      <td id=\"T_9238a_row15_col1\" class=\"data row15 col1\" >0.0082</td>\n",
       "      <td id=\"T_9238a_row15_col2\" class=\"data row15 col2\" >0.0001</td>\n",
       "      <td id=\"T_9238a_row15_col3\" class=\"data row15 col3\" >0.0115</td>\n",
       "      <td id=\"T_9238a_row15_col4\" class=\"data row15 col4\" >-0.1910</td>\n",
       "      <td id=\"T_9238a_row15_col5\" class=\"data row15 col5\" >0.0083</td>\n",
       "      <td id=\"T_9238a_row15_col6\" class=\"data row15 col6\" >3.1680</td>\n",
       "      <td id=\"T_9238a_row15_col7\" class=\"data row15 col7\" >0.0470</td>\n",
       "    </tr>\n",
       "    <tr>\n",
       "      <th id=\"T_9238a_level0_row16\" class=\"row_heading level0 row16\" >lar</th>\n",
       "      <td id=\"T_9238a_row16_col0\" class=\"data row16 col0\" >Least Angle Regression</td>\n",
       "      <td id=\"T_9238a_row16_col1\" class=\"data row16 col1\" >0.0086</td>\n",
       "      <td id=\"T_9238a_row16_col2\" class=\"data row16 col2\" >0.0002</td>\n",
       "      <td id=\"T_9238a_row16_col3\" class=\"data row16 col3\" >0.0128</td>\n",
       "      <td id=\"T_9238a_row16_col4\" class=\"data row16 col4\" >-0.5746</td>\n",
       "      <td id=\"T_9238a_row16_col5\" class=\"data row16 col5\" >0.0105</td>\n",
       "      <td id=\"T_9238a_row16_col6\" class=\"data row16 col6\" >2.8073</td>\n",
       "      <td id=\"T_9238a_row16_col7\" class=\"data row16 col7\" >0.0220</td>\n",
       "    </tr>\n",
       "    <tr>\n",
       "      <th id=\"T_9238a_level0_row17\" class=\"row_heading level0 row17\" >dt</th>\n",
       "      <td id=\"T_9238a_row17_col0\" class=\"data row17 col0\" >Decision Tree Regressor</td>\n",
       "      <td id=\"T_9238a_row17_col1\" class=\"data row17 col1\" >0.0104</td>\n",
       "      <td id=\"T_9238a_row17_col2\" class=\"data row17 col2\" >0.0002</td>\n",
       "      <td id=\"T_9238a_row17_col3\" class=\"data row17 col3\" >0.0148</td>\n",
       "      <td id=\"T_9238a_row17_col4\" class=\"data row17 col4\" >-0.9550</td>\n",
       "      <td id=\"T_9238a_row17_col5\" class=\"data row17 col5\" >0.0090</td>\n",
       "      <td id=\"T_9238a_row17_col6\" class=\"data row17 col6\" >5.3757</td>\n",
       "      <td id=\"T_9238a_row17_col7\" class=\"data row17 col7\" >0.2520</td>\n",
       "    </tr>\n",
       "  </tbody>\n",
       "</table>\n"
      ],
      "text/plain": [
       "<pandas.io.formats.style.Styler at 0x1db545ce8d0>"
      ]
     },
     "metadata": {},
     "output_type": "display_data"
    },
    {
     "data": {
      "text/html": [],
      "text/plain": [
       "<IPython.core.display.HTML object>"
      ]
     },
     "metadata": {},
     "output_type": "display_data"
    }
   ],
   "source": [
    "# Option 2: Use Regression Instead\n",
    "# Create DataFrame with features AND target\n",
    "model_data = train[features].copy()\n",
    "model_data['market_forward_excess_returns'] = train['market_forward_excess_returns']\n",
    "\n",
    "from pycaret.regression import *\n",
    "regression = setup(model_data, target='market_forward_excess_returns', session_id=456)\n",
    "\n",
    "best_regression = regression.compare_models()"
   ]
  },
  {
   "cell_type": "code",
   "execution_count": null,
   "id": "b450af1c",
   "metadata": {},
   "outputs": [
    {
     "data": {
      "application/vnd.jupyter.widget-view+json": {
       "model_id": "80e2821f2f27427292f18318863ae127",
       "version_major": 2,
       "version_minor": 0
      },
      "text/plain": [
       "interactive(children=(ToggleButtons(description='Plot Type:', icons=('',), options=(('Pipeline Plot', 'pipelin…"
      ]
     },
     "metadata": {},
     "output_type": "display_data"
    }
   ],
   "source": [
    "regression.evaluate_model(best_regression)"
   ]
  },
  {
   "cell_type": "code",
   "execution_count": 59,
   "id": "535bd314",
   "metadata": {},
   "outputs": [
    {
     "data": {
      "text/html": [],
      "text/plain": [
       "<IPython.core.display.HTML object>"
      ]
     },
     "metadata": {},
     "output_type": "display_data"
    },
    {
     "data": {
      "image/png": "[encoded data removed]",
      "text/plain": [
       "<Figure size 800x550 with 2 Axes>"
      ]
     },
     "metadata": {},
     "output_type": "display_data"
    }
   ],
   "source": [
    "# OOP API\n",
    "regression.plot_model(best_regression, plot = 'residuals')"
   ]
  },
  {
   "cell_type": "code",
   "execution_count": 60,
   "id": "557dace2",
   "metadata": {},
   "outputs": [
    {
     "data": {
      "text/html": [],
      "text/plain": [
       "<IPython.core.display.HTML object>"
      ]
     },
     "metadata": {},
     "output_type": "display_data"
    },
    {
     "data": {
      "image/png": "[encoded data removed]",
      "text/plain": [
       "<Figure size 800x500 with 1 Axes>"
      ]
     },
     "metadata": {},
     "output_type": "display_data"
    }
   ],
   "source": [
    "# OOP API\n",
    "regression.plot_model(best_regression, plot = 'feature')"
   ]
  },
  {
   "cell_type": "code",
   "execution_count": 61,
   "id": "1bcf732d",
   "metadata": {},
   "outputs": [
    {
     "name": "stdout",
     "output_type": "stream",
     "text": [
      "Transformation Pipeline and Model Successfully Saved\n"
     ]
    },
    {
     "data": {
      "text/plain": [
       "(Pipeline(memory=Memory(location=None),\n",
       "          steps=[('numerical_imputer',\n",
       "                  TransformerWrapper(include=['d1', 'd2', 'd3', 'd4', 'd5', 'd6',\n",
       "                                              'd7', 'd8', 'd9', 'e1', 'e10',\n",
       "                                              'e11', 'e12', 'e13', 'e14', 'e15',\n",
       "                                              'e16', 'e17', 'e18', 'e19', 'e2',\n",
       "                                              'e20', 'e3', 'e4', 'e5', 'e6',\n",
       "                                              'e8', 'e9', 'i1', 'i2', ...],\n",
       "                                     transformer=SimpleImputer())),\n",
       "                 ('categorical_imputer',\n",
       "                  TransformerWrapper(include=[],\n",
       "                                     transformer=SimpleImputer(strategy='most_frequent'))),\n",
       "                 ('trained_model', BayesianRidge())]),\n",
       " 'my_best_pipeline.pkl')"
      ]
     },
     "execution_count": 61,
     "metadata": {},
     "output_type": "execute_result"
    }
   ],
   "source": [
    "# OOP API\n",
    "regression.save_model(best_regression, 'my_best_pipeline')"
   ]
  },
  {
   "cell_type": "code",
   "execution_count": 62,
   "id": "0aa5ad1d",
   "metadata": {},
   "outputs": [
    {
     "name": "stdout",
     "output_type": "stream",
     "text": [
      "Transformation Pipeline and Model Successfully Loaded\n",
      "Pipeline(memory=FastMemory(location=C:\\Users\\calli\\AppData\\Local\\Temp\\joblib),\n",
      "         steps=[('numerical_imputer',\n",
      "                 TransformerWrapper(include=['d1', 'd2', 'd3', 'd4', 'd5', 'd6',\n",
      "                                             'd7', 'd8', 'd9', 'e1', 'e10',\n",
      "                                             'e11', 'e12', 'e13', 'e14', 'e15',\n",
      "                                             'e16', 'e17', 'e18', 'e19', 'e2',\n",
      "                                             'e20', 'e3', 'e4', 'e5', 'e6',\n",
      "                                             'e8', 'e9', 'i1', 'i2', ...],\n",
      "                                    transformer=SimpleImputer())),\n",
      "                ('categorical_imputer',\n",
      "                 TransformerWrapper(include=[],\n",
      "                                    transformer=SimpleImputer(strategy='most_frequent'))),\n",
      "                ('trained_model', BayesianRidge())])\n"
     ]
    }
   ],
   "source": [
    "# OOP API\n",
    "loaded_model = regression.load_model('my_best_pipeline')\n",
    "print(loaded_model)"
   ]
  },
  {
   "cell_type": "markdown",
   "id": "87581836",
   "metadata": {},
   "source": [
    "Here are several ways to extract feature importance the trained PyCaret regression model:\n",
    "\n",
    "## Method 1: Using PyCaret's interpret_model()\n",
    "\n"
   ]
  },
  {
   "cell_type": "code",
   "execution_count": 63,
   "id": "13f91f3f",
   "metadata": {},
   "outputs": [],
   "source": [
    "# # to fix\n",
    "# # Fix: Use correct plot types for interpret_model\n",
    "# # Available plot types: 'summary', 'correlation', 'reason', 'pdp', 'msa', 'pfi'\n",
    "\n",
    "# # For feature importance, use 'pfi' (Permutation Feature Importance)\n",
    "# feature_importance_plot = interpret_model(best_regression, plot='pfi')\n",
    "\n",
    "# # Alternative: Get SHAP summary plot\n",
    "# shap_summary_plot = interpret_model(best_regression, plot='summary')\n",
    "\n",
    "# # For partial dependence plots (individual feature effects)\n",
    "# # pdp_plot = interpret_model(best_regression, plot='pdp', feature='feature_name')\n",
    "\n",
    "# # For correlation analysis\n",
    "# correlation_plot = interpret_model(best_regression, plot='correlation')"
   ]
  },
  {
   "cell_type": "code",
   "execution_count": 64,
   "id": "3f115878",
   "metadata": {},
   "outputs": [],
   "source": [
    "# # to fix\n",
    "# # All available interpret_model plot types:\n",
    "\n",
    "# # 1. Permutation Feature Importance\n",
    "# pfi_plot = interpret_model(best_regression, plot='pfi')\n",
    "\n",
    "# # 2. SHAP Summary Plot\n",
    "# summary_plot = interpret_model(best_regression, plot='summary')\n",
    "\n",
    "# # 3. SHAP Reason Plot (for specific observations)\n",
    "# # reason_plot = interpret_model(best_regression, plot='reason', observation=0)\n",
    "\n",
    "# # 4. Partial Dependence Plot (specify feature name)\n",
    "# # You need to specify a feature name from your dataset\n",
    "# feature_list = regression.get_config('X_train').columns.tolist()\n",
    "# print(\"Available features for PDP:\", feature_list[:5])  # Show first 5 features\n",
    "# # pdp_plot = interpret_model(best_regression, plot='pdp', feature=feature_list[0])\n",
    "\n",
    "# # 5. Morris Sensitivity Analysis\n",
    "# msa_plot = interpret_model(best_regression, plot='msa')\n",
    "\n",
    "# # 6. Correlation Plot\n",
    "# correlation_plot = interpret_model(best_regression, plot='correlation')"
   ]
  },
  {
   "cell_type": "code",
   "execution_count": 65,
   "id": "5682267b",
   "metadata": {},
   "outputs": [],
   "source": [
    "# # to fix\n",
    "# # To get the actual values, you can also use:\n",
    "# feature_importance_summary = interpret_model(best_regression, plot='summary')"
   ]
  },
  {
   "cell_type": "markdown",
   "id": "3f127a97",
   "metadata": {},
   "source": [
    "\n",
    "\n",
    "## Method 2: Direct Access to Model's Feature Importance\n",
    "\n"
   ]
  },
  {
   "cell_type": "code",
   "execution_count": 66,
   "id": "09e82223",
   "metadata": {},
   "outputs": [
    {
     "name": "stdout",
     "output_type": "stream",
     "text": [
      "Feature Importance (Bayesian Ridge coefficients):\n",
      "   feature  coefficient  abs_coefficient\n",
      "60      p6    -0.000692         0.000692\n",
      "46      m4    -0.000636         0.000636\n",
      "86      v9    -0.000610         0.000610\n",
      "78     v13     0.000593         0.000593\n",
      "38     m11     0.000518         0.000518\n",
      "0       d1     0.000511         0.000511\n",
      "1       d2     0.000511         0.000511\n",
      "68      s2    -0.000486         0.000486\n",
      "7       d8     0.000474         0.000474\n",
      "4       d5     0.000409         0.000409\n",
      "\n",
      "Model type: BayesianRidge\n"
     ]
    }
   ],
   "source": [
    "# Access the underlying model's feature importance (coefficients for Bayesian Ridge)\n",
    "feature_names = regression.get_config('X_train').columns\n",
    "importance_df = pd.DataFrame({\n",
    "    'feature': feature_names,\n",
    "    'coefficient': best_regression.coef_\n",
    "})\n",
    "importance_df['abs_coefficient'] = abs(importance_df['coefficient'])\n",
    "importance_df = importance_df.sort_values('abs_coefficient', ascending=False)\n",
    "print(\"Feature Importance (Bayesian Ridge coefficients):\")\n",
    "print(importance_df.head(10))\n",
    "\n",
    "# Also show the model type for confirmation\n",
    "print(f\"\\nModel type: {type(best_regression).__name__}\")"
   ]
  },
  {
   "cell_type": "code",
   "execution_count": 67,
   "id": "0e8e3de9",
   "metadata": {},
   "outputs": [
    {
     "data": {
      "text/plain": [
       "['p6', 'm4', 'v9', 'v13', 'm11', 'd1', 'd2', 's2', 'd8', 'd5']"
      ]
     },
     "execution_count": 67,
     "metadata": {},
     "output_type": "execute_result"
    }
   ],
   "source": [
    "# create a list from the top 10 features\n",
    "top_10_features = importance_df['feature'].head(10).tolist()\n",
    "top_10_features"
   ]
  },
  {
   "cell_type": "markdown",
   "id": "67e8056d",
   "metadata": {},
   "source": [
    "\n",
    "\n",
    "## Method 3: Using SHAP Values\n",
    "\n"
   ]
  },
  {
   "cell_type": "code",
   "execution_count": 68,
   "id": "77a10f67",
   "metadata": {},
   "outputs": [
    {
     "name": "stdout",
     "output_type": "stream",
     "text": [
      "Feature Importance (SHAP values):\n",
      "   feature  importance\n",
      "46      m4    0.000453\n",
      "38     m11    0.000447\n",
      "78     v13    0.000445\n",
      "68      s2    0.000363\n",
      "60      p6    0.000361\n",
      "39     m12    0.000341\n",
      "64      s1    0.000318\n",
      "86      v9    0.000300\n",
      "17     e17    0.000271\n",
      "61      p7    0.000221\n"
     ]
    },
    {
     "data": {
      "image/png": "[encoded data removed]",
      "text/plain": [
       "<Figure size 800x950 with 2 Axes>"
      ]
     },
     "metadata": {},
     "output_type": "display_data"
    }
   ],
   "source": [
    "# Install shap if not already installed: pip install shap\n",
    "import shap\n",
    "\n",
    "# Get training data\n",
    "X_train = regression.get_config('X_train')\n",
    "\n",
    "# Create SHAP explainer\n",
    "explainer = shap.Explainer(best_regression, X_train)\n",
    "shap_values = explainer(X_train)\n",
    "\n",
    "# Get feature importance as mean absolute SHAP values\n",
    "feature_importance_shap = pd.DataFrame({\n",
    "    'feature': X_train.columns,\n",
    "    'importance': np.abs(shap_values.values).mean(axis=0)\n",
    "}).sort_values('importance', ascending=False)\n",
    "\n",
    "print(\"Feature Importance (SHAP values):\")\n",
    "print(feature_importance_shap.head(10))\n",
    "\n",
    "# Plot SHAP summary\n",
    "shap.summary_plot(shap_values, X_train, show=False)"
   ]
  },
  {
   "cell_type": "code",
   "execution_count": 69,
   "id": "9aef120a",
   "metadata": {},
   "outputs": [
    {
     "data": {
      "text/plain": [
       "['m4', 'm11', 'v13', 's2', 'p6', 'm12', 's1', 'v9', 'e17', 'p7']"
      ]
     },
     "execution_count": 69,
     "metadata": {},
     "output_type": "execute_result"
    }
   ],
   "source": [
    "# create a list from the top 10 features\n",
    "top_10_features_shap = feature_importance_shap['feature'].head(10).tolist()\n",
    "top_10_features_shap"
   ]
  },
  {
   "cell_type": "markdown",
   "id": "384bdd98",
   "metadata": {},
   "source": [
    "\n",
    "\n",
    "## Method 4: Permutation Importance\n",
    "\n"
   ]
  },
  {
   "cell_type": "code",
   "execution_count": 70,
   "id": "a4565afb",
   "metadata": {},
   "outputs": [
    {
     "name": "stdout",
     "output_type": "stream",
     "text": [
      "Permutation Importance:\n",
      "   feature  importance_mean  importance_std\n",
      "78     v13     1.173709e-06    1.931062e-07\n",
      "60      p6     1.119700e-06    1.500031e-07\n",
      "46      m4     9.527030e-07    1.339146e-07\n",
      "38     m11     8.333809e-07    1.180359e-07\n",
      "86      v9     6.512782e-07    1.569897e-07\n",
      "68      s2     5.313486e-07    1.005607e-07\n",
      "64      s1     4.116424e-07    1.401107e-07\n",
      "39     m12     3.504865e-07    1.003138e-07\n",
      "17     e17     2.511617e-07    9.954462e-08\n",
      "61      p7     2.014756e-07    6.215092e-08\n"
     ]
    }
   ],
   "source": [
    "from sklearn.inspection import permutation_importance\n",
    "\n",
    "# Get training data and target\n",
    "X_train = regression.get_config('X_train')\n",
    "y_train = regression.get_config('y_train')\n",
    "\n",
    "# Calculate permutation importance\n",
    "perm_importance = permutation_importance(\n",
    "    best_regression, X_train, y_train, \n",
    "    n_repeats=10, random_state=42, scoring='neg_mean_squared_error'\n",
    ")\n",
    "\n",
    "# Create DataFrame\n",
    "perm_importance_df = pd.DataFrame({\n",
    "    'feature': X_train.columns,\n",
    "    'importance_mean': perm_importance.importances_mean,\n",
    "    'importance_std': perm_importance.importances_std\n",
    "}).sort_values('importance_mean', ascending=False)\n",
    "\n",
    "print(\"Permutation Importance:\")\n",
    "print(perm_importance_df.head(10))"
   ]
  },
  {
   "cell_type": "code",
   "execution_count": 71,
   "id": "d8eb4535",
   "metadata": {},
   "outputs": [],
   "source": [
    "# create a list from the top 10 features\n",
    "top_10_features_permutation = perm_importance_df['feature'].head(10).tolist()"
   ]
  },
  {
   "cell_type": "markdown",
   "id": "66692812",
   "metadata": {},
   "source": [
    "\n",
    "\n",
    "## Method 5: Comprehensive Feature Importance Function\n",
    "\n"
   ]
  },
  {
   "cell_type": "code",
   "execution_count": 72,
   "id": "b77c8a52",
   "metadata": {},
   "outputs": [
    {
     "name": "stdout",
     "output_type": "stream",
     "text": [
      "\n",
      "COEFFICIENTS FEATURE IMPORTANCE:\n",
      "   feature  coefficient  abs_coefficient\n",
      "60      p6    -0.000692         0.000692\n",
      "46      m4    -0.000636         0.000636\n",
      "86      v9    -0.000610         0.000610\n",
      "78     v13     0.000593         0.000593\n",
      "38     m11     0.000518         0.000518\n",
      "0       d1     0.000511         0.000511\n",
      "1       d2     0.000511         0.000511\n",
      "68      s2    -0.000486         0.000486\n",
      "7       d8     0.000474         0.000474\n",
      "4       d5     0.000409         0.000409\n",
      "\n",
      "PERMUTATION FEATURE IMPORTANCE:\n",
      "   feature    importance\n",
      "60      p6  1.226649e-06\n",
      "78     v13  1.181972e-06\n",
      "46      m4  1.015935e-06\n",
      "38     m11  7.805254e-07\n",
      "86      v9  7.091279e-07\n",
      "68      s2  5.104346e-07\n",
      "64      s1  4.320798e-07\n",
      "39     m12  3.462934e-07\n",
      "17     e17  2.442219e-07\n",
      "61      p7  1.999797e-07\n"
     ]
    }
   ],
   "source": [
    "def get_comprehensive_feature_importance(model, regression_setup):\n",
    "    \"\"\"\n",
    "    Extract feature importance using multiple methods\n",
    "    \"\"\"\n",
    "    X_train = regression_setup.get_config('X_train')\n",
    "    y_train = regression_setup.get_config('y_train')\n",
    "    \n",
    "    results = {}\n",
    "    \n",
    "    # Method 1: Built-in feature importance (for tree models)\n",
    "    if hasattr(model, 'feature_importances_'):\n",
    "        results['tree_importance'] = pd.DataFrame({\n",
    "            'feature': X_train.columns,\n",
    "            'importance': model.feature_importances_\n",
    "        }).sort_values('importance', ascending=False)\n",
    "    \n",
    "    # Method 2: Coefficients (for linear models)\n",
    "    if hasattr(model, 'coef_'):\n",
    "        results['coefficients'] = pd.DataFrame({\n",
    "            'feature': X_train.columns,\n",
    "            'coefficient': model.coef_,\n",
    "            'abs_coefficient': np.abs(model.coef_)\n",
    "        }).sort_values('abs_coefficient', ascending=False)\n",
    "    \n",
    "    # Method 3: Permutation importance\n",
    "    try:\n",
    "        perm_imp = permutation_importance(\n",
    "            model, X_train, y_train, \n",
    "            n_repeats=5, random_state=42, scoring='neg_mean_squared_error'\n",
    "        )\n",
    "        results['permutation'] = pd.DataFrame({\n",
    "            'feature': X_train.columns,\n",
    "            'importance': perm_imp.importances_mean\n",
    "        }).sort_values('importance', ascending=False)\n",
    "    except Exception as e:\n",
    "        print(f\"Permutation importance failed: {e}\")\n",
    "    \n",
    "    return results\n",
    "\n",
    "# Use the function\n",
    "importance_results = get_comprehensive_feature_importance(best_regression, regression)\n",
    "\n",
    "# Display results\n",
    "for method, df in importance_results.items():\n",
    "    print(f\"\\n{method.upper()} FEATURE IMPORTANCE:\")\n",
    "    print(df.head(10))"
   ]
  },
  {
   "cell_type": "code",
   "execution_count": 73,
   "id": "a95064db",
   "metadata": {},
   "outputs": [
    {
     "data": {
      "text/plain": [
       "{'coefficients':    feature   coefficient  abs_coefficient\n",
       " 60      p6 -6.922160e-04     6.922160e-04\n",
       " 46      m4 -6.361923e-04     6.361923e-04\n",
       " 86      v9 -6.096499e-04     6.096499e-04\n",
       " 78     v13  5.925227e-04     5.925227e-04\n",
       " 38     m11  5.175878e-04     5.175878e-04\n",
       " ..     ...           ...              ...\n",
       " 14     e14  7.889812e-06     7.889812e-06\n",
       " 40     m15  7.204209e-06     7.204209e-06\n",
       " 65     s10  3.172478e-06     3.172478e-06\n",
       " 79      v2  3.096680e-06     3.096680e-06\n",
       " 77     v12  4.063331e-07     4.063331e-07\n",
       " \n",
       " [87 rows x 3 columns],\n",
       " 'permutation':    feature    importance\n",
       " 60      p6  1.226649e-06\n",
       " 78     v13  1.181972e-06\n",
       " 46      m4  1.015935e-06\n",
       " 38     m11  7.805254e-07\n",
       " 86      v9  7.091279e-07\n",
       " ..     ...           ...\n",
       " 52     p10 -4.001777e-10\n",
       " 31      i4 -8.003553e-10\n",
       " 37     m10 -8.061761e-10\n",
       " 74      s9 -8.600182e-10\n",
       " 73      s8 -2.450543e-09\n",
       " \n",
       " [87 rows x 2 columns]}"
      ]
     },
     "execution_count": 73,
     "metadata": {},
     "output_type": "execute_result"
    }
   ],
   "source": [
    "importance_results"
   ]
  },
  {
   "cell_type": "code",
   "execution_count": 74,
   "id": "7cbe4690",
   "metadata": {},
   "outputs": [
    {
     "data": {
      "text/plain": [
       "['p6', 'v13', 'm4', 'm11', 'v9', 's2', 's1', 'm12', 'e17', 'p7']"
      ]
     },
     "execution_count": 74,
     "metadata": {},
     "output_type": "execute_result"
    }
   ],
   "source": [
    "# create a list from the top 10 features\n",
    "top_10_features_comprehensive = df['feature'].head(10).tolist()\n",
    "top_10_features_comprehensive"
   ]
  },
  {
   "cell_type": "markdown",
   "id": "e7a6b497",
   "metadata": {},
   "source": [
    "\n",
    "\n",
    "Choose the method that best fits your model type. Tree-based models work well with built-in feature importance, while linear models are better interpreted through coefficients. SHAP and permutation importance work with any model type and provide more robust interpretability."
   ]
  },
  {
   "cell_type": "markdown",
   "id": "f26d0b3a",
   "metadata": {},
   "source": [
    "This code demonstrates a comprehensive approach to understanding feature importance in machine learning models by using three different methods, each providing unique insights into how features contribute to model predictions.\n",
    "\n",
    "The function `get_comprehensive_feature_importance` starts by extracting the training data from a regression setup object. It then employs a multi-method strategy to capture different aspects of feature importance. The first method checks if the model has built-in feature importance (like tree-based models such as Random Forest or Gradient Boosting). These models calculate importance based on how much each feature contributes to decreasing impurity when making splits. The results are stored as a DataFrame with features ranked by importance in descending order.\n",
    "\n",
    "The second method targets linear models by examining their coefficients. For linear regression, logistic regression, or similar models, the coefficient magnitude indicates feature importance - larger absolute values suggest stronger influence on predictions. The code cleverly stores both the raw coefficients (which can be positive or negative) and their absolute values, sorting by the latter to rank features by their overall impact regardless of direction.\n",
    "\n",
    "The third method implements permutation importance, which is model-agnostic and often considered the most reliable approach. This technique measures how much the model's performance degrades when a feature's values are randomly shuffled, breaking the relationship between that feature and the target. The `try-except` block handles potential failures gracefully, which is important since permutation importance can be computationally expensive or fail with certain model types.\n",
    "\n",
    "A key advantage of this approach is its adaptability - it automatically detects which methods are applicable to the given model type using `hasattr()` checks. Tree models get tree importance, linear models get coefficient analysis, and all models get permutation importance (if it succeeds). This makes the function versatile across different algorithm families.\n",
    "\n",
    "The execution section demonstrates practical usage by calling the function and displaying the top 10 features for each available method. This multi-perspective view is valuable because different methods can sometimes disagree - a feature might have high permutation importance but low tree importance, suggesting interesting interactions or non-linear relationships that merit further investigation."
   ]
  },
  {
   "cell_type": "code",
   "execution_count": null,
   "id": "b7f18ace",
   "metadata": {},
   "outputs": [],
   "source": []
  },
  {
   "cell_type": "code",
   "execution_count": null,
   "id": "28b3785a",
   "metadata": {},
   "outputs": [],
   "source": []
  },
  {
   "cell_type": "code",
   "execution_count": null,
   "id": "d4fb618f",
   "metadata": {},
   "outputs": [],
   "source": []
  },
  {
   "cell_type": "code",
   "execution_count": null,
   "id": "9bc054da",
   "metadata": {},
   "outputs": [],
   "source": []
  },
  {
   "cell_type": "code",
   "execution_count": null,
   "id": "5a7fff3b",
   "metadata": {},
   "outputs": [],
   "source": []
  },
  {
   "cell_type": "code",
   "execution_count": null,
   "id": "c7aa9903",
   "metadata": {},
   "outputs": [],
   "source": []
  }
 ],
 "metadata": {
  "kernelspec": {
   "display_name": "ml",
   "language": "python",
   "name": "python3"
  },
  "language_info": {
   "codemirror_mode": {
    "name": "ipython",
    "version": 3
   },
   "file_extension": ".py",
   "mimetype": "text/x-python",
   "name": "python",
   "nbconvert_exporter": "python",
   "pygments_lexer": "ipython3",
   "version": "3.11.13"
  }
 },
 "nbformat": 4,
 "nbformat_minor": 5
}
