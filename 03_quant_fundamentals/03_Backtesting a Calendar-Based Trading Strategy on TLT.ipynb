{
 "cells": [
  {
   "cell_type": "code",
   "execution_count": 19,
   "id": "ffdd9d82",
   "metadata": {},
   "outputs": [],
   "source": [
    "import math\n",
    "import numpy as np\n",
    "import pandas as pd\n",
    "\n",
    "import yfinance as yf\n",
    "\n",
    "import datetime as dt\n",
    "import matplotlib.pyplot as plt\n",
    "\n",
    "import warnings\n",
    "warnings.filterwarnings('ignore')"
   ]
  },
  {
   "cell_type": "code",
   "execution_count": null,
   "id": "a02722fb",
   "metadata": {},
   "outputs": [
    {
     "data": {
      "text/html": [
       "<div>\n",
       "<style scoped>\n",
       "    .dataframe tbody tr th:only-of-type {\n",
       "        vertical-align: middle;\n",
       "    }\n",
       "\n",
       "    .dataframe tbody tr th {\n",
       "        vertical-align: top;\n",
       "    }\n",
       "\n",
       "    .dataframe thead th {\n",
       "        text-align: right;\n",
       "    }\n",
       "</style>\n",
       "<table border=\"1\" class=\"dataframe\">\n",
       "  <thead>\n",
       "    <tr style=\"text-align: right;\">\n",
       "      <th>Price</th>\n",
       "      <th>Open</th>\n",
       "      <th>High</th>\n",
       "      <th>Low</th>\n",
       "      <th>Close</th>\n",
       "      <th>Volume</th>\n",
       "    </tr>\n",
       "    <tr>\n",
       "      <th>Date</th>\n",
       "      <th></th>\n",
       "      <th></th>\n",
       "      <th></th>\n",
       "      <th></th>\n",
       "      <th></th>\n",
       "    </tr>\n",
       "  </thead>\n",
       "  <tbody>\n",
       "    <tr>\n",
       "      <th>2015-01-02</th>\n",
       "      <td>95.369545</td>\n",
       "      <td>96.404120</td>\n",
       "      <td>95.263822</td>\n",
       "      <td>96.147362</td>\n",
       "      <td>9432000.0</td>\n",
       "    </tr>\n",
       "    <tr>\n",
       "      <th>2015-01-05</th>\n",
       "      <td>96.668411</td>\n",
       "      <td>97.891783</td>\n",
       "      <td>96.630656</td>\n",
       "      <td>97.657684</td>\n",
       "      <td>9789500.0</td>\n",
       "    </tr>\n",
       "    <tr>\n",
       "      <th>2015-01-06</th>\n",
       "      <td>98.699788</td>\n",
       "      <td>100.051536</td>\n",
       "      <td>98.314659</td>\n",
       "      <td>99.417191</td>\n",
       "      <td>18331300.0</td>\n",
       "    </tr>\n",
       "    <tr>\n",
       "      <th>2015-01-07</th>\n",
       "      <td>98.699807</td>\n",
       "      <td>99.658867</td>\n",
       "      <td>98.299571</td>\n",
       "      <td>99.220871</td>\n",
       "      <td>9762900.0</td>\n",
       "    </tr>\n",
       "    <tr>\n",
       "      <th>2015-01-08</th>\n",
       "      <td>98.443039</td>\n",
       "      <td>98.450586</td>\n",
       "      <td>97.733184</td>\n",
       "      <td>97.906868</td>\n",
       "      <td>8055300.0</td>\n",
       "    </tr>\n",
       "  </tbody>\n",
       "</table>\n",
       "</div>"
      ],
      "text/plain": [
       "Price            Open        High        Low      Close      Volume\n",
       "Date                                                               \n",
       "2015-01-02  95.369545   96.404120  95.263822  96.147362   9432000.0\n",
       "2015-01-05  96.668411   97.891783  96.630656  97.657684   9789500.0\n",
       "2015-01-06  98.699788  100.051536  98.314659  99.417191  18331300.0\n",
       "2015-01-07  98.699807   99.658867  98.299571  99.220871   9762900.0\n",
       "2015-01-08  98.443039   98.450586  97.733184  97.906868   8055300.0"
      ]
     },
     "execution_count": 20,
     "metadata": {},
     "output_type": "execute_result"
    }
   ],
   "source": [
    "# portfolio of tickers\n",
    "tickers = ['TLT']\n",
    "  \n",
    "# start_date = \"2015-01-01\"\n",
    "# end_date = dt.datetime.now().strftime(\"%Y-%m-%d\")\n",
    "\n",
    "# # Download historical data from yf API\n",
    "# data = yf.download(tickers, start=start_date, end=end_date, group_by='ticker')\n",
    "\n",
    "# # download data to csv\n",
    "# data.to_csv(f\"{tickers[0]}_data.csv\")\n",
    "     \n",
    "# Load the CSV with MultiIndex columns (Tickers, OHLCV)\n",
    "df = pd.read_csv(f\"{tickers[0]}_data.csv\", header=[0,1], index_col=0)\n",
    "\n",
    "# Drop any rows that are completely NaN (e.g. 'Date' row)\n",
    "df = df.dropna(how='all')\n",
    "\n",
    "# Convert all values to float\n",
    "df = df.astype(float)\n",
    "\n",
    "# drop level 0 of the multiindex columns (the ticker symbol)\n",
    "df.columns = df.columns.droplevel(0)\n",
    "\n",
    "# datetime index\n",
    "df.index = pd.to_datetime(df.index)\n",
    "\n",
    "# Show the result\n",
    "df.head()"
   ]
  },
  {
   "cell_type": "code",
   "execution_count": 21,
   "id": "451f2b3b",
   "metadata": {},
   "outputs": [
    {
     "name": "stdout",
     "output_type": "stream",
     "text": [
      "<class 'pandas.core.frame.DataFrame'>\n",
      "DatetimeIndex: 2696 entries, 2015-01-02 to 2025-09-22\n",
      "Data columns (total 5 columns):\n",
      " #   Column  Non-Null Count  Dtype  \n",
      "---  ------  --------------  -----  \n",
      " 0   Open    2696 non-null   float64\n",
      " 1   High    2696 non-null   float64\n",
      " 2   Low     2696 non-null   float64\n",
      " 3   Close   2696 non-null   float64\n",
      " 4   Volume  2696 non-null   float64\n",
      "dtypes: float64(5)\n",
      "memory usage: 126.4 KB\n"
     ]
    }
   ],
   "source": [
    "df.info()"
   ]
  },
  {
   "cell_type": "code",
   "execution_count": 22,
   "id": "15f1728f",
   "metadata": {},
   "outputs": [
    {
     "data": {
      "text/html": [
       "<div>\n",
       "<style scoped>\n",
       "    .dataframe tbody tr th:only-of-type {\n",
       "        vertical-align: middle;\n",
       "    }\n",
       "\n",
       "    .dataframe tbody tr th {\n",
       "        vertical-align: top;\n",
       "    }\n",
       "\n",
       "    .dataframe thead th {\n",
       "        text-align: right;\n",
       "    }\n",
       "</style>\n",
       "<table border=\"1\" class=\"dataframe\">\n",
       "  <thead>\n",
       "    <tr style=\"text-align: right;\">\n",
       "      <th>Price</th>\n",
       "      <th>Open</th>\n",
       "      <th>High</th>\n",
       "      <th>Low</th>\n",
       "      <th>Close</th>\n",
       "      <th>Volume</th>\n",
       "      <th>log_return</th>\n",
       "      <th>day_of_month</th>\n",
       "      <th>year</th>\n",
       "    </tr>\n",
       "    <tr>\n",
       "      <th>Date</th>\n",
       "      <th></th>\n",
       "      <th></th>\n",
       "      <th></th>\n",
       "      <th></th>\n",
       "      <th></th>\n",
       "      <th></th>\n",
       "      <th></th>\n",
       "      <th></th>\n",
       "    </tr>\n",
       "  </thead>\n",
       "  <tbody>\n",
       "    <tr>\n",
       "      <th>2015-01-02</th>\n",
       "      <td>95.369545</td>\n",
       "      <td>96.404120</td>\n",
       "      <td>95.263822</td>\n",
       "      <td>96.147362</td>\n",
       "      <td>9432000.0</td>\n",
       "      <td>NaN</td>\n",
       "      <td>2</td>\n",
       "      <td>2015</td>\n",
       "    </tr>\n",
       "    <tr>\n",
       "      <th>2015-01-05</th>\n",
       "      <td>96.668411</td>\n",
       "      <td>97.891783</td>\n",
       "      <td>96.630656</td>\n",
       "      <td>97.657684</td>\n",
       "      <td>9789500.0</td>\n",
       "      <td>0.015586</td>\n",
       "      <td>5</td>\n",
       "      <td>2015</td>\n",
       "    </tr>\n",
       "    <tr>\n",
       "      <th>2015-01-06</th>\n",
       "      <td>98.699788</td>\n",
       "      <td>100.051536</td>\n",
       "      <td>98.314659</td>\n",
       "      <td>99.417191</td>\n",
       "      <td>18331300.0</td>\n",
       "      <td>0.017857</td>\n",
       "      <td>6</td>\n",
       "      <td>2015</td>\n",
       "    </tr>\n",
       "    <tr>\n",
       "      <th>2015-01-07</th>\n",
       "      <td>98.699807</td>\n",
       "      <td>99.658867</td>\n",
       "      <td>98.299571</td>\n",
       "      <td>99.220871</td>\n",
       "      <td>9762900.0</td>\n",
       "      <td>-0.001977</td>\n",
       "      <td>7</td>\n",
       "      <td>2015</td>\n",
       "    </tr>\n",
       "    <tr>\n",
       "      <th>2015-01-08</th>\n",
       "      <td>98.443039</td>\n",
       "      <td>98.450586</td>\n",
       "      <td>97.733184</td>\n",
       "      <td>97.906868</td>\n",
       "      <td>8055300.0</td>\n",
       "      <td>-0.013332</td>\n",
       "      <td>8</td>\n",
       "      <td>2015</td>\n",
       "    </tr>\n",
       "  </tbody>\n",
       "</table>\n",
       "</div>"
      ],
      "text/plain": [
       "Price            Open        High        Low      Close      Volume  \\\n",
       "Date                                                                  \n",
       "2015-01-02  95.369545   96.404120  95.263822  96.147362   9432000.0   \n",
       "2015-01-05  96.668411   97.891783  96.630656  97.657684   9789500.0   \n",
       "2015-01-06  98.699788  100.051536  98.314659  99.417191  18331300.0   \n",
       "2015-01-07  98.699807   99.658867  98.299571  99.220871   9762900.0   \n",
       "2015-01-08  98.443039   98.450586  97.733184  97.906868   8055300.0   \n",
       "\n",
       "Price       log_return  day_of_month  year  \n",
       "Date                                        \n",
       "2015-01-02         NaN             2  2015  \n",
       "2015-01-05    0.015586             5  2015  \n",
       "2015-01-06    0.017857             6  2015  \n",
       "2015-01-07   -0.001977             7  2015  \n",
       "2015-01-08   -0.013332             8  2015  "
      ]
     },
     "execution_count": 22,
     "metadata": {},
     "output_type": "execute_result"
    }
   ],
   "source": [
    "tlt = df.copy()\n",
    "\n",
    "# log returns\n",
    "tlt['log_return'] = np.log(tlt['Close'] / tlt['Close'].shift(1))\n",
    "\n",
    "# day of month\n",
    "tlt['day_of_month'] = tlt.index.day\n",
    "\n",
    "# year\n",
    "tlt['year'] = tlt.index.year\n",
    "\n",
    "tlt.head()"
   ]
  },
  {
   "cell_type": "code",
   "execution_count": 23,
   "id": "7d938202",
   "metadata": {},
   "outputs": [
    {
     "data": {
      "image/png": "[encoded data removed]",
      "text/plain": [
       "<Figure size 1000x600 with 1 Axes>"
      ]
     },
     "metadata": {},
     "output_type": "display_data"
    }
   ],
   "source": [
    "# mean log return by day of month\n",
    "grouped_by_day = tlt.groupby('day_of_month')['log_return'].mean()\n",
    "\n",
    "# plot the mean log return by day of month\n",
    "plt.figure(figsize=(10, 6))\n",
    "plt.plot(grouped_by_day.index, grouped_by_day.values, marker='o')\n",
    "plt.title('Mean Log Return by Day of Month for TLT')\n",
    "plt.xlabel('Day of Month')\n",
    "plt.ylabel('Mean Log Return')\n",
    "plt.grid()\n",
    "plt.xticks(np.arange(1, 32, 1))\n",
    "plt.xlim(1, 31)\n",
    "plt.ylim(-0.02, 0.02)\n",
    "plt.axhline(0, color='black', linewidth=0.5, linestyle='--')\n",
    "plt.show()"
   ]
  },
  {
   "cell_type": "code",
   "execution_count": 24,
   "id": "fce1f1ae",
   "metadata": {},
   "outputs": [
    {
     "data": {
      "image/png": "[encoded data removed]",
      "text/plain": [
       "<Figure size 640x480 with 1 Axes>"
      ]
     },
     "metadata": {},
     "output_type": "display_data"
    }
   ],
   "source": [
    "grouped_by_day.plot.bar(title=\"Mean Log Returns by Calendar Day of Month\");"
   ]
  },
  {
   "cell_type": "code",
   "execution_count": null,
   "id": "daa683b8",
   "metadata": {},
   "outputs": [],
   "source": [
    "tlt[\"first_week_returns\"] = 0.0\n",
    "tlt.loc[tlt.day_of_month <= 7, \"first_week_returns\"] = tlt[tlt.day_of_month <= 7].log_return\n",
    "\n",
    "tlt[\"last_week_returns\"] = 0.0\n",
    "tlt.loc[tlt.day_of_month >= 23, \"last_week_returns\"] = tlt[tlt.day_of_month >= 23].log_return\n",
    "tlt[\"middle_week_returns\"] = 0.0\n",
    "tlt.loc[(tlt.day_of_month > 7) & (tlt.day_of_month < 23), \"middle_week_returns\"] = tlt[(tlt.day_of_month > 7) & (tlt.day_of_month < 23)].log_return\n",
    "\n",
    "tlt[\"last_week_less_first_week\"] = tlt.last_week_returns - tlt.first_week_returns"
   ]
  },
  {
   "cell_type": "code",
   "execution_count": null,
   "id": "16496358",
   "metadata": {},
   "outputs": [],
   "source": [
    "(\n",
    "    tlt.groupby(\"year\")\n",
    "    .last_week_less_first_week.mean()\n",
    "    .plot.bar(title=\"Mean Log Strategy Returns by Year\")\n",
    ");"
   ]
  },
  {
   "cell_type": "code",
   "execution_count": null,
   "id": "b2e75c78",
   "metadata": {},
   "outputs": [],
   "source": [
    "(\n",
    "    tlt.groupby(\"year\")\n",
    "    .last_week_less_first_week.sum()\n",
    "    .cumsum()\n",
    "    .plot(title=\"Cumulative Sum of Returns By Year\")\n",
    ");"
   ]
  },
  {
   "cell_type": "code",
   "execution_count": null,
   "id": "2331e2a3",
   "metadata": {},
   "outputs": [],
   "source": [
    "tlt.last_week_less_first_week.cumsum().plot(title=\"Cumulative Sum of Returns By Day\");"
   ]
  },
  {
   "cell_type": "code",
   "execution_count": null,
   "id": "07988b0d",
   "metadata": {},
   "outputs": [],
   "source": []
  }
 ],
 "metadata": {
  "kernelspec": {
   "display_name": "data",
   "language": "python",
   "name": "python3"
  },
  "language_info": {
   "codemirror_mode": {
    "name": "ipython",
    "version": 3
   },
   "file_extension": ".py",
   "mimetype": "text/x-python",
   "name": "python",
   "nbconvert_exporter": "python",
   "pygments_lexer": "ipython3",
   "version": "3.11.13"
  }
 },
 "nbformat": 4,
 "nbformat_minor": 5
}
