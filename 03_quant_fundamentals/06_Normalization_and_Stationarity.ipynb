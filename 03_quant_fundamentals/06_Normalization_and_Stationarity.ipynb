{
 "cells": [
  {
   "cell_type": "markdown",
   "id": "94832a42",
   "metadata": {},
   "source": [
    "In Python, puoi normalizzare una serie storica di prezzi e renderla stazionaria seguendo questi passaggi:\n",
    "\n",
    "1️⃣ Normalizzazione\n",
    "\n",
    "La normalizzazione serve a scalare i dati tra un intervallo specifico (ad esempio 0 e 1) per rendere la serie più gestibile dai modelli di machine learning.\n",
    "\n",
    "Ecco come puoi farlo usando MinMaxScaler di scikit-learn:"
   ]
  },
  {
   "cell_type": "code",
   "execution_count": 1,
   "id": "2a620cc6",
   "metadata": {},
   "outputs": [
    {
     "name": "stdout",
     "output_type": "stream",
     "text": [
      "   Prezzi  Prezzi_normalizzati\n",
      "0     100                  0.2\n",
      "1     105                  0.4\n",
      "2     110                  0.6\n",
      "3      95                  0.0\n",
      "4     115                  0.8\n",
      "5     120                  1.0\n"
     ]
    }
   ],
   "source": [
    "import numpy as np\n",
    "import pandas as pd\n",
    "from sklearn.preprocessing import MinMaxScaler\n",
    "\n",
    "# Creiamo una serie storica di esempio\n",
    "data = {'Prezzi': [100, 105, 110, 95, 115, 120]}\n",
    "df = pd.DataFrame(data)\n",
    "\n",
    "# Normalizzazione tra 0 e 1\n",
    "scaler = MinMaxScaler(feature_range=(0, 1))\n",
    "df['Prezzi_normalizzati'] = scaler.fit_transform(df[['Prezzi']])\n",
    "\n",
    "print(df)\n"
   ]
  },
  {
   "cell_type": "markdown",
   "id": "a726f8ba",
   "metadata": {},
   "source": [
    "👉 Questo trasforma i dati in un intervallo tra 0 e 1, riducendo l'impatto delle variazioni di scala.\n",
    "\n",
    "2️⃣ Stazionarietà\n",
    "\n",
    "Una serie è stazionaria se la sua media e varianza rimangono costanti nel tempo. In finanza, le serie storiche tendono ad avere una dipendenza temporale, quindi dobbiamo eliminare tendenze o stagionalità.\n",
    "\n",
    "✅ Un metodo comune è la differenziazione, che calcola le variazioni tra valori consecutivi:"
   ]
  },
  {
   "cell_type": "code",
   "execution_count": 2,
   "metadata": {},
   "outputs": [
    {
     "name": "stdout",
     "output_type": "stream",
     "text": [
      "   Prezzi  Prezzi_normalizzati  Prezzi_differenziati\n",
      "0     100                  0.2                   NaN\n",
      "1     105                  0.4                   5.0\n",
      "2     110                  0.6                   5.0\n",
      "3      95                  0.0                 -15.0\n",
      "4     115                  0.8                  20.0\n",
      "5     120                  1.0                   5.0\n"
     ]
    }
   ],
   "source": [
    "df['Prezzi_differenziati'] = df['Prezzi'].diff().dropna()\n",
    "print(df)"
   ]
  },
  {
   "cell_type": "markdown",
   "id": "714cbaf0",
   "metadata": {},
   "source": [
    "👉 Questo rimuove trend e fa sì che la serie abbia una media costante nel tempo.\n",
    "\n",
    "✅ Puoi anche verificare la stazionarietà con il test di Dickey-Fuller:"
   ]
  },
  {
   "cell_type": "code",
   "execution_count": 3,
   "metadata": {},
   "outputs": [
    {
     "name": "stdout",
     "output_type": "stream",
     "text": [
      "Statistica di test: -2.4331050121192876\n",
      "P-value: 0.13260989493578812\n"
     ]
    }
   ],
   "source": [
    "from statsmodels.tsa.stattools import adfuller\n",
    "\n",
    "# Test di Dickey-Fuller\n",
    "result = adfuller(df['Prezzi_differenziati'].dropna())\n",
    "print(f'Statistica di test: {result[0]}')\n",
    "print(f'P-value: {result[1]}')\n",
    "\n",
    "# Se il p-value è < 0.05, la serie è stazionaria!\n"
   ]
  },
  {
   "cell_type": "markdown",
   "id": "e7473633",
   "metadata": {},
   "source": [
    "🔥 Conclusione\n",
    "\n",
    "Normalizzazione → MinMaxScaler() per scalare tra 0 e 1\n",
    "\n",
    "Stazionarietà → .diff() per rimuovere trend + test ADF per conferma"
   ]
  },
  {
   "cell_type": "code",
   "execution_count": null,
   "metadata": {},
   "outputs": [],
   "source": []
  }
 ],
 "metadata": {
  "kernelspec": {
   "display_name": "ml",
   "language": "python",
   "name": "python3"
  },
  "language_info": {
   "codemirror_mode": {
    "name": "ipython",
    "version": 3
   },
   "file_extension": ".py",
   "mimetype": "text/x-python",
   "name": "python",
   "nbconvert_exporter": "python",
   "pygments_lexer": "ipython3",
   "version": "3.11.12"
  }
 },
 "nbformat": 4,
 "nbformat_minor": 5
}
