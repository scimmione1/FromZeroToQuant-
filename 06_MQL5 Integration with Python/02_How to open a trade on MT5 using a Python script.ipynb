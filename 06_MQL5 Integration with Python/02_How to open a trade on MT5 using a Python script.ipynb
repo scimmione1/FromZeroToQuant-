{
 "cells": [
  {
   "cell_type": "code",
   "execution_count": 1,
   "id": "6a24a1d5",
   "metadata": {},
   "outputs": [],
   "source": [
    "import MetaTrader5 as mt5"
   ]
  },
  {
   "cell_type": "code",
   "execution_count": null,
   "id": "c2c83105",
   "metadata": {},
   "outputs": [],
   "source": [
    "login_id = 51761832\n",
    "server_name = \"ICMarketsSC-Demo\"\n",
    "password_ = \"Demo1234!\""
   ]
  },
  {
   "cell_type": "code",
   "execution_count": null,
   "id": "77dfda6d",
   "metadata": {},
   "outputs": [
    {
     "name": "stdout",
     "output_type": "stream",
     "text": [
      "MetaTrader5 PKG version:  5.0.5260\n",
      "MetaTrader5 PKG author:  MetaQuotes Ltd.\n",
      "MT5 initialization Failed, Error code  (-10003, 'IPC initialize failed, MetaTrader 5 x64 not found')\n"
     ]
    },
    {
     "ename": "AttributeError",
     "evalue": "'NoneType' object has no attribute 'point'",
     "output_type": "error",
     "traceback": [
      "\u001b[31m---------------------------------------------------------------------------\u001b[39m",
      "\u001b[31mAttributeError\u001b[39m                            Traceback (most recent call last)",
      "\u001b[36mCell\u001b[39m\u001b[36m \u001b[39m\u001b[32mIn[3]\u001b[39m\u001b[32m, line 12\u001b[39m\n\u001b[32m     10\u001b[39m symbol=\u001b[33m\"\u001b[39m\u001b[33mXAUUSD\u001b[39m\u001b[33m\"\u001b[39m\n\u001b[32m     11\u001b[39m lot=\u001b[32m0.01\u001b[39m\n\u001b[32m---> \u001b[39m\u001b[32m12\u001b[39m point=\u001b[43mmt5\u001b[49m\u001b[43m.\u001b[49m\u001b[43msymbol_info\u001b[49m\u001b[43m(\u001b[49m\u001b[43msymbol\u001b[49m\u001b[43m)\u001b[49m\u001b[43m.\u001b[49m\u001b[43mpoint\u001b[49m\n\u001b[32m     13\u001b[39m order_type=mt5.ORDER_TYPE_BUY\n\u001b[32m     14\u001b[39m price=mt5.symbol_info_tick(symbol).ask\n",
      "\u001b[31mAttributeError\u001b[39m: 'NoneType' object has no attribute 'point'"
     ]
    }
   ],
   "source": [
    "print (\"MetaTrader5 PKG version: \",mt5.__version__)\n",
    "print (\"MetaTrader5 PKG author: \",mt5.__author__)\n",
    "\n",
    "if mt5.initialize(login=login_id, server=server_name,password=password_):\n",
    "\n",
    "    print (\"MT5 initialized Successfully\")\n",
    "    \n",
    "else: print (\"MT5 initialization Failed, Error code \",mt5.last_error())"
   ]
  },
  {
   "cell_type": "code",
   "execution_count": null,
   "id": "ec608511",
   "metadata": {},
   "outputs": [],
   "source": [
    "symbol=\"XAUUSD\"\n",
    "lot=0.01\n",
    "point=mt5.symbol_info(symbol).point\n",
    "order_type=mt5.ORDER_TYPE_BUY\n",
    "price=mt5.symbol_info_tick(symbol).ask\n",
    "sl=mt5.symbol_info_tick(symbol).ask-100\n",
    "tp=mt5.symbol_info_tick(symbol).ask+150\n",
    "deviation=10\n",
    "magic=2222222\n",
    "comment=\"python order\"\n",
    "type_time=mt5.ORDER_TIME_GTC\n",
    "type_filling=mt5.ORDER_FILLING_IOC\n",
    "\n",
    "\n",
    "point=mt5.symbol_info(symbol).point\n",
    "request={\n",
    "    \"action\":mt5.TRADE_ACTION_DEAL,\n",
    "    \"symbol\":symbol,\n",
    "    \"volume\":lot,\n",
    "    \"type\":order_type,\n",
    "    \"price\":price,\n",
    "    \"sl\":sl,\n",
    "    \"tp\":tp,\n",
    "    \"deviation\":deviation,\n",
    "    \"magic\":magic,\n",
    "    \"comment\":comment,\n",
    "    \"type_time\":type_time,\n",
    "    \"type_filling\":type_filling,\n",
    "    }\n",
    "    \n",
    "result=mt5.order_check(request)\n",
    "\n",
    "result=mt5.order_send(request)\n",
    "\n",
    "mt5.shutdown()"
   ]
  }
 ],
 "metadata": {
  "kernelspec": {
   "display_name": "data",
   "language": "python",
   "name": "python3"
  },
  "language_info": {
   "codemirror_mode": {
    "name": "ipython",
    "version": 3
   },
   "file_extension": ".py",
   "mimetype": "text/x-python",
   "name": "python",
   "nbconvert_exporter": "python",
   "pygments_lexer": "ipython3",
   "version": "3.11.13"
  }
 },
 "nbformat": 4,
 "nbformat_minor": 5
}
