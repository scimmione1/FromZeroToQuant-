{
 "cells": [
  {
   "cell_type": "code",
   "execution_count": null,
   "id": "6a24a1d5",
   "metadata": {},
   "outputs": [],
   "source": [
    "import MetaTrader5 as mt5"
   ]
  },
  {
   "cell_type": "code",
   "execution_count": null,
   "id": "c2c83105",
   "metadata": {},
   "outputs": [],
   "source": [
    "login_id = 51761832\n",
    "server_name = \"ICMarketsSC-Demo\"\n",
    "password_ = \"Demo1234!\""
   ]
  },
  {
   "cell_type": "code",
   "execution_count": null,
   "id": "77dfda6d",
   "metadata": {},
   "outputs": [],
   "source": [
    "print (\"MetaTrader5 PKG version: \",mt5.__version__)\n",
    "print (\"MetaTrader5 PKG author: \",mt5.__author__)\n",
    "\n",
    "if mt5.initialize(login=login_id, server=server_name,password=password_):\n",
    "\n",
    "    print (\"MT5 initialized Successfully\")\n",
    "    \n",
    "else: print (\"MT5 initialization Failed, Error code \",mt5.last_error())\n",
    "\n",
    "symbol=\"XAUUSD\"\n",
    "lot=0.01\n",
    "point=mt5.symbol_info(symbol).point\n",
    "order_type=mt5.ORDER_TYPE_BUY\n",
    "price=mt5.symbol_info_tick(symbol).ask\n",
    "sl=mt5.symbol_info_tick(symbol).ask-100\n",
    "tp=mt5.symbol_info_tick(symbol).ask+150\n",
    "deviation=10\n",
    "magic=2222222\n",
    "comment=\"python order\"\n",
    "type_time=mt5.ORDER_TIME_GTC\n",
    "type_filling=mt5.ORDER_FILLING_IOC\n",
    "\n",
    "\n",
    "point=mt5.symbol_info(symbol).point\n",
    "request={\n",
    "    \"action\":mt5.TRADE_ACTION_DEAL,\n",
    "    \"symbol\":symbol,\n",
    "    \"volume\":lot,\n",
    "    \"type\":order_type,\n",
    "    \"price\":price,\n",
    "    \"sl\":sl,\n",
    "    \"tp\":tp,\n",
    "    \"deviation\":deviation,\n",
    "    \"magic\":magic,\n",
    "    \"comment\":comment,\n",
    "    \"type_time\":type_time,\n",
    "    \"type_filling\":type_filling,\n",
    "    }\n",
    "    \n",
    "result=mt5.order_check(request)\n",
    "\n",
    "result=mt5.order_send(request)\n",
    "\n",
    "mt5.shutdown()"
   ]
  }
 ],
 "metadata": {
  "kernelspec": {
   "display_name": "data",
   "language": "python",
   "name": "python3"
  },
  "language_info": {
   "name": "python",
   "version": "3.11.13"
  }
 },
 "nbformat": 4,
 "nbformat_minor": 5
}
