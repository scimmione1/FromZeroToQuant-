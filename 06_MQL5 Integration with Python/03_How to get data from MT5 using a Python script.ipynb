{
 "cells": [
  {
   "cell_type": "code",
   "execution_count": null,
   "id": "6a24a1d5",
   "metadata": {},
   "outputs": [],
   "source": [
    "import MetaTrader5 as mt5\n",
    "import pandas as pd\n",
    "import plotly.express as px\n",
    "from plotly.offline import plot\n",
    "\n",
    "from datetime import datetime"
   ]
  },
  {
   "cell_type": "code",
   "execution_count": null,
   "id": "c2c83105",
   "metadata": {},
   "outputs": [],
   "source": [
    "login_id = 51761832\n",
    "server_name = \"ICMarketsSC-Demo\"\n",
    "password_ = \"Demo1234!\""
   ]
  },
  {
   "cell_type": "code",
   "execution_count": null,
   "id": "63f39824",
   "metadata": {},
   "outputs": [],
   "source": [
    "print (\"MetaTrader5 PKG version: \",mt5.__version__)\n",
    "print (\"MetaTrader5 PKG author: \",mt5.__author__)\n",
    "\n",
    "if mt5.initialize(login=login_id, server=server_name,password=password_):\n",
    "\n",
    "    print (\"MT5 initialized Successfully\")\n",
    "    \n",
    "else: print (\"MT5 initialization Failed, Error code \",mt5.last_error())\n",
    "\n",
    "xauusd_data=pd.DataFrame(mt5.copy_rates_range(\"XAUUSD\", mt5.TIMEFRAME_D1, datetime(2023,8,1), datetime.now()))\n",
    "xauusd_data['time'] = pd.to_datetime(xauusd_data['time'],unit='s')\n",
    "\n",
    "\n",
    "print(xauusd_data)\n",
    "\n",
    "fig = px.line(xauusd_data, x=xauusd_data['time'], y=xauusd_data['close'])\n",
    "plot(fig)\n"
   ]
  }
 ],
 "metadata": {
  "kernelspec": {
   "display_name": "data",
   "language": "python",
   "name": "python3"
  },
  "language_info": {
   "name": "python",
   "version": "3.11.13"
  }
 },
 "nbformat": 4,
 "nbformat_minor": 5
}
