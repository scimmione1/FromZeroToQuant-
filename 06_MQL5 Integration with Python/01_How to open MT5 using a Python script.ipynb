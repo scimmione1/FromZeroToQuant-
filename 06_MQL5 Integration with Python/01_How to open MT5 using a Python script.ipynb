{
 "cells": [
  {
   "cell_type": "code",
   "execution_count": null,
   "id": "6a24a1d5",
   "metadata": {},
   "outputs": [],
   "source": [
    "import MetaTrader5 as mt5"
   ]
  },
  {
   "cell_type": "code",
   "execution_count": null,
   "id": "c2c83105",
   "metadata": {},
   "outputs": [],
   "source": [
    "login_id = 51761832\n",
    "server_name = \"ICMarketsSC-Demo\"\n",
    "password_ = \"Demo1234!\""
   ]
  },
  {
   "cell_type": "code",
   "execution_count": null,
   "id": "3c3ec847",
   "metadata": {},
   "outputs": [],
   "source": [
    "print (\"MetaTrader5 PKG version: \",mt5.__version__)\n",
    "\n",
    "if mt5.initialize(login=login_id, server=server_name, password=password_):\n",
    "    print(\"MT5 initialized Successfully\")\n",
    "else:\n",
    "    print(\"MT5 initialization Failed, Error code \", mt5.last_error())"
   ]
  }
 ],
 "metadata": {
  "kernelspec": {
   "display_name": "data",
   "language": "python",
   "name": "python3"
  },
  "language_info": {
   "name": "python",
   "version": "3.11.13"
  }
 },
 "nbformat": 4,
 "nbformat_minor": 5
}
