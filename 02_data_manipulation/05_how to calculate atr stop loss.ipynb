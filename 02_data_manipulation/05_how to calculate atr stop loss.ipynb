{
 "cells": [
  {
   "cell_type": "code",
   "execution_count": null,
   "id": "6facffe7",
   "metadata": {},
   "outputs": [],
   "source": [
    "import pandas as pd\n",
    "from datetime import datetime\n",
    "\n",
    "import yfinance as yf\n",
    "\n",
    "import talib as ta\n",
    "\n",
    "import warnings\n",
    "warnings.filterwarnings(\"ignore\")"
   ]
  },
  {
   "cell_type": "code",
   "execution_count": null,
   "id": "03452e06",
   "metadata": {},
   "outputs": [],
   "source": [
    "# portfolio of stocks\n",
    "stocks = ['^GDAXI']"
   ]
  },
  {
   "cell_type": "code",
   "execution_count": null,
   "id": "1b761c75",
   "metadata": {},
   "outputs": [],
   "source": [
    "\n",
    "end_date = datetime.now().strftime(\"%Y-%m-%d\")\n",
    "start_date = end_date - pd.DateOffset(months=6)\n",
    "\n",
    "# Download historical data from yf API\n",
    "data = yf.download(stocks, start=start_date, end=end_date, group_by='ticker')\n",
    "\n",
    "# # download data to csv\n",
    "# data.to_csv(\"stocks_data.csv\")"
   ]
  },
  {
   "cell_type": "code",
   "execution_count": null,
   "id": "cabb8b2a",
   "metadata": {},
   "outputs": [],
   "source": []
  },
  {
   "cell_type": "code",
   "execution_count": null,
   "id": "75095c8b",
   "metadata": {},
   "outputs": [],
   "source": []
  },
  {
   "cell_type": "code",
   "execution_count": null,
   "id": "45977b07",
   "metadata": {},
   "outputs": [],
   "source": []
  }
 ],
 "metadata": {
  "kernelspec": {
   "display_name": "data",
   "language": "python",
   "name": "python3"
  },
  "language_info": {
   "name": "python",
   "version": "3.11.13"
  }
 },
 "nbformat": 4,
 "nbformat_minor": 5
}
