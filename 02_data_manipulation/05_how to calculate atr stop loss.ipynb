{
 "cells": [
  {
   "cell_type": "code",
   "execution_count": 7,
   "id": "6facffe7",
   "metadata": {},
   "outputs": [],
   "source": [
    "import pandas as pd\n",
    "from datetime import datetime\n",
    "\n",
    "import yfinance as yf\n",
    "\n",
    "import talib as ta\n",
    "\n",
    "import warnings\n",
    "warnings.filterwarnings(\"ignore\")"
   ]
  },
  {
   "cell_type": "code",
   "execution_count": 8,
   "id": "03452e06",
   "metadata": {},
   "outputs": [],
   "source": [
    "# portfolio of stocks\n",
    "stocks = ['^GDAXI']"
   ]
  },
  {
   "cell_type": "code",
   "execution_count": null,
   "id": "1b761c75",
   "metadata": {},
   "outputs": [
    {
     "name": "stdout",
     "output_type": "stream",
     "text": [
      "Date range: 2025-03-11 to 2025-09-11\n"
     ]
    },
    {
     "name": "stderr",
     "output_type": "stream",
     "text": [
      "[*********************100%***********************]  1 of 1 completed\n",
      "\n"
     ]
    },
    {
     "data": {
      "text/html": [
       "<div>\n",
       "<style scoped>\n",
       "    .dataframe tbody tr th:only-of-type {\n",
       "        vertical-align: middle;\n",
       "    }\n",
       "\n",
       "    .dataframe tbody tr th {\n",
       "        vertical-align: top;\n",
       "    }\n",
       "\n",
       "    .dataframe thead tr th {\n",
       "        text-align: left;\n",
       "    }\n",
       "\n",
       "    .dataframe thead tr:last-of-type th {\n",
       "        text-align: right;\n",
       "    }\n",
       "</style>\n",
       "<table border=\"1\" class=\"dataframe\">\n",
       "  <thead>\n",
       "    <tr>\n",
       "      <th>Ticker</th>\n",
       "      <th colspan=\"5\" halign=\"left\">^GDAXI</th>\n",
       "    </tr>\n",
       "    <tr>\n",
       "      <th>Price</th>\n",
       "      <th>Open</th>\n",
       "      <th>High</th>\n",
       "      <th>Low</th>\n",
       "      <th>Close</th>\n",
       "      <th>Volume</th>\n",
       "    </tr>\n",
       "    <tr>\n",
       "      <th>Datetime</th>\n",
       "      <th></th>\n",
       "      <th></th>\n",
       "      <th></th>\n",
       "      <th></th>\n",
       "      <th></th>\n",
       "    </tr>\n",
       "  </thead>\n",
       "  <tbody>\n",
       "    <tr>\n",
       "      <th>2025-03-11 09:00:00+00:00</th>\n",
       "      <td>22772.230469</td>\n",
       "      <td>22835.099609</td>\n",
       "      <td>22729.880859</td>\n",
       "      <td>22770.839844</td>\n",
       "      <td>0.0</td>\n",
       "    </tr>\n",
       "    <tr>\n",
       "      <th>2025-03-11 10:00:00+00:00</th>\n",
       "      <td>22771.179688</td>\n",
       "      <td>22777.140625</td>\n",
       "      <td>22688.339844</td>\n",
       "      <td>22716.589844</td>\n",
       "      <td>0.0</td>\n",
       "    </tr>\n",
       "    <tr>\n",
       "      <th>2025-03-11 11:00:00+00:00</th>\n",
       "      <td>22716.589844</td>\n",
       "      <td>22716.589844</td>\n",
       "      <td>22638.500000</td>\n",
       "      <td>22698.210938</td>\n",
       "      <td>0.0</td>\n",
       "    </tr>\n",
       "    <tr>\n",
       "      <th>2025-03-11 12:00:00+00:00</th>\n",
       "      <td>22698.210938</td>\n",
       "      <td>22701.470703</td>\n",
       "      <td>22603.199219</td>\n",
       "      <td>22664.910156</td>\n",
       "      <td>0.0</td>\n",
       "    </tr>\n",
       "    <tr>\n",
       "      <th>2025-03-11 13:00:00+00:00</th>\n",
       "      <td>22664.910156</td>\n",
       "      <td>22708.699219</td>\n",
       "      <td>22510.279297</td>\n",
       "      <td>22541.119141</td>\n",
       "      <td>0.0</td>\n",
       "    </tr>\n",
       "  </tbody>\n",
       "</table>\n",
       "</div>"
      ],
      "text/plain": [
       "Ticker                           ^GDAXI                              \\\n",
       "Price                              Open          High           Low   \n",
       "Datetime                                                              \n",
       "2025-03-11 09:00:00+00:00  22772.230469  22835.099609  22729.880859   \n",
       "2025-03-11 10:00:00+00:00  22771.179688  22777.140625  22688.339844   \n",
       "2025-03-11 11:00:00+00:00  22716.589844  22716.589844  22638.500000   \n",
       "2025-03-11 12:00:00+00:00  22698.210938  22701.470703  22603.199219   \n",
       "2025-03-11 13:00:00+00:00  22664.910156  22708.699219  22510.279297   \n",
       "\n",
       "Ticker                                          \n",
       "Price                             Close Volume  \n",
       "Datetime                                        \n",
       "2025-03-11 09:00:00+00:00  22770.839844    0.0  \n",
       "2025-03-11 10:00:00+00:00  22716.589844    0.0  \n",
       "2025-03-11 11:00:00+00:00  22698.210938    0.0  \n",
       "2025-03-11 12:00:00+00:00  22664.910156    0.0  \n",
       "2025-03-11 13:00:00+00:00  22541.119141    0.0  "
      ]
     },
     "execution_count": 9,
     "metadata": {},
     "output_type": "execute_result"
    }
   ],
   "source": [
    "\n",
    "# Calculate dates properly\n",
    "end_date = datetime.now()\n",
    "start_date = end_date - pd.DateOffset(months=6)\n",
    "\n",
    "# Convert to strings for yfinance if needed (yfinance accepts datetime objects too)\n",
    "print(f\"Date range: {start_date.strftime('%Y-%m-%d')} to {end_date.strftime('%Y-%m-%d')}\")\n",
    "\n",
    "# Download historical data from yf API\n",
    "df = yf.download(stocks, start=start_date, end=end_date, group_by='ticker', interval='1h')\n",
    "\n",
    "# # download data to csv\n",
    "# df.to_csv(\"stocks_data.csv\")\n",
    "\n",
    "# # Load the CSV with MultiIndex columns (Tickers, OHLCV)\n",
    "# df = pd.read_csv(\"stocks_data.csv\", header=[0,1], index_col=0)\n",
    "\n",
    "# Drop any rows that are completely NaN (e.g. 'Date' row)\n",
    "df = df.dropna(how='all')\n",
    "\n",
    "# Convert all values to float\n",
    "df = df.astype(float)\n",
    "\n",
    "# # Show the result\n",
    "# df.head()"
   ]
  },
  {
   "cell_type": "code",
   "execution_count": 11,
   "id": "cabb8b2a",
   "metadata": {},
   "outputs": [
    {
     "data": {
      "text/plain": [
       "Datetime\n",
       "2025-03-11 09:00:00+00:00    22770.839844\n",
       "2025-03-11 10:00:00+00:00    22716.589844\n",
       "2025-03-11 11:00:00+00:00    22698.210938\n",
       "2025-03-11 12:00:00+00:00    22664.910156\n",
       "2025-03-11 13:00:00+00:00    22541.119141\n",
       "Name: Close, dtype: float64"
      ]
     },
     "execution_count": 11,
     "metadata": {},
     "output_type": "execute_result"
    }
   ],
   "source": [
    "# drop level 0 of the columns MultiIndex (the tickers)\n",
    "df.columns = df.columns.droplevel(0)\n",
    "\n",
    "# select only the 'Close' prices\n",
    "df = df['Close']\n",
    "\n",
    "df.head()"
   ]
  },
  {
   "cell_type": "code",
   "execution_count": null,
   "id": "75095c8b",
   "metadata": {},
   "outputs": [],
   "source": []
  },
  {
   "cell_type": "code",
   "execution_count": null,
   "id": "45977b07",
   "metadata": {},
   "outputs": [],
   "source": []
  }
 ],
 "metadata": {
  "kernelspec": {
   "display_name": "data",
   "language": "python",
   "name": "python3"
  },
  "language_info": {
   "codemirror_mode": {
    "name": "ipython",
    "version": 3
   },
   "file_extension": ".py",
   "mimetype": "text/x-python",
   "name": "python",
   "nbconvert_exporter": "python",
   "pygments_lexer": "ipython3",
   "version": "3.11.13"
  }
 },
 "nbformat": 4,
 "nbformat_minor": 5
}
