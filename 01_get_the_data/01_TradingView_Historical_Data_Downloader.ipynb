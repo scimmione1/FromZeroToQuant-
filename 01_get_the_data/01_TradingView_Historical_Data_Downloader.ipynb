{
 "cells": [
  {
   "cell_type": "code",
   "execution_count": null,
   "id": "b692d3f2",
   "metadata": {},
   "outputs": [],
   "source": [
    "import pandas as pd\n",
    "\n",
    "from tvDatafeed import TvDatafeed, Interval\n",
    "\n",
    "import warnings\n",
    "warnings.filterwarnings(\"ignore\")\n",
    "\n",
    "from datetime import datetime\n",
    "import time"
   ]
  },
  {
   "cell_type": "code",
   "execution_count": 2,
   "id": "4bee5980",
   "metadata": {},
   "outputs": [
    {
     "name": "stderr",
     "output_type": "stream",
     "text": [
      "you are using nologin method, data you access may be limited\n"
     ]
    }
   ],
   "source": [
    "tv = TvDatafeed()\n",
    "\n",
    "# portfolio of stocks\n",
    "stocks = ['SPY']\n",
    "\n",
    "num_stocks = len(stocks)\n",
    "\n",
    "# Set the dates\n",
    "start_date = datetime(2020, 1, 1)\n",
    "today = datetime.now()\n",
    "days_difference = (today - start_date).days\n",
    "\n",
    "# Request more bars to account for weekends/holidays\n",
    "n_bars = min(days_difference + 100, 5000)  # max 5000 as per API limitations"
   ]
  },
  {
   "cell_type": "code",
   "execution_count": 3,
   "id": "5f9462d2",
   "metadata": {},
   "outputs": [],
   "source": [
    "# TV requires the exchange information\n",
    "stock_exchanges = {'SPY': 'AMEX'}\n",
    "\n",
    "# Function to download data with retry\n",
    "def download_with_retry(symbol, exchange, retries=3, delay=2):\n",
    "    for attempt in range(retries):\n",
    "        try:\n",
    "            print(f\"Downloading {symbol} from {exchange} (attempt {attempt+1})\")\n",
    "            data = tv.get_hist(\n",
    "                symbol=symbol, \n",
    "                exchange=exchange, \n",
    "                interval=Interval.in_daily,\n",
    "                n_bars=1000  # around 4 years of data\n",
    "            )\n",
    "            if data is not None and not data.empty:\n",
    "                print(f\"✅ {symbol}: {len(data)} rows downloaded\")\n",
    "                return data\n",
    "        except Exception as e:\n",
    "            print(f\"❌ Error downloading {symbol}: {e}\")\n",
    "        \n",
    "        if attempt < retries - 1:\n",
    "            time.sleep(delay)\n",
    "    \n",
    "    print(f\"❌ Failed to download {symbol} after {retries} attempts\")\n",
    "    return None"
   ]
  },
  {
   "cell_type": "code",
   "execution_count": 4,
   "id": "06bbc90d",
   "metadata": {},
   "outputs": [
    {
     "name": "stdout",
     "output_type": "stream",
     "text": [
      "🚀 Starting data download...\n",
      "Downloading SPY from AMEX (attempt 1)\n",
      "✅ SPY: 1000 rows downloaded\n",
      "📊 Combined DataFrame shape: (1000, 1)\n",
      "📅 Date range: 2021-08-31 16:30:00 to 2025-08-25 16:30:00\n",
      "\n",
      "First 5 rows:\n",
      "                        SPY\n",
      "datetime                   \n",
      "2021-08-31 16:30:00  451.56\n",
      "2021-09-01 16:30:00  451.80\n",
      "2021-09-02 16:30:00  453.19\n",
      "2021-09-03 16:30:00  453.08\n",
      "2021-09-07 16:30:00  451.46\n"
     ]
    }
   ],
   "source": [
    "# Download data\n",
    "print(\"🚀 Starting data download...\")\n",
    "data_dict = {}\n",
    "failed_downloads = []\n",
    "\n",
    "for stock, exchange in stock_exchanges.items():\n",
    "    data = download_with_retry(stock, exchange)\n",
    "    if data is not None:\n",
    "        # Take only the Close column and rename it\n",
    "        data_dict[stock] = data['close']\n",
    "    else:\n",
    "        failed_downloads.append(stock)\n",
    "\n",
    "if failed_downloads:\n",
    "    print(f\"⚠️ Failed to download: {failed_downloads}\")\n",
    "\n",
    "# Combine into a DataFrame\n",
    "if data_dict:\n",
    "    df = pd.DataFrame(data_dict)\n",
    "    print(f\"📊 Combined DataFrame shape: {df.shape}\")\n",
    "    print(f\"📅 Date range: {df.index.min()} to {df.index.max()}\")\n",
    "    print(\"\\nFirst 5 rows:\")\n",
    "    print(df.head())\n",
    "else:\n",
    "    print(\"❌ No data downloaded successfully\")"
   ]
  },
  {
   "cell_type": "code",
   "execution_count": 5,
   "id": "daae8bd8",
   "metadata": {},
   "outputs": [
    {
     "data": {
      "text/html": [
       "<div>\n",
       "<style scoped>\n",
       "    .dataframe tbody tr th:only-of-type {\n",
       "        vertical-align: middle;\n",
       "    }\n",
       "\n",
       "    .dataframe tbody tr th {\n",
       "        vertical-align: top;\n",
       "    }\n",
       "\n",
       "    .dataframe thead th {\n",
       "        text-align: right;\n",
       "    }\n",
       "</style>\n",
       "<table border=\"1\" class=\"dataframe\">\n",
       "  <thead>\n",
       "    <tr style=\"text-align: right;\">\n",
       "      <th></th>\n",
       "      <th>SPY</th>\n",
       "    </tr>\n",
       "    <tr>\n",
       "      <th>datetime</th>\n",
       "      <th></th>\n",
       "    </tr>\n",
       "  </thead>\n",
       "  <tbody>\n",
       "    <tr>\n",
       "      <th>2021-08-31 16:30:00</th>\n",
       "      <td>451.56</td>\n",
       "    </tr>\n",
       "    <tr>\n",
       "      <th>2021-09-01 16:30:00</th>\n",
       "      <td>451.80</td>\n",
       "    </tr>\n",
       "    <tr>\n",
       "      <th>2021-09-02 16:30:00</th>\n",
       "      <td>453.19</td>\n",
       "    </tr>\n",
       "    <tr>\n",
       "      <th>2021-09-03 16:30:00</th>\n",
       "      <td>453.08</td>\n",
       "    </tr>\n",
       "    <tr>\n",
       "      <th>2021-09-07 16:30:00</th>\n",
       "      <td>451.46</td>\n",
       "    </tr>\n",
       "  </tbody>\n",
       "</table>\n",
       "</div>"
      ],
      "text/plain": [
       "                        SPY\n",
       "datetime                   \n",
       "2021-08-31 16:30:00  451.56\n",
       "2021-09-01 16:30:00  451.80\n",
       "2021-09-02 16:30:00  453.19\n",
       "2021-09-03 16:30:00  453.08\n",
       "2021-09-07 16:30:00  451.46"
      ]
     },
     "execution_count": 5,
     "metadata": {},
     "output_type": "execute_result"
    }
   ],
   "source": [
    "df.head()\n",
    "# df.info()"
   ]
  },
  {
   "cell_type": "code",
   "execution_count": 6,
   "id": "f21cfe09",
   "metadata": {},
   "outputs": [],
   "source": [
    "# download to csv\n",
    "df.to_csv(\"spy_historical_data.csv\")"
   ]
  }
 ],
 "metadata": {
  "kernelspec": {
   "display_name": "env_prova",
   "language": "python",
   "name": "python3"
  },
  "language_info": {
   "codemirror_mode": {
    "name": "ipython",
    "version": 3
   },
   "file_extension": ".py",
   "mimetype": "text/x-python",
   "name": "python",
   "nbconvert_exporter": "python",
   "pygments_lexer": "ipython3",
   "version": "3.9.21"
  }
 },
 "nbformat": 4,
 "nbformat_minor": 5
}
