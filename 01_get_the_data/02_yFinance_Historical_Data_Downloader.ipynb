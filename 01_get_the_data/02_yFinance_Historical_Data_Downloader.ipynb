{
 "cells": [
  {
   "cell_type": "code",
   "execution_count": 1,
   "id": "9bd41513",
   "metadata": {},
   "outputs": [],
   "source": [
    "import pandas as pd\n",
    "from datetime import datetime\n",
    "\n",
    "import yfinance as yf\n",
    "\n",
    "import warnings\n",
    "warnings.filterwarnings(\"ignore\")\n",
    "\n",
    "import datetime as dt\n",
    "import time"
   ]
  },
  {
   "cell_type": "code",
   "execution_count": null,
   "id": "cc2991c2",
   "metadata": {},
   "outputs": [],
   "source": [
    "# portfolio of tickers\n",
    "# tickers = ['AAPL', 'MSFT', 'GOOGL', 'AMZN', 'TSLA', 'META', 'NVDA']\n",
    "# tickers = ['GBPAUD=X']"
   ]
  },
  {
   "cell_type": "code",
   "execution_count": null,
   "metadata": {},
   "outputs": [
    {
     "name": "stderr",
     "output_type": "stream",
     "text": [
      "[*********************100%***********************]  1 of 1 completed\n"
     ]
    }
   ],
   "source": [
    "start_date = \"2020-01-01\"\n",
    "end_date = datetime.now().strftime(\"%Y-%m-%d\")\n",
    "\n",
    "# Download historical data from yf API\n",
    "data = yf.download(tickers, start=start_date, end=end_date, group_by='ticker')\n",
    "\n",
    "# download data to csv\n",
    "data.to_csv(\"tickers_data.csv\")"
   ]
  },
  {
   "cell_type": "code",
   "execution_count": null,
   "metadata": {},
   "outputs": [
    {
     "data": {
      "text/html": [
       "<div>\n",
       "<style scoped>\n",
       "    .dataframe tbody tr th:only-of-type {\n",
       "        vertical-align: middle;\n",
       "    }\n",
       "\n",
       "    .dataframe tbody tr th {\n",
       "        vertical-align: top;\n",
       "    }\n",
       "\n",
       "    .dataframe thead tr th {\n",
       "        text-align: left;\n",
       "    }\n",
       "\n",
       "    .dataframe thead tr:last-of-type th {\n",
       "        text-align: right;\n",
       "    }\n",
       "</style>\n",
       "<table border=\"1\" class=\"dataframe\">\n",
       "  <thead>\n",
       "    <tr>\n",
       "      <th>Ticker</th>\n",
       "      <th colspan=\"5\" halign=\"left\">GBPAUD=X</th>\n",
       "    </tr>\n",
       "    <tr>\n",
       "      <th>Price</th>\n",
       "      <th>Open</th>\n",
       "      <th>High</th>\n",
       "      <th>Low</th>\n",
       "      <th>Close</th>\n",
       "      <th>Volume</th>\n",
       "    </tr>\n",
       "    <tr>\n",
       "      <th>Date</th>\n",
       "      <th></th>\n",
       "      <th></th>\n",
       "      <th></th>\n",
       "      <th></th>\n",
       "      <th></th>\n",
       "    </tr>\n",
       "  </thead>\n",
       "  <tbody>\n",
       "    <tr>\n",
       "      <th>2020-01-01</th>\n",
       "      <td>1.89200</td>\n",
       "      <td>1.89200</td>\n",
       "      <td>1.87740</td>\n",
       "      <td>1.894183</td>\n",
       "      <td>0.0</td>\n",
       "    </tr>\n",
       "    <tr>\n",
       "      <th>2020-01-02</th>\n",
       "      <td>1.88765</td>\n",
       "      <td>1.89086</td>\n",
       "      <td>1.87949</td>\n",
       "      <td>1.887650</td>\n",
       "      <td>0.0</td>\n",
       "    </tr>\n",
       "    <tr>\n",
       "      <th>2020-01-03</th>\n",
       "      <td>1.88192</td>\n",
       "      <td>1.88621</td>\n",
       "      <td>1.87869</td>\n",
       "      <td>1.882590</td>\n",
       "      <td>0.0</td>\n",
       "    </tr>\n",
       "    <tr>\n",
       "      <th>2020-01-06</th>\n",
       "      <td>1.88275</td>\n",
       "      <td>1.89970</td>\n",
       "      <td>1.88036</td>\n",
       "      <td>1.883360</td>\n",
       "      <td>0.0</td>\n",
       "    </tr>\n",
       "    <tr>\n",
       "      <th>2020-01-07</th>\n",
       "      <td>1.89848</td>\n",
       "      <td>1.91542</td>\n",
       "      <td>1.89781</td>\n",
       "      <td>1.898460</td>\n",
       "      <td>0.0</td>\n",
       "    </tr>\n",
       "  </tbody>\n",
       "</table>\n",
       "</div>"
      ],
      "text/plain": [
       "Ticker     GBPAUD=X                                   \n",
       "Price          Open     High      Low     Close Volume\n",
       "Date                                                  \n",
       "2020-01-01  1.89200  1.89200  1.87740  1.894183    0.0\n",
       "2020-01-02  1.88765  1.89086  1.87949  1.887650    0.0\n",
       "2020-01-03  1.88192  1.88621  1.87869  1.882590    0.0\n",
       "2020-01-06  1.88275  1.89970  1.88036  1.883360    0.0\n",
       "2020-01-07  1.89848  1.91542  1.89781  1.898460    0.0"
      ]
     },
     "execution_count": 4,
     "metadata": {},
     "output_type": "execute_result"
    }
   ],
   "source": [
    "# Load the CSV with MultiIndex columns (Tickers, OHLCV)\n",
    "df = pd.read_csv(\"tickers_data.csv\", header=[0,1], index_col=0)\n",
    "\n",
    "# Drop any rows that are completely NaN (e.g. 'Date' row)\n",
    "df = df.dropna(how='all')\n",
    "\n",
    "# Convert all values to float\n",
    "df = df.astype(float)\n",
    "\n",
    "# Show the result\n",
    "df.head()"
   ]
  },
  {
   "cell_type": "code",
   "execution_count": null,
   "id": "156fbc3f",
   "metadata": {},
   "outputs": [],
   "source": []
  }
 ],
 "metadata": {
  "kernelspec": {
   "display_name": "data",
   "language": "python",
   "name": "python3"
  },
  "language_info": {
   "codemirror_mode": {
    "name": "ipython",
    "version": 3
   },
   "file_extension": ".py",
   "mimetype": "text/x-python",
   "name": "python",
   "nbconvert_exporter": "python",
   "pygments_lexer": "ipython3",
   "version": "3.11.13"
  }
 },
 "nbformat": 4,
 "nbformat_minor": 5
}
