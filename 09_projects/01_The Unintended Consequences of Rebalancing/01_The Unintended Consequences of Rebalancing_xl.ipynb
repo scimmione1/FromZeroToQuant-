{
 "cells": [
  {
   "cell_type": "code",
   "execution_count": 14,
   "id": "28169b83",
   "metadata": {},
   "outputs": [],
   "source": [
    "import pandas as pd\n",
    "\n",
    "import matplotlib.pyplot as plt\n",
    "import seaborn as sns"
   ]
  },
  {
   "cell_type": "code",
   "execution_count": 15,
   "id": "6d7ef900",
   "metadata": {},
   "outputs": [
    {
     "name": "stdout",
     "output_type": "stream",
     "text": [
      "File found\n",
      "DataFrame loaded successfully!\n",
      "Shape: (281, 4)\n",
      "\n",
      "First 5 rows:\n",
      "            Unnamed: 0                      Unnamed: 1  \\\n",
      "0                  NaN                             NaN   \n",
      "1                 Date  Sum of SPY - TLT First 15 Days   \n",
      "2  2002-08-01 00:00:00                        0.010151   \n",
      "3  2002-09-01 00:00:00                       -0.126546   \n",
      "4  2002-10-01 00:00:00                        0.160759   \n",
      "\n",
      "                   Unnamed: 2                              Unnamed: 3  \n",
      "0                         NaN                                     NaN  \n",
      "1  Sum of SPY-TLT Last 5 Days  Sum of SPY-TLT First 5 Days Next Month  \n",
      "2                   -0.057039                               -0.019438  \n",
      "3                   -0.025929                               -0.028645  \n",
      "4                   -0.044043                                0.009031  \n"
     ]
    }
   ],
   "source": [
    "import os\n",
    "\n",
    "# Corrected path - remove the duplicate 09_projects and use correct filename\n",
    "path = os.path.abspath(os.path.join(\"..\", \"01_The Unintended Consequences of Rebalancing\", \"SPY_TLT_Cleaned.xlsx\"))\n",
    "\n",
    "# Alternative: If you're already in the correct directory, try direct path\n",
    "# path = \"SPY_TLT_Cleaned.xlsx\"\n",
    "\n",
    "# Check if file exists before reading\n",
    "if not os.path.exists(path):\n",
    "    print(f\"File not found\")\n",
    "    print(\"Current working directory:\", os.getcwd())\n",
    "    print(\"Available files in current directory:\")\n",
    "    current_dir = os.path.dirname(path)\n",
    "    if os.path.exists(current_dir):\n",
    "        for item in os.listdir(current_dir):\n",
    "            if item.endswith('.xlsx'):\n",
    "                print(f\"  - {item}\")\n",
    "    else:\n",
    "        print(\"Directory doesn't exist\")\n",
    "        # Try alternative paths\n",
    "        alternative_paths = [\n",
    "            \"SPY_TLT_Cleaned.xlsx\",\n",
    "            os.path.join(\".\", \"SPY_TLT_Cleaned.xlsx\"),\n",
    "            os.path.abspath(\"SPY_TLT_Cleaned.xlsx\")\n",
    "        ]\n",
    "        for alt_path in alternative_paths:\n",
    "            if os.path.exists(alt_path):\n",
    "                print(f\"Found file at alternative path: {alt_path}\")\n",
    "                path = alt_path\n",
    "                break\n",
    "else:\n",
    "    print(f\"File found\")\n",
    "\n",
    "# Read the Excel file\n",
    "if os.path.exists(path):\n",
    "    df = pd.read_excel(path)\n",
    "    print(\"DataFrame loaded successfully!\")\n",
    "    print(f\"Shape: {df.shape}\")\n",
    "    print(\"\\nFirst 5 rows:\")\n",
    "    print(df.head())\n",
    "else:\n",
    "    print(\"Could not locate the Excel file. Please check the file location.\")"
   ]
  },
  {
   "cell_type": "code",
   "execution_count": null,
   "id": "c0041e8d",
   "metadata": {},
   "outputs": [],
   "source": []
  },
  {
   "cell_type": "code",
   "execution_count": null,
   "id": "b2142efe",
   "metadata": {},
   "outputs": [],
   "source": []
  }
 ],
 "metadata": {
  "kernelspec": {
   "display_name": "data",
   "language": "python",
   "name": "python3"
  },
  "language_info": {
   "codemirror_mode": {
    "name": "ipython",
    "version": 3
   },
   "file_extension": ".py",
   "mimetype": "text/x-python",
   "name": "python",
   "nbconvert_exporter": "python",
   "pygments_lexer": "ipython3",
   "version": "3.11.13"
  }
 },
 "nbformat": 4,
 "nbformat_minor": 5
}
