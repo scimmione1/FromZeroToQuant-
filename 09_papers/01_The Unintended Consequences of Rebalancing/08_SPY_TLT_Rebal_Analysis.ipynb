{
 "cells": [
  {
   "cell_type": "markdown",
   "id": "4b9346ae-6ce5-4fcf-869f-afae4e46e13c",
   "metadata": {},
   "source": [
    "## Imports"
   ]
  },
  {
   "cell_type": "code",
   "execution_count": 1,
   "id": "00720154-24ef-4878-bb84-5b387d5480c6",
   "metadata": {},
   "outputs": [],
   "source": [
    "import datetime as dt\n",
    "import numpy as np\n",
    "import pandas as pd\n",
    "import yfinance as yf\n",
    "import plotnine as p9\n",
    "import statsmodels.formula.api as smf"
   ]
  },
  {
   "cell_type": "markdown",
   "id": "06dca8a5-6b58-45f3-83e9-03c4cc7fc435",
   "metadata": {},
   "source": [
    "## Load Yahoo Data"
   ]
  },
  {
   "cell_type": "markdown",
   "id": "332a803a-f32b-4fcc-8f4d-4cf8d788e2c0",
   "metadata": {},
   "source": [
    "We will be getting Dividend Adjusted data -> which could be the difference between Yahoo and TradingView data"
   ]
  },
  {
   "cell_type": "code",
   "execution_count": 2,
   "id": "7b13153e-d7ce-4318-abb4-d13cb183998a",
   "metadata": {},
   "outputs": [],
   "source": [
    "# tickers = ['SPY', 'TLT']\n",
    "# ydata = yf.Tickers(tickers).download(period=\"max\", auto_adjust=True)   # get dividend adjusted prices"
   ]
  },
  {
   "cell_type": "markdown",
   "id": "a9711aa5-4144-4108-98d6-13851b50cc8c",
   "metadata": {},
   "source": [
    "Convert Yahoo Data to long-format"
   ]
  },
  {
   "cell_type": "code",
   "execution_count": 3,
   "id": "db5b6fa6-4b2d-41af-933d-1f0014de8951",
   "metadata": {},
   "outputs": [],
   "source": [
    "# data = (   # put data in long form\n",
    "#     ydata\n",
    "#     .dropna()\n",
    "#     .stack(1, future_stack=True)\n",
    "#     .reset_index()\n",
    "#     [['Date', 'Ticker', 'Close']]\n",
    "#     .sort_values(by=['Date', 'Ticker'])\n",
    "# )\n",
    "\n",
    "# data.head(5)"
   ]
  },
  {
   "cell_type": "code",
   "execution_count": 4,
   "id": "920eed08",
   "metadata": {},
   "outputs": [],
   "source": [
    "# # download historical data from Yahoo Finance to csv, file name data_<tickers>_2002-07-30_D.csv\n",
    "# data.to_csv('data_SPY_TLT_2002-07-30_D.csv', index=False)"
   ]
  },
  {
   "cell_type": "markdown",
   "id": "9a312836-cd48-4b6d-9627-5e49bddc1fd9",
   "metadata": {},
   "source": [
    "## Create return data for the various periods of Month defined by (N, M)"
   ]
  },
  {
   "cell_type": "code",
   "execution_count": 2,
   "id": "20e34df1",
   "metadata": {},
   "outputs": [
    {
     "name": "stdout",
     "output_type": "stream",
     "text": [
      "<class 'pandas.core.frame.DataFrame'>\n",
      "RangeIndex: 11700 entries, 0 to 11699\n",
      "Data columns (total 3 columns):\n",
      " #   Column  Non-Null Count  Dtype         \n",
      "---  ------  --------------  -----         \n",
      " 0   Date    11700 non-null  datetime64[ns]\n",
      " 1   Ticker  11700 non-null  object        \n",
      " 2   Close   11700 non-null  float64       \n",
      "dtypes: datetime64[ns](1), float64(1), object(1)\n",
      "memory usage: 274.3+ KB\n",
      "None\n",
      "        Date Ticker      Close\n",
      "0 2002-07-30    SPY  59.177753\n",
      "1 2002-07-30    TLT  37.055656\n",
      "2 2002-07-31    SPY  59.320934\n",
      "3 2002-07-31    TLT  37.514767\n",
      "4 2002-08-01    SPY  57.772179\n"
     ]
    }
   ],
   "source": [
    "# read data from csv\n",
    "data = pd.read_csv('data_SPY_TLT_2002-07-30_D.csv')\n",
    "data['Date'] = pd.to_datetime(data['Date'])\n",
    "print(data.info())\n",
    "print(data.head(5))"
   ]
  },
  {
   "cell_type": "code",
   "execution_count": 3,
   "id": "783b0cab",
   "metadata": {},
   "outputs": [],
   "source": [
    "# set Date as index\n",
    "data = data.set_index('Date')\n",
    "# rename index to ym\n",
    "data.index.name = 'ym'"
   ]
  },
  {
   "cell_type": "code",
   "execution_count": null,
   "id": "82499073",
   "metadata": {},
   "outputs": [
    {
     "name": "stderr",
     "output_type": "stream",
     "text": [
      "C:\\Users\\calli\\AppData\\Local\\Temp\\ipykernel_8708\\3618533457.py:2: FutureWarning: 'M' is deprecated and will be removed in a future version, please use 'ME' instead.\n"
     ]
    }
   ],
   "source": [
    "# group by Ticker and ym"
   ]
  },
  {
   "cell_type": "code",
   "execution_count": null,
   "id": "a81c423d",
   "metadata": {},
   "outputs": [],
   "source": []
  },
  {
   "cell_type": "code",
   "execution_count": 6,
   "id": "5a49f910",
   "metadata": {},
   "outputs": [
    {
     "data": {
      "text/html": [
       "<div>\n",
       "<style scoped>\n",
       "    .dataframe tbody tr th:only-of-type {\n",
       "        vertical-align: middle;\n",
       "    }\n",
       "\n",
       "    .dataframe tbody tr th {\n",
       "        vertical-align: top;\n",
       "    }\n",
       "\n",
       "    .dataframe thead th {\n",
       "        text-align: right;\n",
       "    }\n",
       "</style>\n",
       "<table border=\"1\" class=\"dataframe\">\n",
       "  <thead>\n",
       "    <tr style=\"text-align: right;\">\n",
       "      <th></th>\n",
       "      <th>Ticker</th>\n",
       "      <th>Close</th>\n",
       "    </tr>\n",
       "    <tr>\n",
       "      <th>ym</th>\n",
       "      <th></th>\n",
       "      <th></th>\n",
       "    </tr>\n",
       "  </thead>\n",
       "  <tbody>\n",
       "    <tr>\n",
       "      <th>2002-07-30</th>\n",
       "      <td>SPY</td>\n",
       "      <td>59.177753</td>\n",
       "    </tr>\n",
       "    <tr>\n",
       "      <th>2002-07-30</th>\n",
       "      <td>TLT</td>\n",
       "      <td>37.055656</td>\n",
       "    </tr>\n",
       "    <tr>\n",
       "      <th>2002-07-31</th>\n",
       "      <td>SPY</td>\n",
       "      <td>59.320934</td>\n",
       "    </tr>\n",
       "    <tr>\n",
       "      <th>2002-07-31</th>\n",
       "      <td>TLT</td>\n",
       "      <td>37.514767</td>\n",
       "    </tr>\n",
       "    <tr>\n",
       "      <th>2002-08-01</th>\n",
       "      <td>SPY</td>\n",
       "      <td>57.772179</td>\n",
       "    </tr>\n",
       "    <tr>\n",
       "      <th>...</th>\n",
       "      <td>...</td>\n",
       "      <td>...</td>\n",
       "    </tr>\n",
       "    <tr>\n",
       "      <th>2025-10-03</th>\n",
       "      <td>TLT</td>\n",
       "      <td>89.379997</td>\n",
       "    </tr>\n",
       "    <tr>\n",
       "      <th>2025-10-06</th>\n",
       "      <td>SPY</td>\n",
       "      <td>671.609985</td>\n",
       "    </tr>\n",
       "    <tr>\n",
       "      <th>2025-10-06</th>\n",
       "      <td>TLT</td>\n",
       "      <td>88.669998</td>\n",
       "    </tr>\n",
       "    <tr>\n",
       "      <th>2025-10-07</th>\n",
       "      <td>SPY</td>\n",
       "      <td>669.119995</td>\n",
       "    </tr>\n",
       "    <tr>\n",
       "      <th>2025-10-07</th>\n",
       "      <td>TLT</td>\n",
       "      <td>89.180000</td>\n",
       "    </tr>\n",
       "  </tbody>\n",
       "</table>\n",
       "<p>2794 rows × 2 columns</p>\n",
       "</div>"
      ],
      "text/plain": [
       "           Ticker       Close\n",
       "ym                           \n",
       "2002-07-30    SPY   59.177753\n",
       "2002-07-30    TLT   37.055656\n",
       "2002-07-31    SPY   59.320934\n",
       "2002-07-31    TLT   37.514767\n",
       "2002-08-01    SPY   57.772179\n",
       "...           ...         ...\n",
       "2025-10-03    TLT   89.379997\n",
       "2025-10-06    SPY  671.609985\n",
       "2025-10-06    TLT   88.669998\n",
       "2025-10-07    SPY  669.119995\n",
       "2025-10-07    TLT   89.180000\n",
       "\n",
       "[2794 rows x 2 columns]"
      ]
     },
     "execution_count": 6,
     "metadata": {},
     "output_type": "execute_result"
    }
   ],
   "source": [
    "data.head(5)"
   ]
  }
 ],
 "metadata": {
  "kernelspec": {
   "display_name": "data",
   "language": "python",
   "name": "python3"
  },
  "language_info": {
   "codemirror_mode": {
    "name": "ipython",
    "version": 3
   },
   "file_extension": ".py",
   "mimetype": "text/x-python",
   "name": "python",
   "nbconvert_exporter": "python",
   "pygments_lexer": "ipython3",
   "version": "3.11.13"
  }
 },
 "nbformat": 4,
 "nbformat_minor": 5
}
