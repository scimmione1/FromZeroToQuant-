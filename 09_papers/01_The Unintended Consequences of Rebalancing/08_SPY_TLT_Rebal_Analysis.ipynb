{
 "cells": [
  {
   "cell_type": "markdown",
   "id": "4b9346ae-6ce5-4fcf-869f-afae4e46e13c",
   "metadata": {},
   "source": [
    "## Imports"
   ]
  },
  {
   "cell_type": "code",
   "execution_count": 68,
   "id": "00720154-24ef-4878-bb84-5b387d5480c6",
   "metadata": {},
   "outputs": [],
   "source": [
    "import datetime as dt\n",
    "import numpy as np\n",
    "import pandas as pd\n",
    "import yfinance as yf\n",
    "import plotnine as p9\n",
    "import statsmodels.formula.api as smf"
   ]
  },
  {
   "cell_type": "markdown",
   "id": "06dca8a5-6b58-45f3-83e9-03c4cc7fc435",
   "metadata": {},
   "source": [
    "## Load Yahoo Data"
   ]
  },
  {
   "cell_type": "markdown",
   "id": "332a803a-f32b-4fcc-8f4d-4cf8d788e2c0",
   "metadata": {},
   "source": [
    "We will be getting Dividend Adjusted data -> which could be the difference between Yahoo and TradingView data"
   ]
  },
  {
   "cell_type": "code",
   "execution_count": 69,
   "id": "7b13153e-d7ce-4318-abb4-d13cb183998a",
   "metadata": {},
   "outputs": [],
   "source": [
    "# tickers = ['SPY', 'TLT']\n",
    "# ydata = yf.Tickers(tickers).download(period=\"max\", auto_adjust=True)   # get dividend adjusted prices"
   ]
  },
  {
   "cell_type": "markdown",
   "id": "a9711aa5-4144-4108-98d6-13851b50cc8c",
   "metadata": {},
   "source": [
    "Convert Yahoo Data to long-format"
   ]
  },
  {
   "cell_type": "code",
   "execution_count": 70,
   "id": "db5b6fa6-4b2d-41af-933d-1f0014de8951",
   "metadata": {},
   "outputs": [],
   "source": [
    "# data = (   # put data in long form\n",
    "#     ydata\n",
    "#     .dropna()\n",
    "#     .stack(1, future_stack=True)\n",
    "#     .reset_index()\n",
    "#     [['Date', 'Ticker', 'Close']]\n",
    "#     .sort_values(by=['Date', 'Ticker'])\n",
    "# )\n",
    "\n",
    "# data.head(5)"
   ]
  },
  {
   "cell_type": "code",
   "execution_count": 71,
   "id": "920eed08",
   "metadata": {},
   "outputs": [],
   "source": [
    "# # download historical data from Yahoo Finance to csv, file name data_<tickers>_2002-07-30_D.csv\n",
    "# data.to_csv('data_SPY_TLT_2002-07-30_D.csv', index=False)"
   ]
  },
  {
   "cell_type": "markdown",
   "id": "9a312836-cd48-4b6d-9627-5e49bddc1fd9",
   "metadata": {},
   "source": [
    "## Create return data for the various periods of Month defined by (N, M)"
   ]
  },
  {
   "cell_type": "code",
   "execution_count": 72,
   "id": "20e34df1",
   "metadata": {},
   "outputs": [
    {
     "name": "stdout",
     "output_type": "stream",
     "text": [
      "<class 'pandas.core.frame.DataFrame'>\n",
      "RangeIndex: 11700 entries, 0 to 11699\n",
      "Data columns (total 3 columns):\n",
      " #   Column  Non-Null Count  Dtype         \n",
      "---  ------  --------------  -----         \n",
      " 0   Date    11700 non-null  datetime64[ns]\n",
      " 1   Ticker  11700 non-null  object        \n",
      " 2   Close   11700 non-null  float64       \n",
      "dtypes: datetime64[ns](1), float64(1), object(1)\n",
      "memory usage: 274.3+ KB\n",
      "None\n",
      "        Date Ticker      Close\n",
      "0 2002-07-30    SPY  59.177753\n",
      "1 2002-07-30    TLT  37.055656\n",
      "2 2002-07-31    SPY  59.320934\n",
      "3 2002-07-31    TLT  37.514767\n",
      "4 2002-08-01    SPY  57.772179\n"
     ]
    }
   ],
   "source": [
    "# read data from csv\n",
    "data = pd.read_csv('data_SPY_TLT_2002-07-30_D.csv')\n",
    "data['Date'] = pd.to_datetime(data['Date'])\n",
    "print(data.info())\n",
    "print(data.head(5))"
   ]
  },
  {
   "cell_type": "code",
   "execution_count": 73,
   "id": "cdbad6b5",
   "metadata": {},
   "outputs": [],
   "source": [
    "N = 15\n",
    "M = 5"
   ]
  },
  {
   "cell_type": "code",
   "execution_count": 74,
   "id": "82499073",
   "metadata": {},
   "outputs": [],
   "source": [
    "# extract Close prices in wide format and add year-month column\n",
    "data = (\n",
    "    data\n",
    "    .reset_index()\n",
    "    .pivot(index='Date', columns='Ticker', values='Close')\n",
    "    .reset_index()\n",
    "    .assign(\n",
    "        ym=lambda x: x['Date'] + pd.offsets.MonthEnd(0)  # Label in essence by year-month\n",
    "    )\n",
    "    .set_index('Date')\n",
    ")"
   ]
  },
  {
   "cell_type": "code",
   "execution_count": 75,
   "id": "3d3c628a",
   "metadata": {},
   "outputs": [],
   "source": [
    "# calculate daily returns adding two columns\n",
    "data['r_SPY'] = data['SPY'].pct_change()\n",
    "data['r_TLT'] = data['TLT'].pct_change()\n",
    "\n",
    "# drop NA values\n",
    "data = data.dropna()\n",
    "\n",
    "# drop first rows, remaining only 1 day for July 2002\n",
    "data = data.loc[data.index >= pd.to_datetime('2002-08-01')]"
   ]
  },
  {
   "cell_type": "code",
   "execution_count": null,
   "id": "d1cc802c",
   "metadata": {},
   "outputs": [],
   "source": [
    "# add flags to different trading periods\n",
    "\"\"\"\n",
    "som_flag (Start of Month)\n",
    "eom_flag (End of Month)\n",
    "nsm_flag (Next Start of Month)\n",
    "\"\"\""
   ]
  },
  {
   "cell_type": "code",
   "execution_count": 76,
   "id": "5a49f910",
   "metadata": {},
   "outputs": [
    {
     "data": {
      "text/html": [
       "<div>\n",
       "<style scoped>\n",
       "    .dataframe tbody tr th:only-of-type {\n",
       "        vertical-align: middle;\n",
       "    }\n",
       "\n",
       "    .dataframe tbody tr th {\n",
       "        vertical-align: top;\n",
       "    }\n",
       "\n",
       "    .dataframe thead th {\n",
       "        text-align: right;\n",
       "    }\n",
       "</style>\n",
       "<table border=\"1\" class=\"dataframe\">\n",
       "  <thead>\n",
       "    <tr style=\"text-align: right;\">\n",
       "      <th>Ticker</th>\n",
       "      <th>SPY</th>\n",
       "      <th>TLT</th>\n",
       "      <th>ym</th>\n",
       "      <th>r_SPY</th>\n",
       "      <th>r_TLT</th>\n",
       "    </tr>\n",
       "    <tr>\n",
       "      <th>Date</th>\n",
       "      <th></th>\n",
       "      <th></th>\n",
       "      <th></th>\n",
       "      <th></th>\n",
       "      <th></th>\n",
       "    </tr>\n",
       "  </thead>\n",
       "  <tbody>\n",
       "    <tr>\n",
       "      <th>2002-08-01</th>\n",
       "      <td>57.772179</td>\n",
       "      <td>37.728424</td>\n",
       "      <td>2002-08-31</td>\n",
       "      <td>-0.026108</td>\n",
       "      <td>0.005695</td>\n",
       "    </tr>\n",
       "    <tr>\n",
       "      <th>2002-08-02</th>\n",
       "      <td>56.477188</td>\n",
       "      <td>38.114811</td>\n",
       "      <td>2002-08-31</td>\n",
       "      <td>-0.022415</td>\n",
       "      <td>0.010241</td>\n",
       "    </tr>\n",
       "    <tr>\n",
       "      <th>2002-08-05</th>\n",
       "      <td>54.511955</td>\n",
       "      <td>38.282990</td>\n",
       "      <td>2002-08-31</td>\n",
       "      <td>-0.034797</td>\n",
       "      <td>0.004412</td>\n",
       "    </tr>\n",
       "    <tr>\n",
       "      <th>2002-08-06</th>\n",
       "      <td>56.347065</td>\n",
       "      <td>37.955730</td>\n",
       "      <td>2002-08-31</td>\n",
       "      <td>0.033664</td>\n",
       "      <td>-0.008548</td>\n",
       "    </tr>\n",
       "    <tr>\n",
       "      <th>2002-08-07</th>\n",
       "      <td>57.329662</td>\n",
       "      <td>38.046616</td>\n",
       "      <td>2002-08-31</td>\n",
       "      <td>0.017438</td>\n",
       "      <td>0.002395</td>\n",
       "    </tr>\n",
       "  </tbody>\n",
       "</table>\n",
       "</div>"
      ],
      "text/plain": [
       "Ticker            SPY        TLT         ym     r_SPY     r_TLT\n",
       "Date                                                           \n",
       "2002-08-01  57.772179  37.728424 2002-08-31 -0.026108  0.005695\n",
       "2002-08-02  56.477188  38.114811 2002-08-31 -0.022415  0.010241\n",
       "2002-08-05  54.511955  38.282990 2002-08-31 -0.034797  0.004412\n",
       "2002-08-06  56.347065  37.955730 2002-08-31  0.033664 -0.008548\n",
       "2002-08-07  57.329662  38.046616 2002-08-31  0.017438  0.002395"
      ]
     },
     "execution_count": 76,
     "metadata": {},
     "output_type": "execute_result"
    }
   ],
   "source": [
    "data.head(5)"
   ]
  },
  {
   "cell_type": "code",
   "execution_count": 77,
   "id": "e36df95b",
   "metadata": {},
   "outputs": [
    {
     "data": {
      "text/plain": [
       "(5848, 5)"
      ]
     },
     "execution_count": 77,
     "metadata": {},
     "output_type": "execute_result"
    }
   ],
   "source": [
    "data.shape"
   ]
  }
 ],
 "metadata": {
  "kernelspec": {
   "display_name": "data",
   "language": "python",
   "name": "python3"
  },
  "language_info": {
   "codemirror_mode": {
    "name": "ipython",
    "version": 3
   },
   "file_extension": ".py",
   "mimetype": "text/x-python",
   "name": "python",
   "nbconvert_exporter": "python",
   "pygments_lexer": "ipython3",
   "version": "3.11.13"
  }
 },
 "nbformat": 4,
 "nbformat_minor": 5
}
