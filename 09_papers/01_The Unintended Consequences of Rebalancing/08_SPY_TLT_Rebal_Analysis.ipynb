{
 "cells": [
  {
   "cell_type": "markdown",
   "id": "4b9346ae-6ce5-4fcf-869f-afae4e46e13c",
   "metadata": {},
   "source": [
    "## Imports"
   ]
  },
  {
   "cell_type": "code",
   "execution_count": 1,
   "id": "00720154-24ef-4878-bb84-5b387d5480c6",
   "metadata": {},
   "outputs": [],
   "source": [
    "import datetime as dt\n",
    "import numpy as np\n",
    "import pandas as pd\n",
    "import yfinance as yf\n",
    "import plotnine as p9\n",
    "import statsmodels.formula.api as smf"
   ]
  },
  {
   "cell_type": "markdown",
   "id": "06dca8a5-6b58-45f3-83e9-03c4cc7fc435",
   "metadata": {},
   "source": [
    "## Load Yahoo Data"
   ]
  },
  {
   "cell_type": "markdown",
   "id": "332a803a-f32b-4fcc-8f4d-4cf8d788e2c0",
   "metadata": {},
   "source": [
    "We will be getting Dividend Adjusted data -> which could be the difference between Yahoo and TradingView data"
   ]
  },
  {
   "cell_type": "code",
   "execution_count": 2,
   "id": "7b13153e-d7ce-4318-abb4-d13cb183998a",
   "metadata": {},
   "outputs": [],
   "source": [
    "# tickers = ['SPY', 'TLT']\n",
    "# ydata = yf.Tickers(tickers).download(period=\"max\", auto_adjust=True)   # get dividend adjusted prices"
   ]
  },
  {
   "cell_type": "markdown",
   "id": "a9711aa5-4144-4108-98d6-13851b50cc8c",
   "metadata": {},
   "source": [
    "Convert Yahoo Data to long-format"
   ]
  },
  {
   "cell_type": "code",
   "execution_count": 3,
   "id": "db5b6fa6-4b2d-41af-933d-1f0014de8951",
   "metadata": {},
   "outputs": [],
   "source": [
    "# data = (   # put data in long form\n",
    "#     ydata\n",
    "#     .dropna()\n",
    "#     .stack(1, future_stack=True)\n",
    "#     .reset_index()\n",
    "#     [['Date', 'Ticker', 'Close']]\n",
    "#     .sort_values(by=['Date', 'Ticker'])\n",
    "# )\n",
    "\n",
    "# data.head(5)"
   ]
  },
  {
   "cell_type": "code",
   "execution_count": 4,
   "id": "920eed08",
   "metadata": {},
   "outputs": [],
   "source": [
    "# # download historical data from Yahoo Finance to csv, file name data_<tickers>_2002-07-30_D.csv\n",
    "# data.to_csv('data_SPY_TLT_2002-07-30_D.csv', index=False)"
   ]
  },
  {
   "cell_type": "markdown",
   "id": "9a312836-cd48-4b6d-9627-5e49bddc1fd9",
   "metadata": {},
   "source": [
    "## Create return data for the various periods of Month defined by (N, M)"
   ]
  },
  {
   "cell_type": "code",
   "execution_count": 2,
   "id": "20e34df1",
   "metadata": {},
   "outputs": [
    {
     "name": "stdout",
     "output_type": "stream",
     "text": [
      "<class 'pandas.core.frame.DataFrame'>\n",
      "RangeIndex: 11700 entries, 0 to 11699\n",
      "Data columns (total 3 columns):\n",
      " #   Column  Non-Null Count  Dtype         \n",
      "---  ------  --------------  -----         \n",
      " 0   Date    11700 non-null  datetime64[ns]\n",
      " 1   Ticker  11700 non-null  object        \n",
      " 2   Close   11700 non-null  float64       \n",
      "dtypes: datetime64[ns](1), float64(1), object(1)\n",
      "memory usage: 274.3+ KB\n",
      "None\n",
      "        Date Ticker      Close\n",
      "0 2002-07-30    SPY  59.177753\n",
      "1 2002-07-30    TLT  37.055656\n",
      "2 2002-07-31    SPY  59.320934\n",
      "3 2002-07-31    TLT  37.514767\n",
      "4 2002-08-01    SPY  57.772179\n"
     ]
    }
   ],
   "source": [
    "# read data from csv\n",
    "data = pd.read_csv('data_SPY_TLT_2002-07-30_D.csv')\n",
    "data['Date'] = pd.to_datetime(data['Date'])\n",
    "print(data.info())\n",
    "print(data.head(5))"
   ]
  }
 ],
 "metadata": {
  "kernelspec": {
   "display_name": "data",
   "language": "python",
   "name": "python3"
  },
  "language_info": {
   "codemirror_mode": {
    "name": "ipython",
    "version": 3
   },
   "file_extension": ".py",
   "mimetype": "text/x-python",
   "name": "python",
   "nbconvert_exporter": "python",
   "pygments_lexer": "ipython3",
   "version": "3.11.13"
  }
 },
 "nbformat": 4,
 "nbformat_minor": 5
}
