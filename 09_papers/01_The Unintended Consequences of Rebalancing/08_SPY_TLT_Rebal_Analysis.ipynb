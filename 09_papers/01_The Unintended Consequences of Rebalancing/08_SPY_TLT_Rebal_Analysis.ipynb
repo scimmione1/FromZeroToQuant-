{
 "cells": [
  {
   "cell_type": "markdown",
   "id": "4b9346ae-6ce5-4fcf-869f-afae4e46e13c",
   "metadata": {},
   "source": [
    "## Imports"
   ]
  },
  {
   "cell_type": "code",
   "execution_count": 87,
   "id": "00720154-24ef-4878-bb84-5b387d5480c6",
   "metadata": {},
   "outputs": [],
   "source": [
    "import datetime as dt\n",
    "import numpy as np\n",
    "import pandas as pd\n",
    "import yfinance as yf\n",
    "import plotnine as p9\n",
    "import statsmodels.formula.api as smf\n",
    "\n",
    "import warnings\n",
    "warnings.filterwarnings(\"ignore\")"
   ]
  },
  {
   "cell_type": "markdown",
   "id": "06dca8a5-6b58-45f3-83e9-03c4cc7fc435",
   "metadata": {},
   "source": [
    "## Load Yahoo Data"
   ]
  },
  {
   "cell_type": "markdown",
   "id": "332a803a-f32b-4fcc-8f4d-4cf8d788e2c0",
   "metadata": {},
   "source": [
    "We will be getting Dividend Adjusted data -> which could be the difference between Yahoo and TradingView data"
   ]
  },
  {
   "cell_type": "code",
   "execution_count": 88,
   "id": "7b13153e-d7ce-4318-abb4-d13cb183998a",
   "metadata": {},
   "outputs": [],
   "source": [
    "# tickers = ['SPY', 'TLT']\n",
    "# ydata = yf.Tickers(tickers).download(period=\"max\", auto_adjust=True)   # get dividend adjusted prices"
   ]
  },
  {
   "cell_type": "markdown",
   "id": "a9711aa5-4144-4108-98d6-13851b50cc8c",
   "metadata": {},
   "source": [
    "Convert Yahoo Data to long-format"
   ]
  },
  {
   "cell_type": "code",
   "execution_count": 89,
   "id": "db5b6fa6-4b2d-41af-933d-1f0014de8951",
   "metadata": {},
   "outputs": [],
   "source": [
    "# data = (   # put data in long form\n",
    "#     ydata\n",
    "#     .dropna()\n",
    "#     .stack(1, future_stack=True)\n",
    "#     .reset_index()\n",
    "#     [['Date', 'Ticker', 'Close']]\n",
    "#     .sort_values(by=['Date', 'Ticker'])\n",
    "# )\n",
    "\n",
    "# data.head(5)"
   ]
  },
  {
   "cell_type": "code",
   "execution_count": 90,
   "id": "920eed08",
   "metadata": {},
   "outputs": [],
   "source": [
    "# # download historical data from Yahoo Finance to csv, file name data_<tickers>_2002-07-30_D.csv\n",
    "# data.to_csv('data_SPY_TLT_2002-07-30_D.csv', index=False)"
   ]
  },
  {
   "cell_type": "markdown",
   "id": "9a312836-cd48-4b6d-9627-5e49bddc1fd9",
   "metadata": {},
   "source": [
    "## Create return data for the various periods of Month defined by (N, M)"
   ]
  },
  {
   "cell_type": "code",
   "execution_count": 91,
   "id": "20e34df1",
   "metadata": {},
   "outputs": [
    {
     "name": "stdout",
     "output_type": "stream",
     "text": [
      "<class 'pandas.core.frame.DataFrame'>\n",
      "RangeIndex: 11700 entries, 0 to 11699\n",
      "Data columns (total 3 columns):\n",
      " #   Column  Non-Null Count  Dtype         \n",
      "---  ------  --------------  -----         \n",
      " 0   Date    11700 non-null  datetime64[ns]\n",
      " 1   Ticker  11700 non-null  object        \n",
      " 2   Close   11700 non-null  float64       \n",
      "dtypes: datetime64[ns](1), float64(1), object(1)\n",
      "memory usage: 274.3+ KB\n",
      "None\n",
      "        Date Ticker      Close\n",
      "0 2002-07-30    SPY  59.177753\n",
      "1 2002-07-30    TLT  37.055656\n",
      "2 2002-07-31    SPY  59.320934\n",
      "3 2002-07-31    TLT  37.514767\n",
      "4 2002-08-01    SPY  57.772179\n"
     ]
    }
   ],
   "source": [
    "# read data from csv\n",
    "data = pd.read_csv('data_SPY_TLT_2002-07-30_D.csv')\n",
    "data['Date'] = pd.to_datetime(data['Date'])\n",
    "print(data.info())\n",
    "print(data.head(5))"
   ]
  },
  {
   "cell_type": "code",
   "execution_count": 92,
   "id": "67b36c69",
   "metadata": {},
   "outputs": [
    {
     "data": {
      "text/html": [
       "<div>\n",
       "<style scoped>\n",
       "    .dataframe tbody tr th:only-of-type {\n",
       "        vertical-align: middle;\n",
       "    }\n",
       "\n",
       "    .dataframe tbody tr th {\n",
       "        vertical-align: top;\n",
       "    }\n",
       "\n",
       "    .dataframe thead th {\n",
       "        text-align: right;\n",
       "    }\n",
       "</style>\n",
       "<table border=\"1\" class=\"dataframe\">\n",
       "  <thead>\n",
       "    <tr style=\"text-align: right;\">\n",
       "      <th></th>\n",
       "      <th>SPY_ret</th>\n",
       "      <th>SPY_ret_eom</th>\n",
       "      <th>SPY_ret_nsm</th>\n",
       "      <th>TLT_ret_eom</th>\n",
       "      <th>TLT_ret_nsm</th>\n",
       "      <th>SPY_TLT_som</th>\n",
       "      <th>SPY_TLT_eom</th>\n",
       "      <th>SPY_TLT_nsm</th>\n",
       "    </tr>\n",
       "    <tr>\n",
       "      <th>ym</th>\n",
       "      <th></th>\n",
       "      <th></th>\n",
       "      <th></th>\n",
       "      <th></th>\n",
       "      <th></th>\n",
       "      <th></th>\n",
       "      <th></th>\n",
       "      <th></th>\n",
       "    </tr>\n",
       "  </thead>\n",
       "  <tbody>\n",
       "    <tr>\n",
       "      <th>2025-06-30</th>\n",
       "      <td>0.051386</td>\n",
       "      <td>0.029493</td>\n",
       "      <td>0.016542</td>\n",
       "      <td>0.017057</td>\n",
       "      <td>-0.007096</td>\n",
       "      <td>0.010480</td>\n",
       "      <td>0.012145</td>\n",
       "      <td>0.023078</td>\n",
       "    </tr>\n",
       "    <tr>\n",
       "      <th>2025-07-31</th>\n",
       "      <td>0.023032</td>\n",
       "      <td>0.005120</td>\n",
       "      <td>0.004030</td>\n",
       "      <td>0.004623</td>\n",
       "      <td>-0.021519</td>\n",
       "      <td>0.033781</td>\n",
       "      <td>0.000007</td>\n",
       "      <td>0.025907</td>\n",
       "    </tr>\n",
       "    <tr>\n",
       "      <th>2025-08-31</th>\n",
       "      <td>0.020520</td>\n",
       "      <td>0.014948</td>\n",
       "      <td>0.000269</td>\n",
       "      <td>0.002199</td>\n",
       "      <td>0.012484</td>\n",
       "      <td>0.006702</td>\n",
       "      <td>0.012749</td>\n",
       "      <td>-0.012571</td>\n",
       "    </tr>\n",
       "    <tr>\n",
       "      <th>2025-09-30</th>\n",
       "      <td>0.035620</td>\n",
       "      <td>-0.000990</td>\n",
       "      <td>0.005860</td>\n",
       "      <td>0.007554</td>\n",
       "      <td>0.040198</td>\n",
       "      <td>0.007519</td>\n",
       "      <td>-0.008637</td>\n",
       "      <td>-0.033473</td>\n",
       "    </tr>\n",
       "    <tr>\n",
       "      <th>2025-10-31</th>\n",
       "      <td>0.028611</td>\n",
       "      <td>0.020781</td>\n",
       "      <td>0.004413</td>\n",
       "      <td>-0.002391</td>\n",
       "      <td>0.001347</td>\n",
       "      <td>-0.025525</td>\n",
       "      <td>0.023167</td>\n",
       "      <td>0.002909</td>\n",
       "    </tr>\n",
       "  </tbody>\n",
       "</table>\n",
       "</div>"
      ],
      "text/plain": [
       "             SPY_ret  SPY_ret_eom  SPY_ret_nsm  TLT_ret_eom  TLT_ret_nsm  \\\n",
       "ym                                                                         \n",
       "2025-06-30  0.051386     0.029493     0.016542     0.017057    -0.007096   \n",
       "2025-07-31  0.023032     0.005120     0.004030     0.004623    -0.021519   \n",
       "2025-08-31  0.020520     0.014948     0.000269     0.002199     0.012484   \n",
       "2025-09-30  0.035620    -0.000990     0.005860     0.007554     0.040198   \n",
       "2025-10-31  0.028611     0.020781     0.004413    -0.002391     0.001347   \n",
       "\n",
       "            SPY_TLT_som  SPY_TLT_eom  SPY_TLT_nsm  \n",
       "ym                                                 \n",
       "2025-06-30     0.010480     0.012145     0.023078  \n",
       "2025-07-31     0.033781     0.000007     0.025907  \n",
       "2025-08-31     0.006702     0.012749    -0.012571  \n",
       "2025-09-30     0.007519    -0.008637    -0.033473  \n",
       "2025-10-31    -0.025525     0.023167     0.002909  "
      ]
     },
     "execution_count": 92,
     "metadata": {},
     "output_type": "execute_result"
    }
   ],
   "source": [
    "N = 15\n",
    "M = 5\n",
    "\n",
    "# Start fresh with daily data - don't aggregate to monthly yet\n",
    "data = pd.read_csv('data_SPY_TLT_2002-07-30_D.csv')\n",
    "data['Date'] = pd.to_datetime(data['Date'])\n",
    "\n",
    "def flatten_indexes(df_: pd.DataFrame) -> pd.DataFrame:\n",
    "    df_.columns = [x[1] + \"_\" + x[0] if x[1]!='' else x[0] for x in df_.columns]\n",
    "    return df_\n",
    "\n",
    "return_data = (\n",
    "    data\n",
    "    .assign(\n",
    "        ym=lambda x: x['Date'] + pd.offsets.MonthEnd(0)  # Label by year-month\n",
    "    )\n",
    "    .groupby(['Ticker', 'ym'])\n",
    "    .apply(lambda x: x.assign(\n",
    "        td=lambda y: range(1, len(y)+1)  # Trading days 1 to N per month\n",
    "    ), include_groups=False).reset_index([0, 1])\n",
    "    \n",
    "    .groupby(['Ticker'])\n",
    "    .apply(lambda x: x.assign(\n",
    "        ret=lambda y: y['Close'].pct_change()  # Daily returns\n",
    "    ), include_groups=False).reset_index()\n",
    "    \n",
    "    .query('Date >= @dt.datetime(2002, 8, 1)')  # Remove July 2002\n",
    "    [['Date', 'ym', 'Ticker', 'Close', 'ret', 'td']]\n",
    "    \n",
    "    .assign(\n",
    "        som_flag=lambda x: np.select([x['td'] <= N], [1], [0]),   # First 15 days\n",
    "        eom_flag=lambda x: np.select([x['td'] > N], [1], [0]),    # After day 15  \n",
    "        nsm_flag=lambda x: np.select([x['td'] <= M], [1], [0]),   # First 5 days\n",
    "        \n",
    "        ret_som=lambda x: x['som_flag'] * x['ret'],  # Flagged returns\n",
    "        ret_eom=lambda x: x['eom_flag'] * x['ret'],\n",
    "        ret_nsm=lambda x: x['nsm_flag'] * x['ret'],\n",
    "    )\n",
    "    \n",
    "    [['Date', 'ym', 'Ticker', 'ret_som', 'ret_eom', 'ret_nsm']]\n",
    "    \n",
    "    .pivot(index=['Date', 'ym'], columns=['Ticker'], values=['ret_som', 'ret_eom', 'ret_nsm'])\n",
    "    .pipe(flatten_indexes)\n",
    "    \n",
    "    .assign(\n",
    "        SPY_ret=lambda x: x['SPY_ret_som'] + x['SPY_ret_eom'],      # Total SPY return\n",
    "        SPY_TLT_som=lambda x: x['SPY_ret_som'] - x['TLT_ret_som'],  # Relative returns\n",
    "        SPY_TLT_eom=lambda x: x['SPY_ret_eom'] - x['TLT_ret_eom'],\n",
    "        SPY_TLT_nsm=lambda x: x['SPY_ret_nsm'] - x['TLT_ret_nsm'],\n",
    "    )\n",
    "    [['SPY_ret', 'SPY_ret_eom', 'SPY_ret_nsm', 'TLT_ret_eom', 'TLT_ret_nsm', \n",
    "      'SPY_TLT_som', 'SPY_TLT_eom', 'SPY_TLT_nsm']]\n",
    "      \n",
    "    .groupby(['ym'])\n",
    "    .agg(lambda x: (1+x).prod() - 1)  # Compound monthly returns\n",
    ")\n",
    "\n",
    "return_data.tail(5)"
   ]
  }
 ],
 "metadata": {
  "kernelspec": {
   "display_name": "data",
   "language": "python",
   "name": "python3"
  },
  "language_info": {
   "codemirror_mode": {
    "name": "ipython",
    "version": 3
   },
   "file_extension": ".py",
   "mimetype": "text/x-python",
   "name": "python",
   "nbconvert_exporter": "python",
   "pygments_lexer": "ipython3",
   "version": "3.11.13"
  }
 },
 "nbformat": 4,
 "nbformat_minor": 5
}
